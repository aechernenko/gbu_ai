{
 "cells": [
  {
   "cell_type": "markdown",
   "metadata": {
    "id": "8Z9gLx8G8T-p"
   },
   "source": [
    "# “Фреймворк PyTorch для разработки искусственных нейронных сетей”"
   ]
  },
  {
   "cell_type": "markdown",
   "metadata": {
    "id": "BvQRSQt18T-5"
   },
   "source": [
    "### Подключение "
   ]
  },
  {
   "cell_type": "code",
   "execution_count": 75,
   "metadata": {
    "colab": {
     "base_uri": "https://localhost:8080/",
     "height": 34
    },
    "executionInfo": {
     "elapsed": 2019,
     "status": "ok",
     "timestamp": 1601492590540,
     "user": {
      "displayName": "Alexey Chernenko",
      "photoUrl": "",
      "userId": "00203058104948818644"
     },
     "user_tz": -180
    },
    "id": "USO7rowL8T-6",
    "outputId": "6341a630-de00-4bf2-cf75-f6be6da3ae30"
   },
   "outputs": [
    {
     "name": "stdout",
     "output_type": "stream",
     "text": [
      "cuda:0\n"
     ]
    }
   ],
   "source": [
    "import torch\n",
    "import torchvision\n",
    "import numpy as np\n",
    "from torch.autograd import Variable\n",
    "from torch import nn \n",
    "from torch import optim\n",
    "import torch.nn.functional as F\n",
    "import torchvision.transforms as transforms\n",
    "import matplotlib.pyplot as plt ### воспользуемся для отображения изображения\n",
    "\n",
    "device = torch.device(\"cuda:0\" if torch.cuda.is_available() else \"cpu\")\n",
    "print(device)"
   ]
  },
  {
   "cell_type": "markdown",
   "metadata": {
    "id": "3PcwCyxUsdun"
   },
   "source": [
    "# Задание 1"
   ]
  },
  {
   "cell_type": "markdown",
   "metadata": {
    "id": "ivA11DW58UAf"
   },
   "source": [
    "#### Загрузка существующего датасета:\n",
    "Добавил нормализацию изображений"
   ]
  },
  {
   "cell_type": "code",
   "execution_count": 76,
   "metadata": {
    "colab": {
     "base_uri": "https://localhost:8080/",
     "height": 67
    },
    "executionInfo": {
     "elapsed": 1863,
     "status": "ok",
     "timestamp": 1601492591008,
     "user": {
      "displayName": "Alexey Chernenko",
      "photoUrl": "",
      "userId": "00203058104948818644"
     },
     "user_tz": -180
    },
    "id": "O1iPhHv48UAh",
    "outputId": "057be2c1-733c-4c0c-ce67-6caa6ccc7313"
   },
   "outputs": [
    {
     "name": "stdout",
     "output_type": "stream",
     "text": [
      "Files already downloaded and verified\n",
      "torch.Size([3, 32, 32])\n",
      "6\n"
     ]
    }
   ],
   "source": [
    "transform = transforms.Compose(\n",
    "    [transforms.ToTensor(),\n",
    "     transforms.Normalize((0.5, 0.5, 0.5), (0.5, 0.5, 0.5))])\n",
    "\n",
    "train_dataset = torchvision.datasets.CIFAR10(root='../../data/',\n",
    "                                             train=True,  \n",
    "                                             transform=transform, \n",
    "                                             download=True)\n",
    "image, label = train_dataset[0]\n",
    "print (image.size())\n",
    "print (label)"
   ]
  },
  {
   "cell_type": "code",
   "execution_count": 77,
   "metadata": {
    "colab": {
     "base_uri": "https://localhost:8080/",
     "height": 283
    },
    "executionInfo": {
     "elapsed": 1244,
     "status": "ok",
     "timestamp": 1601492591010,
     "user": {
      "displayName": "Alexey Chernenko",
      "photoUrl": "",
      "userId": "00203058104948818644"
     },
     "user_tz": -180
    },
    "id": "01YvUSHC8UAk",
    "outputId": "75a99b11-4cc7-44f8-b7bb-c8c531bed72e",
    "scrolled": true
   },
   "outputs": [
    {
     "data": {
      "text/plain": [
       "<matplotlib.image.AxesImage at 0x7f1002d33780>"
      ]
     },
     "execution_count": 77,
     "metadata": {
      "tags": []
     },
     "output_type": "execute_result"
    },
    {
     "data": {
      "image/png": "[encoded data removed]",
      "text/plain": [
       "<Figure size 432x288 with 1 Axes>"
      ]
     },
     "metadata": {
      "needs_background": "light",
      "tags": []
     },
     "output_type": "display_data"
    }
   ],
   "source": [
    "plt.imshow(image.permute(1, 2, 0).numpy()/2+0.5)"
   ]
  },
  {
   "cell_type": "markdown",
   "metadata": {
    "id": "Q2aDF2F_Omx1"
   },
   "source": [
    "Изменил размер батча на 128"
   ]
  },
  {
   "cell_type": "code",
   "execution_count": 78,
   "metadata": {
    "executionInfo": {
     "elapsed": 2359,
     "status": "ok",
     "timestamp": 1601492593239,
     "user": {
      "displayName": "Alexey Chernenko",
      "photoUrl": "",
      "userId": "00203058104948818644"
     },
     "user_tz": -180
    },
    "id": "Ha631w748UAn"
   },
   "outputs": [],
   "source": [
    "train_loader = torch.utils.data.DataLoader(dataset=train_dataset,\n",
    "                                           batch_size=128, \n",
    "                                           shuffle=True)"
   ]
  },
  {
   "cell_type": "code",
   "execution_count": 79,
   "metadata": {
    "colab": {
     "base_uri": "https://localhost:8080/",
     "height": 34
    },
    "executionInfo": {
     "elapsed": 1837,
     "status": "ok",
     "timestamp": 1601492593240,
     "user": {
      "displayName": "Alexey Chernenko",
      "photoUrl": "",
      "userId": "00203058104948818644"
     },
     "user_tz": -180
    },
    "id": "2Ipgb_BU8UAs",
    "outputId": "23fbbfe1-9997-48f8-e9d5-f1ccba64d014"
   },
   "outputs": [
    {
     "name": "stdout",
     "output_type": "stream",
     "text": [
      "Files already downloaded and verified\n"
     ]
    }
   ],
   "source": [
    "test_dataset = torchvision.datasets.CIFAR10(root='./data', \n",
    "                                            train=False, \n",
    "                                            download=True, \n",
    "                                            transform=transform)\n",
    "\n",
    "test_loader = torch.utils.data.DataLoader(test_dataset, batch_size=4,\n",
    "                                         shuffle=False)"
   ]
  },
  {
   "cell_type": "code",
   "execution_count": 80,
   "metadata": {
    "executionInfo": {
     "elapsed": 1456,
     "status": "ok",
     "timestamp": 1601492593615,
     "user": {
      "displayName": "Alexey Chernenko",
      "photoUrl": "",
      "userId": "00203058104948818644"
     },
     "user_tz": -180
    },
    "id": "wiigjImE8UAv"
   },
   "outputs": [],
   "source": [
    "classes = ('plane', 'car', 'bird', 'cat', 'deer', \n",
    "           'dog', 'frog', 'horse', 'ship', 'truck')"
   ]
  },
  {
   "cell_type": "markdown",
   "metadata": {
    "id": "a497Do_U8UAz"
   },
   "source": [
    "Отредактировал модель:"
   ]
  },
  {
   "cell_type": "code",
   "execution_count": 81,
   "metadata": {
    "executionInfo": {
     "elapsed": 601,
     "status": "ok",
     "timestamp": 1601492594068,
     "user": {
      "displayName": "Alexey Chernenko",
      "photoUrl": "",
      "userId": "00203058104948818644"
     },
     "user_tz": -180
    },
    "id": "rgBYYy4c8UA0"
   },
   "outputs": [],
   "source": [
    "class Net(nn.Module):\n",
    "    def __init__(self):\n",
    "        super().__init__()\n",
    "\n",
    "        self.conv1 = nn.Conv2d(3, 32, 5)        \n",
    "        self.conv2 = nn.Conv2d(32, 64, 3)\n",
    "        self.conv3 = nn.Conv2d(64, 128, 3)\n",
    "\n",
    "        self.pool = nn.MaxPool2d(2,2)\n",
    "\n",
    "        self.fc1 = nn.Linear(128 * 2 * 2, 256)\n",
    "        self.fc2 = nn.Linear(256, 128)\n",
    "        self.fc3 = nn.Linear(128, 10)\n",
    "\n",
    "\n",
    "    def forward(self, x):\n",
    "        x = self.pool(F.relu(self.conv1(x)))\n",
    "        x = self.pool(F.relu(self.conv2(x)))\n",
    "        x = self.pool(F.relu(self.conv3(x)))\n",
    "        x = x.view(-1, 128 * 2 * 2)\n",
    "        x = F.relu(self.fc1(x))\n",
    "        x = F.relu(self.fc2(x))\n",
    "        x = self.fc3(x)\n",
    "        return x\n",
    "\n",
    "\n",
    "net = Net().to(device)"
   ]
  },
  {
   "cell_type": "markdown",
   "metadata": {
    "id": "HbdR6Gs1so6g"
   },
   "source": [
    "Задал оптимизатор Adam"
   ]
  },
  {
   "cell_type": "code",
   "execution_count": 82,
   "metadata": {
    "executionInfo": {
     "elapsed": 1490,
     "status": "ok",
     "timestamp": 1601492595973,
     "user": {
      "displayName": "Alexey Chernenko",
      "photoUrl": "",
      "userId": "00203058104948818644"
     },
     "user_tz": -180
    },
    "id": "rozRHPBZ8UA2"
   },
   "outputs": [],
   "source": [
    "criterion = nn.CrossEntropyLoss()\n",
    "optimizer = optim.Adam(net.parameters())"
   ]
  },
  {
   "cell_type": "markdown",
   "metadata": {
    "id": "0g6UZi5zgTy4"
   },
   "source": [
    "Функция подсчета точности на выборке"
   ]
  },
  {
   "cell_type": "code",
   "execution_count": 83,
   "metadata": {
    "executionInfo": {
     "elapsed": 860,
     "status": "ok",
     "timestamp": 1601492596700,
     "user": {
      "displayName": "Alexey Chernenko",
      "photoUrl": "",
      "userId": "00203058104948818644"
     },
     "user_tz": -180
    },
    "id": "M5q23nrZ8UBc"
   },
   "outputs": [],
   "source": [
    "def accuracy(loader, net, device):\n",
    "    correct = 0\n",
    "    total = 0\n",
    "    with torch.no_grad():\n",
    "        for data in iter(loader):\n",
    "            images, labels = data[0].to(device), data[1].to(device)\n",
    "            outputs = net(images)\n",
    "            _, predicted = torch.max(outputs.data, 1)\n",
    "            total += labels.size(0)\n",
    "            correct += (predicted == labels).sum().item()\n",
    "    return 100 * correct / total"
   ]
  },
  {
   "cell_type": "markdown",
   "metadata": {
    "id": "inICsxYwswNd"
   },
   "source": [
    "Обучение"
   ]
  },
  {
   "cell_type": "code",
   "execution_count": 84,
   "metadata": {
    "colab": {
     "base_uri": "https://localhost:8080/",
     "height": 370
    },
    "executionInfo": {
     "elapsed": 414297,
     "status": "ok",
     "timestamp": 1601493010879,
     "user": {
      "displayName": "Alexey Chernenko",
      "photoUrl": "",
      "userId": "00203058104948818644"
     },
     "user_tz": -180
    },
    "id": "d0lmScCq8UA4",
    "outputId": "08ac4a1a-e165-4970-8359-e43c192c3ea8"
   },
   "outputs": [
    {
     "name": "stdout",
     "output_type": "stream",
     "text": [
      "Epoch  1 Loss: 0.319 Accuracy: train 50 %, test 49 %\n",
      "Epoch  2 Loss: 0.242 Accuracy: train 62 %, test 60 %\n",
      "Epoch  3 Loss: 0.201 Accuracy: train 65 %, test 63 %\n",
      "Epoch  4 Loss: 0.174 Accuracy: train 72 %, test 68 %\n",
      "Epoch  5 Loss: 0.156 Accuracy: train 74 %, test 69 %\n",
      "Epoch  6 Loss: 0.139 Accuracy: train 79 %, test 71 %\n",
      "Epoch  7 Loss: 0.125 Accuracy: train 80 %, test 72 %\n",
      "Epoch  8 Loss: 0.112 Accuracy: train 81 %, test 71 %\n",
      "Epoch  9 Loss: 0.102 Accuracy: train 84 %, test 72 %\n",
      "Epoch 10 Loss: 0.092 Accuracy: train 86 %, test 73 %\n",
      "Epoch 11 Loss: 0.083 Accuracy: train 88 %, test 73 %\n",
      "Epoch 12 Loss: 0.072 Accuracy: train 89 %, test 72 %\n",
      "Epoch 13 Loss: 0.065 Accuracy: train 90 %, test 73 %\n",
      "Epoch 14 Loss: 0.058 Accuracy: train 91 %, test 73 %\n",
      "Epoch 15 Loss: 0.050 Accuracy: train 92 %, test 73 %\n",
      "Epoch 16 Loss: 0.044 Accuracy: train 93 %, test 73 %\n",
      "Epoch 17 Loss: 0.041 Accuracy: train 95 %, test 73 %\n",
      "Epoch 18 Loss: 0.035 Accuracy: train 94 %, test 73 %\n",
      "Epoch 19 Loss: 0.033 Accuracy: train 95 %, test 72 %\n",
      "Epoch 20 Loss: 0.028 Accuracy: train 94 %, test 72 %\n",
      "Training is finished!\n"
     ]
    }
   ],
   "source": [
    "history_train = []\n",
    "history_test = []\n",
    "\n",
    "for epoch in range(20):  \n",
    "    running_loss = 0.0\n",
    "    for i, data in enumerate(train_loader, 0):\n",
    "        inputs, labels = data[0].to(device), data[1].to(device)\n",
    "        optimizer.zero_grad()\n",
    "        outputs = net(inputs)\n",
    "        loss = criterion(outputs, labels)\n",
    "        loss.backward()\n",
    "        optimizer.step()        \n",
    "        running_loss += loss.item()   \n",
    "    \n",
    "    # точность на трейне\n",
    "    acc_train = accuracy(train_loader, net, device)\n",
    "    \n",
    "    # точность на тесте\n",
    "    acc_test = accuracy(test_loader, net, device)\n",
    "\n",
    "    # история точности по эпохам\n",
    "    history_train.append(acc_train)\n",
    "    history_test.append(acc_test)\n",
    "    \n",
    "    # выводим статистику о процессе обучения    \n",
    "    print('Epoch %2d Loss: %.3f Accuracy: train %2d %%, test %2d %%' % (\n",
    "            epoch + 1, running_loss / 2000, acc_train, acc_test))\n",
    "\n",
    "\n",
    "print('Training is finished!')"
   ]
  },
  {
   "cell_type": "markdown",
   "metadata": {
    "id": "OjNOWz8NY7ke"
   },
   "source": [
    "История обучения"
   ]
  },
  {
   "cell_type": "code",
   "execution_count": 120,
   "metadata": {
    "colab": {
     "base_uri": "https://localhost:8080/",
     "height": 391
    },
    "executionInfo": {
     "elapsed": 1113,
     "status": "ok",
     "timestamp": 1601495485282,
     "user": {
      "displayName": "Alexey Chernenko",
      "photoUrl": "",
      "userId": "00203058104948818644"
     },
     "user_tz": -180
    },
    "id": "FwoTpCZcY6qD",
    "outputId": "44058792-6a9c-474d-cf45-df2e8c67ad02"
   },
   "outputs": [
    {
     "data": {
      "image/png": "[encoded data removed]",
      "text/plain": [
       "<Figure size 720x432 with 1 Axes>"
      ]
     },
     "metadata": {
      "needs_background": "light",
      "tags": []
     },
     "output_type": "display_data"
    }
   ],
   "source": [
    "plt.figure(figsize=(10,6))\n",
    "plt.plot(range(1,21), history_train, '.-', label='Train')\n",
    "plt.plot(range(1,21), history_test, '.-', label='Test')\n",
    "plt.xlabel('Epoch')\n",
    "plt.ylabel('Accuracy, %')\n",
    "plt.xticks(range(1,21))\n",
    "plt.yticks(range(50,100,2))\n",
    "plt.legend()\n",
    "plt.grid()\n",
    "plt.show()"
   ]
  },
  {
   "cell_type": "markdown",
   "metadata": {
    "id": "fDZfACpadoYE"
   },
   "source": [
    "Начиная с 6 эпохи точность на тесте выходит на асимптоту. А после 17 эпохи начинает проявляться эффект переобучения, точность начинает спадать."
   ]
  },
  {
   "cell_type": "markdown",
   "metadata": {
    "id": "_nON_vU08UBD"
   },
   "source": [
    "#### использование модели "
   ]
  },
  {
   "cell_type": "code",
   "execution_count": 121,
   "metadata": {
    "executionInfo": {
     "elapsed": 1015,
     "status": "ok",
     "timestamp": 1601495547324,
     "user": {
      "displayName": "Alexey Chernenko",
      "photoUrl": "",
      "userId": "00203058104948818644"
     },
     "user_tz": -180
    },
    "id": "8yVr7_pJ8UBG"
   },
   "outputs": [],
   "source": [
    "data_iter = iter(test_loader)\n",
    "data_iter.next()\n",
    "data_iter.next()\n",
    "data_iter.next()\n",
    "images, labels = data_iter.next()"
   ]
  },
  {
   "cell_type": "code",
   "execution_count": 122,
   "metadata": {
    "colab": {
     "base_uri": "https://localhost:8080/",
     "height": 155
    },
    "executionInfo": {
     "elapsed": 1400,
     "status": "ok",
     "timestamp": 1601495550134,
     "user": {
      "displayName": "Alexey Chernenko",
      "photoUrl": "",
      "userId": "00203058104948818644"
     },
     "user_tz": -180
    },
    "id": "mfChlNcY8UBM",
    "outputId": "e5d93dae-1582-4b1a-90db-bde2d704be3c"
   },
   "outputs": [
    {
     "name": "stdout",
     "output_type": "stream",
     "text": [
      "GroundTruth:    dog horse truck  ship\n"
     ]
    },
    {
     "data": {
      "image/png": "[encoded data removed]",
      "text/plain": [
       "<Figure size 432x288 with 1 Axes>"
      ]
     },
     "metadata": {
      "needs_background": "light",
      "tags": []
     },
     "output_type": "display_data"
    }
   ],
   "source": [
    "net = net.to('cpu')\n",
    "outputs = net(images)\n",
    "imgs = torchvision.utils.make_grid(images)\n",
    "plt.imshow(imgs.permute(1, 2, 0).numpy()/2 + 0.5)\n",
    "print('GroundTruth: ', ' '.join('%5s' % classes[labels[j]] for j in range(4)))"
   ]
  },
  {
   "cell_type": "code",
   "execution_count": 123,
   "metadata": {
    "colab": {
     "base_uri": "https://localhost:8080/",
     "height": 34
    },
    "executionInfo": {
     "elapsed": 1044,
     "status": "ok",
     "timestamp": 1601495553077,
     "user": {
      "displayName": "Alexey Chernenko",
      "photoUrl": "",
      "userId": "00203058104948818644"
     },
     "user_tz": -180
    },
    "id": "OJY06TP28UBR",
    "outputId": "78417872-bd62-4492-c7a7-27880d654fb9"
   },
   "outputs": [
    {
     "name": "stdout",
     "output_type": "stream",
     "text": [
      "Predicted:    dog horse truck  ship\n"
     ]
    }
   ],
   "source": [
    "_, predicted = torch.max(outputs, 1)\n",
    "\n",
    "print('Predicted: ', ' '.join('%5s' % classes[predicted[j]]\n",
    "                              for j in range(4)))"
   ]
  },
  {
   "cell_type": "markdown",
   "metadata": {
    "id": "aVyihJwanY-E"
   },
   "source": [
    "# Задание 2"
   ]
  },
  {
   "cell_type": "code",
   "execution_count": 159,
   "metadata": {
    "colab": {
     "base_uri": "https://localhost:8080/",
     "height": 252
    },
    "executionInfo": {
     "elapsed": 974,
     "status": "ok",
     "timestamp": 1601497782243,
     "user": {
      "displayName": "Alexey Chernenko",
      "photoUrl": "",
      "userId": "00203058104948818644"
     },
     "user_tz": -180
    },
    "id": "apaJcco2gBmO",
    "outputId": "8c2d12ab-27ec-4e46-e931-1558457ff81c"
   },
   "outputs": [
    {
     "name": "stdout",
     "output_type": "stream",
     "text": [
      "Epoch: 1 Loss: 19.631737\n",
      "Epoch: 2 Loss: 14.937454\n",
      "Epoch: 3 Loss: 11.775750\n",
      "Epoch: 4 Loss: 9.632288\n",
      "Epoch: 5 Loss: 8.167944\n",
      "Epoch: 6 Loss: 7.158640\n",
      "Epoch: 7 Loss: 6.455931\n",
      "\n",
      "w:  Parameter containing:\n",
      "tensor([[-0.1034, -0.0187],\n",
      "        [ 0.0052,  0.2266]], requires_grad=True)\n",
      "\n",
      "b:  Parameter containing:\n",
      "tensor([-0.0579, -0.1869], requires_grad=True)\n"
     ]
    }
   ],
   "source": [
    "linear = nn.Linear(2, 2)\n",
    "\n",
    "criterion = nn.MSELoss()\n",
    "optimizer = torch.optim.SGD(linear.parameters(), lr=0.01)\n",
    "\n",
    "x_tarin = Variable(torch.randn(10,2), requires_grad = True)\n",
    "y_train = Variable(torch.randn(10,2), requires_grad = False)\n",
    "\n",
    "for epoch in range(7):  \n",
    "    running_loss = 0.0\n",
    "    for i, data in enumerate(zip(x_tarin,y_train)):\n",
    "        x, y = data\n",
    "        optimizer.zero_grad()\n",
    "        pred = linear(x)\n",
    "        loss = criterion(pred, y)\n",
    "        loss.backward()\n",
    "        optimizer.step()        \n",
    "        running_loss += loss.item()\n",
    "    print('Epoch: %1d Loss: %3f' % (epoch+1, running_loss))\n",
    "\n",
    "print ('\\nw: ', linear.weight)\n",
    "print ('\\nb: ', linear.bias)"
   ]
  },
  {
   "cell_type": "markdown",
   "metadata": {
    "id": "NAs0NGyFsQAi"
   },
   "source": [
    "# Задание 3"
   ]
  },
  {
   "cell_type": "markdown",
   "metadata": {
    "id": "eYSs2rc9xjqV"
   },
   "source": [
    "* применение softmax в forward() не нужно, оно заложено в torch.nn.CrossEntropyLoss()\n",
    "* tf.keras.losses.SparseCategoricalCrossentropy используется, когда таргет является целым числом, определяющим меткe класса (без one-hot encoding). Критерий torch.nn.CrossEntropyLoss() предъявляет такие же требования к таргету."
   ]
  },
  {
   "cell_type": "code",
   "execution_count": null,
   "metadata": {
    "id": "TDKOAQRxp_Ts"
   },
   "outputs": [],
   "source": [
    "class Net3(nn.Module):\n",
    "    def __init__(self):\n",
    "        super().__init__()\n",
    "        self.dropout = nn.Dropout(0.2)\n",
    "        self.fc1 = nn.Linear(28*28, 128)\n",
    "        self.fc2 = nn.Linear(128, 10)\n",
    "\n",
    "    def forward(self, x):\n",
    "        x = x.view(-1, 28*28)\n",
    "        x = F.relu(self.fc1(x))\n",
    "        x = self.dropout(x)\n",
    "        x = self.fc2(x)\n",
    "        return x\n",
    "\n",
    "net3 = Net3().to(device)\n",
    "\n",
    "criterion3 = nn.CrossEntropyLoss()\n",
    "optimizer3 = optim.Adam(net3.parameters())\n"
   ]
  }
 ],
 "metadata": {
  "accelerator": "GPU",
  "colab": {
   "collapsed_sections": [],
   "name": "PyTorch_Intro.ipynb",
   "provenance": []
  },
  "kernelspec": {
   "display_name": "Python 3",
   "language": "python",
   "name": "python3"
  },
  "language_info": {
   "codemirror_mode": {
    "name": "ipython",
    "version": 3
   },
   "file_extension": ".py",
   "mimetype": "text/x-python",
   "name": "python",
   "nbconvert_exporter": "python",
   "pygments_lexer": "ipython3",
   "version": "3.8.10"
  }
 },
 "nbformat": 4,
 "nbformat_minor": 1
}
