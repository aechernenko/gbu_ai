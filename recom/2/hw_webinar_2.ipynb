{
 "cells": [
  {
   "cell_type": "code",
   "execution_count": 1,
   "metadata": {
    "colab": {},
    "colab_type": "code",
    "id": "rgIzW-DSC8Yi"
   },
   "outputs": [],
   "source": [
    "import pandas as pd\n",
    "import numpy as np\n",
    "import matplotlib.pyplot as plt\n",
    "%matplotlib inline\n",
    "\n",
    "# Для работы с матрицами\n",
    "from scipy.sparse import csr_matrix, coo_matrix\n",
    "\n",
    "# Детерминированные алгоритмы\n",
    "from implicit.nearest_neighbours import ItemItemRecommender, CosineRecommender, TFIDFRecommender, BM25Recommender\n",
    "\n",
    "# Метрики\n",
    "from implicit.evaluation import train_test_split\n",
    "from implicit.evaluation import precision_at_k, mean_average_precision_at_k, AUC_at_k, ndcg_at_k"
   ]
  },
  {
   "cell_type": "code",
   "execution_count": 6,
   "metadata": {
    "colab": {},
    "colab_type": "code",
    "id": "9qFkcgyrC8Yt",
    "outputId": "24a33bf1-942a-4b18-c54a-a7500c8f8712"
   },
   "outputs": [
    {
     "data": {
      "text/html": [
       "<div>\n",
       "<style scoped>\n",
       "    .dataframe tbody tr th:only-of-type {\n",
       "        vertical-align: middle;\n",
       "    }\n",
       "\n",
       "    .dataframe tbody tr th {\n",
       "        vertical-align: top;\n",
       "    }\n",
       "\n",
       "    .dataframe thead th {\n",
       "        text-align: right;\n",
       "    }\n",
       "</style>\n",
       "<table border=\"1\" class=\"dataframe\">\n",
       "  <thead>\n",
       "    <tr style=\"text-align: right;\">\n",
       "      <th></th>\n",
       "      <th>user_id</th>\n",
       "      <th>basket_id</th>\n",
       "      <th>day</th>\n",
       "      <th>item_id</th>\n",
       "      <th>quantity</th>\n",
       "      <th>sales_value</th>\n",
       "      <th>store_id</th>\n",
       "      <th>retail_disc</th>\n",
       "      <th>trans_time</th>\n",
       "      <th>week_no</th>\n",
       "      <th>coupon_disc</th>\n",
       "      <th>coupon_match_disc</th>\n",
       "    </tr>\n",
       "  </thead>\n",
       "  <tbody>\n",
       "    <tr>\n",
       "      <th>0</th>\n",
       "      <td>2375</td>\n",
       "      <td>26984851472</td>\n",
       "      <td>1</td>\n",
       "      <td>1004906</td>\n",
       "      <td>1</td>\n",
       "      <td>1.39</td>\n",
       "      <td>364</td>\n",
       "      <td>-0.60</td>\n",
       "      <td>1631</td>\n",
       "      <td>1</td>\n",
       "      <td>0.0</td>\n",
       "      <td>0.0</td>\n",
       "    </tr>\n",
       "    <tr>\n",
       "      <th>1</th>\n",
       "      <td>2375</td>\n",
       "      <td>26984851472</td>\n",
       "      <td>1</td>\n",
       "      <td>1033142</td>\n",
       "      <td>1</td>\n",
       "      <td>0.82</td>\n",
       "      <td>364</td>\n",
       "      <td>0.00</td>\n",
       "      <td>1631</td>\n",
       "      <td>1</td>\n",
       "      <td>0.0</td>\n",
       "      <td>0.0</td>\n",
       "    </tr>\n",
       "    <tr>\n",
       "      <th>2</th>\n",
       "      <td>2375</td>\n",
       "      <td>26984851472</td>\n",
       "      <td>1</td>\n",
       "      <td>1036325</td>\n",
       "      <td>1</td>\n",
       "      <td>0.99</td>\n",
       "      <td>364</td>\n",
       "      <td>-0.30</td>\n",
       "      <td>1631</td>\n",
       "      <td>1</td>\n",
       "      <td>0.0</td>\n",
       "      <td>0.0</td>\n",
       "    </tr>\n",
       "    <tr>\n",
       "      <th>3</th>\n",
       "      <td>2375</td>\n",
       "      <td>26984851472</td>\n",
       "      <td>1</td>\n",
       "      <td>1082185</td>\n",
       "      <td>1</td>\n",
       "      <td>1.21</td>\n",
       "      <td>364</td>\n",
       "      <td>0.00</td>\n",
       "      <td>1631</td>\n",
       "      <td>1</td>\n",
       "      <td>0.0</td>\n",
       "      <td>0.0</td>\n",
       "    </tr>\n",
       "    <tr>\n",
       "      <th>4</th>\n",
       "      <td>2375</td>\n",
       "      <td>26984851472</td>\n",
       "      <td>1</td>\n",
       "      <td>8160430</td>\n",
       "      <td>1</td>\n",
       "      <td>1.50</td>\n",
       "      <td>364</td>\n",
       "      <td>-0.39</td>\n",
       "      <td>1631</td>\n",
       "      <td>1</td>\n",
       "      <td>0.0</td>\n",
       "      <td>0.0</td>\n",
       "    </tr>\n",
       "  </tbody>\n",
       "</table>\n",
       "</div>"
      ],
      "text/plain": [
       "   user_id    basket_id  day  item_id  quantity  sales_value  store_id  \\\n",
       "0     2375  26984851472    1  1004906         1         1.39       364   \n",
       "1     2375  26984851472    1  1033142         1         0.82       364   \n",
       "2     2375  26984851472    1  1036325         1         0.99       364   \n",
       "3     2375  26984851472    1  1082185         1         1.21       364   \n",
       "4     2375  26984851472    1  8160430         1         1.50       364   \n",
       "\n",
       "   retail_disc  trans_time  week_no  coupon_disc  coupon_match_disc  \n",
       "0        -0.60        1631        1          0.0                0.0  \n",
       "1         0.00        1631        1          0.0                0.0  \n",
       "2        -0.30        1631        1          0.0                0.0  \n",
       "3         0.00        1631        1          0.0                0.0  \n",
       "4        -0.39        1631        1          0.0                0.0  "
      ]
     },
     "execution_count": 6,
     "metadata": {},
     "output_type": "execute_result"
    }
   ],
   "source": [
    "data = pd.read_csv('retail_train.csv')\n",
    "data.head(5)"
   ]
  },
  {
   "cell_type": "code",
   "execution_count": 7,
   "metadata": {
    "colab": {},
    "colab_type": "code",
    "id": "epcBZlgJC8Y0"
   },
   "outputs": [],
   "source": [
    "test_size_weeks = 3\n",
    "\n",
    "data_train = data[data['week_no'] < data['week_no'].max() - test_size_weeks]\n",
    "data_test = data[data['week_no'] >= data['week_no'].max() - test_size_weeks]"
   ]
  },
  {
   "cell_type": "markdown",
   "metadata": {},
   "source": [
    "# Оценивание\n",
    "За выполнени каждого задания 1 балл\n",
    "\n",
    "4 балла -> отл\n",
    "\n",
    "3 балла -> хор\n",
    "\n",
    "И тд"
   ]
  },
  {
   "cell_type": "markdown",
   "metadata": {},
   "source": [
    "### Задание 0. Товар 999999\n",
    "На вебинаре мы использовали товар 999999 - что это за товар?  \n",
    "Зачем он нужен?  \n",
    "Используя этот товар мы смещаем качество рекомендаций.\n",
    "В какую сторону?   \n",
    "Можно ли удалить этот товар?   \n",
    "Уберите этот товар и сравните с качеством на семинаре."
   ]
  },
  {
   "cell_type": "markdown",
   "metadata": {},
   "source": [
    "На вебинаре рассматривается матрица users-items для 5000 самых популярных товаров. Вероятно, есть покупатели, которые не приобретали товары не из топ-5000, тогда таким юзерам невозможно что-либо обоснованно рекомендовать, основываясь на топ-5000. Фиктивный товар позволяет таким юзерам \"участвовать\" в рекомендательной системе. Без этого товара качество рекомендаций будет ухудшаться."
   ]
  },
  {
   "cell_type": "markdown",
   "metadata": {
    "colab_type": "text",
    "id": "zlUUzLFeC8Y4"
   },
   "source": [
    "### Задание 1. Weighted Random Recommendation\n",
    "\n",
    "Напишите код для случайных рекоммендаций, в которых вероятность рекомендовать товар прямо пропорциональна логарифму продаж\n",
    "- Можно сэмплировать товары случайно, но пропорционально какому-либо весу\n",
    "- Например, прямопропорционально популярности. вес = log(sales_sum товара)\n",
    "- Придумайте пример 3 весов, посчитайте weighted_random_recommendation для разных весов"
   ]
  },
  {
   "cell_type": "code",
   "execution_count": 17,
   "metadata": {},
   "outputs": [
    {
     "data": {
      "text/html": [
       "<div>\n",
       "<style scoped>\n",
       "    .dataframe tbody tr th:only-of-type {\n",
       "        vertical-align: middle;\n",
       "    }\n",
       "\n",
       "    .dataframe tbody tr th {\n",
       "        vertical-align: top;\n",
       "    }\n",
       "\n",
       "    .dataframe thead th {\n",
       "        text-align: right;\n",
       "    }\n",
       "</style>\n",
       "<table border=\"1\" class=\"dataframe\">\n",
       "  <thead>\n",
       "    <tr style=\"text-align: right;\">\n",
       "      <th></th>\n",
       "      <th>item_id</th>\n",
       "      <th>weight</th>\n",
       "    </tr>\n",
       "  </thead>\n",
       "  <tbody>\n",
       "    <tr>\n",
       "      <th>count</th>\n",
       "      <td>8.905100e+04</td>\n",
       "      <td>89051.000000</td>\n",
       "    </tr>\n",
       "    <tr>\n",
       "      <th>mean</th>\n",
       "      <td>5.115772e+06</td>\n",
       "      <td>0.000011</td>\n",
       "    </tr>\n",
       "    <tr>\n",
       "      <th>std</th>\n",
       "      <td>5.178973e+06</td>\n",
       "      <td>0.000006</td>\n",
       "    </tr>\n",
       "    <tr>\n",
       "      <th>min</th>\n",
       "      <td>2.567100e+04</td>\n",
       "      <td>0.000000</td>\n",
       "    </tr>\n",
       "    <tr>\n",
       "      <th>25%</th>\n",
       "      <td>9.665830e+05</td>\n",
       "      <td>0.000006</td>\n",
       "    </tr>\n",
       "    <tr>\n",
       "      <th>50%</th>\n",
       "      <td>1.448516e+06</td>\n",
       "      <td>0.000010</td>\n",
       "    </tr>\n",
       "    <tr>\n",
       "      <th>75%</th>\n",
       "      <td>9.553042e+06</td>\n",
       "      <td>0.000016</td>\n",
       "    </tr>\n",
       "    <tr>\n",
       "      <th>max</th>\n",
       "      <td>1.802456e+07</td>\n",
       "      <td>0.000053</td>\n",
       "    </tr>\n",
       "  </tbody>\n",
       "</table>\n",
       "</div>"
      ],
      "text/plain": [
       "            item_id        weight\n",
       "count  8.905100e+04  89051.000000\n",
       "mean   5.115772e+06      0.000011\n",
       "std    5.178973e+06      0.000006\n",
       "min    2.567100e+04      0.000000\n",
       "25%    9.665830e+05      0.000006\n",
       "50%    1.448516e+06      0.000010\n",
       "75%    9.553042e+06      0.000016\n",
       "max    1.802456e+07      0.000053"
      ]
     },
     "execution_count": 17,
     "metadata": {},
     "output_type": "execute_result"
    }
   ],
   "source": [
    "items_weights = data.groupby(by='item_id')['sales_value'].sum().reset_index().rename(columns={'sales_value':'weight'})\n",
    "items_weights['weight'] += 1\n",
    "items_weights['weight'] = np.log(items_weights['weight'])\n",
    "items_weights['weight'] /= items_weights['weight'].sum()\n",
    "items_weights.describe()"
   ]
  },
  {
   "cell_type": "code",
   "execution_count": 32,
   "metadata": {
    "colab": {},
    "colab_type": "code",
    "id": "brMuCHolC8Y4"
   },
   "outputs": [],
   "source": [
    "def weighted_random_recommendation(items_weights, n=5):\n",
    "    \"\"\"Случайные рекоммендации\n",
    "    \n",
    "    Input\n",
    "    -----\n",
    "    items_weights: pd.DataFrame\n",
    "        Датафрейм со столбцами item_id, weight. Сумма weight по всем товарам = 1\n",
    "    \"\"\"\n",
    "    \n",
    "    items = np.array(items_weights['item_id'])\n",
    "    recs = np.random.choice(items, size=n, replace=False, p=items_weights['weight'])\n",
    "    \n",
    "    return recs.tolist()"
   ]
  },
  {
   "cell_type": "code",
   "execution_count": 33,
   "metadata": {},
   "outputs": [
    {
     "data": {
      "text/html": [
       "<div>\n",
       "<style scoped>\n",
       "    .dataframe tbody tr th:only-of-type {\n",
       "        vertical-align: middle;\n",
       "    }\n",
       "\n",
       "    .dataframe tbody tr th {\n",
       "        vertical-align: top;\n",
       "    }\n",
       "\n",
       "    .dataframe thead th {\n",
       "        text-align: right;\n",
       "    }\n",
       "</style>\n",
       "<table border=\"1\" class=\"dataframe\">\n",
       "  <thead>\n",
       "    <tr style=\"text-align: right;\">\n",
       "      <th></th>\n",
       "      <th>user_id</th>\n",
       "      <th>actual</th>\n",
       "    </tr>\n",
       "  </thead>\n",
       "  <tbody>\n",
       "    <tr>\n",
       "      <th>0</th>\n",
       "      <td>1</td>\n",
       "      <td>[821867, 834484, 856942, 865456, 889248, 90795...</td>\n",
       "    </tr>\n",
       "    <tr>\n",
       "      <th>1</th>\n",
       "      <td>3</td>\n",
       "      <td>[835476, 851057, 872021, 878302, 879948, 90963...</td>\n",
       "    </tr>\n",
       "    <tr>\n",
       "      <th>2</th>\n",
       "      <td>6</td>\n",
       "      <td>[920308, 926804, 946489, 1006718, 1017061, 107...</td>\n",
       "    </tr>\n",
       "    <tr>\n",
       "      <th>3</th>\n",
       "      <td>7</td>\n",
       "      <td>[840386, 889774, 898068, 909714, 929067, 95347...</td>\n",
       "    </tr>\n",
       "    <tr>\n",
       "      <th>4</th>\n",
       "      <td>8</td>\n",
       "      <td>[835098, 872137, 910439, 924610, 992977, 10412...</td>\n",
       "    </tr>\n",
       "    <tr>\n",
       "      <th>5</th>\n",
       "      <td>9</td>\n",
       "      <td>[864335, 990865, 1029743, 9297474, 10457112, 8...</td>\n",
       "    </tr>\n",
       "    <tr>\n",
       "      <th>6</th>\n",
       "      <td>13</td>\n",
       "      <td>[6534178, 1104146, 829197, 840361, 862070, 884...</td>\n",
       "    </tr>\n",
       "    <tr>\n",
       "      <th>7</th>\n",
       "      <td>14</td>\n",
       "      <td>[840601, 867293, 933067, 951590, 952408, 96569...</td>\n",
       "    </tr>\n",
       "    <tr>\n",
       "      <th>8</th>\n",
       "      <td>15</td>\n",
       "      <td>[910439, 1082185, 959076, 1023958, 1082310, 13...</td>\n",
       "    </tr>\n",
       "    <tr>\n",
       "      <th>9</th>\n",
       "      <td>16</td>\n",
       "      <td>[1062973, 1082185, 13007710]</td>\n",
       "    </tr>\n",
       "  </tbody>\n",
       "</table>\n",
       "</div>"
      ],
      "text/plain": [
       "   user_id                                             actual\n",
       "0        1  [821867, 834484, 856942, 865456, 889248, 90795...\n",
       "1        3  [835476, 851057, 872021, 878302, 879948, 90963...\n",
       "2        6  [920308, 926804, 946489, 1006718, 1017061, 107...\n",
       "3        7  [840386, 889774, 898068, 909714, 929067, 95347...\n",
       "4        8  [835098, 872137, 910439, 924610, 992977, 10412...\n",
       "5        9  [864335, 990865, 1029743, 9297474, 10457112, 8...\n",
       "6       13  [6534178, 1104146, 829197, 840361, 862070, 884...\n",
       "7       14  [840601, 867293, 933067, 951590, 952408, 96569...\n",
       "8       15  [910439, 1082185, 959076, 1023958, 1082310, 13...\n",
       "9       16                       [1062973, 1082185, 13007710]"
      ]
     },
     "execution_count": 33,
     "metadata": {},
     "output_type": "execute_result"
    }
   ],
   "source": [
    "result_hw = data_test.groupby('user_id')['item_id'].unique().reset_index()\n",
    "result_hw.columns=['user_id', 'actual']\n",
    "result_hw.head(10)"
   ]
  },
  {
   "cell_type": "markdown",
   "metadata": {},
   "source": [
    "Сделайте предсказания"
   ]
  },
  {
   "cell_type": "code",
   "execution_count": 34,
   "metadata": {
    "colab": {},
    "colab_type": "code",
    "id": "nK_AS3tmC8Y7"
   },
   "outputs": [
    {
     "name": "stdout",
     "output_type": "stream",
     "text": [
      "Wall time: 2.22 s\n"
     ]
    },
    {
     "data": {
      "text/html": [
       "<div>\n",
       "<style scoped>\n",
       "    .dataframe tbody tr th:only-of-type {\n",
       "        vertical-align: middle;\n",
       "    }\n",
       "\n",
       "    .dataframe tbody tr th {\n",
       "        vertical-align: top;\n",
       "    }\n",
       "\n",
       "    .dataframe thead th {\n",
       "        text-align: right;\n",
       "    }\n",
       "</style>\n",
       "<table border=\"1\" class=\"dataframe\">\n",
       "  <thead>\n",
       "    <tr style=\"text-align: right;\">\n",
       "      <th></th>\n",
       "      <th>user_id</th>\n",
       "      <th>actual</th>\n",
       "      <th>weighted_random_recommendation</th>\n",
       "    </tr>\n",
       "  </thead>\n",
       "  <tbody>\n",
       "    <tr>\n",
       "      <th>0</th>\n",
       "      <td>1</td>\n",
       "      <td>[821867, 834484, 856942, 865456, 889248, 90795...</td>\n",
       "      <td>[1085780, 1115529, 1123018, 13512777, 876777]</td>\n",
       "    </tr>\n",
       "    <tr>\n",
       "      <th>1</th>\n",
       "      <td>3</td>\n",
       "      <td>[835476, 851057, 872021, 878302, 879948, 90963...</td>\n",
       "      <td>[897954, 903513, 13073008, 899104, 906584]</td>\n",
       "    </tr>\n",
       "  </tbody>\n",
       "</table>\n",
       "</div>"
      ],
      "text/plain": [
       "   user_id                                             actual  \\\n",
       "0        1  [821867, 834484, 856942, 865456, 889248, 90795...   \n",
       "1        3  [835476, 851057, 872021, 878302, 879948, 90963...   \n",
       "\n",
       "                  weighted_random_recommendation  \n",
       "0  [1085780, 1115529, 1123018, 13512777, 876777]  \n",
       "1     [897954, 903513, 13073008, 899104, 906584]  "
      ]
     },
     "execution_count": 34,
     "metadata": {},
     "output_type": "execute_result"
    }
   ],
   "source": [
    "%%time\n",
    "result_hw['weighted_random_recommendation'] = result_hw['user_id'].apply(lambda x: weighted_random_recommendation(items_weights, n=5))\n",
    "result_hw.head(2)\n",
    "# your_code"
   ]
  },
  {
   "cell_type": "markdown",
   "metadata": {
    "colab_type": "text",
    "id": "hyNG6O-wC8Y_"
   },
   "source": [
    "### Задание 2. Расчет метрик\n",
    "Рассчитайте Precision@5 для каждого алгоритма (с вебинара и weighted_random_recommendation) с помощью функции из вебинара 1. Какой алгоритм показывает лучшее качество? Почему?"
   ]
  },
  {
   "cell_type": "code",
   "execution_count": 49,
   "metadata": {
    "colab": {},
    "colab_type": "code",
    "id": "_0cu0VeTC8ZD"
   },
   "outputs": [],
   "source": [
    "def precision_at_k(recommended_list, bought_list, k=5):\n",
    "    \n",
    "    bought_list = np.array(bought_list)\n",
    "    recommended_list = np.array(recommended_list)\n",
    "    \n",
    "    bought_list = bought_list  # Тут нет [:k] !!\n",
    "    recommended_list = recommended_list[:k]\n",
    "    \n",
    "    flags = np.isin(bought_list, recommended_list)\n",
    "    \n",
    "    \n",
    "    precision = flags.sum() / len(recommended_list)\n",
    "    \n",
    "    \n",
    "    return precision"
   ]
  },
  {
   "cell_type": "markdown",
   "metadata": {},
   "source": [
    "Метрики с семинара"
   ]
  },
  {
   "cell_type": "code",
   "execution_count": 63,
   "metadata": {},
   "outputs": [
    {
     "data": {
      "text/html": [
       "<div>\n",
       "<style scoped>\n",
       "    .dataframe tbody tr th:only-of-type {\n",
       "        vertical-align: middle;\n",
       "    }\n",
       "\n",
       "    .dataframe tbody tr th {\n",
       "        vertical-align: top;\n",
       "    }\n",
       "\n",
       "    .dataframe thead th {\n",
       "        text-align: right;\n",
       "    }\n",
       "</style>\n",
       "<table border=\"1\" class=\"dataframe\">\n",
       "  <thead>\n",
       "    <tr style=\"text-align: right;\">\n",
       "      <th></th>\n",
       "      <th>user_id</th>\n",
       "      <th>actual</th>\n",
       "      <th>random_recommendation</th>\n",
       "      <th>popular_recommendation</th>\n",
       "      <th>itemitem</th>\n",
       "      <th>cosine</th>\n",
       "      <th>tfidf</th>\n",
       "      <th>own_purchases</th>\n",
       "    </tr>\n",
       "  </thead>\n",
       "  <tbody>\n",
       "    <tr>\n",
       "      <th>0</th>\n",
       "      <td>1</td>\n",
       "      <td>[821867, 834484, 856942, 865456, 889248, 90795...</td>\n",
       "      <td>[12456582, 834377, 1091929, 1053096, 1606107]</td>\n",
       "      <td>[6534178, 6533889, 1029743, 6534166, 1082185]</td>\n",
       "      <td>[999999, 1082185, 981760, 1127831, 995242]</td>\n",
       "      <td>[1082185, 999999, 981760, 1127831, 1098066]</td>\n",
       "      <td>[1082185, 981760, 1127831, 999999, 1098066]</td>\n",
       "      <td>[999999, 1082185, 1029743, 995785, 1004906]</td>\n",
       "    </tr>\n",
       "    <tr>\n",
       "      <th>1</th>\n",
       "      <td>3</td>\n",
       "      <td>[835476, 851057, 872021, 878302, 879948, 90963...</td>\n",
       "      <td>[1991251, 1092442, 12987926, 3841063, 908933]</td>\n",
       "      <td>[6534178, 6533889, 1029743, 6534166, 1082185]</td>\n",
       "      <td>[999999, 1082185, 981760, 1098066, 995242]</td>\n",
       "      <td>[1082185, 1098066, 981760, 999999, 826249]</td>\n",
       "      <td>[1082185, 981760, 1098066, 826249, 999999]</td>\n",
       "      <td>[999999, 1082185, 1098066, 6534178, 1127831]</td>\n",
       "    </tr>\n",
       "  </tbody>\n",
       "</table>\n",
       "</div>"
      ],
      "text/plain": [
       "   user_id                                             actual  \\\n",
       "0        1  [821867, 834484, 856942, 865456, 889248, 90795...   \n",
       "1        3  [835476, 851057, 872021, 878302, 879948, 90963...   \n",
       "\n",
       "                           random_recommendation  \\\n",
       "0  [12456582, 834377, 1091929, 1053096, 1606107]   \n",
       "1  [1991251, 1092442, 12987926, 3841063, 908933]   \n",
       "\n",
       "                          popular_recommendation  \\\n",
       "0  [6534178, 6533889, 1029743, 6534166, 1082185]   \n",
       "1  [6534178, 6533889, 1029743, 6534166, 1082185]   \n",
       "\n",
       "                                     itemitem  \\\n",
       "0  [999999, 1082185, 981760, 1127831, 995242]   \n",
       "1  [999999, 1082185, 981760, 1098066, 995242]   \n",
       "\n",
       "                                        cosine  \\\n",
       "0  [1082185, 999999, 981760, 1127831, 1098066]   \n",
       "1   [1082185, 1098066, 981760, 999999, 826249]   \n",
       "\n",
       "                                         tfidf  \\\n",
       "0  [1082185, 981760, 1127831, 999999, 1098066]   \n",
       "1   [1082185, 981760, 1098066, 826249, 999999]   \n",
       "\n",
       "                                  own_purchases  \n",
       "0   [999999, 1082185, 1029743, 995785, 1004906]  \n",
       "1  [999999, 1082185, 1098066, 6534178, 1127831]  "
      ]
     },
     "execution_count": 63,
     "metadata": {},
     "output_type": "execute_result"
    }
   ],
   "source": [
    "import pickle\n",
    "with open('predictions_basic.pkl', 'rb+') as f:\n",
    "    result = pickle.load(f)\n",
    "\n",
    "result.head(2)"
   ]
  },
  {
   "cell_type": "code",
   "execution_count": 64,
   "metadata": {
    "scrolled": false
   },
   "outputs": [
    {
     "data": {
      "text/plain": [
       "0.00039177277179236047"
      ]
     },
     "execution_count": 64,
     "metadata": {},
     "output_type": "execute_result"
    }
   ],
   "source": [
    "result.apply(lambda row: precision_at_k(row['random_recommendation'], row['actual']), axis=1).mean()"
   ]
  },
  {
   "cell_type": "code",
   "execution_count": 65,
   "metadata": {},
   "outputs": [
    {
     "data": {
      "text/plain": [
       "0.15523996082272282"
      ]
     },
     "execution_count": 65,
     "metadata": {},
     "output_type": "execute_result"
    }
   ],
   "source": [
    "result.apply(lambda row: precision_at_k(row['popular_recommendation'], row['actual']), axis=1).mean()"
   ]
  },
  {
   "cell_type": "code",
   "execution_count": 66,
   "metadata": {},
   "outputs": [
    {
     "data": {
      "text/plain": [
       "0.13692458374143"
      ]
     },
     "execution_count": 66,
     "metadata": {},
     "output_type": "execute_result"
    }
   ],
   "source": [
    "result.apply(lambda row: precision_at_k(row['itemitem'], row['actual']), axis=1).mean()"
   ]
  },
  {
   "cell_type": "code",
   "execution_count": 67,
   "metadata": {},
   "outputs": [
    {
     "data": {
      "text/plain": [
       "0.1329089128305583"
      ]
     },
     "execution_count": 67,
     "metadata": {},
     "output_type": "execute_result"
    }
   ],
   "source": [
    "result.apply(lambda row: precision_at_k(row['cosine'], row['actual']), axis=1).mean()"
   ]
  },
  {
   "cell_type": "code",
   "execution_count": 68,
   "metadata": {},
   "outputs": [
    {
     "data": {
      "text/plain": [
       "0.13898139079333988"
      ]
     },
     "execution_count": 68,
     "metadata": {},
     "output_type": "execute_result"
    }
   ],
   "source": [
    "result.apply(lambda row: precision_at_k(row['tfidf'], row['actual']), axis=1).mean()"
   ]
  },
  {
   "cell_type": "code",
   "execution_count": 69,
   "metadata": {},
   "outputs": [
    {
     "data": {
      "text/plain": [
       "0.17969311132876264"
      ]
     },
     "execution_count": 69,
     "metadata": {},
     "output_type": "execute_result"
    }
   ],
   "source": [
    "result.apply(lambda row: precision_at_k(row['own_purchases'], row['actual']), axis=1).mean()"
   ]
  },
  {
   "cell_type": "markdown",
   "metadata": {},
   "source": [
    "Лучший результат - \"трюк\". На втором месте - \"popular_recommendation\".\n",
    "\n",
    "Метрика с дз:"
   ]
  },
  {
   "cell_type": "code",
   "execution_count": 72,
   "metadata": {},
   "outputs": [
    {
     "data": {
      "text/plain": [
       "0.0008814887365328111"
      ]
     },
     "execution_count": 72,
     "metadata": {},
     "output_type": "execute_result"
    }
   ],
   "source": [
    "result_hw.apply(lambda row: precision_at_k(row['weighted_random_recommendation'], row['actual']), axis=1).mean()"
   ]
  },
  {
   "cell_type": "markdown",
   "metadata": {},
   "source": [
    "Мой алгоритм взвешенных случайных рекомендаций чуть лучше, чем случайный алгоритм безз весов. Но все равно значительно уступает другим алгоритмам."
   ]
  },
  {
   "cell_type": "markdown",
   "metadata": {
    "colab_type": "text",
    "id": "igDU0j1cC8ZH"
   },
   "source": [
    "### Задание 3. Улучшение бейзлайнов и ItemItem\n",
    "\n",
    "- Попробуйте улучшить бейзлайны, считая их на топ-5000 товаров\n",
    "- Попробуйте улучшить разные варианты ItemItemRecommender, выбирая число соседей $K$.\n",
    "- Попробуйте стратегии ансамблирования изученных алгоритмов\n"
   ]
  },
  {
   "cell_type": "markdown",
   "metadata": {},
   "source": [
    "### Задание 4. Улучшение детерминированных алгоритмов\n",
    "На семинаре мы рассматривали \n",
    "\n"
   ]
  },
  {
   "cell_type": "markdown",
   "metadata": {},
   "source": [
    "Далее $U \\equiv N_i(u) $\n",
    "\n",
    "$$r_{u,i} =  \\frac{1}{S}\\sum\\limits_{v \\in U}\\operatorname{sim}(u,v)r_{v, i}$$\n",
    "$$ S = \\sum\\limits_{v \\in U} \\operatorname{sim}(u,v)$$\n",
    "\n",
    "Предлагается улучшить эту формулу и учесть средние предпочтения всех пользователей\n",
    "\n",
    "$$r_{u,i} = \\mu + \\bar{r_u} + \\frac{1}{S}\\sum\\limits_{v \\in U}\\operatorname{sim}(u,v)(r_{v, i}-\\bar{r_{v}} - \\mu)$$"
   ]
  },
  {
   "cell_type": "markdown",
   "metadata": {},
   "source": [
    "Какие смысл имееют $ \\mu $ и $ \\bar{r_u}$ ?\n",
    "\n",
    "Реализуйте алгоритм, прогнозирующий рейтинги на основе данной формулы, на numpy (векторизованно!)\n",
    "\n",
    "В качестве схожести возьмите CosineSimilarity.\n",
    "\n",
    "Примените к user_item_matrix. В качестве рейтингов возьмите количество или стоимость купленного товара. \n",
    "Данный алгоритм предсказывает рейтинги. Как на основании предсказанных рейтингов предсказать факт покупки?\n",
    "\n",
    "Предложите вариант.\n",
    "Посчитайте accuracy@5 и сравните с алгоритмами, разобранными на вебинаре."
   ]
  }
 ],
 "metadata": {
  "colab": {
   "name": "hw_webinar_2.ipynb",
   "provenance": []
  },
  "kernelspec": {
   "display_name": "Python 3",
   "language": "python",
   "name": "python3"
  },
  "language_info": {
   "codemirror_mode": {
    "name": "ipython",
    "version": 3
   },
   "file_extension": ".py",
   "mimetype": "text/x-python",
   "name": "python",
   "nbconvert_exporter": "python",
   "pygments_lexer": "ipython3",
   "version": "3.7.3"
  }
 },
 "nbformat": 4,
 "nbformat_minor": 1
}
