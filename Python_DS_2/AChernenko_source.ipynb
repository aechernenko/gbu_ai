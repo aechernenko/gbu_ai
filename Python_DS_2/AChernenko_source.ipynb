{
 "cells": [
  {
   "cell_type": "markdown",
   "metadata": {},
   "source": [
    "_Черненко А.Е._\n",
    "# <center>Построение модели классификации<center>\n",
    "\n",
    "## Импорт библиотек"
   ]
  },
  {
   "cell_type": "code",
   "execution_count": 1,
   "metadata": {},
   "outputs": [
    {
     "name": "stderr",
     "output_type": "stream",
     "text": [
      "c:\\users\\aech\\appdata\\local\\programs\\python\\python37\\lib\\site-packages\\statsmodels\\tools\\_testing.py:19: FutureWarning: pandas.util.testing is deprecated. Use the functions in the public API at pandas.testing instead.\n",
      "  import pandas.util.testing as tm\n"
     ]
    }
   ],
   "source": [
    "import numpy as np\n",
    "import pandas as pd\n",
    "from matplotlib import pyplot as plt\n",
    "import seaborn as sns\n",
    "import pickle\n",
    "\n",
    "from sklearn.metrics import r2_score, f1_score, precision_score, recall_score, classification_report\n",
    "import catboost as catb\n",
    "from sklearn.model_selection import train_test_split, GridSearchCV\n",
    "#from sklearn.preprocessing import StandardScaler\n",
    "#from sklearn.decomposition import PCA\n",
    "\n",
    "import warnings\n",
    "warnings.filterwarnings('ignore')\n",
    "\n",
    "%matplotlib inline\n",
    "\n",
    "\n",
    "TRAIN_DATASET_PATH = 'course_project_train.csv'\n",
    "TEST_DATASET_PATH = 'course_project_test.csv'\n",
    "MODEL_AI_FILE_PATH = 'model_AI.pkl'\n",
    "MODEL_CS_FILE_PATH = 'model_CS.pkl'\n",
    "MODEL_FILE_PATH = 'final_model.pkl'"
   ]
  },
  {
   "cell_type": "markdown",
   "metadata": {},
   "source": [
    "## Обзор обучающего датасета\n",
    "\n",
    "### Смысловое описание признаков\n",
    "\n",
    "* __Home Ownership__ `HO` - домовладение\n",
    "* __Annual Income__ `AI` - годовой доход\n",
    "* __Years in current job__ `YCJ` - количество лет на текущем месте работы\n",
    "* __Tax Liens__ `TL` - налоговые обременения\n",
    "* __Number of Open Accounts__ `NOA` - количество открытых счетов\n",
    "* __Years of Credit History__ `YCH` - количество лет кредитной истории\n",
    "* __Maximum Open Credit__ `MOC` - наибольший открытый кредит\n",
    "* __Number of Credit Problems__ `NCP` - количество проблем с кредитом\n",
    "* __Months since last delinquent__ `MSLD` - количество месяцев с последней просрочки платежа\n",
    "* __Bankruptcies__ `B` - банкротства\n",
    "* __Purpose__ `P` - цель кредита\n",
    "* __Term__ `T` - срок кредита\n",
    "* __Current Loan Amount__ `CLA` - текущая сумма кредита\n",
    "* __Current Credit Balance__ `CCB` - текущий кредитный баланс\n",
    "* __Monthly Debt__ `MD` - ежемесячный долг\n",
    "* __Credit Score__ `CS` - кредитный рейтинг\n",
    "* __Credit Default__ `CD` - факт невыполнения кредитных обязательств (0 - погашен вовремя, 1 - просрочка)\n",
    "\n",
    "Загрузим тренировочный датасет в переменную `df`. \n",
    "\n",
    "Для удобства работы определим список аббревиатур для названий признаков, словарь типа _{аббревиатура : полное название признака}_ , а в датасете заменим полные названия признаков аббревиатурами."
   ]
  },
  {
   "cell_type": "code",
   "execution_count": 2,
   "metadata": {
    "scrolled": false
   },
   "outputs": [
    {
     "data": {
      "text/html": [
       "<div>\n",
       "<style scoped>\n",
       "    .dataframe tbody tr th:only-of-type {\n",
       "        vertical-align: middle;\n",
       "    }\n",
       "\n",
       "    .dataframe tbody tr th {\n",
       "        vertical-align: top;\n",
       "    }\n",
       "\n",
       "    .dataframe thead th {\n",
       "        text-align: right;\n",
       "    }\n",
       "</style>\n",
       "<table border=\"1\" class=\"dataframe\">\n",
       "  <thead>\n",
       "    <tr style=\"text-align: right;\">\n",
       "      <th></th>\n",
       "      <th>HO</th>\n",
       "      <th>AI</th>\n",
       "      <th>YCJ</th>\n",
       "      <th>TL</th>\n",
       "      <th>NOA</th>\n",
       "      <th>YCH</th>\n",
       "      <th>MOC</th>\n",
       "      <th>NCP</th>\n",
       "      <th>MCLD</th>\n",
       "      <th>B</th>\n",
       "      <th>P</th>\n",
       "      <th>T</th>\n",
       "      <th>CLA</th>\n",
       "      <th>CCB</th>\n",
       "      <th>MD</th>\n",
       "      <th>CS</th>\n",
       "      <th>CD</th>\n",
       "    </tr>\n",
       "  </thead>\n",
       "  <tbody>\n",
       "    <tr>\n",
       "      <th>0</th>\n",
       "      <td>Own Home</td>\n",
       "      <td>482087.0</td>\n",
       "      <td>NaN</td>\n",
       "      <td>0.0</td>\n",
       "      <td>11.0</td>\n",
       "      <td>26.3</td>\n",
       "      <td>685960.0</td>\n",
       "      <td>1.0</td>\n",
       "      <td>NaN</td>\n",
       "      <td>1.0</td>\n",
       "      <td>debt consolidation</td>\n",
       "      <td>Short Term</td>\n",
       "      <td>99999999.0</td>\n",
       "      <td>47386.0</td>\n",
       "      <td>7914.0</td>\n",
       "      <td>749.0</td>\n",
       "      <td>0</td>\n",
       "    </tr>\n",
       "    <tr>\n",
       "      <th>1</th>\n",
       "      <td>Own Home</td>\n",
       "      <td>1025487.0</td>\n",
       "      <td>10+ years</td>\n",
       "      <td>0.0</td>\n",
       "      <td>15.0</td>\n",
       "      <td>15.3</td>\n",
       "      <td>1181730.0</td>\n",
       "      <td>0.0</td>\n",
       "      <td>NaN</td>\n",
       "      <td>0.0</td>\n",
       "      <td>debt consolidation</td>\n",
       "      <td>Long Term</td>\n",
       "      <td>264968.0</td>\n",
       "      <td>394972.0</td>\n",
       "      <td>18373.0</td>\n",
       "      <td>737.0</td>\n",
       "      <td>1</td>\n",
       "    </tr>\n",
       "    <tr>\n",
       "      <th>2</th>\n",
       "      <td>Home Mortgage</td>\n",
       "      <td>751412.0</td>\n",
       "      <td>8 years</td>\n",
       "      <td>0.0</td>\n",
       "      <td>11.0</td>\n",
       "      <td>35.0</td>\n",
       "      <td>1182434.0</td>\n",
       "      <td>0.0</td>\n",
       "      <td>NaN</td>\n",
       "      <td>0.0</td>\n",
       "      <td>debt consolidation</td>\n",
       "      <td>Short Term</td>\n",
       "      <td>99999999.0</td>\n",
       "      <td>308389.0</td>\n",
       "      <td>13651.0</td>\n",
       "      <td>742.0</td>\n",
       "      <td>0</td>\n",
       "    </tr>\n",
       "  </tbody>\n",
       "</table>\n",
       "</div>"
      ],
      "text/plain": [
       "              HO         AI        YCJ   TL   NOA   YCH        MOC  NCP  MCLD  \\\n",
       "0       Own Home   482087.0        NaN  0.0  11.0  26.3   685960.0  1.0   NaN   \n",
       "1       Own Home  1025487.0  10+ years  0.0  15.0  15.3  1181730.0  0.0   NaN   \n",
       "2  Home Mortgage   751412.0    8 years  0.0  11.0  35.0  1182434.0  0.0   NaN   \n",
       "\n",
       "     B                   P           T         CLA       CCB       MD     CS  \\\n",
       "0  1.0  debt consolidation  Short Term  99999999.0   47386.0   7914.0  749.0   \n",
       "1  0.0  debt consolidation   Long Term    264968.0  394972.0  18373.0  737.0   \n",
       "2  0.0  debt consolidation  Short Term  99999999.0  308389.0  13651.0  742.0   \n",
       "\n",
       "   CD  \n",
       "0   0  \n",
       "1   1  \n",
       "2   0  "
      ]
     },
     "execution_count": 2,
     "metadata": {},
     "output_type": "execute_result"
    }
   ],
   "source": [
    "df = pd.read_csv(TRAIN_DATASET_PATH)\n",
    "\n",
    "SHORT_COLUMNS = ['HO','AI','YCJ','TL','NOA','YCH','MOC','NCP','MCLD','B','P','T','CLA','CCB','MD','CS','CD']\n",
    "DICT_COLUMNS = dict(zip(SHORT_COLUMNS, df.columns))  # словарь {аббревиатура : полное_название}\n",
    "df.columns = SHORT_COLUMNS\n",
    "\n",
    "df.head(3)"
   ]
  },
  {
   "cell_type": "markdown",
   "metadata": {},
   "source": [
    "### Краткое резюме по данным признаков"
   ]
  },
  {
   "cell_type": "code",
   "execution_count": 3,
   "metadata": {},
   "outputs": [
    {
     "name": "stdout",
     "output_type": "stream",
     "text": [
      "<class 'pandas.core.frame.DataFrame'>\n",
      "RangeIndex: 7500 entries, 0 to 7499\n",
      "Data columns (total 17 columns):\n",
      " #   Column  Non-Null Count  Dtype  \n",
      "---  ------  --------------  -----  \n",
      " 0   HO      7500 non-null   object \n",
      " 1   AI      5943 non-null   float64\n",
      " 2   YCJ     7129 non-null   object \n",
      " 3   TL      7500 non-null   float64\n",
      " 4   NOA     7500 non-null   float64\n",
      " 5   YCH     7500 non-null   float64\n",
      " 6   MOC     7500 non-null   float64\n",
      " 7   NCP     7500 non-null   float64\n",
      " 8   MCLD    3419 non-null   float64\n",
      " 9   B       7486 non-null   float64\n",
      " 10  P       7500 non-null   object \n",
      " 11  T       7500 non-null   object \n",
      " 12  CLA     7500 non-null   float64\n",
      " 13  CCB     7500 non-null   float64\n",
      " 14  MD      7500 non-null   float64\n",
      " 15  CS      5943 non-null   float64\n",
      " 16  CD      7500 non-null   int64  \n",
      "dtypes: float64(12), int64(1), object(4)\n",
      "memory usage: 996.2+ KB\n"
     ]
    }
   ],
   "source": [
    "df.info()"
   ]
  },
  {
   "cell_type": "markdown",
   "metadata": {},
   "source": [
    "* **Признаки AI, YCJ, MCLD, B, CS имеют пропущенные значения.**\n",
    "* **Признаки HO, YCJ, P, T объектные, остальные - количественные.**\n",
    "\n",
    "### Обзор количественных признаков"
   ]
  },
  {
   "cell_type": "code",
   "execution_count": 4,
   "metadata": {
    "scrolled": false
   },
   "outputs": [
    {
     "data": {
      "text/html": [
       "<div>\n",
       "<style scoped>\n",
       "    .dataframe tbody tr th:only-of-type {\n",
       "        vertical-align: middle;\n",
       "    }\n",
       "\n",
       "    .dataframe tbody tr th {\n",
       "        vertical-align: top;\n",
       "    }\n",
       "\n",
       "    .dataframe thead th {\n",
       "        text-align: right;\n",
       "    }\n",
       "</style>\n",
       "<table border=\"1\" class=\"dataframe\">\n",
       "  <thead>\n",
       "    <tr style=\"text-align: right;\">\n",
       "      <th></th>\n",
       "      <th>AI</th>\n",
       "      <th>TL</th>\n",
       "      <th>NOA</th>\n",
       "      <th>YCH</th>\n",
       "      <th>MOC</th>\n",
       "      <th>NCP</th>\n",
       "      <th>MCLD</th>\n",
       "      <th>B</th>\n",
       "      <th>CLA</th>\n",
       "      <th>CCB</th>\n",
       "      <th>MD</th>\n",
       "      <th>CS</th>\n",
       "      <th>CD</th>\n",
       "    </tr>\n",
       "  </thead>\n",
       "  <tbody>\n",
       "    <tr>\n",
       "      <th>count</th>\n",
       "      <td>5943.00</td>\n",
       "      <td>7500.000</td>\n",
       "      <td>7500.000</td>\n",
       "      <td>7500.000</td>\n",
       "      <td>7.500000e+03</td>\n",
       "      <td>7500.000</td>\n",
       "      <td>3419.000</td>\n",
       "      <td>7486.000</td>\n",
       "      <td>7.500000e+03</td>\n",
       "      <td>7500.000</td>\n",
       "      <td>7500.000</td>\n",
       "      <td>5943.000</td>\n",
       "      <td>7500.000</td>\n",
       "    </tr>\n",
       "    <tr>\n",
       "      <th>mean</th>\n",
       "      <td>1366391.72</td>\n",
       "      <td>0.030</td>\n",
       "      <td>11.131</td>\n",
       "      <td>18.317</td>\n",
       "      <td>9.451537e+05</td>\n",
       "      <td>0.170</td>\n",
       "      <td>34.693</td>\n",
       "      <td>0.117</td>\n",
       "      <td>1.187318e+07</td>\n",
       "      <td>289833.235</td>\n",
       "      <td>18314.454</td>\n",
       "      <td>1151.087</td>\n",
       "      <td>0.282</td>\n",
       "    </tr>\n",
       "    <tr>\n",
       "      <th>std</th>\n",
       "      <td>845339.20</td>\n",
       "      <td>0.272</td>\n",
       "      <td>4.909</td>\n",
       "      <td>7.042</td>\n",
       "      <td>1.602622e+07</td>\n",
       "      <td>0.499</td>\n",
       "      <td>21.689</td>\n",
       "      <td>0.347</td>\n",
       "      <td>3.192612e+07</td>\n",
       "      <td>317871.382</td>\n",
       "      <td>11926.765</td>\n",
       "      <td>1604.451</td>\n",
       "      <td>0.450</td>\n",
       "    </tr>\n",
       "    <tr>\n",
       "      <th>min</th>\n",
       "      <td>164597.00</td>\n",
       "      <td>0.000</td>\n",
       "      <td>2.000</td>\n",
       "      <td>4.000</td>\n",
       "      <td>0.000000e+00</td>\n",
       "      <td>0.000</td>\n",
       "      <td>0.000</td>\n",
       "      <td>0.000</td>\n",
       "      <td>1.124200e+04</td>\n",
       "      <td>0.000</td>\n",
       "      <td>0.000</td>\n",
       "      <td>585.000</td>\n",
       "      <td>0.000</td>\n",
       "    </tr>\n",
       "    <tr>\n",
       "      <th>25%</th>\n",
       "      <td>844341.00</td>\n",
       "      <td>0.000</td>\n",
       "      <td>8.000</td>\n",
       "      <td>13.500</td>\n",
       "      <td>2.792295e+05</td>\n",
       "      <td>0.000</td>\n",
       "      <td>16.000</td>\n",
       "      <td>0.000</td>\n",
       "      <td>1.801690e+05</td>\n",
       "      <td>114256.500</td>\n",
       "      <td>10067.500</td>\n",
       "      <td>711.000</td>\n",
       "      <td>0.000</td>\n",
       "    </tr>\n",
       "    <tr>\n",
       "      <th>50%</th>\n",
       "      <td>1168386.00</td>\n",
       "      <td>0.000</td>\n",
       "      <td>10.000</td>\n",
       "      <td>17.000</td>\n",
       "      <td>4.781590e+05</td>\n",
       "      <td>0.000</td>\n",
       "      <td>32.000</td>\n",
       "      <td>0.000</td>\n",
       "      <td>3.095730e+05</td>\n",
       "      <td>209323.000</td>\n",
       "      <td>16076.500</td>\n",
       "      <td>731.000</td>\n",
       "      <td>0.000</td>\n",
       "    </tr>\n",
       "    <tr>\n",
       "      <th>75%</th>\n",
       "      <td>1640137.00</td>\n",
       "      <td>0.000</td>\n",
       "      <td>14.000</td>\n",
       "      <td>21.800</td>\n",
       "      <td>7.935015e+05</td>\n",
       "      <td>0.000</td>\n",
       "      <td>50.000</td>\n",
       "      <td>0.000</td>\n",
       "      <td>5.198820e+05</td>\n",
       "      <td>360406.250</td>\n",
       "      <td>23818.000</td>\n",
       "      <td>743.000</td>\n",
       "      <td>1.000</td>\n",
       "    </tr>\n",
       "    <tr>\n",
       "      <th>max</th>\n",
       "      <td>10149344.00</td>\n",
       "      <td>7.000</td>\n",
       "      <td>43.000</td>\n",
       "      <td>57.700</td>\n",
       "      <td>1.304726e+09</td>\n",
       "      <td>7.000</td>\n",
       "      <td>118.000</td>\n",
       "      <td>4.000</td>\n",
       "      <td>1.000000e+08</td>\n",
       "      <td>6506797.000</td>\n",
       "      <td>136679.000</td>\n",
       "      <td>7510.000</td>\n",
       "      <td>1.000</td>\n",
       "    </tr>\n",
       "  </tbody>\n",
       "</table>\n",
       "</div>"
      ],
      "text/plain": [
       "                AI        TL       NOA       YCH           MOC       NCP  \\\n",
       "count      5943.00  7500.000  7500.000  7500.000  7.500000e+03  7500.000   \n",
       "mean    1366391.72     0.030    11.131    18.317  9.451537e+05     0.170   \n",
       "std      845339.20     0.272     4.909     7.042  1.602622e+07     0.499   \n",
       "min      164597.00     0.000     2.000     4.000  0.000000e+00     0.000   \n",
       "25%      844341.00     0.000     8.000    13.500  2.792295e+05     0.000   \n",
       "50%     1168386.00     0.000    10.000    17.000  4.781590e+05     0.000   \n",
       "75%     1640137.00     0.000    14.000    21.800  7.935015e+05     0.000   \n",
       "max    10149344.00     7.000    43.000    57.700  1.304726e+09     7.000   \n",
       "\n",
       "           MCLD         B           CLA          CCB          MD        CS  \\\n",
       "count  3419.000  7486.000  7.500000e+03     7500.000    7500.000  5943.000   \n",
       "mean     34.693     0.117  1.187318e+07   289833.235   18314.454  1151.087   \n",
       "std      21.689     0.347  3.192612e+07   317871.382   11926.765  1604.451   \n",
       "min       0.000     0.000  1.124200e+04        0.000       0.000   585.000   \n",
       "25%      16.000     0.000  1.801690e+05   114256.500   10067.500   711.000   \n",
       "50%      32.000     0.000  3.095730e+05   209323.000   16076.500   731.000   \n",
       "75%      50.000     0.000  5.198820e+05   360406.250   23818.000   743.000   \n",
       "max     118.000     4.000  1.000000e+08  6506797.000  136679.000  7510.000   \n",
       "\n",
       "             CD  \n",
       "count  7500.000  \n",
       "mean      0.282  \n",
       "std       0.450  \n",
       "min       0.000  \n",
       "25%       0.000  \n",
       "50%       0.000  \n",
       "75%       1.000  \n",
       "max       1.000  "
      ]
     },
     "execution_count": 4,
     "metadata": {},
     "output_type": "execute_result"
    }
   ],
   "source": [
    "df.describe().round(3)"
   ]
  },
  {
   "cell_type": "markdown",
   "metadata": {},
   "source": [
    "Предположительно:\n",
    "* AI - непрерывная величина, требует анализ на выбросы\n",
    "* TL - дискретная величина\n",
    "* NOA - дискретная величина\n",
    "* YCH - непрерывная величина, требует анализ на выбросы\n",
    "* MOC - непрерывная величина, требует анализ на выбросы и нули\n",
    "* NCP - дискретная величина\n",
    "* MCLD - дискретная величина\n",
    "* B - дискретная величина\n",
    "* CLA - непрерывная величина, требует анализ на выбросы\n",
    "* CCB - непрерывная величина, требует анализ нулей\n",
    "* MD - непрерывная величина, требует анализ нулей\n",
    "* CS - непрерывная величина, требует анализ на выбросы\n",
    "\n",
    "### Обзор номинативных признаков"
   ]
  },
  {
   "cell_type": "code",
   "execution_count": 5,
   "metadata": {},
   "outputs": [
    {
     "name": "stdout",
     "output_type": "stream",
     "text": [
      "Home Ownership (HO)\n",
      "\n",
      "Home Mortgage    3637\n",
      "Rent             3204\n",
      "Own Home          647\n",
      "Have Mortgage      12\n",
      "Name: HO, dtype: int64\n",
      "******************************\n",
      "\n",
      "Years in current job (YCJ)\n",
      "\n",
      "10+ years    2332\n",
      "2 years       705\n",
      "3 years       620\n",
      "< 1 year      563\n",
      "5 years       516\n",
      "1 year        504\n",
      "4 years       469\n",
      "6 years       426\n",
      "7 years       396\n",
      "8 years       339\n",
      "9 years       259\n",
      "Name: YCJ, dtype: int64\n",
      "******************************\n",
      "\n",
      "Purpose (P)\n",
      "\n",
      "debt consolidation      5944\n",
      "other                    665\n",
      "home improvements        412\n",
      "business loan            129\n",
      "buy a car                 96\n",
      "medical bills             71\n",
      "major purchase            40\n",
      "take a trip               37\n",
      "buy house                 34\n",
      "small business            26\n",
      "wedding                   15\n",
      "moving                    11\n",
      "educational expenses      10\n",
      "vacation                   8\n",
      "renewable energy           2\n",
      "Name: P, dtype: int64\n",
      "******************************\n",
      "\n",
      "Term (T)\n",
      "\n",
      "Short Term    5556\n",
      "Long Term     1944\n",
      "Name: T, dtype: int64\n",
      "******************************\n",
      "\n"
     ]
    }
   ],
   "source": [
    "for col_name in df.select_dtypes(include='object').columns:\n",
    "    print(DICT_COLUMNS[col_name], f'({col_name})')\n",
    "    print()\n",
    "    print(df[col_name].value_counts())\n",
    "    print('*'*30)\n",
    "    print()"
   ]
  },
  {
   "cell_type": "markdown",
   "metadata": {},
   "source": [
    "## Обработка выбросов\n",
    "\n",
    "Как уже рассматривалось выше в обзоре проанализируем следующие количественные признаки на выбросы и нули:\n",
    "* AI \n",
    "* YCH\n",
    "* MOC\n",
    "* CLA\n",
    "* CCB\n",
    "* CCB\n",
    "* CS\n",
    "\n",
    "Анализировать выбросы будем по графикам \"Ящик с усами\" и плотности распределения."
   ]
  },
  {
   "cell_type": "code",
   "execution_count": 6,
   "metadata": {},
   "outputs": [],
   "source": [
    "def show_feature_outliers(dataframe, feature_name):\n",
    "    plt.figure(figsize = (12,4))\n",
    "    \n",
    "    plt.subplot(1,2,1)\n",
    "    plt.boxplot(dataframe.loc[df[feature_name].notna(),feature_name])\n",
    "    \n",
    "    plt.subplot(1,2,2)\n",
    "    sns.distplot(dataframe.loc[df[feature_name].notna(),feature_name])"
   ]
  },
  {
   "cell_type": "markdown",
   "metadata": {},
   "source": [
    "#### Annual Income (AI, годовой доход)"
   ]
  },
  {
   "cell_type": "code",
   "execution_count": 7,
   "metadata": {},
   "outputs": [
    {
     "data": {
      "image/png": "[encoded data removed]",
      "text/plain": [
       "<Figure size 864x288 with 2 Axes>"
      ]
     },
     "metadata": {
      "needs_background": "light"
     },
     "output_type": "display_data"
    }
   ],
   "source": [
    "show_feature_outliers(df, 'AI')"
   ]
  },
  {
   "cell_type": "markdown",
   "metadata": {},
   "source": [
    "Имеется длинный хвост распределения. Очевидных выбросов нет. По смыслу значения так же правдоподобны. Распределение похоже на логнормальное.\n",
    "####  Years of Credit History  (YCH, количество лет кредитной истории)"
   ]
  },
  {
   "cell_type": "code",
   "execution_count": 8,
   "metadata": {},
   "outputs": [
    {
     "data": {
      "image/png": "[encoded data removed]",
      "text/plain": [
       "<Figure size 864x288 with 2 Axes>"
      ]
     },
     "metadata": {
      "needs_background": "light"
     },
     "output_type": "display_data"
    }
   ],
   "source": [
    "show_feature_outliers(df, 'YCH')    "
   ]
  },
  {
   "cell_type": "markdown",
   "metadata": {},
   "source": [
    "Имеется небольшой хвост распределения. Очевидных выбросов нет. По смыслу значения так же правдоподобны. Распределение похоже на логнормальное.\n",
    "#### Maximum Open Credit (MOC, наибольший открытый кредит)"
   ]
  },
  {
   "cell_type": "code",
   "execution_count": 9,
   "metadata": {},
   "outputs": [
    {
     "data": {
      "image/png": "[encoded data removed]",
      "text/plain": [
       "<Figure size 864x288 with 2 Axes>"
      ]
     },
     "metadata": {
      "needs_background": "light"
     },
     "output_type": "display_data"
    }
   ],
   "source": [
    "show_feature_outliers(df, 'MOC')"
   ]
  },
  {
   "cell_type": "markdown",
   "metadata": {},
   "source": [
    "Наблюдаются выбросы, установим по ним порог в 10 млн."
   ]
  },
  {
   "cell_type": "code",
   "execution_count": 10,
   "metadata": {
    "scrolled": true
   },
   "outputs": [
    {
     "name": "stdout",
     "output_type": "stream",
     "text": [
      "Выбросов больше 10 млн.: 19 шт.\n"
     ]
    }
   ],
   "source": [
    "moc_count = df.loc[df['MOC']>10000000, 'MOC'].count()\n",
    "print('Выбросов больше 10 млн.:', moc_count, 'шт.')"
   ]
  },
  {
   "cell_type": "markdown",
   "metadata": {},
   "source": [
    "Заменим выбросы и нули медианой и проверим распределение. Если CCB == 0, то тогда нулвое значение в MOC заменяем медианой.\n",
    "Выбросы больше 10 млн, заменяем соответствующим в данном наблюдении удвоенным значением CCB"
   ]
  },
  {
   "cell_type": "code",
   "execution_count": 11,
   "metadata": {
    "scrolled": false
   },
   "outputs": [
    {
     "data": {
      "image/png": "[encoded data removed]",
      "text/plain": [
       "<Figure size 864x288 with 2 Axes>"
      ]
     },
     "metadata": {
      "needs_background": "light"
     },
     "output_type": "display_data"
    }
   ],
   "source": [
    "def outlier_MOC(df):\n",
    "    df.loc[(df['MOC']==0) & (df['CCB']!=0),'MOC'] = df['MOC'].median()\n",
    "    df.loc[df['MOC']>10**7,'MOC'] = df.loc[df['MOC']>10**7,'CCB']/0.5\n",
    "    \n",
    "outlier_MOC(df)\n",
    "\n",
    "show_feature_outliers(df, 'MOC')"
   ]
  },
  {
   "cell_type": "markdown",
   "metadata": {},
   "source": [
    "Распределение похоже на логнормальное."
   ]
  },
  {
   "cell_type": "markdown",
   "metadata": {},
   "source": [
    "#### Current Loan Amount (CLA, текущая сумма кредита)"
   ]
  },
  {
   "cell_type": "code",
   "execution_count": 12,
   "metadata": {},
   "outputs": [
    {
     "data": {
      "image/png": "[encoded data removed]",
      "text/plain": [
       "<Figure size 864x288 with 2 Axes>"
      ]
     },
     "metadata": {
      "needs_background": "light"
     },
     "output_type": "display_data"
    }
   ],
   "source": [
    "show_feature_outliers(df, 'CLA')"
   ]
  },
  {
   "cell_type": "markdown",
   "metadata": {},
   "source": [
    "При том же пороге в 10 млн. наблюдается 870 выбросов с одним значением 99999999.0:"
   ]
  },
  {
   "cell_type": "code",
   "execution_count": 13,
   "metadata": {},
   "outputs": [
    {
     "data": {
      "text/plain": [
       "99999999.0    870\n",
       "Name: CLA, dtype: int64"
      ]
     },
     "execution_count": 13,
     "metadata": {},
     "output_type": "execute_result"
    }
   ],
   "source": [
    "df.loc[df['CLA']>10000000, 'CLA'].value_counts()"
   ]
  },
  {
   "cell_type": "code",
   "execution_count": 14,
   "metadata": {},
   "outputs": [
    {
     "data": {
      "image/png": "[encoded data removed]",
      "text/plain": [
       "<Figure size 864x288 with 2 Axes>"
      ]
     },
     "metadata": {
      "needs_background": "light"
     },
     "output_type": "display_data"
    }
   ],
   "source": [
    "def outlier_CLA(df):\n",
    "    df.loc[df['CLA']>10000000, 'CLA'] = df['CLA'].mean()\n",
    "\n",
    "    \n",
    "outlier_CLA(df)\n",
    "\n",
    "show_feature_outliers(df, 'CLA')"
   ]
  },
  {
   "cell_type": "markdown",
   "metadata": {},
   "source": [
    "#### Current Credit Balance (CCB, текущий кредитный баланс)\n",
    "Значния CCB, которые больше соответствующих им MOC, заменям половинным значенем соответствующих MOC"
   ]
  },
  {
   "cell_type": "code",
   "execution_count": 15,
   "metadata": {
    "scrolled": false
   },
   "outputs": [
    {
     "data": {
      "image/png": "[encoded data removed]",
      "text/plain": [
       "<Figure size 864x288 with 2 Axes>"
      ]
     },
     "metadata": {
      "needs_background": "light"
     },
     "output_type": "display_data"
    }
   ],
   "source": [
    "def outlier_CCB(df):\n",
    "    df.loc[df['CCB']>df['MOC'],'CCB'] = df.loc[df['CCB']>df['MOC'],'MOC']*0.5\n",
    "    \n",
    "    \n",
    "show_feature_outliers(df, 'CCB')"
   ]
  },
  {
   "cell_type": "markdown",
   "metadata": {},
   "source": [
    "Распределение похоже на логнормальное."
   ]
  },
  {
   "cell_type": "markdown",
   "metadata": {},
   "source": [
    "#### Monthly Debt  (MD, ежемесячный долг)\n",
    "Проанализируем объекты с нулевыми значениями в признааке:"
   ]
  },
  {
   "cell_type": "code",
   "execution_count": 16,
   "metadata": {},
   "outputs": [
    {
     "name": "stdout",
     "output_type": "stream",
     "text": [
      "Количество нулей: 6\n"
     ]
    },
    {
     "data": {
      "text/html": [
       "<div>\n",
       "<style scoped>\n",
       "    .dataframe tbody tr th:only-of-type {\n",
       "        vertical-align: middle;\n",
       "    }\n",
       "\n",
       "    .dataframe tbody tr th {\n",
       "        vertical-align: top;\n",
       "    }\n",
       "\n",
       "    .dataframe thead th {\n",
       "        text-align: right;\n",
       "    }\n",
       "</style>\n",
       "<table border=\"1\" class=\"dataframe\">\n",
       "  <thead>\n",
       "    <tr style=\"text-align: right;\">\n",
       "      <th></th>\n",
       "      <th>HO</th>\n",
       "      <th>AI</th>\n",
       "      <th>YCJ</th>\n",
       "      <th>TL</th>\n",
       "      <th>NOA</th>\n",
       "      <th>YCH</th>\n",
       "      <th>MOC</th>\n",
       "      <th>NCP</th>\n",
       "      <th>MCLD</th>\n",
       "      <th>B</th>\n",
       "      <th>P</th>\n",
       "      <th>T</th>\n",
       "      <th>CLA</th>\n",
       "      <th>CCB</th>\n",
       "      <th>MD</th>\n",
       "      <th>CS</th>\n",
       "      <th>CD</th>\n",
       "    </tr>\n",
       "  </thead>\n",
       "  <tbody>\n",
       "    <tr>\n",
       "      <th>780</th>\n",
       "      <td>Home Mortgage</td>\n",
       "      <td>867749.0</td>\n",
       "      <td>10+ years</td>\n",
       "      <td>0.0</td>\n",
       "      <td>2.0</td>\n",
       "      <td>16.5</td>\n",
       "      <td>0.0</td>\n",
       "      <td>0.0</td>\n",
       "      <td>66.0</td>\n",
       "      <td>0.0</td>\n",
       "      <td>home improvements</td>\n",
       "      <td>Short Term</td>\n",
       "      <td>7.535000e+04</td>\n",
       "      <td>0.0</td>\n",
       "      <td>0.0</td>\n",
       "      <td>704.0</td>\n",
       "      <td>0</td>\n",
       "    </tr>\n",
       "    <tr>\n",
       "      <th>1643</th>\n",
       "      <td>Rent</td>\n",
       "      <td>NaN</td>\n",
       "      <td>9 years</td>\n",
       "      <td>0.0</td>\n",
       "      <td>3.0</td>\n",
       "      <td>10.0</td>\n",
       "      <td>0.0</td>\n",
       "      <td>0.0</td>\n",
       "      <td>NaN</td>\n",
       "      <td>0.0</td>\n",
       "      <td>other</td>\n",
       "      <td>Short Term</td>\n",
       "      <td>3.321560e+05</td>\n",
       "      <td>0.0</td>\n",
       "      <td>0.0</td>\n",
       "      <td>NaN</td>\n",
       "      <td>1</td>\n",
       "    </tr>\n",
       "    <tr>\n",
       "      <th>3219</th>\n",
       "      <td>Home Mortgage</td>\n",
       "      <td>NaN</td>\n",
       "      <td>10+ years</td>\n",
       "      <td>0.0</td>\n",
       "      <td>3.0</td>\n",
       "      <td>18.5</td>\n",
       "      <td>0.0</td>\n",
       "      <td>0.0</td>\n",
       "      <td>NaN</td>\n",
       "      <td>0.0</td>\n",
       "      <td>debt consolidation</td>\n",
       "      <td>Short Term</td>\n",
       "      <td>7.920000e+04</td>\n",
       "      <td>0.0</td>\n",
       "      <td>0.0</td>\n",
       "      <td>NaN</td>\n",
       "      <td>0</td>\n",
       "    </tr>\n",
       "    <tr>\n",
       "      <th>3496</th>\n",
       "      <td>Rent</td>\n",
       "      <td>233567.0</td>\n",
       "      <td>1 year</td>\n",
       "      <td>0.0</td>\n",
       "      <td>7.0</td>\n",
       "      <td>11.7</td>\n",
       "      <td>0.0</td>\n",
       "      <td>0.0</td>\n",
       "      <td>0.0</td>\n",
       "      <td>NaN</td>\n",
       "      <td>educational expenses</td>\n",
       "      <td>Short Term</td>\n",
       "      <td>2.101660e+05</td>\n",
       "      <td>0.0</td>\n",
       "      <td>0.0</td>\n",
       "      <td>746.0</td>\n",
       "      <td>0</td>\n",
       "    </tr>\n",
       "    <tr>\n",
       "      <th>4165</th>\n",
       "      <td>Rent</td>\n",
       "      <td>1254513.0</td>\n",
       "      <td>10+ years</td>\n",
       "      <td>0.0</td>\n",
       "      <td>6.0</td>\n",
       "      <td>23.4</td>\n",
       "      <td>0.0</td>\n",
       "      <td>0.0</td>\n",
       "      <td>60.0</td>\n",
       "      <td>0.0</td>\n",
       "      <td>take a trip</td>\n",
       "      <td>Short Term</td>\n",
       "      <td>1.187318e+07</td>\n",
       "      <td>0.0</td>\n",
       "      <td>0.0</td>\n",
       "      <td>748.0</td>\n",
       "      <td>0</td>\n",
       "    </tr>\n",
       "    <tr>\n",
       "      <th>7124</th>\n",
       "      <td>Rent</td>\n",
       "      <td>NaN</td>\n",
       "      <td>1 year</td>\n",
       "      <td>0.0</td>\n",
       "      <td>4.0</td>\n",
       "      <td>11.0</td>\n",
       "      <td>0.0</td>\n",
       "      <td>0.0</td>\n",
       "      <td>50.0</td>\n",
       "      <td>0.0</td>\n",
       "      <td>debt consolidation</td>\n",
       "      <td>Short Term</td>\n",
       "      <td>1.340240e+05</td>\n",
       "      <td>0.0</td>\n",
       "      <td>0.0</td>\n",
       "      <td>NaN</td>\n",
       "      <td>0</td>\n",
       "    </tr>\n",
       "  </tbody>\n",
       "</table>\n",
       "</div>"
      ],
      "text/plain": [
       "                 HO         AI        YCJ   TL  NOA   YCH  MOC  NCP  MCLD  \\\n",
       "780   Home Mortgage   867749.0  10+ years  0.0  2.0  16.5  0.0  0.0  66.0   \n",
       "1643           Rent        NaN    9 years  0.0  3.0  10.0  0.0  0.0   NaN   \n",
       "3219  Home Mortgage        NaN  10+ years  0.0  3.0  18.5  0.0  0.0   NaN   \n",
       "3496           Rent   233567.0     1 year  0.0  7.0  11.7  0.0  0.0   0.0   \n",
       "4165           Rent  1254513.0  10+ years  0.0  6.0  23.4  0.0  0.0  60.0   \n",
       "7124           Rent        NaN     1 year  0.0  4.0  11.0  0.0  0.0  50.0   \n",
       "\n",
       "        B                     P           T           CLA  CCB   MD     CS  CD  \n",
       "780   0.0     home improvements  Short Term  7.535000e+04  0.0  0.0  704.0   0  \n",
       "1643  0.0                 other  Short Term  3.321560e+05  0.0  0.0    NaN   1  \n",
       "3219  0.0    debt consolidation  Short Term  7.920000e+04  0.0  0.0    NaN   0  \n",
       "3496  NaN  educational expenses  Short Term  2.101660e+05  0.0  0.0  746.0   0  \n",
       "4165  0.0           take a trip  Short Term  1.187318e+07  0.0  0.0  748.0   0  \n",
       "7124  0.0    debt consolidation  Short Term  1.340240e+05  0.0  0.0    NaN   0  "
      ]
     },
     "execution_count": 16,
     "metadata": {},
     "output_type": "execute_result"
    }
   ],
   "source": [
    "print('Количество нулей:', df.loc[df['MD']==0,'MD'].count())\n",
    "df.loc[df['MD']==0]"
   ]
  },
  {
   "cell_type": "markdown",
   "metadata": {},
   "source": [
    "Оставим нули."
   ]
  },
  {
   "cell_type": "markdown",
   "metadata": {},
   "source": [
    "#### Credit Score (CS, кредитный рейтинг)"
   ]
  },
  {
   "cell_type": "code",
   "execution_count": 17,
   "metadata": {},
   "outputs": [
    {
     "data": {
      "image/png": "[encoded data removed]",
      "text/plain": [
       "<Figure size 864x288 with 2 Axes>"
      ]
     },
     "metadata": {
      "needs_background": "light"
     },
     "output_type": "display_data"
    }
   ],
   "source": [
    "show_feature_outliers(df, 'CS')"
   ]
  },
  {
   "cell_type": "markdown",
   "metadata": {},
   "source": [
    "Очевидные выбросы:"
   ]
  },
  {
   "cell_type": "code",
   "execution_count": 18,
   "metadata": {},
   "outputs": [
    {
     "data": {
      "text/plain": [
       "69    6470.0\n",
       "87    7440.0\n",
       "94    7010.0\n",
       "Name: CS, dtype: float64"
      ]
     },
     "execution_count": 18,
     "metadata": {},
     "output_type": "execute_result"
    }
   ],
   "source": [
    "df.loc[df['CS'] > 2000, 'CS'].head(3)"
   ]
  },
  {
   "cell_type": "markdown",
   "metadata": {},
   "source": [
    "Видна закономерность ошибки, которая исправляется путем деления на 10"
   ]
  },
  {
   "cell_type": "code",
   "execution_count": 19,
   "metadata": {
    "scrolled": false
   },
   "outputs": [
    {
     "data": {
      "image/png": "[encoded data removed]",
      "text/plain": [
       "<Figure size 864x288 with 2 Axes>"
      ]
     },
     "metadata": {
      "needs_background": "light"
     },
     "output_type": "display_data"
    }
   ],
   "source": [
    "def outlier_CS(df):\n",
    "    df.loc[df['CS'] > 800, 'CS'] /= 10\n",
    "\n",
    "outlier_CS(df)\n",
    "    \n",
    "show_feature_outliers(df, 'CS')"
   ]
  },
  {
   "cell_type": "markdown",
   "metadata": {},
   "source": [
    "#### Home Ownership (HO, домовладение)\n",
    "Очевидно, что Home Mortgage и Have Mortgage имеют одинаковый смысл, поэтому объединим эти категории"
   ]
  },
  {
   "cell_type": "code",
   "execution_count": 20,
   "metadata": {},
   "outputs": [],
   "source": [
    "def outlier_HO(df):\n",
    "    df.loc[df['HO']=='Have Mortgage','HO'] = 'Home Mortgage'\n",
    "\n",
    "outlier_HO(df)"
   ]
  },
  {
   "cell_type": "markdown",
   "metadata": {},
   "source": [
    "__Обощенная функция обработки выбросов:__"
   ]
  },
  {
   "cell_type": "code",
   "execution_count": 21,
   "metadata": {},
   "outputs": [],
   "source": [
    "def prep_outlier(df):\n",
    "    outlier_MOC(df)\n",
    "    outlier_CLA(df)\n",
    "    outlier_CCB(df)\n",
    "    outlier_CS(df)\n",
    "    outlier_HO(df)"
   ]
  },
  {
   "cell_type": "markdown",
   "metadata": {},
   "source": [
    "## Обработка пропусков\n",
    "Имеют пропущенные значения следущие признаки:\n",
    "* AI\n",
    "* YCJ\n",
    "* MCLD\n",
    "* B\n",
    "* CS"
   ]
  },
  {
   "cell_type": "code",
   "execution_count": 22,
   "metadata": {},
   "outputs": [
    {
     "name": "stdout",
     "output_type": "stream",
     "text": [
      "Пропусков в \"AI\":\t1557 шт.\n",
      "Пропусков в \"YCJ\":\t371 шт.\n",
      "Пропусков в \"MCLD\":\t4081 шт.\n",
      "Пропусков в \"B\":\t14 шт.\n",
      "Пропусков в \"CS\":\t1557 шт.\n",
      "\n",
      "\n",
      "Наблюдений, в которых AI и CS одновременно пропущены : 1557\n"
     ]
    }
   ],
   "source": [
    "for ft in ['AI','YCJ','MCLD','B','CS']:\n",
    "    print(f'Пропусков в \"{ft}\":\\t{df.loc[df[ft].isna(), ft].shape[0]} шт.')\n",
    "\n",
    "print()\n",
    "print()\n",
    "print('Наблюдений, в которых AI и CS одновременно пропущены :', df.loc[df['AI'].isna(), ['AI','CS']].shape[0])"
   ]
  },
  {
   "cell_type": "markdown",
   "metadata": {},
   "source": [
    "Заполним пропуски в YCJ и B модальными значениями, удалим признак MCLD и создадим общую функцию обработки пропусков.\n",
    "\n",
    "\n",
    "Пропуски в AI и CS исправим с помощью регрессии \"случайным лесом\" позже после окончательного анализа и отбора признаков с целью использования их в качестве обучающих данных."
   ]
  },
  {
   "cell_type": "code",
   "execution_count": 23,
   "metadata": {},
   "outputs": [],
   "source": [
    "def prep_fillna(df):\n",
    "    df['YCJ'].fillna(df['YCJ'].mode()[0], inplace=True)\n",
    "    df['B'].fillna(df['B'].mode()[0], inplace=True)    \n",
    "    df.drop(['MCLD'], inplace=True, axis=1)\n",
    "    \n",
    "\n",
    "prep_fillna(df)"
   ]
  },
  {
   "cell_type": "markdown",
   "metadata": {},
   "source": [
    "### Перевод объектных признаков в категорийные"
   ]
  },
  {
   "cell_type": "code",
   "execution_count": 24,
   "metadata": {},
   "outputs": [],
   "source": [
    "def obj_to_cat(df):\n",
    "    cat_feats = list(df.columns[df.dtypes==object])\n",
    "    for cat_feat in cat_feats:\n",
    "        df[cat_feat] = pd.Categorical(df[cat_feat])\n",
    "    return cat_feats\n",
    "\n",
    "CAT_FEATS = obj_to_cat(df)"
   ]
  },
  {
   "cell_type": "markdown",
   "metadata": {},
   "source": [
    "### Заполнение пропущенных значений AI и CS с помощью регрессии\n",
    "Подготовка обучающего датасета из всех имеющихся данных Train и Test (нижеприведенная ячейка с кодом деактивирована, код запускался один раз, полученные модели сериализованы)"
   ]
  },
  {
   "cell_type": "code",
   "execution_count": 25,
   "metadata": {},
   "outputs": [
    {
     "name": "stdout",
     "output_type": "stream",
     "text": [
      "AI r2_train: 0.5553\n",
      "AI r2_valid: 0.3543\n",
      "AI r2_fin: 0.5328\n",
      "CS r2_train: 0.4432\n",
      "CS r2_valid: 0.3754\n",
      "CS r2_fin: 0.4363\n"
     ]
    }
   ],
   "source": [
    "def fillna_fit_model(target, n_estimators, max_depth, path):\n",
    "    _trn = pd.read_csv(TRAIN_DATASET_PATH).drop(['Credit Default'],axis=1)\n",
    "    _tst = pd.read_csv(TEST_DATASET_PATH)\n",
    "    data = pd.concat([_trn,_tst], axis=0, ignore_index=True)\n",
    "    data.columns = SHORT_COLUMNS[:-1]\n",
    "\n",
    "    # подготовка данных\n",
    "    prep_outlier(data)\n",
    "    prep_fillna(data)\n",
    "    CAT_FEATS = obj_to_cat(data)\n",
    "    \n",
    "    # удаление наблюдений с пропусками в AI и CS\n",
    "    nan_index = data.loc[data[target].isna(), [target]].index\n",
    "    data = data.drop(index=nan_index)\n",
    "    \n",
    "    X = data.drop([target], axis=1)\n",
    "    y = data[target]\n",
    "    \n",
    "    X_train, X_valid, y_train, y_valid = train_test_split(X, y, shuffle=True, test_size=0.25, random_state=None)\n",
    "    \n",
    "    model = catb.CatBoostRegressor(cat_features = CAT_FEATS,                               \n",
    "                                   n_estimators=n_estimators, \n",
    "                                   max_depth=max_depth,\n",
    "                                   silent=True, \n",
    "                                   random_state=42)\n",
    "    \n",
    "    model.fit(X_train,y_train)\n",
    "    y_train_pred = model.predict(X_train)\n",
    "    y_valid_pred = model.predict(X_valid)\n",
    "    print(target, 'r2_train:',r2_score(y_train,y_train_pred).round(4))\n",
    "    print(target, 'r2_valid:',r2_score(y_valid,y_valid_pred).round(4))\n",
    "    \n",
    "    fin_model = catb.CatBoostRegressor(cat_features = CAT_FEATS,\n",
    "                                       n_estimators=n_estimators,\n",
    "                                       max_depth=max_depth,\n",
    "                                       silent=True,\n",
    "                                       random_state=42)\n",
    "    \n",
    "    fin_model.fit(X,y)\n",
    "    y_pred = fin_model.predict(X)\n",
    "    print(target, 'r2_fin:',r2_score(y,y_pred).round(4))\n",
    "    \n",
    "    with open(path, 'wb') as file:\n",
    "        pickle.dump(fin_model, file)\n",
    "\n",
    "fillna_fit_model('AI', n_estimators=450, max_depth=3, path=MODEL_AI_FILE_PATH)\n",
    "fillna_fit_model('CS', n_estimators=550, max_depth=3, path=MODEL_CS_FILE_PATH)"
   ]
  },
  {
   "cell_type": "markdown",
   "metadata": {},
   "source": [
    "Оценки полученных моделей\n",
    "\n",
    "* AI r2_train: 0.5475\n",
    "* AI r2_valid: 0.4375\n",
    "* AI r2_fin: 0.5328\n",
    "* CS r2_train: 0.4525\n",
    "* CS r2_valid: 0.325\n",
    "* CS r2_fin: 0.4363  \n",
    "\n",
    "Модели сохранены в файлы.\n",
    "Определим функцию для предсказания и заполнения пропусков"
   ]
  },
  {
   "cell_type": "code",
   "execution_count": 26,
   "metadata": {},
   "outputs": [],
   "source": [
    "def fillna_model(df, target, path):\n",
    "    with open(path, 'rb') as file:\n",
    "        model = pickle.load(file)\n",
    "    notna_index = df.loc[df[target].notna(), [target]].index\n",
    "    X = df.drop(index=notna_index)    \n",
    "    X = X.drop([target], axis=1)    \n",
    "    if df.loc[df[target].isna(), target].size:\n",
    "        df.loc[df[target].isna(), target] = model.predict(X)\n",
    "        \n",
    "\n",
    "fillna_model(df, 'AI', MODEL_AI_FILE_PATH)\n",
    "fillna_model(df, 'CS', MODEL_CS_FILE_PATH)"
   ]
  },
  {
   "cell_type": "markdown",
   "metadata": {},
   "source": [
    "Общая функция предобработки"
   ]
  },
  {
   "cell_type": "code",
   "execution_count": 27,
   "metadata": {},
   "outputs": [],
   "source": [
    "def prep_all_get_cats(df):\n",
    "    prep_outlier(df)\n",
    "    prep_fillna(df)\n",
    "    CAT_FEATS = obj_to_cat(df)\n",
    "    fillna_model(df, 'AI', MODEL_AI_FILE_PATH)\n",
    "    fillna_model(df, 'CS', MODEL_CS_FILE_PATH)\n",
    "    return CAT_FEATS"
   ]
  },
  {
   "cell_type": "markdown",
   "metadata": {},
   "source": [
    "## Подбор гиперпараметров"
   ]
  },
  {
   "cell_type": "code",
   "execution_count": 28,
   "metadata": {},
   "outputs": [],
   "source": [
    "def get_classification_report(y_train_true, y_train_pred, y_test_true, y_test_pred):\n",
    "    print('TRAIN\\n\\n' + classification_report(y_train_true, y_train_pred))\n",
    "    print('TEST\\n\\n' + classification_report(y_test_true, y_test_pred))\n",
    "    print('CONFUSION MATRIX\\n')\n",
    "    print(pd.crosstab(y_test_true, y_test_pred))"
   ]
  },
  {
   "cell_type": "raw",
   "metadata": {},
   "source": [
    "df = pd.read_csv(TRAIN_DATASET_PATH)\n",
    "df.columns = SHORT_COLUMNS\n",
    "\n",
    "CAT_FEATS = prep_all_get_cats(df)\n",
    "\n",
    "y = df['CD']\n",
    "X = df.copy().drop(['CD'],axis=1)"
   ]
  },
  {
   "cell_type": "raw",
   "metadata": {},
   "source": [
    "# Сетка параметров\n",
    "parameters = {\n",
    "    'l2_leaf_reg' : [2,4,6,10],\n",
    "    'n_estimators': [200,250,300,350,400,500],\n",
    "    'max_depth': [2,3,6,8]\n",
    "}\n",
    "\n",
    "scoring = {'F1':'f1', 'Prec':'precision', 'Rec':'recall'}\n",
    "\n",
    "clf = GridSearchCV(\n",
    "    estimator=catb.CatBoostClassifier(class_weights=[1, 2.56], cat_features=CAT_FEATS,silent=True),\n",
    "    param_grid=parameters,\n",
    "    scoring=scoring,\n",
    "    cv=3,\n",
    "    return_train_score = True,\n",
    "    refit = False\n",
    ")\n",
    "\n",
    "clf.fit(X, y)"
   ]
  },
  {
   "cell_type": "raw",
   "metadata": {},
   "source": [
    "cv_results = pd.DataFrame(clf.cv_results_)\n",
    "param_columns = [\n",
    "    column\n",
    "    for column in cv_results.columns\n",
    "    if column.startswith('param_')\n",
    "]\n",
    "\n",
    "score_train_columns = [\n",
    "    column\n",
    "    for column in cv_results.columns\n",
    "    if column.startswith('mean_train_')\n",
    "]\n",
    "\n",
    "score_test_columns = [\n",
    "    column\n",
    "    for column in cv_results.columns\n",
    "    if column.startswith('mean_test_')\n",
    "]\n",
    "\n",
    "cv_results = (cv_results[param_columns + score_train_columns + score_test_columns])\n",
    "cv_results.describe()"
   ]
  },
  {
   "cell_type": "raw",
   "metadata": {},
   "source": [
    "cv_results[(cv_results['mean_test_F1']>0.51)&(cv_results['mean_test_Prec']>0.41)]"
   ]
  },
  {
   "cell_type": "markdown",
   "metadata": {},
   "source": [
    "* param_l2_leaf_reg\t10\n",
    "* param_max_depth\t8\n",
    "* param_n_estimators\t300\n",
    "* mean_train_F1\t0.619004\n",
    "* mean_train_Prec\t0.504081\n",
    "* mean_train_Rec\t0.802177\n",
    "* mean_test_F1\t0.511374\n",
    "* mean_test_Prec\t0.415000\n",
    "* mean_test_Rec 0.666358\t\t\t\t\t\t\t"
   ]
  },
  {
   "cell_type": "markdown",
   "metadata": {},
   "source": [
    "## Валидация"
   ]
  },
  {
   "cell_type": "code",
   "execution_count": 29,
   "metadata": {
    "scrolled": false
   },
   "outputs": [
    {
     "name": "stdout",
     "output_type": "stream",
     "text": [
      "TRAIN\n",
      "\n",
      "              precision    recall  f1-score   support\n",
      "\n",
      "           0       0.89      0.72      0.79      4074\n",
      "           1       0.50      0.76      0.61      1551\n",
      "\n",
      "    accuracy                           0.73      5625\n",
      "   macro avg       0.70      0.74      0.70      5625\n",
      "weighted avg       0.78      0.73      0.74      5625\n",
      "\n",
      "TEST\n",
      "\n",
      "              precision    recall  f1-score   support\n",
      "\n",
      "           0       0.81      0.64      0.71      1313\n",
      "           1       0.44      0.65      0.52       562\n",
      "\n",
      "    accuracy                           0.64      1875\n",
      "   macro avg       0.62      0.65      0.62      1875\n",
      "weighted avg       0.70      0.64      0.66      1875\n",
      "\n",
      "CONFUSION MATRIX\n",
      "\n",
      "col_0    0    1\n",
      "CD             \n",
      "0      838  475\n",
      "1      194  368\n"
     ]
    }
   ],
   "source": [
    "df = pd.read_csv(TRAIN_DATASET_PATH)\n",
    "df.columns = SHORT_COLUMNS\n",
    "\n",
    "y = df['CD']\n",
    "X = df.copy().drop(['CD'],axis=1)\n",
    "\n",
    "X_train, X_test, y_train, y_test = train_test_split(X, y, shuffle=True, test_size=0.25, random_state=42)\n",
    "\n",
    "\n",
    "prep_all_get_cats(X_train)\n",
    "prep_all_get_cats(X_test)\n",
    "\n",
    "valid_model = catb.CatBoostClassifier( class_weights=[1,2.56],\n",
    "                                     cat_features = CAT_FEATS,\n",
    "                                     l2_leaf_reg = 10,\n",
    "                                     n_estimators=300, \n",
    "                                     max_depth=8, \n",
    "                                     silent=True, \n",
    "                                     random_state=4)\n",
    "\n",
    "valid_model.fit(X_train, y_train)\n",
    "\n",
    "y_train_pred = valid_model.predict(X_train)\n",
    "y_test_pred = valid_model.predict(X_test)\n",
    "y_test_pred_probs = valid_model.predict_proba(X_test)\n",
    "\n",
    "get_classification_report(y_train, y_train_pred, y_test, y_test_pred)"
   ]
  },
  {
   "cell_type": "markdown",
   "metadata": {},
   "source": [
    "Регулировка порога"
   ]
  },
  {
   "cell_type": "raw",
   "metadata": {},
   "source": [
    "# y_p = np.array(y_test_pred_probs[:,1]>0.56).astype('int')\n",
    "# get_classification_report(y_train,y_train_pred,y_test,y_p)"
   ]
  },
  {
   "cell_type": "markdown",
   "metadata": {},
   "source": [
    "## Финальная модель"
   ]
  },
  {
   "cell_type": "code",
   "execution_count": 30,
   "metadata": {},
   "outputs": [
    {
     "name": "stdout",
     "output_type": "stream",
     "text": [
      "              precision    recall  f1-score   support\n",
      "\n",
      "           0       0.89      0.65      0.75      5387\n",
      "           1       0.47      0.80      0.59      2113\n",
      "\n",
      "    accuracy                           0.69      7500\n",
      "   macro avg       0.68      0.73      0.67      7500\n",
      "weighted avg       0.78      0.69      0.71      7500\n",
      "\n"
     ]
    }
   ],
   "source": [
    "# тренировочные данные\n",
    "train_data = pd.read_csv(TRAIN_DATASET_PATH)\n",
    "train_data.columns = SHORT_COLUMNS\n",
    "y_train = train_data['CD']\n",
    "X_train = train_data.copy().drop(['CD'],axis=1)\n",
    "\n",
    "# тестовые данные\n",
    "X_test = pd.read_csv(TEST_DATASET_PATH)\n",
    "X_test.columns = SHORT_COLUMNS[:-1]\n",
    "\n",
    "# предобработка тренировочных и тестовых данных\n",
    "CAT_FEATS = prep_all_get_cats(X_train)\n",
    "prep_all_get_cats(X_test)\n",
    "\n",
    "# Финальная модель\n",
    "final_model = catb.CatBoostClassifier( class_weights=[1,2.55],\n",
    "                                     cat_features=CAT_FEATS,\n",
    "                                     l2_leaf_reg=10,\n",
    "                                     n_estimators=300, \n",
    "                                     max_depth=8, \n",
    "                                     silent=True, \n",
    "                                     random_state=4)\n",
    "\n",
    "final_model.fit(X_train, y_train)\n",
    "\n",
    "y_train_pred = final_model.predict(X_train)\n",
    "y_test_pred = final_model.predict(X_test)\n",
    "y_test_pred_probs = final_model.predict_proba(X_test)\n",
    "\n",
    "print(classification_report(y_train, y_train_pred))"
   ]
  },
  {
   "cell_type": "markdown",
   "metadata": {},
   "source": [
    "## Сохранение результата"
   ]
  },
  {
   "cell_type": "code",
   "execution_count": 31,
   "metadata": {},
   "outputs": [],
   "source": [
    "with open(MODEL_FILE_PATH, 'wb') as file:\n",
    "    pickle.dump(final_model, file)\n",
    "\n",
    "pd.Series(y_test_pred).to_csv('AChernenko_predictions.csv',index=None)"
   ]
  },
  {
   "cell_type": "markdown",
   "metadata": {},
   "source": [
    "#### Черновики"
   ]
  },
  {
   "cell_type": "raw",
   "metadata": {},
   "source": [
    "##BOX_COX - ничего не дает\n",
    "LOGNORM_FEATS = ['AI','NOA','YCH','MD', 'MOC', 'CCB', 'MD', 'CLA']\n",
    "\n",
    "from sklearn.preprocessing import PowerTransformer\n",
    "pt = PowerTransformer(method='box-cox')\n",
    "X_train[LOGNORM_FEATS] = pt.fit_transform(X_train[LOGNORM_FEATS])\n",
    "X_test[LOGNORM_FEATS] = pt.transform(X_test[LOGNORM_FEATS])\n",
    "\n",
    "NUM_FEATS = list(X.select_dtypes(include='float64').columns)\n",
    "\n",
    "# стандартизация\n",
    "scaler = StandardScaler(with_mean=False)\n",
    "X_train_num = scaler.fit_transform(X_train[NUM_FEATS])\n",
    "X_test_num = scaler.transform(X_test[NUM_FEATS])\n",
    "\n",
    "# понижение размерности\n",
    "pca = PCA(n_components=None, random_state=100)\n",
    "X_train_num = pca.fit_transform(X_train_num)  \n",
    "X_test_num = pca.transform(X_test_num)  \n",
    "\n",
    "# объединение обработанных числовых и категорийных призныков\n",
    "X_train = pd.concat([pd.DataFrame(X_train_num, index=y_train.index), X_train[CAT_FEATS]], axis=1)\n",
    "X_test = pd.concat([pd.DataFrame(X_test_num, index=y_test.index), X_test[CAT_FEATS]], axis=1)"
   ]
  },
  {
   "cell_type": "raw",
   "metadata": {},
   "source": [
    "def show_feature_importances(feature_names, feature_importances, get_top=None):\n",
    "    feature_importances = pd.DataFrame({'feature': feature_names, 'importance': feature_importances})\n",
    "    feature_importances = feature_importances.sort_values('importance', ascending=False)\n",
    "       \n",
    "    plt.figure(figsize = (20, len(feature_importances) * 0.355))\n",
    "    \n",
    "    sns.barplot(feature_importances['importance'], feature_importances['feature'])\n",
    "    \n",
    "    plt.xlabel('Importance')\n",
    "    plt.title('Importance of features')\n",
    "    plt.show()\n",
    "    \n",
    "    if get_top is not None:\n",
    "        return feature_importances['feature'][:get_top].tolist()\n",
    "\n",
    "    \n",
    "important_features_top = show_feature_importances(X_train.columns, model_catb.feature_importances_, get_top=15)"
   ]
  },
  {
   "cell_type": "raw",
   "metadata": {},
   "source": [
    "plt.figure(figsize = (15,10))\n",
    "\n",
    "sns.set(font_scale=1.4)\n",
    "sns.heatmap(df.corr().round(2),annot=True,cmap='RdYlGn',vmin=-1,vmax=1)"
   ]
  }
 ],
 "metadata": {
  "kernelspec": {
   "display_name": "Python 3",
   "language": "python",
   "name": "python3"
  },
  "language_info": {
   "codemirror_mode": {
    "name": "ipython",
    "version": 3
   },
   "file_extension": ".py",
   "mimetype": "text/x-python",
   "name": "python",
   "nbconvert_exporter": "python",
   "pygments_lexer": "ipython3",
   "version": "3.7.3"
  }
 },
 "nbformat": 4,
 "nbformat_minor": 4
}
