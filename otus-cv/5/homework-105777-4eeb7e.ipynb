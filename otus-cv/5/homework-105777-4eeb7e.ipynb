{
 "cells": [
  {
   "cell_type": "markdown",
   "metadata": {},
   "source": [
    "### Описание:\n",
    "Классифицировать игроков в каждом кадре по двум командам на основе цвета их формы.\n",
    "\n",
    "### Данные:\n",
    "Скачайте архив с данными [отсюда](https://disk.yandex.ru/d/NMlVHytktlzbEw) и распакуйте. Внутри архива лежит папка `frames` и файл `bboxes.json`. Файл `bboxes.json` содержит bounding boxes игроков двух команд, а в папке `frames` расположены соответствующие им изображения (кадры). Всего дано 100 кадров. Каждому кадру соответствует 10 bounding boxes игроков.\n",
    "\n",
    "Структура файла `bboxes.json` следующая:\n",
    "```\n",
    "frame_n: {\n",
    "     player_1: {\n",
    "             'box': [x,y,w,h],\n",
    "             'team': int\n",
    "     }\n",
    "     .....\n",
    "     plyaer_10: { .... }\n",
    "}\n",
    "....\n",
    "frame_n+k: { .... }\n",
    "```\n",
    "Здесь `frame_n` - номер кадра (ему соответствует файл с изображением в папке frames, всего 100),<br>\n",
    "`player_1` - id игрока в текущем кадре,<br>\n",
    "`'box': [x,y,w,h]` - bounding box соответствующего игрока (координаты нормализованы от 0 до 1, поэтому их нужно домножить на размеры изображения, чтобы перевести их в целые координаты фрейма),<br>\n",
    "`'team': int` - id команды к которой принадлежит игрок  в данном кадре (может принимать значения 0 или 1).\n",
    "Такм образом, id игроков и id команд имеют смысл только в пределах одного кадра и не связаны с другими кадрами. Т.е. в разных кадрах одному и тому же игроку / команде может соответствовать разные id.\n",
    "\n",
    "### Задачи:\n",
    "1) Классифицируйте игроков, используя в качестве вектора признаков игрока (features) средний цвет в пространстве RGB, который берется из области изображения, покрытой bounding box этого игрока (т.е. вектор признаков будет состоять из 3 элементов `[r,g,b]`.<br>\n",
    "2) Используйте в качестве вектора признаков игроков их средний цвет в пространстве HSV (аналогично вектор признаков `[h,s,v]`.<br>\n",
    "3) Используйте в качестве вектора признаков гистограмму в пространстве RGB, а не средний цвет. Число бинов определите самостоятельно.<br>\n",
    "4) Используйте в качестве вектора признаков гистограмму в пространстве HSV.\n",
    "\n",
    "### Как классифицировать:\n",
    "В качестве классификатора можете использовать:\n",
    "- Методы без обучения: k-means (на 2 кластера) или другие методы кластеризации.\n",
    "- Методы с обучением: K-Nearest Neighbors, RandomForest, GaussianNB или др.\n",
    "\n",
    "### Результаты:\n",
    "1. Посчитайте точность классификации для четырех задач и сравните результаты. \n",
    "2. Задание будет принято, если итоговая точность будет выше чем 0.5 (рекорд на данный момент - 0.82)"
   ]
  },
  {
   "cell_type": "code",
   "execution_count": 1,
   "metadata": {},
   "outputs": [],
   "source": [
    "import json\n",
    "from os.path import join, abspath, basename\n",
    "from glob import glob\n",
    "import cv2 as cv\n",
    "import numpy as np\n",
    "from matplotlib import pyplot as plt\n",
    "import matplotlib.patches as patches\n",
    "plt.rcParams['figure.figsize'] = [15, 10]"
   ]
  },
  {
   "cell_type": "markdown",
   "metadata": {},
   "source": [
    "сохраняем ббоксы и пути к фреймам"
   ]
  },
  {
   "cell_type": "code",
   "execution_count": 2,
   "metadata": {
    "scrolled": true
   },
   "outputs": [],
   "source": [
    "data_root = abspath('./team_classification_data/')\n",
    "bboxes_path = join(data_root, 'bboxes.json')\n",
    "frames_dir = join(data_root, 'frames')\n",
    "\n",
    "with open(bboxes_path, 'r') as file:\n",
    "    bboxes = json.load(file)\n",
    "    \n",
    "frames_paths = glob(join(frames_dir, '*.jpeg'))"
   ]
  },
  {
   "cell_type": "code",
   "execution_count": 3,
   "metadata": {},
   "outputs": [
    {
     "name": "stdout",
     "output_type": "stream",
     "text": [
      "img shape: (720, 1280, 3)\n"
     ]
    }
   ],
   "source": [
    "# Проверка, что все кадры имеют одинаковый размер\n",
    "shapes = set()\n",
    "for p in frames_paths:\n",
    "    img_bgr = cv.imread(p, cv.IMREAD_COLOR)\n",
    "    shapes.update([img_bgr.shape])\n",
    "\n",
    "assert len(shapes) == 1\n",
    "print('img shape:', img_bgr.shape)\n",
    "IMG_HEIGHT, IMG_WIDTH, _ = img_bgr.shape"
   ]
  },
  {
   "cell_type": "markdown",
   "metadata": {},
   "source": [
    "вспомогательные функции"
   ]
  },
  {
   "cell_type": "code",
   "execution_count": 4,
   "metadata": {},
   "outputs": [],
   "source": [
    "def get_bbox(box):\n",
    "    x,y,w,h = box\n",
    "    return (int(x*IMG_WIDTH + 0.5), \n",
    "            int(y*IMG_HEIGHT + 0.5), \n",
    "            int(w*IMG_WIDTH + 0.5), \n",
    "            int(h*IMG_HEIGHT + 0.5))\n",
    "\n",
    "def frame_id(path):\n",
    "    return basename(path).rstrip('.jpeg')\n",
    "\n",
    "def crop(img, xywh):\n",
    "    x,y,w,h = xywh\n",
    "    return img[y:y+h,x:x+w,:]\n",
    "\n",
    "def plot(img_path):\n",
    "    img_bgr = cv.imread(img_path, cv.IMREAD_COLOR)\n",
    "    fig, ax = plt.subplots()\n",
    "    ax.imshow(img_bgr[...,::-1])    \n",
    "    for player in bboxes[frame_id(img_path)].values(): \n",
    "        if player['team'] == 0:\n",
    "            x, y, w, h = bbox(player['box'])        \n",
    "            rect = patches.Rectangle((x, y), w, h, edgecolor='r', facecolor='none')        \n",
    "            ax.add_patch(rect)    \n",
    "    plt.show()\n",
    "\n",
    "def make_dataset(img_paths):    \n",
    "    images = []\n",
    "    ids = []\n",
    "    for img_path in img_paths:\n",
    "        img = cv.imread(img_path, cv.IMREAD_COLOR)\n",
    "        images.append(img)\n",
    "        ids.append(frame_id(img_path))\n",
    "        \n",
    "    features, labels = [], []    \n",
    "    for img, img_id in zip(images, ids):        \n",
    "        for player in bboxes[img_id].values():\n",
    "            player_img = crop(img, get_bbox(player['box']))\n",
    "            features.append(player_img)\n",
    "            labels.append(player['team'])\n",
    "        \n",
    "    return features, labels"
   ]
  },
  {
   "cell_type": "code",
   "execution_count": null,
   "metadata": {},
   "outputs": [],
   "source": [
    "plot(frames_paths[0])"
   ]
  },
  {
   "cell_type": "markdown",
   "metadata": {},
   "source": [
    "Специальный препроцессор, генерирующий из списка вырезанных по боксам картинок набор призников. Осуществляет препроцессинг: перевод в цветовое пространство, вычисление среднего по каналам или гистограмму, выравнивание гистограммы. Модель трансформера нужна для нормализации, чтоб только по обучающей выборке собираалсь статистика по среднему и ско, а применялась в трансформе. "
   ]
  },
  {
   "cell_type": "code",
   "execution_count": 5,
   "metadata": {},
   "outputs": [],
   "source": [
    "from sklearn.base import TransformerMixin, BaseEstimator\n",
    "\n",
    "class FeatureMaker(TransformerMixin, BaseEstimator):\n",
    "    \n",
    "    def __init__(self, equalizeHist=False, n_bins=256, hsv=False, norm=False, feature_extractor='means'):        \n",
    "        self.feature_extractor = feature_extractor            \n",
    "        self.norm = norm\n",
    "        self.hsv = hsv\n",
    "        self.n_bins = n_bins\n",
    "        self.equalizeHist = equalizeHist\n",
    "    \n",
    "    @staticmethod\n",
    "    def equalize_hist(img):\n",
    "        eq_img = [cv.equalizeHist(chanel) for chanel in np.rollaxis(img, 2)]\n",
    "        return np.stack(eq_img, axis=2)\n",
    "        \n",
    "    @staticmethod\n",
    "    def means(img):\n",
    "        return img.mean(axis=(0,1))\n",
    "    \n",
    "    @staticmethod\n",
    "    def hists(img, n_bins):\n",
    "        hists = []\n",
    "        for i in range(img.shape[2]):\n",
    "            hist = cv.calcHist([img],[i],None,[n_bins],[0,256])\n",
    "            hists.append(hist)\n",
    "        return np.array(hists).flatten()\n",
    "\n",
    "    def fit(self, X, y=None, **fit_params):\n",
    "        \n",
    "        new_X = []\n",
    "        for x in X:\n",
    "            if self.hsv:\n",
    "                x = cv.cvtColor(x, cv.COLOR_BGR2HSV)\n",
    "            \n",
    "            if self.equalizeHist :\n",
    "                x = self.equalize_hist(x)\n",
    "            \n",
    "            new_X.append(x)\n",
    "            \n",
    "        X = new_X\n",
    "                \n",
    "        if self.norm:\n",
    "            _x = np.hstack([x.reshape(-1,3).T for x in X])\n",
    "            self.mean = _x.mean(axis=1)\n",
    "            self.std = _x.std(axis=1)\n",
    "                              \n",
    "        return self\n",
    "                    \n",
    "    def transform(self, X, y=None, **fit_params):\n",
    "        features = []\n",
    "        \n",
    "        for x in X:\n",
    "            \n",
    "            if self.hsv:\n",
    "                x = cv.cvtColor(x, cv.COLOR_BGR2HSV)\n",
    "            \n",
    "            if self.equalizeHist:\n",
    "                x = self.equalize_hist(x)\n",
    "                \n",
    "            if self.norm:\n",
    "                x = (x - self.mean) / self.std\n",
    "                \n",
    "            if self.feature_extractor == 'means':\n",
    "                x = self.means(x)\n",
    "            elif self.feature_extractor == 'hists':\n",
    "                x = self.hists(x, self.n_bins)\n",
    "            else:\n",
    "                raise Exception('feature_extractor = means or hists')\n",
    "                \n",
    "            features.append(x)\n",
    "        \n",
    "        return features\n",
    "    \n",
    "        def fit_transform(self, X, y=None, **fit_params):\n",
    "            return self.fit(X).transform(X)"
   ]
  },
  {
   "cell_type": "code",
   "execution_count": 6,
   "metadata": {},
   "outputs": [],
   "source": [
    "from sklearn.ensemble import GradientBoostingClassifier\n",
    "from sklearn.ensemble import RandomForestClassifier\n",
    "from sklearn.pipeline import Pipeline, make_pipeline\n",
    "from sklearn.model_selection import train_test_split, StratifiedShuffleSplit, RandomizedSearchCV\n",
    "from sklearn.metrics import classification_report"
   ]
  },
  {
   "cell_type": "markdown",
   "metadata": {},
   "source": [
    "разделение выборок на трейн и тест. Трейн будет применен в кросс-валидации"
   ]
  },
  {
   "cell_type": "code",
   "execution_count": 7,
   "metadata": {},
   "outputs": [],
   "source": [
    "RANDOM_STATE = 1\n",
    "\n",
    "X,y = make_dataset(frames_paths)\n",
    "X_train, X_test, y_train, y_test = train_test_split(X, y, test_size=0.1, random_state=RANDOM_STATE, stratify=y)"
   ]
  },
  {
   "cell_type": "markdown",
   "metadata": {},
   "source": [
    "Простой пайплайн: препроцесоср и градиентный бустинг. Рандомизированный поиск лучших моделей по сетке параметров с применением кросс-валидации."
   ]
  },
  {
   "cell_type": "code",
   "execution_count": 8,
   "metadata": {
    "scrolled": false
   },
   "outputs": [
    {
     "name": "stderr",
     "output_type": "stream",
     "text": [
      "/usr/local/lib/python3.6/dist-packages/sklearn/model_selection/_search.py:925: UserWarning: One or more of the test scores are non-finite: [0.50777778 0.74888889 0.72333333 0.70444444        nan 0.78444444\n",
      " 0.72666667 0.66              nan 0.66              nan 0.65\n",
      " 0.69666667 0.70444444 0.69       0.68111111 0.69555556 0.79333333\n",
      "        nan        nan 0.69              nan 0.65222222        nan\n",
      " 0.84444444        nan        nan        nan        nan        nan\n",
      "        nan 0.65444444 0.65888889 0.80888889 0.65777778 0.75555556\n",
      " 0.7        0.70222222 0.60888889 0.70222222 0.65555556 0.77888889\n",
      " 0.7        0.80888889 0.68       0.69666667 0.73555556 0.71888889\n",
      " 0.68666667        nan 0.80333333        nan 0.69555556 0.70222222\n",
      " 0.68666667 0.69666667 0.83              nan 0.65444444 0.71333333\n",
      "        nan        nan 0.82222222 0.64444444 0.72333333 0.82777778\n",
      " 0.68444444 0.79       0.70111111 0.80111111        nan 0.67777778\n",
      "        nan 0.78              nan 0.78777778 0.69444444 0.81\n",
      " 0.65333333 0.69666667 0.65888889 0.70333333 0.73666667 0.84333333\n",
      " 0.79888889        nan        nan 0.79333333 0.70222222 0.70111111\n",
      " 0.65444444 0.79888889 0.7        0.65777778 0.70333333        nan\n",
      " 0.76111111 0.67              nan 0.70333333 0.69777778        nan\n",
      " 0.79444444 0.7        0.65111111        nan        nan 0.71444444\n",
      "        nan 0.7        0.70777778 0.77444444        nan 0.79222222\n",
      " 0.73333333 0.69888889 0.68222222 0.65666667        nan 0.80222222\n",
      " 0.65666667 0.69222222 0.65555556 0.83888889 0.84111111 0.77888889\n",
      " 0.81777778 0.78777778 0.70555556        nan 0.77555556 0.70444444\n",
      " 0.69333333        nan 0.78888889        nan        nan        nan\n",
      " 0.68333333 0.77666667        nan 0.71       0.70222222 0.69666667\n",
      " 0.83777778 0.66              nan        nan 0.71       0.79888889\n",
      " 0.70555556 0.69666667        nan 0.72333333        nan 0.69555556\n",
      " 0.72333333 0.79666667        nan        nan        nan 0.66888889\n",
      "        nan 0.72333333 0.68555556 0.69888889        nan 0.81444444\n",
      " 0.82222222        nan 0.70222222 0.67       0.64777778 0.71111111\n",
      " 0.78333333        nan 0.71888889 0.70111111 0.82666667 0.79222222\n",
      " 0.71       0.78333333 0.65              nan 0.69222222        nan\n",
      " 0.74333333 0.69444444        nan 0.64666667 0.82333333 0.78888889\n",
      " 0.71111111 0.75666667 0.73444444 0.69555556        nan        nan\n",
      "        nan        nan 0.70777778 0.76777778        nan        nan\n",
      " 0.65555556 0.68888889 0.78777778 0.81       0.69888889 0.85222222\n",
      " 0.65666667 0.69666667 0.69222222 0.64444444 0.65666667 0.65777778\n",
      " 0.80888889        nan 0.69777778        nan        nan 0.70222222\n",
      "        nan 0.75333333 0.65777778 0.84555556 0.74444444        nan\n",
      " 0.64444444 0.69666667 0.67666667        nan 0.70222222 0.65666667\n",
      "        nan 0.78666667 0.70666667 0.84666667 0.72333333        nan\n",
      " 0.69222222 0.70333333 0.7        0.77666667 0.81444444        nan\n",
      " 0.77555556 0.66111111        nan 0.70666667 0.79333333 0.76666667\n",
      "        nan 0.81555556        nan        nan 0.69888889 0.67777778\n",
      " 0.66222222        nan        nan        nan 0.69777778 0.74\n",
      " 0.64888889 0.65444444 0.7        0.81555556 0.65              nan\n",
      " 0.69888889 0.66777778 0.69888889 0.69666667 0.70555556 0.71111111\n",
      " 0.65888889        nan        nan        nan 0.85       0.81111111\n",
      " 0.72333333        nan        nan 0.51333333        nan 0.69888889\n",
      " 0.68555556 0.69888889 0.65222222 0.78222222 0.68222222 0.69888889\n",
      " 0.70111111 0.65222222        nan 0.65888889 0.69              nan\n",
      "        nan 0.66888889 0.72333333 0.7        0.60111111        nan\n",
      " 0.66       0.65555556 0.68111111 0.73333333 0.70777778 0.84\n",
      " 0.70222222 0.64       0.65222222 0.66777778 0.72333333 0.65666667\n",
      " 0.68666667 0.67444444 0.72666667 0.68              nan        nan\n",
      " 0.72333333 0.76555556 0.7        0.69666667 0.69666667 0.78888889\n",
      " 0.65444444 0.67555556        nan 0.69888889 0.69888889 0.85666667\n",
      " 0.65444444        nan        nan        nan 0.66555556        nan\n",
      " 0.7        0.64       0.75444444 0.72333333 0.82111111 0.85111111\n",
      " 0.70777778 0.71444444 0.72333333        nan        nan 0.72333333\n",
      "        nan 0.70555556 0.70555556 0.65222222 0.70222222 0.70666667\n",
      " 0.7        0.68666667 0.65222222 0.84444444 0.70777778        nan\n",
      " 0.66       0.66222222 0.67444444 0.69555556 0.72333333 0.72333333\n",
      "        nan 0.69222222 0.72111111 0.65222222        nan 0.73666667\n",
      " 0.72444444        nan        nan        nan        nan 0.84111111\n",
      " 0.75       0.66555556 0.65222222 0.65222222        nan 0.66333333\n",
      " 0.69555556        nan 0.63888889 0.65222222 0.68222222 0.66111111\n",
      " 0.82333333 0.73555556 0.70222222 0.65666667 0.80333333        nan\n",
      " 0.78666667        nan 0.72333333 0.80666667        nan        nan\n",
      "        nan 0.65888889 0.65555556 0.66              nan 0.69333333\n",
      "        nan        nan 0.70222222 0.65222222        nan 0.80777778\n",
      " 0.77888889 0.65777778        nan 0.81       0.70777778 0.69111111\n",
      " 0.70111111 0.69444444 0.72333333 0.69666667 0.79333333 0.70333333\n",
      " 0.79666667 0.70777778        nan 0.81888889        nan        nan\n",
      " 0.65555556 0.70666667 0.70777778 0.65       0.69777778        nan\n",
      " 0.69666667        nan 0.79111111 0.70777778        nan 0.85\n",
      " 0.68666667 0.65777778 0.65888889        nan 0.67333333        nan\n",
      "        nan 0.68333333 0.81111111 0.78222222 0.69888889 0.72333333\n",
      "        nan 0.75666667 0.83222222 0.79777778        nan        nan\n",
      " 0.66333333 0.70777778 0.72              nan 0.84888889 0.63888889\n",
      "        nan 0.70777778 0.69888889 0.78888889 0.71555556 0.64444444\n",
      " 0.65222222 0.7               nan 0.68333333 0.63777778 0.82\n",
      " 0.82111111 0.78111111        nan        nan 0.72444444        nan\n",
      "        nan 0.71              nan 0.71       0.69555556 0.69666667\n",
      "        nan 0.80111111]\n",
      "  category=UserWarning\n"
     ]
    },
    {
     "name": "stdout",
     "output_type": "stream",
     "text": [
      "Best parameter (CV score=0.857):\n",
      "{'preproc__norm': False, 'preproc__n_bins': 252, 'preproc__hsv': True, 'preproc__feature_extractor': 'hists', 'preproc__equalizeHist': False, 'model__n_estimators': 372, 'model__loss': 'deviance', 'model__learning_rate': 0.1}\n"
     ]
    }
   ],
   "source": [
    "preproc = FeatureMaker()\n",
    "model = GradientBoostingClassifier(n_iter_no_change=10, random_state=RANDOM_STATE)\n",
    "crossval = StratifiedShuffleSplit(n_splits=5, test_size=0.2, random_state=RANDOM_STATE)\n",
    "\n",
    "pipe = Pipeline(steps=[(\"preproc\", preproc), (\"model\", model)])\n",
    "\n",
    "param_grid = {\n",
    "    \"preproc__norm\": [True, False],\n",
    "    \"preproc__hsv\": [True, False],\n",
    "    \"preproc__n_bins\": (257 - np.logspace(3,0, 45)*0.255).astype(int),\n",
    "    \"preproc__equalizeHist\": [True, False],   \n",
    "    \"preproc__feature_extractor\": ['means', 'hists'],\n",
    "    \"model__loss\": ['deviance', 'exponential'],\n",
    "    \"model__learning_rate\": np.logspace(-1,-3, 15),\n",
    "    \"model__n_estimators\": np.logspace(1,3, 15).astype(int)\n",
    "}\n",
    "search = RandomizedSearchCV(pipe, param_grid, n_iter=500, n_jobs=-1, scoring='accuracy', refit=True, cv=crossval)\n",
    "search.fit(X_train, y_train)\n",
    "print(\"Best parameter (CV score=%0.3f):\" % search.best_score_)\n",
    "print(search.best_params_)"
   ]
  },
  {
   "cell_type": "code",
   "execution_count": 11,
   "metadata": {
    "scrolled": true
   },
   "outputs": [],
   "source": [
    "import pandas as pd\n",
    "from pprint import pprint\n",
    "\n",
    "cv_results = pd.DataFrame(search.cv_results_).sort_values('mean_test_score', ascending=False)"
   ]
  },
  {
   "cell_type": "code",
   "execution_count": 12,
   "metadata": {},
   "outputs": [],
   "source": [
    "means_res = cv_results.loc[:, \"param_preproc__feature_extractor\"] == 'means'\n",
    "hist_res = cv_results.loc[:, \"param_preproc__feature_extractor\"] == 'hists'\n",
    "bgr_res = cv_results.loc[:, \"param_preproc__hsv\"] == False\n",
    "hsv_res = cv_results.loc[:, \"param_preproc__hsv\"] == True"
   ]
  },
  {
   "cell_type": "markdown",
   "metadata": {},
   "source": [
    "Репорт на тесте"
   ]
  },
  {
   "cell_type": "code",
   "execution_count": 15,
   "metadata": {},
   "outputs": [],
   "source": [
    "def report(conditions, params=None):\n",
    "    mean_test_score = cv_results.loc[conditions]['mean_test_score'].iloc[0]\n",
    "    if params is None:\n",
    "        params = cv_results.loc[conditions]['params'].iloc[0]\n",
    "    print('mean_test_score:', mean_test_score)\n",
    "    print('\\nbest params:')\n",
    "    pprint(params)\n",
    "\n",
    "    pipe.set_params(**params) \n",
    "    pipe.fit(X_train, y_train)\n",
    "    y_pred = pipe.predict(X_test)\n",
    "    print('\\nTEST Classification report:\\n')\n",
    "    print(classification_report(y_test, y_pred))"
   ]
  },
  {
   "cell_type": "code",
   "execution_count": 16,
   "metadata": {},
   "outputs": [
    {
     "name": "stdout",
     "output_type": "stream",
     "text": [
      "mean_test_score: 0.7077777777777777\n",
      "\n",
      "best params:\n",
      "{'model__learning_rate': 0.0019306977288832496,\n",
      " 'model__loss': 'deviance',\n",
      " 'model__n_estimators': 51,\n",
      " 'preproc__equalizeHist': False,\n",
      " 'preproc__feature_extractor': 'means',\n",
      " 'preproc__hsv': False,\n",
      " 'preproc__n_bins': 256,\n",
      " 'preproc__norm': True}\n",
      "\n",
      "TEST Classification report:\n",
      "\n",
      "              precision    recall  f1-score   support\n",
      "\n",
      "           0       0.75      0.72      0.73        50\n",
      "           1       0.73      0.76      0.75        50\n",
      "\n",
      "    accuracy                           0.74       100\n",
      "   macro avg       0.74      0.74      0.74       100\n",
      "weighted avg       0.74      0.74      0.74       100\n",
      "\n"
     ]
    }
   ],
   "source": [
    "# 1) средний цвет в пространстве RGB\n",
    "report(bgr_res & means_res)"
   ]
  },
  {
   "cell_type": "code",
   "execution_count": 17,
   "metadata": {},
   "outputs": [
    {
     "name": "stdout",
     "output_type": "stream",
     "text": [
      "mean_test_score: 0.7266666666666668\n",
      "\n",
      "best params:\n",
      "{'model__learning_rate': 0.019306977288832506,\n",
      " 'model__loss': 'deviance',\n",
      " 'model__n_estimators': 26,\n",
      " 'preproc__equalizeHist': False,\n",
      " 'preproc__feature_extractor': 'means',\n",
      " 'preproc__hsv': True,\n",
      " 'preproc__n_bins': 218,\n",
      " 'preproc__norm': False}\n",
      "\n",
      "TEST Classification report:\n",
      "\n",
      "              precision    recall  f1-score   support\n",
      "\n",
      "           0       0.78      0.62      0.69        50\n",
      "           1       0.68      0.82      0.75        50\n",
      "\n",
      "    accuracy                           0.72       100\n",
      "   macro avg       0.73      0.72      0.72       100\n",
      "weighted avg       0.73      0.72      0.72       100\n",
      "\n"
     ]
    }
   ],
   "source": [
    "# 2) средний цвет в пространстве HSV (аналогично вектор признаков [h,s,v].\n",
    "report(hsv_res & means_res)"
   ]
  },
  {
   "cell_type": "code",
   "execution_count": 18,
   "metadata": {},
   "outputs": [
    {
     "name": "stdout",
     "output_type": "stream",
     "text": [
      "mean_test_score: 0.8322222222222221\n",
      "\n",
      "best params:\n",
      "{'model__learning_rate': 0.1,\n",
      " 'model__loss': 'exponential',\n",
      " 'model__n_estimators': 26,\n",
      " 'preproc__equalizeHist': False,\n",
      " 'preproc__feature_extractor': 'hists',\n",
      " 'preproc__hsv': False,\n",
      " 'preproc__n_bins': 253,\n",
      " 'preproc__norm': False}\n",
      "\n",
      "TEST Classification report:\n",
      "\n",
      "              precision    recall  f1-score   support\n",
      "\n",
      "           0       0.88      0.74      0.80        50\n",
      "           1       0.78      0.90      0.83        50\n",
      "\n",
      "    accuracy                           0.82       100\n",
      "   macro avg       0.83      0.82      0.82       100\n",
      "weighted avg       0.83      0.82      0.82       100\n",
      "\n"
     ]
    }
   ],
   "source": [
    "# 3) Используйте в качестве вектора признаков гистограмму в пространстве RGB, \n",
    "report(bgr_res & hist_res)"
   ]
  },
  {
   "cell_type": "code",
   "execution_count": 19,
   "metadata": {},
   "outputs": [
    {
     "name": "stdout",
     "output_type": "stream",
     "text": [
      "mean_test_score: 0.8566666666666667\n",
      "\n",
      "best params:\n",
      "{'model__learning_rate': 0.1,\n",
      " 'model__loss': 'deviance',\n",
      " 'model__n_estimators': 372,\n",
      " 'preproc__equalizeHist': False,\n",
      " 'preproc__feature_extractor': 'hists',\n",
      " 'preproc__hsv': True,\n",
      " 'preproc__n_bins': 252,\n",
      " 'preproc__norm': False}\n",
      "\n",
      "TEST Classification report:\n",
      "\n",
      "              precision    recall  f1-score   support\n",
      "\n",
      "           0       0.89      0.82      0.85        50\n",
      "           1       0.83      0.90      0.87        50\n",
      "\n",
      "    accuracy                           0.86       100\n",
      "   macro avg       0.86      0.86      0.86       100\n",
      "weighted avg       0.86      0.86      0.86       100\n",
      "\n"
     ]
    }
   ],
   "source": [
    "# 4) Используйте в качестве вектора признаков гистограмму в пространстве HSV.\n",
    "report(hsv_res & hist_res)"
   ]
  },
  {
   "cell_type": "markdown",
   "metadata": {},
   "source": [
    "# Результат\n",
    "\n",
    "### Наилучшая точность достигнута при использовании в качестве вектора признаков гистограммы в пространстве HSV\n",
    "\n",
    "# Accuracy 0.86\n",
    "\n",
    "* На сбалансированной тестовой выборке из 100 сэмплов."
   ]
  },
  {
   "cell_type": "code",
   "execution_count": null,
   "metadata": {},
   "outputs": [],
   "source": []
  }
 ],
 "metadata": {
  "kernelspec": {
   "display_name": "Python 3",
   "language": "python",
   "name": "python3"
  },
  "language_info": {
   "codemirror_mode": {
    "name": "ipython",
    "version": 3
   },
   "file_extension": ".py",
   "mimetype": "text/x-python",
   "name": "python",
   "nbconvert_exporter": "python",
   "pygments_lexer": "ipython3",
   "version": "3.6.9"
  }
 },
 "nbformat": 4,
 "nbformat_minor": 4
}
