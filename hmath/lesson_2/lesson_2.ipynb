{
 "cells": [
  {
   "cell_type": "code",
   "execution_count": 1,
   "metadata": {},
   "outputs": [],
   "source": [
    "import numpy as np"
   ]
  },
  {
   "cell_type": "markdown",
   "metadata": {},
   "source": [
    "# Задание 1"
   ]
  },
  {
   "cell_type": "markdown",
   "metadata": {},
   "source": [
    "Напишите уравнение параболы, проходящей через три точки (x,y): `(1,2)`, `(3,10)`, `(5,1)`.\n",
    "\n",
    "Парабола задается квадратичной функцией: $$y=ax^{2}+bx+c \\quad при \\quad a\\neq0$$\n",
    "\n",
    "Подставив данные точки в выражение, получим СЛАУ:\n",
    "\n",
    "$$\\left\\{\\begin{matrix}\n",
    "a+b+c=2\\\\ \n",
    "9a+3b+c=10\\\\ \n",
    "25a+5b+c=1\n",
    "\\end{matrix}\\right.$$\n",
    "\n",
    "### Решение с помощью обратной матрицы:"
   ]
  },
  {
   "cell_type": "code",
   "execution_count": 2,
   "metadata": {},
   "outputs": [
    {
     "name": "stdout",
     "output_type": "stream",
     "text": [
      "Матрица A:\n",
      "[[ 1  1  1]\n",
      " [ 9  3  1]\n",
      " [25  5  1]]\n"
     ]
    }
   ],
   "source": [
    "A = np.array([1,1,1,9,3,1,25,5,1]).reshape((3,3))\n",
    "print('Матрица A:')\n",
    "print(A)"
   ]
  },
  {
   "cell_type": "code",
   "execution_count": 3,
   "metadata": {},
   "outputs": [
    {
     "name": "stdout",
     "output_type": "stream",
     "text": [
      "Матрица B:\n",
      "[[ 2]\n",
      " [10]\n",
      " [ 1]]\n"
     ]
    }
   ],
   "source": [
    "B = np.array([2,10,1]).reshape((3,1))\n",
    "print('Матрица B:')\n",
    "print(B)"
   ]
  },
  {
   "cell_type": "code",
   "execution_count": 4,
   "metadata": {},
   "outputs": [
    {
     "data": {
      "text/plain": [
       "-16.000000000000007"
      ]
     },
     "execution_count": 4,
     "metadata": {},
     "output_type": "execute_result"
    }
   ],
   "source": [
    "np.linalg.det(A)"
   ]
  },
  {
   "cell_type": "code",
   "execution_count": 5,
   "metadata": {},
   "outputs": [
    {
     "name": "stdout",
     "output_type": "stream",
     "text": [
      "Матрица, обратная A:\n",
      "[[ 0.125 -0.25   0.125]\n",
      " [-1.     1.5   -0.5  ]\n",
      " [ 1.875 -1.25   0.375]]\n"
     ]
    }
   ],
   "source": [
    "inv_A = np.linalg.inv(A)\n",
    "print('Матрица, обратная A:')\n",
    "print(inv_A)"
   ]
  },
  {
   "cell_type": "code",
   "execution_count": 6,
   "metadata": {},
   "outputs": [
    {
     "data": {
      "text/plain": [
       "array([[-2.125],\n",
       "       [12.5  ],\n",
       "       [-8.375]])"
      ]
     },
     "execution_count": 6,
     "metadata": {},
     "output_type": "execute_result"
    }
   ],
   "source": [
    "X = np.dot(inv_A,B)\n",
    "X"
   ]
  },
  {
   "cell_type": "code",
   "execution_count": 7,
   "metadata": {},
   "outputs": [
    {
     "name": "stdout",
     "output_type": "stream",
     "text": [
      "a =  [-2.125]\n",
      "b =  [12.5]\n",
      "c =  [-8.375]\n"
     ]
    }
   ],
   "source": [
    "print('a = ', X[0])\n",
    "print('b = ', X[1])\n",
    "print('c = ', X[2])"
   ]
  },
  {
   "cell_type": "markdown",
   "metadata": {},
   "source": [
    "Проверка с помощью метода `linalg.solve`"
   ]
  },
  {
   "cell_type": "code",
   "execution_count": 8,
   "metadata": {},
   "outputs": [
    {
     "data": {
      "text/plain": [
       "array([[-2.125],\n",
       "       [12.5  ],\n",
       "       [-8.375]])"
      ]
     },
     "execution_count": 8,
     "metadata": {},
     "output_type": "execute_result"
    }
   ],
   "source": [
    "np.linalg.solve(A,B)"
   ]
  },
  {
   "cell_type": "markdown",
   "metadata": {},
   "source": [
    "### Ответ:\n",
    "Уравнение параболы:\n",
    "$$y=-2\\frac{1}{8}x^{2}+12\\frac{1}{2}x-8\\frac{3}{8}$$"
   ]
  },
  {
   "cell_type": "markdown",
   "metadata": {},
   "source": [
    "# Задание 2\n",
    "Известно, что свежий огурец на 99% состоит из воды. Месяц назад взвесили мешок со свежими огурцами. Получилось, что огурцов ровно 100 кг. Мешок убрали, а через месяц снова взвесили. Огурцы за это время усохли, и теперь вода составляет уже только 98% их веса. Сколько теперь (в кг) весят огурцы?"
   ]
  },
  {
   "cell_type": "markdown",
   "metadata": {},
   "source": [
    "### Решение через пропорции:\n",
    "Мешок 100 кг огурцов примем за 100% массы. Тогда `x` кг воды составляет 99% массы.\n",
    "\n",
    "$$\\left\\{\\begin{matrix}\n",
    "100\\rightarrow 100\\%\\\\ \n",
    "x\\rightarrow 99\\%\n",
    "\\end{matrix}\\right.$$\n",
    "\n",
    "$$x=\\frac{100\\cdot99}{100}=99$$\n",
    "\n",
    "Таким образом, масса воды в свежих огурцах составляет 99 кг."
   ]
  },
  {
   "cell_type": "markdown",
   "metadata": {},
   "source": [
    "Масса безводного вещества в огурцах постоянна, её можно выразить как $(100-x)$ кг.\n",
    "\n",
    "$$(100-99)=1$$\n",
    "\n",
    "Таким образом, масса безводного вещества в огурцах составляет 1 кг."
   ]
  },
  {
   "cell_type": "markdown",
   "metadata": {},
   "source": [
    "После усыхания `у` кг огурцов примем за 100% массы. Масса воды в огурцах будет равняться разности массы усохших огурцов и массы безводного вещества в огурцах и будет составлять 98% от всей массы.\n",
    "\n",
    "$$\\left\\{\\begin{matrix}\n",
    "y\\rightarrow 100\\%\\\\ \n",
    "(y-1)\\rightarrow 98\\%\n",
    "\\end{matrix}\\right.$$\n",
    "\n",
    "$$100(y-1)=98y$$\n",
    "\n",
    "$$2y=100$$\n",
    "\n",
    "$$y=50$$\n",
    "### Ответ:\n",
    "Таким образом, после усыхания огурцы имеют массу **50 кг**."
   ]
  },
  {
   "cell_type": "markdown",
   "metadata": {},
   "source": [
    "# Задание 3. \n",
    "### Определение логарифма. Решить уравнения:"
   ]
  },
  {
   "cell_type": "markdown",
   "metadata": {},
   "source": [
    "* 1) 8.0\n",
    "* 2) 8.228818690495881\n",
    "* 3) 2\n",
    "* 4) 4\n",
    "* 5) x1=1/9, x2=3"
   ]
  },
  {
   "cell_type": "markdown",
   "metadata": {},
   "source": [
    "# Задание 4. \n",
    "### Свойства логарифмов. Вычислить:\n"
   ]
  },
  {
   "cell_type": "markdown",
   "metadata": {},
   "source": [
    "* 6) 2.0\n",
    "* 7) -2.0\n",
    "* 8) 0.5\n",
    "* 9) 1.5\n",
    "* 10) 2.0\n",
    "* 11) 2.0\n",
    "* 12) 5\n",
    "* 13) 2.0\n",
    "* 14) 1.5\n",
    "* 15) 5"
   ]
  },
  {
   "cell_type": "code",
   "execution_count": null,
   "metadata": {},
   "outputs": [],
   "source": []
  }
 ],
 "metadata": {
  "kernelspec": {
   "display_name": "Python 3",
   "language": "python",
   "name": "python3"
  },
  "language_info": {
   "codemirror_mode": {
    "name": "ipython",
    "version": 3
   },
   "file_extension": ".py",
   "mimetype": "text/x-python",
   "name": "python",
   "nbconvert_exporter": "python",
   "pygments_lexer": "ipython3",
   "version": "3.7.3"
  }
 },
 "nbformat": 4,
 "nbformat_minor": 2
}
