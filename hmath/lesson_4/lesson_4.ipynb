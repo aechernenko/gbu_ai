{
 "cells": [
  {
   "cell_type": "markdown",
   "metadata": {},
   "source": [
    "# Урок 4"
   ]
  },
  {
   "cell_type": "code",
   "execution_count": 1,
   "metadata": {},
   "outputs": [],
   "source": [
    "import numpy as np\n",
    "from matplotlib import pyplot as plt\n",
    "%matplotlib inline"
   ]
  },
  {
   "cell_type": "markdown",
   "metadata": {},
   "source": [
    "### 1. Задание (на листочке)\n",
    "\n",
    "Решите уравнение sin(x)/x=0."
   ]
  },
  {
   "cell_type": "markdown",
   "metadata": {},
   "source": [
    "При `x ≠ 0` корни такие же как у `sin(x)=0`\n",
    "\n",
    "Предел `sin(x)/x` при `x→0` равен 1.\n",
    "\n",
    "**Ответ:** корни `x=π·N`, где `N = ±1,±2,±3,±4 ...` (целые, кроме нуля)"
   ]
  },
  {
   "cell_type": "markdown",
   "metadata": {},
   "source": [
    "### 2. Задание (на листочке)\n",
    "\n",
    "Даны три прямые \n",
    "* y=k1*x+b1, \n",
    "* y=k2*x+b2,\n",
    "* y=k3*x+b3. \n",
    "\n",
    "Как узнать, пересекаются они в одной точке или нет?\n",
    "\n",
    "**Ответ:** Должны одновременно выполняться условия:\n",
    "* коэффициенты k не должны быть равны между собой (иначе прямые с равными k будут паралельны)\n",
    "* коэффициенты k не должны быть равны между собой И коэффициенты b не должны быть равны между собой (иначе прямые будут совпадать)\n",
    "* выражение (b_i-b_j)/(k_j-k_i) при любых i,j = 1,2,3 и i ≠ j **дает одинаковый результат**"
   ]
  },
  {
   "cell_type": "markdown",
   "metadata": {},
   "source": [
    "### 3. Задание (в программе или на листочке)\n",
    "На листе тетради «в линейку» (расстояние между линиями равно а) лежит игла (длиной b). Координаты нижней точки иглы (х,у), игла лежит под углом alfa. Пересекает ли игла линию или нет?\n"
   ]
  },
  {
   "cell_type": "markdown",
   "metadata": {},
   "source": [
    "Игла пересекает линию, если хотя бы для одного `n` (где n = 0,1,2...N) выполняется неравенство `x <= a*n <= b*sin(alfa)` (1), иначе не пересекает. Так же есть более быстрая првоерка: игла пересекает линию, если `a < b*sin(alfa)` (2), но это условие определяет не все возможные случаи пересечения линии иглой. Однако на практике этот факт может быть полезен тем, что выражение `b*sin(alfa)` в любом случае необходимо рассчитывать, чтобы применить неравенство (1), но зато если неравенство (2) на промежуточном этапе даст истинный результат, то задача считается решенной, и не нужно проводить N циклов сравнений из неравенства (1) (N циклов в наихудшем случае, когда игла пересекает линию с порядковым номером N)."
   ]
  },
  {
   "cell_type": "code",
   "execution_count": 2,
   "metadata": {},
   "outputs": [
    {
     "name": "stdout",
     "output_type": "stream",
     "text": [
      "(a=1, b=2, x=1.3, N=10):\n",
      "alfa 45 градусов. Пересечение: True\n",
      "alfa 30 градусов. Пересечение: False\n"
     ]
    }
   ],
   "source": [
    "def cros(a=1, b=2, alfa=np.pi/4, x=1.3, N=10):\n",
    "    dx = b*np.sin(alfa)\n",
    "    if dx>a:\n",
    "        return True\n",
    "    for i in range(N):\n",
    "        if x <= a <= x+dx:\n",
    "            return True\n",
    "        else:\n",
    "            return False\n",
    "print('(a=1, b=2, x=1.3, N=10):')      \n",
    "print('alfa 45 градусов. Пересечение:',cros())\n",
    "print('alfa 30 градусов. Пересечение:',cros(alfa=np.pi/6))"
   ]
  },
  {
   "cell_type": "markdown",
   "metadata": {},
   "source": [
    "### 4. Задание** (задание делать по желанию)\n",
    "Решите аналитически и потом численно (в программе) уравнение, зависящее от параметра а: \n",
    "sin(а*x)=0\n",
    "при условии: 0.01<a<0.02, 100<х<500.\n",
    "Т.е. надо найти решение х как функцию параметра а - построить график x=x(а).\n",
    "Если численным методом не получается найти все ветви решения x(а), то отыщите хотя бы одну.\n"
   ]
  },
  {
   "cell_type": "code",
   "execution_count": 3,
   "metadata": {
    "scrolled": true
   },
   "outputs": [
    {
     "data": {
      "image/png": "[encoded data removed]",
      "text/plain": [
       "<Figure size 432x288 with 1 Axes>"
      ]
     },
     "metadata": {
      "needs_background": "light"
     },
     "output_type": "display_data"
    }
   ],
   "source": [
    "a = np.arange(0.01,0.02,0.0001)\n",
    "N=np.array(range(5))\n",
    "for n in N:\n",
    "    plt.plot(a,np.pi*n/a,label=f'N={n}')\n",
    "    \n",
    "plt.hlines((100,500),xmin=0.01, xmax=0.02,color='black')\n",
    "\n",
    "\n",
    "\n",
    "from scipy.optimize import fsolve\n",
    "from functools import partial\n",
    "\n",
    "def func(x,a):\n",
    "    return np.sin(a*x)\n",
    "\n",
    "# функция с помощью численного метода расчитывает точки и отображает на графике\n",
    "def ch_metod(f, start_x, m='x',lab=''):\n",
    "    x_a = np.array([])\n",
    "    A = np.arange(0.01,0.02,0.0003)\n",
    "    start = start_x\n",
    "    for a in A:\n",
    "        start = fsolve(partial(f,a),start)[0]\n",
    "        x_a = np.append(x_a, start)\n",
    "    A = A[x_a<500]\n",
    "    x_a = x_a[x_a<500]\n",
    "    plt.scatter(A,x_a,marker=m,label=lab)\n",
    "\n",
    "\n",
    "ch_metod(func, 200,lab='ветвь 1') \n",
    "ch_metod(func, 500, m='2',lab='ветвь 2')\n",
    "ch_metod(func, 900, m='o',lab='ветвь 3')\n",
    "\n",
    "\n",
    "plt.ylabel('x(a)')\n",
    "plt.xlabel('a')\n",
    "plt.ylim(0,1700)\n",
    "plt.legend()\n",
    "plt.grid(True)\n",
    "plt.show()"
   ]
  },
  {
   "cell_type": "markdown",
   "metadata": {},
   "source": [
    "`x(a)=πN/a`, где `N` - целое.\n",
    "\n",
    "Видно, что в заданном интервале `x`, имеется три ветви решения `x(a)`.\n",
    "\n",
    "Границы интервалов `a`, в которых наблюдается разное количество ветвей решений `x(a)` можно посчитать аналитически, используя график как подсказку. Первая граничная точка - пересечение `x=500` и `x(a) при N=2`, вторая `x=500` и `x(a) при N=3`.\n",
    "\n",
    "Решение:\n",
    "* при `(0.01 < a <= π/250]` `x = π/a`\n",
    "\n",
    "* при `(π/250 < a <= 3π/500]` `x1 = π/a`, `x2 = 2π/a`\n",
    "\n",
    "* при `(3π/500 < a < 0.02)` `x1 = π/a`, `x2 = 2π/a`, `x3 = 3π/a`\n",
    "\n",
    "Так же эти ветви были рассчитаны с применением численного метода."
   ]
  },
  {
   "cell_type": "markdown",
   "metadata": {},
   "source": [
    "### 17.6.2"
   ]
  },
  {
   "cell_type": "code",
   "execution_count": 4,
   "metadata": {},
   "outputs": [
    {
     "name": "stdout",
     "output_type": "stream",
     "text": [
      "45.0 градусов\n"
     ]
    }
   ],
   "source": [
    "k1 = 3/4\n",
    "k2 = -1/7\n",
    "alpha = np.arctan(abs((k1-k2)/(1+k1*k2)))\n",
    "print(alpha*180/np.pi,'градусов')"
   ]
  },
  {
   "cell_type": "markdown",
   "metadata": {},
   "source": [
    "### 17.6.4\n",
    "0 градусов\n",
    "### 17.6.5\n",
    "парабола\n",
    "### 17.6.6\n",
    "эллипс\n",
    "### 17.6.7\n",
    "гипербола\n",
    "### 17.6.8\n",
    "гипербола"
   ]
  }
 ],
 "metadata": {
  "kernelspec": {
   "display_name": "Python 3",
   "language": "python",
   "name": "python3"
  },
  "language_info": {
   "codemirror_mode": {
    "name": "ipython",
    "version": 3
   },
   "file_extension": ".py",
   "mimetype": "text/x-python",
   "name": "python",
   "nbconvert_exporter": "python",
   "pygments_lexer": "ipython3",
   "version": "3.7.3"
  }
 },
 "nbformat": 4,
 "nbformat_minor": 2
}
