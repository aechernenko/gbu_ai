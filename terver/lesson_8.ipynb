{
 "cells": [
  {
   "cell_type": "markdown",
   "metadata": {},
   "source": [
    "# Урок 8\n",
    "## Двухфакторный дисперсионный анализ. Факторный анализ. Логистическая регрессия\n",
    "### Домашнее задание"
   ]
  },
  {
   "cell_type": "code",
   "execution_count": 1,
   "metadata": {},
   "outputs": [],
   "source": [
    "import numpy as np\n",
    "from scipy import stats"
   ]
  },
  {
   "cell_type": "markdown",
   "metadata": {},
   "source": [
    "### Задача 1\n",
    "\n",
    "Объясняемая переменная y зависит от двух категориальных факторов A и B, причём фактор A имеет 3 уровня, а фактор B - 4 уровня. Результаты наблюдений приведены в таблице:\n",
    "\n",
    "    y = [[2.68, 3.29, 2.88, 4.45],\n",
    "         [4.12, 4.96, 5.09, 5.22],\n",
    "         [5.52, 4.50, 5.42, 5.29]]\n",
    "С помощью двухфакторного дисперсионного анализа проверьте влияние каждого из факторов на переменную y."
   ]
  },
  {
   "cell_type": "code",
   "execution_count": 2,
   "metadata": {},
   "outputs": [
    {
     "data": {
      "text/plain": [
       "(True, False)"
      ]
     },
     "execution_count": 2,
     "metadata": {},
     "output_type": "execute_result"
    }
   ],
   "source": [
    "y = [[2.68, 3.29, 2.88, 4.45],\n",
    "     [4.12, 4.96, 5.09, 5.22],\n",
    "     [5.52, 4.50, 5.42, 5.29]]\n",
    "y = np.array(y)\n",
    "\n",
    "m, k = y.shape\n",
    "n = y.size\n",
    "\n",
    "sqSA = k * sum((y.mean(axis=1)-y.mean())**2)\n",
    "sqSB = m * sum((y.mean(axis=0)-y.mean())**2)\n",
    "\n",
    "sqSres = 0\n",
    "for i in range(m):\n",
    "    for j in range(k):\n",
    "        sqSres += (y[i,j] - y[i,:].mean() - y[:,j].mean() + y.mean())**2\n",
    "\n",
    "sqSigA = sqSA / (m-1)\n",
    "sqSigB = sqSB / (k-1)\n",
    "sqSigRes = sqSres/ ((k-1)*(m-1))\n",
    "\n",
    "TA = sqSigA/sqSigRes\n",
    "TB = sqSigB/sqSigRes\n",
    "\n",
    "alpha = 0.05\n",
    "F_critA = stats.f.ppf(1 - alpha, m-1, n-m)\n",
    "F_critB = stats.f.ppf(1 - alpha, k-1, n-k)\n",
    "\n",
    "TA > F_critA, TB > F_critB"
   ]
  },
  {
   "cell_type": "markdown",
   "metadata": {},
   "source": [
    "Фактор А влияет, гипотеза о равенстве средних по уровням отвергается\n",
    "\n",
    "Фактор В не влияет, гипотеза о равенстве средних по уровням принимается"
   ]
  },
  {
   "cell_type": "markdown",
   "metadata": {},
   "source": [
    "### Задача 2\n",
    "\n",
    "С помощью критерия Стьюдента для двух независимых выборок проверьте гипотезу о равенстве среднего роста футболистов и хоккеистов, основываясь на результатах измерений:\n",
    "\n",
    "football_players = [173, 175, 180, 178, 177, 185, 183, 182]\n",
    "\n",
    "hockey_players = [177, 179, 180, 188, 177, 172, 171, 184, 180]"
   ]
  },
  {
   "cell_type": "code",
   "execution_count": 3,
   "metadata": {},
   "outputs": [
    {
     "name": "stdout",
     "output_type": "stream",
     "text": [
      "Результат теста, Т = 0.44\n",
      "Критическая область: (-inf, -2.13) U (2.13, +inf)\n",
      "гипотеза ПРИНИМАЕТСЯ\n"
     ]
    }
   ],
   "source": [
    "fp = np.array([173, 175, 180, 178, 177, 185, 183, 182])\n",
    "hp = np.array([177, 179, 180, 188, 177, 172, 171, 184, 180])\n",
    "std_fp = fp.std(ddof=1)\n",
    "std_hp = hp.std(ddof=1)\n",
    "n_fp = fp.size\n",
    "n_hp = hp.size\n",
    "alpha = 0.05\n",
    "T = (fp.mean()-hp.mean())/np.sqrt((std_fp/n_fp)+(std_hp/n_hp))\n",
    "t = stats.t.ppf(1-alpha/2, df=n_fp+n_hp-2)\n",
    "print('Результат теста, Т =', T.round(2))\n",
    "print(f'Критическая область: (-inf, {-t.round(2)}) U ({t.round(2)}, +inf)')\n",
    "print('гипотеза ПРИНИМАЕТСЯ') if (-t < T < t) else print('гипотеза ОТВЕРГАЕТСЯ')"
   ]
  },
  {
   "cell_type": "code",
   "execution_count": null,
   "metadata": {},
   "outputs": [],
   "source": []
  }
 ],
 "metadata": {
  "kernelspec": {
   "display_name": "Python 3",
   "language": "python",
   "name": "python3"
  },
  "language_info": {
   "codemirror_mode": {
    "name": "ipython",
    "version": 3
   },
   "file_extension": ".py",
   "mimetype": "text/x-python",
   "name": "python",
   "nbconvert_exporter": "python",
   "pygments_lexer": "ipython3",
   "version": "3.7.3"
  }
 },
 "nbformat": 4,
 "nbformat_minor": 4
}
