{
 "cells": [
  {
   "cell_type": "markdown",
   "metadata": {},
   "source": [
    "# Урок 2\n",
    "## Дискретные случайные величины. Закон распределения вероятностей. Биномиальный закон распределения. Распределение Пуассона\n",
    "### Домашнее задание"
   ]
  },
  {
   "cell_type": "code",
   "execution_count": 1,
   "metadata": {},
   "outputs": [],
   "source": [
    "import numpy as np"
   ]
  },
  {
   "cell_type": "markdown",
   "metadata": {},
   "source": [
    "### Задача 1\n",
    "\n",
    "Контрольная работа состоит из пяти вопросов. На каждый вопрос приведено четыре варианта ответа, один из которых правильный. Составьте закон распределения числа правильных ответов при простом угадывании. Найдите M(X), D(X)."
   ]
  },
  {
   "cell_type": "markdown",
   "metadata": {},
   "source": [
    "* X - число правильных ответов (шесть вариантов исхода - от нуля до пяти).\n",
    "* Вероятность угадать правильный ответ `0.25`.\n",
    "\n",
    "Посчитаем распределение числа правильных ответов при простом угадывании пяти вопросов. \n",
    "\n",
    "Возможные значения такой случайной величины: $x_1 = 0$, $x_2 = 1$, $x_3 = 2$, $x_4 = 3$, $x_5 = 4$, $x_6 = 5$.\n",
    "\n",
    "Посчитаем вероятность каждого значения по формуле Берунлли и получим закон распределения такой случайной величины и его параметры:"
   ]
  },
  {
   "cell_type": "code",
   "execution_count": 2,
   "metadata": {},
   "outputs": [
    {
     "name": "stdout",
     "output_type": "stream",
     "text": [
      "P(X=0) = 0.178\n",
      "P(X=1) = 0.356\n",
      "P(X=2) = 0.297\n",
      "P(X=3) = 0.132\n",
      "P(X=4) = 0.033\n",
      "P(X=5) = 0.004\n",
      "Сумма: 1.0\n",
      "M(X) = np = 1.5\n",
      "D(X) = np(1-p) =  1.125\n"
     ]
    }
   ],
   "source": [
    "def bernulli(n,k,p):\n",
    "    return (np.math.factorial(n) // (np.math.factorial(k) * np.math.factorial(n - k))) * (p**k) * ((1-p)**(n-k))\n",
    "\n",
    "\n",
    "n = 6\n",
    "p = 0.25\n",
    "summ = 0\n",
    "\n",
    "for k in range(n):\n",
    "    p_x = round(bernulli(n,k,p),3)\n",
    "    summ += p_x\n",
    "    print(f'P(X={k}) = {p_x}')\n",
    "    \n",
    "print(\"Сумма:\", summ)\n",
    "print(f\"M(X) = np = {n*p}\")\n",
    "print(f\"D(X) = np(1-p) =  {n*p*(1-p)}\")"
   ]
  },
  {
   "cell_type": "markdown",
   "metadata": {},
   "source": [
    "### Задача 2\n",
    "\n",
    "Вероятность попадания в цель при одном выстреле равна 0.01. Какова вероятность того, что число попаданий при 200 выстрелах будет не менее 5 и не более 10?"
   ]
  },
  {
   "cell_type": "markdown",
   "metadata": {},
   "source": [
    "Случайная величина - число попаданий при 200 выстрелах. Может принимать значения от 0 до 200 (всего 201 вариантов исхода)."
   ]
  },
  {
   "cell_type": "code",
   "execution_count": 3,
   "metadata": {},
   "outputs": [
    {
     "name": "stdout",
     "output_type": "stream",
     "text": [
      "Искомая вероятность: 0.0526\n"
     ]
    }
   ],
   "source": [
    "n = 201\n",
    "p = 0.01\n",
    "prob = 0\n",
    "\n",
    "for k in range(5,11):\n",
    "    prob += bernulli(n,k,p)\n",
    "    \n",
    "print(\"Искомая вероятность:\", round(prob,4))    "
   ]
  },
  {
   "cell_type": "markdown",
   "metadata": {},
   "source": [
    "### Задача 3\n",
    "\n",
    "В условиях предыдущей задачи сколько выстрелов нужно сделать чтобы быть уверенным с вероятностью 0.9, что хотя бы 10 раз будет совершено попадание?\n",
    "\n",
    "Подсказка. Как посчитать P(X >= k) для величины X, имеющей распределение Пуассона? Здесь предстоит немножко покодить."
   ]
  },
  {
   "cell_type": "code",
   "execution_count": 4,
   "metadata": {},
   "outputs": [],
   "source": [
    "def binomial_to_poisson(n,k,p):\n",
    "    return ((n*p)**k)*np.exp(-n*p)/np.math.factorial(k)"
   ]
  },
  {
   "cell_type": "markdown",
   "metadata": {},
   "source": [
    "__Далее приведены алгоритмы посика минимального количества выстрелов в испытании, когда с вероятностью не более 0.1 будет реализовано менее 10 попаданий.__\n",
    "### алгоритм с помощью формулы Бернулли"
   ]
  },
  {
   "cell_type": "code",
   "execution_count": 5,
   "metadata": {},
   "outputs": [
    {
     "name": "stdout",
     "output_type": "stream",
     "text": [
      "Wall time: 1.13 s\n"
     ]
    }
   ],
   "source": [
    "%%time\n",
    "\n",
    "n = 10  # начальное значение количества выстрелов в испытании\n",
    "p_sum = 1  # вспомогательная переменная\n",
    "\n",
    "while(p_sum > 0.1):\n",
    "    n += 1\n",
    "    p_sum = 0\n",
    "    for k in range(10):\n",
    "        p_sum += bernulli(n,k,0.01)"
   ]
  },
  {
   "cell_type": "code",
   "execution_count": 6,
   "metadata": {},
   "outputs": [
    {
     "name": "stdout",
     "output_type": "stream",
     "text": [
      "Bernulli:\n",
      "Количество выстрелов: 1418\n",
      "Вероятность реализации хотя бы 10 попаданий = 0.9000040527998662\n"
     ]
    }
   ],
   "source": [
    "print('Bernulli:')\n",
    "print(f'Количество выстрелов: {n}')\n",
    "print(f'Вероятность реализации хотя бы 10 попаданий = {1-p_sum}')"
   ]
  },
  {
   "cell_type": "markdown",
   "metadata": {},
   "source": [
    "### алгоритм с помощью распределения Пуассона с коэффициентом a = pn"
   ]
  },
  {
   "cell_type": "code",
   "execution_count": 7,
   "metadata": {},
   "outputs": [
    {
     "name": "stdout",
     "output_type": "stream",
     "text": [
      "Wall time: 59.8 ms\n"
     ]
    }
   ],
   "source": [
    "%%time\n",
    "\n",
    "n = 10  # начальное значение количества выстрелов в испытании\n",
    "p_sum = 1  # вспомогательная переменная\n",
    "while(p_sum > 0.1):\n",
    "    n += 1\n",
    "    p_sum = 0\n",
    "    for k in range(10):\n",
    "        p_sum += binomial_to_poisson(n,k,0.01)"
   ]
  },
  {
   "cell_type": "code",
   "execution_count": 8,
   "metadata": {},
   "outputs": [
    {
     "name": "stdout",
     "output_type": "stream",
     "text": [
      "Poisson:\n",
      "Количество выстрелов: 1421\n",
      "Вероятность реализации хотя бы 10 попаданий = 0.9001760722984115\n"
     ]
    }
   ],
   "source": [
    "print('Poisson:')\n",
    "print(f'Количество выстрелов: {n}')\n",
    "print(f'Вероятность реализации хотя бы 10 попаданий = {1-p_sum}')"
   ]
  },
  {
   "cell_type": "markdown",
   "metadata": {},
   "source": [
    "#### Выводы:\n",
    "* Точное решение дает алгоритм с формулой Бернулли: __1418 выстрелов__\n",
    "* Результаты алгоритмов различаются с некоторой небольшой погрешностью, так как распределение Пуассона является предельным случаем биномиального.\n",
    "* Алгоритм с распределением Пуассона гораздо быстрее (~ в 20 раз)"
   ]
  },
  {
   "cell_type": "code",
   "execution_count": null,
   "metadata": {},
   "outputs": [],
   "source": []
  }
 ],
 "metadata": {
  "kernelspec": {
   "display_name": "Python 3",
   "language": "python",
   "name": "python3"
  },
  "language_info": {
   "codemirror_mode": {
    "name": "ipython",
    "version": 3
   },
   "file_extension": ".py",
   "mimetype": "text/x-python",
   "name": "python",
   "nbconvert_exporter": "python",
   "pygments_lexer": "ipython3",
   "version": "3.7.3"
  }
 },
 "nbformat": 4,
 "nbformat_minor": 2
}
