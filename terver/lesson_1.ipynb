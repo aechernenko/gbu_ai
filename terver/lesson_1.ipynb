{
 "cells": [
  {
   "cell_type": "markdown",
   "metadata": {},
   "source": [
    "# Урок 1\n",
    "## Случайные события. Условная вероятность. Формула Байеса. Независимые испытания\n",
    "### Домашнее задание"
   ]
  },
  {
   "cell_type": "code",
   "execution_count": 1,
   "metadata": {},
   "outputs": [],
   "source": [
    "import numpy as np\n",
    "\n",
    "\n",
    "def arrangements(n: int, k: int) -> int:\n",
    "    \"\"\"Число размещений.\n",
    "    \"\"\"\n",
    "    \n",
    "    return np.math.factorial(n) // np.math.factorial(n - k)\n",
    "\n",
    "\n",
    "def permutations(n: int) -> int:\n",
    "    \"\"\"Число перестановок.\n",
    "    \"\"\"\n",
    "    \n",
    "    return np.math.factorial(n)\n",
    "\n",
    "\n",
    "def combinations(n: int, k: int) -> int:\n",
    "    \"\"\"Число сочетаний.\n",
    "    \"\"\"\n",
    "    \n",
    "    return np.math.factorial(n) // (np.math.factorial(k) * np.math.factorial(n - k))"
   ]
  },
  {
   "cell_type": "markdown",
   "metadata": {},
   "source": [
    "### Задача 1\n",
    "Из колоды в 52 карты вынимают случайным образом 4 карты. Найти число исходов, соответствующих тому, что был вытянут хотя бы один туз."
   ]
  },
  {
   "cell_type": "markdown",
   "metadata": {},
   "source": [
    "`a` - число исходов, когда из колоды без тузов выбраны 4 карты\n",
    "\n",
    "`b` - число исходов, когда вытянуты 4 карты из полной колоды\n",
    "\n",
    "`b-a` - число исходов, соответствующих тому, что был вытянут хотя бы один туз."
   ]
  },
  {
   "cell_type": "code",
   "execution_count": 2,
   "metadata": {},
   "outputs": [
    {
     "data": {
      "text/plain": [
       "76145"
      ]
     },
     "execution_count": 2,
     "metadata": {},
     "output_type": "execute_result"
    }
   ],
   "source": [
    "a = combinations(48,4)\n",
    "b = combinations(52,4)\n",
    "b-a"
   ]
  },
  {
   "cell_type": "markdown",
   "metadata": {},
   "source": [
    "#### Ответ: 76145 исходов"
   ]
  },
  {
   "cell_type": "markdown",
   "metadata": {},
   "source": [
    "### Задача 2\n",
    "Семь человек рассаживаются наудачу на скамейке. Какова вероятность того, что рядом будут сидеть: \n",
    "\n",
    "а) два определённых человека? \n",
    "\n",
    "б) три определённых человека?"
   ]
  },
  {
   "cell_type": "markdown",
   "metadata": {},
   "source": [
    "а) Всего существует 6 пар соседних мест, итого 2 определенных человека могут сидеть рядом дург с другом 12-ю способами. Количество всех возможных рассадок людей на лавке - размещения 7 элементов.\n",
    "\n",
    "Соответственно вероятность:"
   ]
  },
  {
   "cell_type": "code",
   "execution_count": 3,
   "metadata": {},
   "outputs": [
    {
     "data": {
      "text/plain": [
       "0.002380952380952381"
      ]
     },
     "execution_count": 3,
     "metadata": {},
     "output_type": "execute_result"
    }
   ],
   "source": [
    "12/permutations(7)"
   ]
  },
  {
   "cell_type": "markdown",
   "metadata": {},
   "source": [
    "б) По аналогии с примером (а) всего существует 5 троек соседних мест, итого 3 определенных человека могут сидеть рядом дург с другом количеством способов, определяемым как размещение трех элементов умноженное на 5. Количество всех возможных рассадок людей на лавке - размещения 7 элементов.\n",
    "\n",
    "Соответственно вероятность:"
   ]
  },
  {
   "cell_type": "code",
   "execution_count": 4,
   "metadata": {},
   "outputs": [
    {
     "data": {
      "text/plain": [
       "0.005952380952380952"
      ]
     },
     "execution_count": 4,
     "metadata": {},
     "output_type": "execute_result"
    }
   ],
   "source": [
    "5*permutations(3)/permutations(7)"
   ]
  },
  {
   "cell_type": "markdown",
   "metadata": {},
   "source": [
    "### Задача 3\n",
    "Из 60 вопросов, входящих в экзаменационные билеты, студент знает 50. \n",
    "\n",
    "Какова вероятность того, что среди трёх наугад выбранных вопросов студент знает: \n",
    "\n",
    "а) все? \n",
    "\n",
    "б) два?"
   ]
  },
  {
   "cell_type": "markdown",
   "metadata": {},
   "source": [
    "а)\n",
    "\n",
    "Количество исходов, когда все выбраные вопросы студент знает - сочетание из 3 по 50.\n",
    "\n",
    "Количество всех возможных исходов выбора трех вопросов - сочетание из 3 по 60.\n",
    "\n",
    "Вероятность:"
   ]
  },
  {
   "cell_type": "code",
   "execution_count": 5,
   "metadata": {
    "scrolled": false
   },
   "outputs": [
    {
     "data": {
      "text/plain": [
       "0.5727644652250146"
      ]
     },
     "execution_count": 5,
     "metadata": {},
     "output_type": "execute_result"
    }
   ],
   "source": [
    "combinations(50,3)/combinations(60,3)"
   ]
  },
  {
   "cell_type": "markdown",
   "metadata": {},
   "source": [
    "Или произведение вероятностей последовательного вытягивания трех правильных вопросов."
   ]
  },
  {
   "cell_type": "code",
   "execution_count": 6,
   "metadata": {},
   "outputs": [
    {
     "data": {
      "text/plain": [
       "0.5727644652250146"
      ]
     },
     "execution_count": 6,
     "metadata": {},
     "output_type": "execute_result"
    }
   ],
   "source": [
    "(50/60)*(49/59)*(48/58)"
   ]
  },
  {
   "cell_type": "markdown",
   "metadata": {},
   "source": [
    "б)\n",
    "\n",
    "Количество исходов, когда вытянуты два известных вопроса - сочетание 2 из 50.\n",
    "\n",
    "Количество исходов, когда вытянут один неизвестный вопрос - сочетание 1 из 10 (очевидно 10)\n",
    "\n",
    "Количество исходов, когда из трех вытянуты два известных - перемножение вышеприведенных данных, то есть сочетание 2 из 50 умножить на 10\n",
    "\n",
    "Далее получаем вероятность по аналогии с примером (а)"
   ]
  },
  {
   "cell_type": "code",
   "execution_count": 7,
   "metadata": {},
   "outputs": [
    {
     "data": {
      "text/plain": [
       "0.35797779076563413"
      ]
     },
     "execution_count": 7,
     "metadata": {},
     "output_type": "execute_result"
    }
   ],
   "source": [
    "combinations(50,2)*10/combinations(60,3)"
   ]
  },
  {
   "cell_type": "markdown",
   "metadata": {},
   "source": [
    "### Задача 4\n",
    "Бросается игральная кость. Пусть событие A - появление чётного числа, событие B - появление числа больше трёх. Являются ли эти события независимыми?\n",
    "\n",
    "P(A) = P(B) = 1/2\n",
    "\n",
    "P(AB) = 2/6 = 1/3\n",
    "\n",
    "P(A|B) = P(AB)/P(A) = (1/3) / (1/2) = 2/3\n",
    "\n",
    "P(A|B) не равно P(A), значит A и B - зависимые события. Действительно, если известно, что выпало число больше трех, значит это 4,5 или 6. Из этой тройки чисел - два нечетны, и только одно четно. То есть при условии B вероятность выпадения четного повышается."
   ]
  },
  {
   "cell_type": "markdown",
   "metadata": {},
   "source": [
    "### Задача 5\n",
    "Допустим, имеется некоторая очень редкая болезнь (поражает 0.1% населения). Вы приходите к врачу, вам делают тест на эту болезнь, и тест оказывается положительным. Врач говорит вам, что этот тест верно выявляет 99% больных этой болезнью и всего лишь в 1% случаев даёт ложный положительный ответ.\n",
    "Вопрос: какова вероятность, что вы действительно больны ей?\n",
    "Подсказка: вновь используйте формулу Байеса с раскрытием знаменателя с помощью формулы полной вероятности."
   ]
  },
  {
   "cell_type": "markdown",
   "metadata": {},
   "source": [
    "Дано: \n",
    "\n",
    "A - результат теста положителен\n",
    "\n",
    "В - болен\n",
    "\n",
    "Р(A|B) = 0.99 (тест положителен, при условии реального нличия болезни)\n",
    "\n",
    "P(A|~B) = 0.01 (тест положителен, при условии отсутствия болезни)\n",
    "\n",
    "P(B) = 0.001"
   ]
  },
  {
   "cell_type": "code",
   "execution_count": 8,
   "metadata": {},
   "outputs": [],
   "source": [
    "P_A_if_B = 0.99\n",
    "P_A_if_not_B = 0.01\n",
    "P_B = 0.001"
   ]
  },
  {
   "cell_type": "markdown",
   "metadata": {},
   "source": [
    "По формуле полной вероятности: P(A) = P(A|B) * P(B) + P(A|~B) * (1 - P(B))"
   ]
  },
  {
   "cell_type": "code",
   "execution_count": 9,
   "metadata": {},
   "outputs": [
    {
     "data": {
      "text/plain": [
       "0.01098"
      ]
     },
     "execution_count": 9,
     "metadata": {},
     "output_type": "execute_result"
    }
   ],
   "source": [
    "P_A = P_A_if_B*P_B + P_A_if_not_B*(1-P_B)\n",
    "P_A"
   ]
  },
  {
   "cell_type": "markdown",
   "metadata": {},
   "source": [
    "По формуле байеса: P(B|A) = P(A|B) * P(B) / P(A)"
   ]
  },
  {
   "cell_type": "code",
   "execution_count": 10,
   "metadata": {},
   "outputs": [
    {
     "data": {
      "text/plain": [
       "0.09016393442622951"
      ]
     },
     "execution_count": 10,
     "metadata": {},
     "output_type": "execute_result"
    }
   ],
   "source": [
    "P_B_if_A = P_A_if_B * P_B / P_A\n",
    "P_B_if_A"
   ]
  },
  {
   "cell_type": "markdown",
   "metadata": {},
   "source": [
    "#### Ответ: Вероятность того, что пациент действительно болен при условии, что тест положителен, 9%"
   ]
  },
  {
   "cell_type": "code",
   "execution_count": null,
   "metadata": {},
   "outputs": [],
   "source": []
  }
 ],
 "metadata": {
  "kernelspec": {
   "display_name": "Python 3",
   "language": "python",
   "name": "python3"
  },
  "language_info": {
   "codemirror_mode": {
    "name": "ipython",
    "version": 3
   },
   "file_extension": ".py",
   "mimetype": "text/x-python",
   "name": "python",
   "nbconvert_exporter": "python",
   "pygments_lexer": "ipython3",
   "version": "3.7.3"
  }
 },
 "nbformat": 4,
 "nbformat_minor": 4
}
