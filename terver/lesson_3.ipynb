{
 "cells": [
  {
   "cell_type": "markdown",
   "metadata": {},
   "source": [
    "# Урок 3\n",
    "## Описательная статистика. Качественные и количественные характеристики популяции. Графическое представление данных\n",
    "### Домашнее задание"
   ]
  },
  {
   "cell_type": "code",
   "execution_count": 1,
   "metadata": {},
   "outputs": [],
   "source": [
    "import numpy as np\n",
    "from scipy import stats"
   ]
  },
  {
   "cell_type": "markdown",
   "metadata": {},
   "source": [
    "### Задача 1\n",
    "\n",
    "Даны значения зарплат из выборки выпускников: \n",
    "\n",
    "100, 80, 75, 77, 89, 33, 45, 25, 65, 17, 30, 230, 24, 57, 55, 70, 75, 65, 84, 90, 150\n",
    "\n",
    "Своими руками (т.е. без использования статистических функций вроде mean, std, var) посчитать среднее арифметическое, смещённую и несмещённую оценки дисперсии, среднее квадратичное отклонение для данной выборки.\n",
    "\n",
    "Можно затем посчитать те же значения с использованием статистических функций, чтобы проверить себя."
   ]
  },
  {
   "cell_type": "code",
   "execution_count": 2,
   "metadata": {},
   "outputs": [
    {
     "name": "stdout",
     "output_type": "stream",
     "text": [
      "расчет вручную:\n",
      "Среднее арифметическое: 73.14285714285714\n",
      "Выборочная дисперсия: 2135.0748299319725\n",
      "Несмещенная дисперсия: 2241.828571428571\n",
      "ско по выборочной дисперсии: 46.206869943028735\n",
      "ско по несмещенной дисперсии: 47.347952135531386\n"
     ]
    }
   ],
   "source": [
    "sample = np.array([100, 80, 75, 77, 89, 33, 45, 25, 65, 17, 30, 230, 24, 57, 55, 70, 75, 65, 84, 90, 150])\n",
    "mean = sample.sum()/sample.size\n",
    "var = ((sample-mean)**2).sum()/sample.size\n",
    "unvar = ((sample-mean)**2).sum()/(sample.size-1)\n",
    "std = np.sqrt(var)\n",
    "unstd = np.sqrt(unvar)\n",
    "print(\"расчет вручную:\")\n",
    "print(\"Среднее арифметическое:\", mean)\n",
    "print(\"Выборочная дисперсия:\", var)\n",
    "print(\"Несмещенная дисперсия:\", unvar)\n",
    "print(\"ско по выборочной дисперсии:\", std)\n",
    "print(\"ско по несмещенной дисперсии:\", unstd)"
   ]
  },
  {
   "cell_type": "code",
   "execution_count": 3,
   "metadata": {},
   "outputs": [
    {
     "name": "stdout",
     "output_type": "stream",
     "text": [
      "с использованием статистических функций numpy:\n",
      "Среднее арифметическое: 73.14285714285714\n",
      "Выборочная дисперсия: 2135.0748299319725\n",
      "Несмещенная дисперсия: 2241.828571428571\n",
      "ско по выборочной дисперсии: 46.206869943028735\n",
      "ско по несмещенной дисперсии: 47.347952135531386\n"
     ]
    }
   ],
   "source": [
    "print(\"с использованием статистических функций numpy:\")\n",
    "print(\"Среднее арифметическое:\", sample.mean())\n",
    "print(\"Выборочная дисперсия:\", sample.var())\n",
    "print(\"Несмещенная дисперсия:\", sample.var(ddof=1))\n",
    "print(\"ско по выборочной дисперсии:\", sample.std())\n",
    "print(\"ско по несмещенной дисперсии:\", sample.std(ddof=1))"
   ]
  },
  {
   "cell_type": "markdown",
   "metadata": {},
   "source": [
    "### Задача 2\n",
    "\n",
    "Для выборки из задачи 1 найти (также без использования статистических функций) медиану, первый и третий квартили, интерквартильное расстояние. Найти выборсы в выборке, используя для этого \"усы\" из boxplot.\n",
    "\n",
    "В этой задаче неоднозначности в вычислении квантилей можно разрешать любым способом."
   ]
  },
  {
   "cell_type": "code",
   "execution_count": 4,
   "metadata": {},
   "outputs": [
    {
     "data": {
      "text/plain": [
       "array([ 17,  24,  25,  30,  33,  45,  55,  57,  65,  65,  70,  75,  75,\n",
       "        77,  80,  84,  89,  90, 100, 150, 230])"
      ]
     },
     "execution_count": 4,
     "metadata": {},
     "output_type": "execute_result"
    }
   ],
   "source": [
    "sorted_sample = np.sort(sample)\n",
    "sorted_sample"
   ]
  },
  {
   "cell_type": "code",
   "execution_count": 5,
   "metadata": {},
   "outputs": [
    {
     "name": "stdout",
     "output_type": "stream",
     "text": [
      "медиана: 70\n",
      "1 квартиль: 45\n",
      "3 квартиль: 84\n",
      "Интерквартильный размах: 39\n"
     ]
    }
   ],
   "source": [
    "print(\"медиана:\", sorted_sample[sample.size//2])\n",
    "q1 = sorted_sample[sample.size//4]\n",
    "q3 = sorted_sample[sample.size*3//4]\n",
    "iqr = q3-q1\n",
    "print(\"1 квартиль:\", q1)\n",
    "print(\"3 квартиль:\", q3)\n",
    "print(\"Интерквартильный размах:\", iqr)"
   ]
  },
  {
   "cell_type": "code",
   "execution_count": 6,
   "metadata": {},
   "outputs": [
    {
     "name": "stdout",
     "output_type": "stream",
     "text": [
      "проверка квантилей и IQR: [70. 45. 84.] 39.0\n"
     ]
    }
   ],
   "source": [
    "print(\"проверка квантилей и IQR:\", np.quantile(sample, [0.5, 0.25, 0.75]), stats.iqr(sample))"
   ]
  },
  {
   "cell_type": "code",
   "execution_count": 7,
   "metadata": {},
   "outputs": [
    {
     "name": "stdout",
     "output_type": "stream",
     "text": [
      "Усы boxplot: (-13.5, 142.5)\n"
     ]
    }
   ],
   "source": [
    "boxplot_range = (q1 - 1.5 * iqr, q3 + 1.5 * iqr)\n",
    "print(\"Усы boxplot:\", boxplot_range)"
   ]
  },
  {
   "cell_type": "code",
   "execution_count": 8,
   "metadata": {},
   "outputs": [
    {
     "name": "stdout",
     "output_type": "stream",
     "text": [
      "Нижние выбросы: []\n",
      "Верхние выбросы: [230 150]\n"
     ]
    }
   ],
   "source": [
    "outliers_down = sample[sample < boxplot_range[0]]\n",
    "outliers_up = sample[sample > boxplot_range[1]]\n",
    "print(\"Нижние выбросы:\", outliers_down)\n",
    "print(\"Верхние выбросы:\", outliers_up)"
   ]
  },
  {
   "cell_type": "code",
   "execution_count": 9,
   "metadata": {},
   "outputs": [
    {
     "name": "stdout",
     "output_type": "stream",
     "text": [
      "Доля выбросов: 0.09523809523809523\n"
     ]
    }
   ],
   "source": [
    "print(\"Доля выбросов:\",outliers_down.size+outliers_up.size / sample.size)"
   ]
  },
  {
   "cell_type": "markdown",
   "metadata": {},
   "source": [
    "### Задача 3\n",
    "\n",
    "В университет на факультеты A и B поступило равное количество студентов, а на факультет C студентов поступило столько же, сколько на A и B вместе. Вероятность того, что студент факультета A сдаст первую сессию, равна 0.8. Для студента факультета B эта вероятность равна 0.7, а для студента факультета C - 0.9. Студент сдал первую сессию. Какова вероятность, что он учится: a) на факультете A? б) на факультете B? в) на факультете C?\n",
    "\n",
    "Замечание: да, эта задача не на тему описательных статистик, но тема важная, и её стоит иногда освежать в памяти."
   ]
  },
  {
   "cell_type": "markdown",
   "metadata": {},
   "source": [
    "Дано:\n",
    "* A - студент первого факультета, их х человек\n",
    "* B - студент второго факультета, их х человек\n",
    "* C - студент третьего факультета, их 2х человек\n",
    "* D - студент сдал первую сессию. \n",
    "\n",
    "Соответственно условные вероятности:\n",
    "* P(D/A) = 0.8\n",
    "* P(D/B) = 0.7\n",
    "* P(D/C) = 0.9\n",
    "\n",
    "Вероятности определения фаукльтета:\n",
    "* P(A) = x/(x+x+2x) = 1/4\n",
    "* P(B) = x/(x+x+2x) = 1/4\n",
    "* P(C) = 2x/(x+x+2x) = 1/2\n",
    "\n",
    "Веростяность, что любой студент сдаст по формуле полной верноятности:\n",
    "* P(D) = P(D/A) * P(A) + P(D/B) * P(B) + P(D/C) * P(C)\n",
    "\n",
    "В итоге по формуле Байеса для каждого факультета считается вероятность:\n",
    "* P(A/D)\n",
    "* P(B/D)\n",
    "* P(C/D)"
   ]
  },
  {
   "cell_type": "code",
   "execution_count": 10,
   "metadata": {},
   "outputs": [],
   "source": [
    "PDA = 0.8\n",
    "PDB = 0.7\n",
    "PDC = 0.9\n",
    "PA  = 0.25\n",
    "PB  = 0.25\n",
    "PC  = 0.5"
   ]
  },
  {
   "cell_type": "code",
   "execution_count": 11,
   "metadata": {},
   "outputs": [
    {
     "data": {
      "text/plain": [
       "0.825"
      ]
     },
     "execution_count": 11,
     "metadata": {},
     "output_type": "execute_result"
    }
   ],
   "source": [
    "PD = PDA*PA + PDB*PB + PDC*PC\n",
    "PD"
   ]
  },
  {
   "cell_type": "code",
   "execution_count": 12,
   "metadata": {},
   "outputs": [
    {
     "name": "stdout",
     "output_type": "stream",
     "text": [
      "Вероятность, что с факултета А: 0.242\n"
     ]
    }
   ],
   "source": [
    "PAD = PDA*PA/PD\n",
    "print(\"Вероятность, что с факултета А:\", round(PAD,3))"
   ]
  },
  {
   "cell_type": "code",
   "execution_count": 13,
   "metadata": {},
   "outputs": [
    {
     "name": "stdout",
     "output_type": "stream",
     "text": [
      "Вероятность, что с факултета А: 0.212\n"
     ]
    }
   ],
   "source": [
    "PBD = PDB*PB/PD\n",
    "print(\"Вероятность, что с факултета А:\", round(PBD,3))"
   ]
  },
  {
   "cell_type": "code",
   "execution_count": 14,
   "metadata": {},
   "outputs": [
    {
     "name": "stdout",
     "output_type": "stream",
     "text": [
      "Вероятность, что с факултета А: 0.545\n"
     ]
    }
   ],
   "source": [
    "PCD = PDC*PC/PD\n",
    "print(\"Вероятность, что с факултета А:\", round(PCD,3))"
   ]
  },
  {
   "cell_type": "code",
   "execution_count": 15,
   "metadata": {},
   "outputs": [
    {
     "name": "stdout",
     "output_type": "stream",
     "text": [
      "Проверка: 1.0\n"
     ]
    }
   ],
   "source": [
    "print(\"Проверка:\", PAD+PBD+PCD)"
   ]
  }
 ],
 "metadata": {
  "kernelspec": {
   "display_name": "Python 3",
   "language": "python",
   "name": "python3"
  },
  "language_info": {
   "codemirror_mode": {
    "name": "ipython",
    "version": 3
   },
   "file_extension": ".py",
   "mimetype": "text/x-python",
   "name": "python",
   "nbconvert_exporter": "python",
   "pygments_lexer": "ipython3",
   "version": "3.7.3"
  }
 },
 "nbformat": 4,
 "nbformat_minor": 2
}
