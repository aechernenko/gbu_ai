{
 "cells": [
  {
   "cell_type": "markdown",
   "metadata": {},
   "source": [
    "# Урок 6\n",
    "## Взаимосвязь величин. Показатели корреляции. Корреляционный анализ. Проверка на нормальность\n",
    "### Домашнее задание\n"
   ]
  },
  {
   "cell_type": "code",
   "execution_count": 1,
   "metadata": {},
   "outputs": [],
   "source": [
    "import numpy as np"
   ]
  },
  {
   "cell_type": "markdown",
   "metadata": {},
   "source": [
    "### Задача 1\n",
    "\n",
    "Даны значения величины заработной платы заемщиков банка (salary) и значения их поведенческого кредитного скоринга (scoring):\n",
    "\n",
    "* salary = [35, 45, 190, 200, 40, 70, 54, 150, 120, 110]\n",
    "* scoring = [401, 574, 874, 919, 459, 739, 653, 902, 746, 832]\n",
    "\n",
    "Без использования сторонних библиотек (вроде numpy, pandas и др.) найдите:\n",
    "1. ковариацию (смещённую и несмещённую) этих двух величин,\n",
    "2. коэффициент корреляции Пирсона.\n",
    "\n",
    "Можно затем посчитать те же значения с использованием библиотек, чтобы проверить себя.\n",
    "\n"
   ]
  },
  {
   "cell_type": "code",
   "execution_count": 2,
   "metadata": {},
   "outputs": [
    {
     "data": {
      "text/plain": [
       "(101.4, 709.9)"
      ]
     },
     "execution_count": 2,
     "metadata": {},
     "output_type": "execute_result"
    }
   ],
   "source": [
    "salary = np.array([35, 45, 190, 200, 40, 70, 54, 150, 120, 110])\n",
    "scoring = np.array([401, 574, 874, 919, 459, 739, 653, 902, 746, 832])\n",
    "n = len(salary)\n",
    "M_slr = sum(salary)/n\n",
    "M_scr = sum(scoring)/n\n",
    "M_slr, M_scr"
   ]
  },
  {
   "cell_type": "code",
   "execution_count": 3,
   "metadata": {},
   "outputs": [
    {
     "data": {
      "text/plain": [
       "(9157.839999999997, 'смещенная ковариация по одной формуле')"
      ]
     },
     "execution_count": 3,
     "metadata": {},
     "output_type": "execute_result"
    }
   ],
   "source": [
    "cov_1 = sum(salary * scoring)/n - M_slr * M_scr\n",
    "cov_1, 'смещенная ковариация по одной формуле'"
   ]
  },
  {
   "cell_type": "code",
   "execution_count": 4,
   "metadata": {},
   "outputs": [
    {
     "data": {
      "text/plain": [
       "(9157.84, 'смещенная ковариация по другой формуле')"
      ]
     },
     "execution_count": 4,
     "metadata": {},
     "output_type": "execute_result"
    }
   ],
   "source": [
    "cov_2 = sum((salary-M_slr) * (scoring-M_scr))/(n)\n",
    "cov_2, 'смещенная ковариация по другой формуле'"
   ]
  },
  {
   "cell_type": "code",
   "execution_count": 5,
   "metadata": {},
   "outputs": [
    {
     "data": {
      "text/plain": [
       "(10175.377777777778, 'несмещенная ковариация')"
      ]
     },
     "execution_count": 5,
     "metadata": {},
     "output_type": "execute_result"
    }
   ],
   "source": [
    "un_cov = sum((salary-M_slr) * (scoring-M_scr))/(n-1)\n",
    "un_cov, 'несмещенная ковариация'"
   ]
  },
  {
   "cell_type": "code",
   "execution_count": 6,
   "metadata": {},
   "outputs": [
    {
     "data": {
      "text/plain": [
       "(9157.84, 'проверка, смещенная ковариация')"
      ]
     },
     "execution_count": 6,
     "metadata": {},
     "output_type": "execute_result"
    }
   ],
   "source": [
    "np.cov(salary,scoring, ddof=0)[0,1], 'проверка, смещенная ковариация'"
   ]
  },
  {
   "cell_type": "code",
   "execution_count": 7,
   "metadata": {},
   "outputs": [
    {
     "data": {
      "text/plain": [
       "(10175.377777777776, 'проверка, несмещенная ковариация')"
      ]
     },
     "execution_count": 7,
     "metadata": {},
     "output_type": "execute_result"
    }
   ],
   "source": [
    "np.cov(salary,scoring)[0,1], 'проверка, несмещенная ковариация'"
   ]
  },
  {
   "cell_type": "code",
   "execution_count": 8,
   "metadata": {},
   "outputs": [
    {
     "data": {
      "text/plain": [
       "(59.115480206118605, 174.55340157098058, 62.31318747531162, 183.99544076477068)"
      ]
     },
     "execution_count": 8,
     "metadata": {},
     "output_type": "execute_result"
    }
   ],
   "source": [
    "std_slr = np.sqrt(sum((salary - M_slr)**2)/n)\n",
    "std_scr = np.sqrt(sum((scoring - M_scr)**2)/n)\n",
    "\n",
    "un_std_slr = np.sqrt(sum((salary - M_slr)**2)/(n-1))\n",
    "un_std_scr = np.sqrt(sum((scoring - M_scr)**2)/(n-1))\n",
    "\n",
    "std_slr, std_scr, un_std_slr, un_std_scr"
   ]
  },
  {
   "cell_type": "code",
   "execution_count": 9,
   "metadata": {},
   "outputs": [
    {
     "data": {
      "text/plain": [
       "0.8874900920739158"
      ]
     },
     "execution_count": 9,
     "metadata": {},
     "output_type": "execute_result"
    }
   ],
   "source": [
    "corr = cov_1/(std_slr*std_scr)\n",
    "corr"
   ]
  },
  {
   "cell_type": "code",
   "execution_count": 10,
   "metadata": {},
   "outputs": [
    {
     "data": {
      "text/plain": [
       "0.8874900920739162"
      ]
     },
     "execution_count": 10,
     "metadata": {},
     "output_type": "execute_result"
    }
   ],
   "source": [
    "un_cov/(un_std_slr*un_std_scr)  # от смещенности / несмещенности не зависит"
   ]
  },
  {
   "cell_type": "code",
   "execution_count": 11,
   "metadata": {},
   "outputs": [
    {
     "data": {
      "text/plain": [
       "0.8874900920739162"
      ]
     },
     "execution_count": 11,
     "metadata": {},
     "output_type": "execute_result"
    }
   ],
   "source": [
    "np.corrcoef(salary,scoring)[0,1]"
   ]
  },
  {
   "cell_type": "markdown",
   "metadata": {},
   "source": [
    "### Задача 2\n",
    "\n",
    "Измерены значения IQ выборки студентов, обучающихся в местных технических вузах:\n",
    "\n",
    "131, 125, 115, 122, 131, 115, 107, 99, 125, 111\n",
    "\n",
    "Известно, что в генеральной совокупности IQ распределен нормально. Найдите доверительный интервал для математического ожидания с надежностью 0.95.\n",
    "\n",
    "$$T(X) = \\dfrac{\\overline{X} - a}{\\sigma_X / \\sqrt{n}},$$\n",
    "где $\\sigma_X$ — несмещённая оценка среднего квадратического отклонения. В предположении, что гипотеза $H_0$ верна, статистика $T$ имеет __t-распределение Стьюдента $t(n - 1)$__.\n",
    "\n",
    "Доверительный интервал:\n",
    "$$\n",
    "P \\left( \n",
    "    \\overline{X} - t_{1 - \\alpha/2, \\: n - 1} \\cdot \\dfrac{\\sigma_X}{\\sqrt{n}} \n",
    "    \\leq a \\leq\n",
    "    \\overline{X} + t_{1 - \\alpha/2, \\: n - 1} \\cdot \\dfrac{\\sigma_X}{\\sqrt{n}} \n",
    "\\right) = p.\n",
    "$$\n"
   ]
  },
  {
   "cell_type": "code",
   "execution_count": 12,
   "metadata": {},
   "outputs": [
    {
     "name": "stdout",
     "output_type": "stream",
     "text": [
      "Доверительный интервал М.О. iq:  (110.55608365158724, 125.64391634841274)\n"
     ]
    }
   ],
   "source": [
    "from scipy import stats\n",
    "iq = np.array([131, 125, 115, 122, 131, 115, 107, 99, 125, 111])\n",
    "p = 0.95\n",
    "n = iq.size  # 10\n",
    "mean = iq.mean()  # 118.1\n",
    "std = iq.std(ddof=1)  # 10.54566788359614\n",
    "alpha = 1 - p  # 0.05\n",
    "t = stats.t.ppf(1 - alpha / 2, df=n - 1)  # 2.2621571627409915\n",
    "print('Доверительный интервал М.О. iq: ', (mean - t * std / np.sqrt(n), mean + t * std / np.sqrt(n)))"
   ]
  },
  {
   "cell_type": "markdown",
   "metadata": {},
   "source": [
    "### Задача 3\n",
    "\n",
    "Известно, что рост футболистов в сборной распределён нормально с известной дисперсией 25. На выборке объёма 27 выборочное среднее составило 174.2. Найдите доверительный интервал для математического ожидания с надёжностью 0.95.\n",
    "\n"
   ]
  },
  {
   "cell_type": "code",
   "execution_count": 13,
   "metadata": {},
   "outputs": [
    {
     "name": "stdout",
     "output_type": "stream",
     "text": [
      "Доверительный интервал М.О. роста футболистов: (172.27549910270125, 176.12450089729873)\n"
     ]
    }
   ],
   "source": [
    "var = 25\n",
    "n = 27\n",
    "mean = 174.2\n",
    "p = 0.95\n",
    "\n",
    "alpha = 1 - p\n",
    "std = np.sqrt(var)\n",
    "t = 2  # 2*sigma\n",
    "\n",
    "print('Доверительный интервал М.О. роста футболистов:', (mean-t*std/np.sqrt(n), mean+t*std/np.sqrt(n)))"
   ]
  },
  {
   "cell_type": "markdown",
   "metadata": {},
   "source": [
    "### Задача 4\n",
    "\n",
    "Выберите тему для проектной работы по курсу Теории вероятностей и математической статистики и напишите ее в комментарии к Практическому заданию."
   ]
  },
  {
   "cell_type": "markdown",
   "metadata": {},
   "source": [
    "# Тема для проектной работы\n",
    "## Dataset Red Wine Quality\n",
    "#### Задачи:\n",
    "* статистические характеристики признаков, графики boxplot\n",
    "* анализ распределений признаков, графики, проверка на нормальность, доверительные интервалы матожиданий\n",
    "* анализ взаимосвязи признаков, дисперсионный и факторный анализ\n",
    "* предиктивная аналитика\n",
    "    * линейная регрессия - *еще не определился какой признак интереснее будет предсказывать*\n",
    "    * логистическая регрессия - предсказание качества вина: плохое или хорошее\n",
    "* *в планах немного изучить теорию виноделия, какие существуют зависимости; попытаюсь эти зависимости проверить на данных, например, влияние содержания остаточного сахара и алкоголя на качество вина*"
   ]
  },
  {
   "cell_type": "code",
   "execution_count": null,
   "metadata": {},
   "outputs": [],
   "source": []
  }
 ],
 "metadata": {
  "kernelspec": {
   "display_name": "Python 3",
   "language": "python",
   "name": "python3"
  },
  "language_info": {
   "codemirror_mode": {
    "name": "ipython",
    "version": 3
   },
   "file_extension": ".py",
   "mimetype": "text/x-python",
   "name": "python",
   "nbconvert_exporter": "python",
   "pygments_lexer": "ipython3",
   "version": "3.7.3"
  }
 },
 "nbformat": 4,
 "nbformat_minor": 4
}
