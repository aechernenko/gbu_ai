{
 "cells": [
  {
   "attachments": {},
   "cell_type": "markdown",
   "metadata": {},
   "source": [
    "# Проект \"Предсказание отклика абонента на подключение услуги\"\n",
    "_Черненко А.Е._\n",
    "# Создание модели"
   ]
  },
  {
   "cell_type": "code",
   "execution_count": 1,
   "metadata": {
    "colab": {
     "base_uri": "https://localhost:8080/",
     "height": 34
    },
    "colab_type": "code",
    "id": "iFtpqBrc1jvH",
    "outputId": "a4cd154b-542d-4097-89b5-8a9494f39238"
   },
   "outputs": [
    {
     "name": "stdout",
     "output_type": "stream",
     "text": [
      "Drive already mounted at /content/drive; to attempt to forcibly remount, call drive.mount(\"/content/drive\", force_remount=True).\n"
     ]
    }
   ],
   "source": [
    "from google.colab import drive\n",
    "drive.mount('/content/drive')"
   ]
  },
  {
   "cell_type": "code",
   "execution_count": 2,
   "metadata": {
    "colab": {
     "base_uri": "https://localhost:8080/",
     "height": 255
    },
    "colab_type": "code",
    "id": "nPnywXhv1vl9",
    "outputId": "dc27ec29-b560-45c2-8c5f-d38152837e90"
   },
   "outputs": [
    {
     "name": "stdout",
     "output_type": "stream",
     "text": [
      "Requirement already satisfied: catboost in /usr/local/lib/python3.6/dist-packages (0.23.2)\n",
      "Requirement already satisfied: scipy in /usr/local/lib/python3.6/dist-packages (from catboost) (1.4.1)\n",
      "Requirement already satisfied: matplotlib in /usr/local/lib/python3.6/dist-packages (from catboost) (3.2.1)\n",
      "Requirement already satisfied: pandas>=0.24.0 in /usr/local/lib/python3.6/dist-packages (from catboost) (1.0.4)\n",
      "Requirement already satisfied: plotly in /usr/local/lib/python3.6/dist-packages (from catboost) (4.4.1)\n",
      "Requirement already satisfied: six in /usr/local/lib/python3.6/dist-packages (from catboost) (1.12.0)\n",
      "Requirement already satisfied: numpy>=1.16.0 in /usr/local/lib/python3.6/dist-packages (from catboost) (1.18.5)\n",
      "Requirement already satisfied: graphviz in /usr/local/lib/python3.6/dist-packages (from catboost) (0.10.1)\n",
      "Requirement already satisfied: python-dateutil>=2.1 in /usr/local/lib/python3.6/dist-packages (from matplotlib->catboost) (2.8.1)\n",
      "Requirement already satisfied: kiwisolver>=1.0.1 in /usr/local/lib/python3.6/dist-packages (from matplotlib->catboost) (1.2.0)\n",
      "Requirement already satisfied: cycler>=0.10 in /usr/local/lib/python3.6/dist-packages (from matplotlib->catboost) (0.10.0)\n",
      "Requirement already satisfied: pyparsing!=2.0.4,!=2.1.2,!=2.1.6,>=2.0.1 in /usr/local/lib/python3.6/dist-packages (from matplotlib->catboost) (2.4.7)\n",
      "Requirement already satisfied: pytz>=2017.2 in /usr/local/lib/python3.6/dist-packages (from pandas>=0.24.0->catboost) (2018.9)\n",
      "Requirement already satisfied: retrying>=1.3.3 in /usr/local/lib/python3.6/dist-packages (from plotly->catboost) (1.3.3)\n"
     ]
    }
   ],
   "source": [
    "!pip install catboost"
   ]
  },
  {
   "cell_type": "code",
   "execution_count": 3,
   "metadata": {
    "colab": {},
    "colab_type": "code",
    "id": "6m8vZUKB1xUL"
   },
   "outputs": [],
   "source": [
    "train_path = '/content/drive/My Drive/Colab Notebooks/megafon/data_f32_train.pkl'\n",
    "test_path = '/content/drive/My Drive/Colab Notebooks/megafon/data_f32_test.pkl'"
   ]
  },
  {
   "cell_type": "code",
   "execution_count": 4,
   "metadata": {
    "colab": {},
    "colab_type": "code",
    "id": "SwUJE1LF1QHZ"
   },
   "outputs": [],
   "source": [
    "import pandas as pd\n",
    "import numpy as np\n",
    "import datetime as dt\n",
    "from matplotlib import pyplot as plt\n",
    "\n",
    "from sklearn.compose import make_column_transformer\n",
    "from sklearn.pipeline import FeatureUnion, make_pipeline, Pipeline\n",
    "from sklearn.preprocessing import StandardScaler, OneHotEncoder\n",
    "from sklearn.impute import SimpleImputer\n",
    "from sklearn.feature_selection import SelectPercentile, f_classif\n",
    "from sklearn.model_selection import GridSearchCV, train_test_split\n",
    "from sklearn.metrics import roc_auc_score, roc_curve, precision_recall_curve, auc, confusion_matrix\n",
    "from sklearn.linear_model import LogisticRegression\n",
    "\n",
    "from catboost import CatBoostClassifier"
   ]
  },
  {
   "cell_type": "markdown",
   "metadata": {
    "colab_type": "text",
    "id": "URcyZkiZ1QHd"
   },
   "source": [
    "Вспомогательные функции"
   ]
  },
  {
   "cell_type": "code",
   "execution_count": 5,
   "metadata": {
    "colab": {},
    "colab_type": "code",
    "id": "8RAZHwTR1QHe"
   },
   "outputs": [],
   "source": [
    "def plot_roc_curve(fpr, tpr, model_name=\"\", color=None):\n",
    "    plt.plot(fpr, tpr, label='%s: ROC curve (area = %0.2f)' %\n",
    "             (model_name, auc(fpr, tpr)), color=color)\n",
    "    plt.plot([0, 1], [0, 1], 'k--')\n",
    "    plt.axis([0.0, 1.0, 0.0, 1.05])\n",
    "    plt.xlabel('False Positive Rate')\n",
    "    plt.ylabel('True Positive Rate')\n",
    "    plt.title('%s: Receiver operating characteristic curve' % model_name)\n",
    "    plt.legend(loc=\"lower right\")\n",
    "    \n",
    "def plot_precision_recall_curve(precision, recall, model_name=\"\", color=None):\n",
    "    plt.plot(recall, precision, label='%s: Precision-Recall curve (area = %0.2f)' %\n",
    "             (model_name, auc(recall, precision)), color=color)\n",
    "    plt.xlabel('Recall')\n",
    "    plt.ylabel('Precision')\n",
    "    plt.title(\"%s: Precision-Recall curve\" % model_name)\n",
    "    plt.axis([0.0, 1.0, 0.0, 1.05])\n",
    "    plt.legend(loc=\"lower left\")"
   ]
  },
  {
   "cell_type": "markdown",
   "metadata": {
    "colab_type": "text",
    "id": "h0LZH_ja1QHi"
   },
   "source": [
    "# 1 EDA"
   ]
  },
  {
   "cell_type": "code",
   "execution_count": 6,
   "metadata": {
    "colab": {},
    "colab_type": "code",
    "id": "1BW4bxTv1QHi"
   },
   "outputs": [],
   "source": [
    "# colab\n",
    "train_data = pd.read_pickle(train_path)\n",
    "\n",
    "# pc\n",
    "#train_data = pd.read_pickle('data_f32_train.pkl')"
   ]
  },
  {
   "cell_type": "code",
   "execution_count": 7,
   "metadata": {
    "colab": {
     "base_uri": "https://localhost:8080/",
     "height": 253
    },
    "colab_type": "code",
    "id": "f3mfX3UJ1QHl",
    "outputId": "a3180ace-ed47-46e5-f3ce-0976fc4a06a8",
    "scrolled": true
   },
   "outputs": [
    {
     "data": {
      "text/html": [
       "<div>\n",
       "<style scoped>\n",
       "    .dataframe tbody tr th:only-of-type {\n",
       "        vertical-align: middle;\n",
       "    }\n",
       "\n",
       "    .dataframe tbody tr th {\n",
       "        vertical-align: top;\n",
       "    }\n",
       "\n",
       "    .dataframe thead th {\n",
       "        text-align: right;\n",
       "    }\n",
       "</style>\n",
       "<table border=\"1\" class=\"dataframe\">\n",
       "  <thead>\n",
       "    <tr style=\"text-align: right;\">\n",
       "      <th></th>\n",
       "      <th>id</th>\n",
       "      <th>vas_id</th>\n",
       "      <th>buy_time_vas</th>\n",
       "      <th>target</th>\n",
       "      <th>0</th>\n",
       "      <th>1</th>\n",
       "      <th>2</th>\n",
       "      <th>3</th>\n",
       "      <th>4</th>\n",
       "      <th>5</th>\n",
       "      <th>6</th>\n",
       "      <th>7</th>\n",
       "      <th>8</th>\n",
       "      <th>9</th>\n",
       "      <th>10</th>\n",
       "      <th>11</th>\n",
       "      <th>12</th>\n",
       "      <th>13</th>\n",
       "      <th>14</th>\n",
       "      <th>15</th>\n",
       "      <th>16</th>\n",
       "      <th>17</th>\n",
       "      <th>18</th>\n",
       "      <th>19</th>\n",
       "      <th>20</th>\n",
       "      <th>21</th>\n",
       "      <th>22</th>\n",
       "      <th>23</th>\n",
       "      <th>24</th>\n",
       "      <th>25</th>\n",
       "      <th>26</th>\n",
       "      <th>27</th>\n",
       "      <th>28</th>\n",
       "      <th>29</th>\n",
       "      <th>30</th>\n",
       "      <th>31</th>\n",
       "      <th>32</th>\n",
       "      <th>33</th>\n",
       "      <th>34</th>\n",
       "      <th>35</th>\n",
       "      <th>...</th>\n",
       "      <th>214</th>\n",
       "      <th>215</th>\n",
       "      <th>216</th>\n",
       "      <th>217</th>\n",
       "      <th>218</th>\n",
       "      <th>219</th>\n",
       "      <th>220</th>\n",
       "      <th>221</th>\n",
       "      <th>222</th>\n",
       "      <th>223</th>\n",
       "      <th>224</th>\n",
       "      <th>225</th>\n",
       "      <th>226</th>\n",
       "      <th>227</th>\n",
       "      <th>228</th>\n",
       "      <th>229</th>\n",
       "      <th>230</th>\n",
       "      <th>231</th>\n",
       "      <th>232</th>\n",
       "      <th>233</th>\n",
       "      <th>234</th>\n",
       "      <th>235</th>\n",
       "      <th>236</th>\n",
       "      <th>237</th>\n",
       "      <th>238</th>\n",
       "      <th>239</th>\n",
       "      <th>240</th>\n",
       "      <th>241</th>\n",
       "      <th>242</th>\n",
       "      <th>243</th>\n",
       "      <th>244</th>\n",
       "      <th>245</th>\n",
       "      <th>246</th>\n",
       "      <th>247</th>\n",
       "      <th>248</th>\n",
       "      <th>249</th>\n",
       "      <th>250</th>\n",
       "      <th>251</th>\n",
       "      <th>252</th>\n",
       "      <th>time_delta</th>\n",
       "    </tr>\n",
       "  </thead>\n",
       "  <tbody>\n",
       "    <tr>\n",
       "      <th>0</th>\n",
       "      <td>540968.0</td>\n",
       "      <td>8.0</td>\n",
       "      <td>1.537132e+09</td>\n",
       "      <td>0.0</td>\n",
       "      <td>-31.559971</td>\n",
       "      <td>327.360901</td>\n",
       "      <td>-45.500786</td>\n",
       "      <td>274.753204</td>\n",
       "      <td>-50.918247</td>\n",
       "      <td>253.648209</td>\n",
       "      <td>49.15382</td>\n",
       "      <td>195.883896</td>\n",
       "      <td>-1.835267</td>\n",
       "      <td>-12.831245</td>\n",
       "      <td>-2.736081</td>\n",
       "      <td>56.284081</td>\n",
       "      <td>-2.558912</td>\n",
       "      <td>-66.189125</td>\n",
       "      <td>-77.518112</td>\n",
       "      <td>-0.000725</td>\n",
       "      <td>-0.016435</td>\n",
       "      <td>-0.107041</td>\n",
       "      <td>-5.41746</td>\n",
       "      <td>-3.178521</td>\n",
       "      <td>-13.940815</td>\n",
       "      <td>54.495834</td>\n",
       "      <td>-0.094251</td>\n",
       "      <td>-0.001733</td>\n",
       "      <td>-0.009327</td>\n",
       "      <td>-2.082209</td>\n",
       "      <td>0.200138</td>\n",
       "      <td>-0.00909</td>\n",
       "      <td>2.648138</td>\n",
       "      <td>0.785634</td>\n",
       "      <td>0.788392</td>\n",
       "      <td>-0.001884</td>\n",
       "      <td>-0.000023</td>\n",
       "      <td>-0.00003</td>\n",
       "      <td>62.580612</td>\n",
       "      <td>-0.065583</td>\n",
       "      <td>...</td>\n",
       "      <td>-9239.707031</td>\n",
       "      <td>-2.10805</td>\n",
       "      <td>-0.000083</td>\n",
       "      <td>-0.622896</td>\n",
       "      <td>-0.00004</td>\n",
       "      <td>-0.620772</td>\n",
       "      <td>-0.012257</td>\n",
       "      <td>-0.107878</td>\n",
       "      <td>969818880.0</td>\n",
       "      <td>-49.224079</td>\n",
       "      <td>-4.405604e+08</td>\n",
       "      <td>-120441800.0</td>\n",
       "      <td>-8.634002</td>\n",
       "      <td>-1.465191</td>\n",
       "      <td>-33.30238</td>\n",
       "      <td>810.871033</td>\n",
       "      <td>270.227509</td>\n",
       "      <td>-0.364694</td>\n",
       "      <td>-0.133771</td>\n",
       "      <td>-0.209468</td>\n",
       "      <td>269.643494</td>\n",
       "      <td>-109.884567</td>\n",
       "      <td>364.308990</td>\n",
       "      <td>41.631718</td>\n",
       "      <td>938.889282</td>\n",
       "      <td>-108.409744</td>\n",
       "      <td>-504.437317</td>\n",
       "      <td>-53.617977</td>\n",
       "      <td>-12.295406</td>\n",
       "      <td>-845.37384</td>\n",
       "      <td>-613.770813</td>\n",
       "      <td>-20.996269</td>\n",
       "      <td>-37.630447</td>\n",
       "      <td>-28.747725</td>\n",
       "      <td>4.167111</td>\n",
       "      <td>7.305572</td>\n",
       "      <td>-12.175933</td>\n",
       "      <td>21.543859</td>\n",
       "      <td>0.0</td>\n",
       "      <td>4838400.0</td>\n",
       "    </tr>\n",
       "    <tr>\n",
       "      <th>1</th>\n",
       "      <td>1454121.0</td>\n",
       "      <td>4.0</td>\n",
       "      <td>1.531688e+09</td>\n",
       "      <td>0.0</td>\n",
       "      <td>547.270020</td>\n",
       "      <td>238.430893</td>\n",
       "      <td>533.329224</td>\n",
       "      <td>274.803192</td>\n",
       "      <td>527.911743</td>\n",
       "      <td>253.698212</td>\n",
       "      <td>-16.08618</td>\n",
       "      <td>-65.076096</td>\n",
       "      <td>-6.783660</td>\n",
       "      <td>-30.006538</td>\n",
       "      <td>-2.736081</td>\n",
       "      <td>-4.007526</td>\n",
       "      <td>-2.558912</td>\n",
       "      <td>577.880859</td>\n",
       "      <td>566.551880</td>\n",
       "      <td>-0.000725</td>\n",
       "      <td>-0.016435</td>\n",
       "      <td>-0.107041</td>\n",
       "      <td>-5.41746</td>\n",
       "      <td>-3.178521</td>\n",
       "      <td>-13.940815</td>\n",
       "      <td>-10.744164</td>\n",
       "      <td>-0.094251</td>\n",
       "      <td>-0.001733</td>\n",
       "      <td>-0.009327</td>\n",
       "      <td>-2.082209</td>\n",
       "      <td>0.200138</td>\n",
       "      <td>-0.00909</td>\n",
       "      <td>-0.351862</td>\n",
       "      <td>-0.214366</td>\n",
       "      <td>-0.211608</td>\n",
       "      <td>-0.001884</td>\n",
       "      <td>-0.000023</td>\n",
       "      <td>-0.00003</td>\n",
       "      <td>-2.659389</td>\n",
       "      <td>-0.065583</td>\n",
       "      <td>...</td>\n",
       "      <td>-9239.707031</td>\n",
       "      <td>-2.10805</td>\n",
       "      <td>-0.000083</td>\n",
       "      <td>-0.622896</td>\n",
       "      <td>-0.00004</td>\n",
       "      <td>-0.620772</td>\n",
       "      <td>-0.012257</td>\n",
       "      <td>-0.107878</td>\n",
       "      <td>958586880.0</td>\n",
       "      <td>585.525940</td>\n",
       "      <td>1.072212e+09</td>\n",
       "      <td>-120441800.0</td>\n",
       "      <td>3.327904</td>\n",
       "      <td>-1.465191</td>\n",
       "      <td>-33.30238</td>\n",
       "      <td>-206.128983</td>\n",
       "      <td>-12.772491</td>\n",
       "      <td>-0.364694</td>\n",
       "      <td>-0.133771</td>\n",
       "      <td>-0.209468</td>\n",
       "      <td>-8.356505</td>\n",
       "      <td>-109.884567</td>\n",
       "      <td>-876.691040</td>\n",
       "      <td>-5.368281</td>\n",
       "      <td>-247.110703</td>\n",
       "      <td>-108.409744</td>\n",
       "      <td>-512.437317</td>\n",
       "      <td>-80.617981</td>\n",
       "      <td>-17.295406</td>\n",
       "      <td>-972.37384</td>\n",
       "      <td>-613.770813</td>\n",
       "      <td>-25.996269</td>\n",
       "      <td>-19.630449</td>\n",
       "      <td>-278.747711</td>\n",
       "      <td>-24.832888</td>\n",
       "      <td>-0.694429</td>\n",
       "      <td>-11.175933</td>\n",
       "      <td>-0.456140</td>\n",
       "      <td>0.0</td>\n",
       "      <td>604800.0</td>\n",
       "    </tr>\n",
       "    <tr>\n",
       "      <th>2</th>\n",
       "      <td>2458816.0</td>\n",
       "      <td>1.0</td>\n",
       "      <td>1.534108e+09</td>\n",
       "      <td>0.0</td>\n",
       "      <td>-92.139969</td>\n",
       "      <td>-95.469109</td>\n",
       "      <td>-106.080788</td>\n",
       "      <td>-139.596802</td>\n",
       "      <td>-111.498245</td>\n",
       "      <td>-142.901794</td>\n",
       "      <td>-16.08618</td>\n",
       "      <td>-65.076096</td>\n",
       "      <td>-6.783660</td>\n",
       "      <td>-30.006538</td>\n",
       "      <td>-2.736081</td>\n",
       "      <td>-4.007526</td>\n",
       "      <td>-2.558912</td>\n",
       "      <td>-66.189125</td>\n",
       "      <td>-74.978111</td>\n",
       "      <td>-0.000725</td>\n",
       "      <td>-0.016435</td>\n",
       "      <td>-0.107041</td>\n",
       "      <td>-5.41746</td>\n",
       "      <td>-1.058521</td>\n",
       "      <td>-13.940815</td>\n",
       "      <td>-10.744164</td>\n",
       "      <td>-0.094251</td>\n",
       "      <td>-0.001733</td>\n",
       "      <td>-0.009327</td>\n",
       "      <td>-2.082209</td>\n",
       "      <td>0.200138</td>\n",
       "      <td>-0.00909</td>\n",
       "      <td>-0.351862</td>\n",
       "      <td>-0.214366</td>\n",
       "      <td>-0.211608</td>\n",
       "      <td>-0.001884</td>\n",
       "      <td>-0.000023</td>\n",
       "      <td>-0.00003</td>\n",
       "      <td>-2.659389</td>\n",
       "      <td>-0.065583</td>\n",
       "      <td>...</td>\n",
       "      <td>-9239.707031</td>\n",
       "      <td>-2.10805</td>\n",
       "      <td>-0.000083</td>\n",
       "      <td>0.377104</td>\n",
       "      <td>-0.00004</td>\n",
       "      <td>0.379228</td>\n",
       "      <td>-0.012257</td>\n",
       "      <td>-0.107878</td>\n",
       "      <td>-572669504.0</td>\n",
       "      <td>-58.544079</td>\n",
       "      <td>-4.405604e+08</td>\n",
       "      <td>-120441800.0</td>\n",
       "      <td>-6.314953</td>\n",
       "      <td>-1.465191</td>\n",
       "      <td>-33.30238</td>\n",
       "      <td>-266.128998</td>\n",
       "      <td>-39.772491</td>\n",
       "      <td>-0.364694</td>\n",
       "      <td>-0.133771</td>\n",
       "      <td>-0.209468</td>\n",
       "      <td>-35.356506</td>\n",
       "      <td>-109.884567</td>\n",
       "      <td>-703.691040</td>\n",
       "      <td>-5.368281</td>\n",
       "      <td>-247.110703</td>\n",
       "      <td>-108.409744</td>\n",
       "      <td>-339.437317</td>\n",
       "      <td>-106.617981</td>\n",
       "      <td>-17.295406</td>\n",
       "      <td>-977.37384</td>\n",
       "      <td>-613.770813</td>\n",
       "      <td>-25.996269</td>\n",
       "      <td>-37.630447</td>\n",
       "      <td>-304.747711</td>\n",
       "      <td>-25.832888</td>\n",
       "      <td>-0.694429</td>\n",
       "      <td>-12.175933</td>\n",
       "      <td>-0.456140</td>\n",
       "      <td>0.0</td>\n",
       "      <td>9072000.0</td>\n",
       "    </tr>\n",
       "    <tr>\n",
       "      <th>3</th>\n",
       "      <td>3535012.0</td>\n",
       "      <td>5.0</td>\n",
       "      <td>1.535922e+09</td>\n",
       "      <td>0.0</td>\n",
       "      <td>54.880028</td>\n",
       "      <td>12.970888</td>\n",
       "      <td>54.079212</td>\n",
       "      <td>-9.116798</td>\n",
       "      <td>48.661755</td>\n",
       "      <td>-30.221790</td>\n",
       "      <td>60.17382</td>\n",
       "      <td>87.453903</td>\n",
       "      <td>-6.783660</td>\n",
       "      <td>-30.006538</td>\n",
       "      <td>73.523918</td>\n",
       "      <td>-4.007526</td>\n",
       "      <td>-2.558912</td>\n",
       "      <td>-9.829127</td>\n",
       "      <td>-2.098110</td>\n",
       "      <td>-0.000725</td>\n",
       "      <td>-0.016435</td>\n",
       "      <td>-0.107041</td>\n",
       "      <td>-5.41746</td>\n",
       "      <td>-3.178521</td>\n",
       "      <td>-0.800815</td>\n",
       "      <td>-10.744164</td>\n",
       "      <td>-0.094251</td>\n",
       "      <td>-0.001733</td>\n",
       "      <td>-0.009327</td>\n",
       "      <td>-2.082209</td>\n",
       "      <td>0.200138</td>\n",
       "      <td>-0.00909</td>\n",
       "      <td>-0.351862</td>\n",
       "      <td>-0.214366</td>\n",
       "      <td>-0.211608</td>\n",
       "      <td>-0.001884</td>\n",
       "      <td>-0.000023</td>\n",
       "      <td>-0.00003</td>\n",
       "      <td>-2.659389</td>\n",
       "      <td>-0.065583</td>\n",
       "      <td>...</td>\n",
       "      <td>-9239.707031</td>\n",
       "      <td>-2.10805</td>\n",
       "      <td>-0.000083</td>\n",
       "      <td>1.377104</td>\n",
       "      <td>-0.00004</td>\n",
       "      <td>1.379228</td>\n",
       "      <td>-0.012257</td>\n",
       "      <td>-0.107878</td>\n",
       "      <td>-572669504.0</td>\n",
       "      <td>-58.544079</td>\n",
       "      <td>1.026649e+09</td>\n",
       "      <td>-120441800.0</td>\n",
       "      <td>-11.137705</td>\n",
       "      <td>-1.465191</td>\n",
       "      <td>-33.30238</td>\n",
       "      <td>-107.128983</td>\n",
       "      <td>-38.772491</td>\n",
       "      <td>-0.364694</td>\n",
       "      <td>-0.133771</td>\n",
       "      <td>0.790532</td>\n",
       "      <td>-35.356506</td>\n",
       "      <td>-109.884567</td>\n",
       "      <td>-574.691040</td>\n",
       "      <td>-5.368281</td>\n",
       "      <td>-244.110703</td>\n",
       "      <td>2.590259</td>\n",
       "      <td>-324.437317</td>\n",
       "      <td>-90.617981</td>\n",
       "      <td>-17.295406</td>\n",
       "      <td>-977.37384</td>\n",
       "      <td>-613.770813</td>\n",
       "      <td>-25.996269</td>\n",
       "      <td>-18.630449</td>\n",
       "      <td>-133.747726</td>\n",
       "      <td>-14.832889</td>\n",
       "      <td>-0.694429</td>\n",
       "      <td>-1.175933</td>\n",
       "      <td>-0.456140</td>\n",
       "      <td>0.0</td>\n",
       "      <td>2419200.0</td>\n",
       "    </tr>\n",
       "    <tr>\n",
       "      <th>4</th>\n",
       "      <td>1693214.0</td>\n",
       "      <td>1.0</td>\n",
       "      <td>1.535922e+09</td>\n",
       "      <td>0.0</td>\n",
       "      <td>45.160030</td>\n",
       "      <td>295.240875</td>\n",
       "      <td>64.679214</td>\n",
       "      <td>344.283203</td>\n",
       "      <td>59.261753</td>\n",
       "      <td>323.178223</td>\n",
       "      <td>-16.08618</td>\n",
       "      <td>-65.076096</td>\n",
       "      <td>-6.783660</td>\n",
       "      <td>-30.006538</td>\n",
       "      <td>-2.736081</td>\n",
       "      <td>-4.007526</td>\n",
       "      <td>-2.558912</td>\n",
       "      <td>-66.189125</td>\n",
       "      <td>58.081890</td>\n",
       "      <td>-0.000725</td>\n",
       "      <td>-0.016435</td>\n",
       "      <td>-0.107041</td>\n",
       "      <td>-5.41746</td>\n",
       "      <td>3.181479</td>\n",
       "      <td>19.519184</td>\n",
       "      <td>-10.744164</td>\n",
       "      <td>-0.094251</td>\n",
       "      <td>-0.001733</td>\n",
       "      <td>-0.009327</td>\n",
       "      <td>-2.082209</td>\n",
       "      <td>0.200138</td>\n",
       "      <td>-0.00909</td>\n",
       "      <td>-0.351862</td>\n",
       "      <td>-0.214366</td>\n",
       "      <td>-0.211608</td>\n",
       "      <td>-0.001884</td>\n",
       "      <td>-0.000023</td>\n",
       "      <td>-0.00003</td>\n",
       "      <td>-2.659389</td>\n",
       "      <td>-0.065583</td>\n",
       "      <td>...</td>\n",
       "      <td>-9239.707031</td>\n",
       "      <td>-2.10805</td>\n",
       "      <td>-0.000083</td>\n",
       "      <td>1.377104</td>\n",
       "      <td>-0.00004</td>\n",
       "      <td>1.379228</td>\n",
       "      <td>-0.012257</td>\n",
       "      <td>-0.107878</td>\n",
       "      <td>970855680.0</td>\n",
       "      <td>-57.274078</td>\n",
       "      <td>-4.405604e+08</td>\n",
       "      <td>-120441800.0</td>\n",
       "      <td>-10.535450</td>\n",
       "      <td>-1.465191</td>\n",
       "      <td>-33.30238</td>\n",
       "      <td>-87.128983</td>\n",
       "      <td>9.227509</td>\n",
       "      <td>-0.364694</td>\n",
       "      <td>-0.133771</td>\n",
       "      <td>0.790532</td>\n",
       "      <td>11.643495</td>\n",
       "      <td>-109.884567</td>\n",
       "      <td>-52.691021</td>\n",
       "      <td>6.631719</td>\n",
       "      <td>269.889282</td>\n",
       "      <td>145.590256</td>\n",
       "      <td>-471.437317</td>\n",
       "      <td>-80.617981</td>\n",
       "      <td>229.704590</td>\n",
       "      <td>-965.37384</td>\n",
       "      <td>-612.770813</td>\n",
       "      <td>-22.996269</td>\n",
       "      <td>-32.630447</td>\n",
       "      <td>-127.747726</td>\n",
       "      <td>-4.832889</td>\n",
       "      <td>-0.694429</td>\n",
       "      <td>-12.175933</td>\n",
       "      <td>-0.456140</td>\n",
       "      <td>0.0</td>\n",
       "      <td>7257600.0</td>\n",
       "    </tr>\n",
       "  </tbody>\n",
       "</table>\n",
       "<p>5 rows × 258 columns</p>\n",
       "</div>"
      ],
      "text/plain": [
       "          id  vas_id  buy_time_vas  ...        251  252  time_delta\n",
       "0   540968.0     8.0  1.537132e+09  ...  21.543859  0.0   4838400.0\n",
       "1  1454121.0     4.0  1.531688e+09  ...  -0.456140  0.0    604800.0\n",
       "2  2458816.0     1.0  1.534108e+09  ...  -0.456140  0.0   9072000.0\n",
       "3  3535012.0     5.0  1.535922e+09  ...  -0.456140  0.0   2419200.0\n",
       "4  1693214.0     1.0  1.535922e+09  ...  -0.456140  0.0   7257600.0\n",
       "\n",
       "[5 rows x 258 columns]"
      ]
     },
     "execution_count": 7,
     "metadata": {
      "tags": []
     },
     "output_type": "execute_result"
    }
   ],
   "source": [
    "train_data.head()"
   ]
  },
  {
   "cell_type": "markdown",
   "metadata": {
    "colab_type": "text",
    "id": "TmQSBA4k1QHp"
   },
   "source": [
    "## __Признаки:__\n",
    "* `buy_time_vas` - временной штамп отклика клиента на услугу;\n",
    "* `time_delta` - временной интервал в секундах, разница между временным штампом отклика клиента на услугу и временным штампом записи о профиле потребления клиента, по смыслу может отражать актуальность данных профиля потребления на момент отклика клиента на улсугу;\n",
    "* `id` - индивидуальный номер клиента;\n",
    "* `vas_id` - вид услуги;\n",
    "* 253 анонимизированных признака, отражающих профиль потребления клиента.\n",
    "\n",
    "Рассмотрим их подробнее."
   ]
  },
  {
   "cell_type": "markdown",
   "metadata": {
    "colab_type": "text",
    "id": "oiQrU8ll1QHp"
   },
   "source": [
    "### `buy_time_vas`:"
   ]
  },
  {
   "cell_type": "code",
   "execution_count": 8,
   "metadata": {
    "colab": {
     "base_uri": "https://localhost:8080/",
     "height": 119
    },
    "colab_type": "code",
    "id": "0_xMPwhq1QHq",
    "outputId": "def9e609-744d-484a-a526-1f968e5aaa84"
   },
   "outputs": [
    {
     "data": {
      "text/plain": [
       "729579   2018-09-03 00:00:48+03:00\n",
       "792320   2018-11-26 00:00:48+03:00\n",
       "560279   2018-07-23 00:00:48+03:00\n",
       "541471   2018-10-22 00:00:48+03:00\n",
       "777957   2018-09-10 00:00:48+03:00\n",
       "Name: buy_time_vas, dtype: datetime64[ns, Europe/Moscow]"
      ]
     },
     "execution_count": 8,
     "metadata": {
      "tags": []
     },
     "output_type": "execute_result"
    }
   ],
   "source": [
    "date = pd.to_datetime(train_data['buy_time_vas'], unit='s').dt.tz_localize('UTC').dt.tz_convert('Europe/Moscow')\n",
    "date.sample(5)"
   ]
  },
  {
   "cell_type": "markdown",
   "metadata": {
    "colab_type": "text",
    "id": "5ejxtApU1QHs"
   },
   "source": [
    "Присутствует только информация по дате.\n",
    "Рассмотрим количество уникальных составляющих даты по всему признаку:"
   ]
  },
  {
   "cell_type": "code",
   "execution_count": 9,
   "metadata": {
    "colab": {
     "base_uri": "https://localhost:8080/",
     "height": 119
    },
    "colab_type": "code",
    "id": "2iir4WgF1QHt",
    "outputId": "63a4e008-a33f-42d0-f7f9-b8563010bb8b",
    "scrolled": true
   },
   "outputs": [
    {
     "data": {
      "text/plain": [
       "month          6\n",
       "day           22\n",
       "dayofyear     26\n",
       "dayofweek      1\n",
       "weekofyear    26\n",
       "dtype: int64"
      ]
     },
     "execution_count": 9,
     "metadata": {
      "tags": []
     },
     "output_type": "execute_result"
    }
   ],
   "source": [
    "date_features = pd.DataFrame()\n",
    "date_features['month'] = date.dt.month\n",
    "date_features['day'] = date.dt.day\n",
    "date_features['dayofyear'] = date.dt.dayofyear\n",
    "date_features['dayofweek'] = date.dt.dayofweek\n",
    "date_features['weekofyear'] = date.dt.weekofyear\n",
    "date_features.nunique()"
   ]
  },
  {
   "cell_type": "markdown",
   "metadata": {
    "colab_type": "text",
    "id": "5g2C2JYs1QHx"
   },
   "source": [
    "* Имеются наблюдения за 6 месяцев. \n",
    "* Все наблюдения относятся к одному дню недели, соответственно, данные `day`, `dayofyear` не несут никакой полезной информации.\n",
    "* Признаки `month` и `weekofyear` по логике сильно коррелированы."
   ]
  },
  {
   "cell_type": "markdown",
   "metadata": {
    "colab_type": "text",
    "id": "ou0VES6a1QHx"
   },
   "source": [
    "Рассмотрим влияние номера недели в году на относительную частоту положительного отклика клиентов на услугу."
   ]
  },
  {
   "cell_type": "code",
   "execution_count": 10,
   "metadata": {
    "colab": {
     "base_uri": "https://localhost:8080/",
     "height": 336
    },
    "colab_type": "code",
    "id": "t3eZw_Do1QHy",
    "outputId": "cdda6ece-d3cb-4910-93fc-adda4a95ba05",
    "scrolled": false
   },
   "outputs": [
    {
     "data": {
      "image/png": "[encoded data removed]",
      "text/plain": [
       "<Figure size 1080x360 with 1 Axes>"
      ]
     },
     "metadata": {
      "needs_background": "light",
      "tags": []
     },
     "output_type": "display_data"
    }
   ],
   "source": [
    "week_target = pd.concat([train_data['target'], date, date_features['weekofyear']], axis=1).sort_values('buy_time_vas')\n",
    "week_target.groupby('weekofyear').mean().plot(style='-*', figsize=(15,5), grid=True)\n",
    "plt.show()"
   ]
  },
  {
   "cell_type": "markdown",
   "metadata": {
    "colab_type": "text",
    "id": "T0KXNb9x1QH1"
   },
   "source": [
    "Наблюдения `weekofyear`, имеющие значение 1, на самом деле относятся к самому концу года. Дело в том, что это дата 31 декабря 2018 года. И это понедельник - поэтому алгоритм определяет эту дату как первую неделю 2019 года. Но это не имеет значения. \n",
    "\n",
    "На графике наблюдается аномальный скачок частоты положительных откликов на 47 неделе. Это 19-25 ноября 2018 г., обычная рабочая неделя. Возможно, данная аномалия может объясняться запуском в этот период особых маркетинговых акций или рекламных кампаний, так как рост скачка резкий, а спад чуть медленнее, инертнее. В любом случае, такие аномалии будут только ухудшать модель, поэтому __не будем использовать временные данные `buy_time_vas` в обучении__."
   ]
  },
  {
   "cell_type": "markdown",
   "metadata": {
    "colab_type": "text",
    "id": "6tbQjlpb1QH1"
   },
   "source": [
    "### `time_delta`:\n",
    "Значения в секундах. Трансформируем данный признак в диапазоне значений от 0 до 1 и применим экспоненту от отрицательного значения. Чем больше временная разница, тем меньше вес. В конце проверим значения на пропуски."
   ]
  },
  {
   "cell_type": "code",
   "execution_count": 11,
   "metadata": {
    "colab": {},
    "colab_type": "code",
    "id": "-hg1nWG-1QH2"
   },
   "outputs": [],
   "source": [
    "w_sc = StandardScaler().fit_transform(train_data['time_delta'].values.reshape(-1,1))\n",
    "w = 1 / (1 + np.exp(w_sc))\n",
    "\n",
    "assert not np.isnan(w).any()"
   ]
  },
  {
   "cell_type": "code",
   "execution_count": 12,
   "metadata": {
    "colab": {
     "base_uri": "https://localhost:8080/",
     "height": 280
    },
    "colab_type": "code",
    "id": "TWHCltEQ1QH4",
    "outputId": "9f28f57f-ef51-4d4f-a508-bbdfc6f1d1ab"
   },
   "outputs": [
    {
     "data": {
      "image/png": "[encoded data removed]",
      "text/plain": [
       "<Figure size 432x288 with 1 Axes>"
      ]
     },
     "metadata": {
      "needs_background": "light",
      "tags": []
     },
     "output_type": "display_data"
    }
   ],
   "source": [
    "plt.scatter(train_data['time_delta'].values.reshape(-1,1)[:200]/(60*60*24*7),w[:200])\n",
    "plt.xlabel('Разница времени между откликом и профилем (time_delta), месяца')\n",
    "plt.ylabel('Вес')\n",
    "plt.show()"
   ]
  },
  {
   "cell_type": "code",
   "execution_count": 13,
   "metadata": {
    "colab": {},
    "colab_type": "code",
    "id": "2jBxuKwa1QH6"
   },
   "outputs": [],
   "source": [
    "train_data['time_delta'] = w"
   ]
  },
  {
   "cell_type": "markdown",
   "metadata": {
    "colab_type": "text",
    "id": "YgefOrBa1QH8"
   },
   "source": [
    "### `id`:\n",
    "Использование id в модели нецелесообразно. id - уникальный идентификатор клиента: как число исползовать нельзя, а как категорию практически невозможно, так как появляются новые клиенты. Поэтому id не будем использовать в обучающей выборке."
   ]
  },
  {
   "cell_type": "markdown",
   "metadata": {
    "colab_type": "text",
    "id": "4GAo58Z01QH9"
   },
   "source": [
    "### `target`:\n",
    "Целевая переменная, определяет отклик клиента на услугу.\n",
    "* 0 - клиент отказался от услуги\n",
    "* 1 - клиент подключил услугу\n",
    "\n",
    "Рассмотрим распределение переменной в обучающей выборке:"
   ]
  },
  {
   "cell_type": "code",
   "execution_count": 14,
   "metadata": {
    "colab": {
     "base_uri": "https://localhost:8080/",
     "height": 265
    },
    "colab_type": "code",
    "id": "v0DIOhJN1QH9",
    "outputId": "fecafc83-20ce-4a16-bff4-251c086a7e04"
   },
   "outputs": [
    {
     "data": {
      "image/png": "[encoded data removed]",
      "text/plain": [
       "<Figure size 432x288 with 1 Axes>"
      ]
     },
     "metadata": {
      "needs_background": "light",
      "tags": []
     },
     "output_type": "display_data"
    }
   ],
   "source": [
    "train_data['target'].value_counts().plot(kind='barh')\n",
    "plt.show()"
   ]
  },
  {
   "cell_type": "markdown",
   "metadata": {
    "colab_type": "text",
    "id": "W5Nt0J1B1QIA"
   },
   "source": [
    "Наблюдается сильная несбалансированность классов. Это необходимо будет учесть при построении моделей."
   ]
  },
  {
   "cell_type": "markdown",
   "metadata": {
    "colab_type": "text",
    "id": "yHuFU9oM1QIB"
   },
   "source": [
    "### `vas_id`:\n",
    "Идентификатор услуги. Рассмотрим распределение признака."
   ]
  },
  {
   "cell_type": "code",
   "execution_count": 15,
   "metadata": {
    "colab": {
     "base_uri": "https://localhost:8080/",
     "height": 265
    },
    "colab_type": "code",
    "id": "g6OILYu41QIB",
    "outputId": "c75a31a2-58f5-4fa6-d78f-bf349ea41e65"
   },
   "outputs": [
    {
     "data": {
      "image/png": "[encoded data removed]",
      "text/plain": [
       "<Figure size 432x288 with 1 Axes>"
      ]
     },
     "metadata": {
      "needs_background": "light",
      "tags": []
     },
     "output_type": "display_data"
    }
   ],
   "source": [
    "train_data['vas_id'].value_counts().plot(kind='barh')\n",
    "plt.show()"
   ]
  },
  {
   "cell_type": "markdown",
   "metadata": {
    "colab_type": "text",
    "id": "EJF-lefd1QIE"
   },
   "source": [
    "Будем использовать этот признак в качестве категориального.\n",
    "\n",
    "Остальные признаки сложно разведать, поэтому будем применять селекцию признаков, но сначала отделим от обучающих данных целевую переменную и определимся с типами признаков."
   ]
  },
  {
   "cell_type": "code",
   "execution_count": 16,
   "metadata": {
    "colab": {},
    "colab_type": "code",
    "id": "u6p7Ewk31QIE"
   },
   "outputs": [],
   "source": [
    "X = train_data.drop(['id','target','buy_time_vas'], axis=1)\n",
    "y = train_data['target']"
   ]
  },
  {
   "cell_type": "markdown",
   "metadata": {
    "colab_type": "text",
    "id": "8Z3RMRUB1QIG"
   },
   "source": [
    "# 2 Определение типов признаков"
   ]
  },
  {
   "cell_type": "code",
   "execution_count": 17,
   "metadata": {
    "colab": {
     "base_uri": "https://localhost:8080/",
     "height": 336
    },
    "colab_type": "code",
    "id": "v_zQBcCj1QIG",
    "outputId": "63e055b6-b624-4959-fed0-a36ec354dcde"
   },
   "outputs": [
    {
     "data": {
      "image/png": "[encoded data removed]",
      "text/plain": [
       "<Figure size 720x360 with 1 Axes>"
      ]
     },
     "metadata": {
      "needs_background": "light",
      "tags": []
     },
     "output_type": "display_data"
    }
   ],
   "source": [
    "X_nunique = X.apply(lambda x: x.nunique(dropna=False))\n",
    "plt.title(\"Распределение уникальных значений признаков\");\n",
    "X_nunique.hist(bins=50, figsize=(10, 5));"
   ]
  },
  {
   "cell_type": "markdown",
   "metadata": {
    "colab_type": "text",
    "id": "as6Gx__q1QIJ"
   },
   "source": [
    "#### Всего признаков"
   ]
  },
  {
   "cell_type": "code",
   "execution_count": 18,
   "metadata": {
    "colab": {
     "base_uri": "https://localhost:8080/",
     "height": 34
    },
    "colab_type": "code",
    "id": "AdKEOcqF1QIJ",
    "outputId": "289a5492-667a-4bb8-a41b-643c41c35f5d"
   },
   "outputs": [
    {
     "data": {
      "text/plain": [
       "255"
      ]
     },
     "execution_count": 18,
     "metadata": {
      "tags": []
     },
     "output_type": "execute_result"
    }
   ],
   "source": [
    "f_all = set(X_nunique.index.tolist())\n",
    "len(f_all)"
   ]
  },
  {
   "cell_type": "markdown",
   "metadata": {
    "colab_type": "text",
    "id": "LAN2ekFM1QIL"
   },
   "source": [
    "#### Константные признаки"
   ]
  },
  {
   "cell_type": "code",
   "execution_count": 19,
   "metadata": {
    "colab": {
     "base_uri": "https://localhost:8080/",
     "height": 34
    },
    "colab_type": "code",
    "id": "fi9bDYzV1QIM",
    "outputId": "7bb46334-fdaa-4b81-99c5-581d64032912"
   },
   "outputs": [
    {
     "data": {
      "text/plain": [
       "5"
      ]
     },
     "execution_count": 19,
     "metadata": {
      "tags": []
     },
     "output_type": "execute_result"
    }
   ],
   "source": [
    "f_const = set(X_nunique[X_nunique == 1].index.tolist())\n",
    "len(f_const)"
   ]
  },
  {
   "cell_type": "markdown",
   "metadata": {
    "colab_type": "text",
    "id": "gCeQrgqK1QIO"
   },
   "source": [
    "#### Числовые признаки"
   ]
  },
  {
   "cell_type": "code",
   "execution_count": 20,
   "metadata": {
    "colab": {
     "base_uri": "https://localhost:8080/",
     "height": 34
    },
    "colab_type": "code",
    "id": "Nz3i_CGV1QIO",
    "outputId": "a18d3ced-af99-4fe3-ccae-20826354ed2e"
   },
   "outputs": [
    {
     "data": {
      "text/plain": [
       "248"
      ]
     },
     "execution_count": 20,
     "metadata": {
      "tags": []
     },
     "output_type": "execute_result"
    }
   ],
   "source": [
    "f_numeric = (X.fillna(0).astype(int).sum() - X.fillna(0).sum()).abs()\n",
    "f_numeric = set(f_numeric[f_numeric > 0].index.tolist())\n",
    "len(f_numeric)"
   ]
  },
  {
   "cell_type": "markdown",
   "metadata": {
    "colab_type": "text",
    "id": "rDR5RRsS1QIQ"
   },
   "source": [
    "#### Категорийные признаки"
   ]
  },
  {
   "cell_type": "code",
   "execution_count": 21,
   "metadata": {
    "colab": {
     "base_uri": "https://localhost:8080/",
     "height": 34
    },
    "colab_type": "code",
    "id": "9KUCs7P11QIR",
    "outputId": "eee513cc-a87a-4dd2-fae7-b469cac1027b",
    "scrolled": true
   },
   "outputs": [
    {
     "data": {
      "text/plain": [
       "{'vas_id'}"
      ]
     },
     "execution_count": 21,
     "metadata": {
      "tags": []
     },
     "output_type": "execute_result"
    }
   ],
   "source": [
    "f_other = f_all - (f_numeric | f_const )\n",
    "f_categorical = set(X_nunique.loc[f_other][X_nunique.loc[f_other] <= 10].index.tolist())\n",
    "f_categorical"
   ]
  },
  {
   "cell_type": "markdown",
   "metadata": {
    "colab_type": "text",
    "id": "Dzu1FHCE1QIU"
   },
   "source": [
    "Прочие признаки"
   ]
  },
  {
   "cell_type": "code",
   "execution_count": 22,
   "metadata": {
    "colab": {
     "base_uri": "https://localhost:8080/",
     "height": 34
    },
    "colab_type": "code",
    "id": "LxjTbu6H1QIU",
    "outputId": "4bed8ac3-42f9-498b-9362-403d66fe8e63"
   },
   "outputs": [
    {
     "data": {
      "text/plain": [
       "{'252'}"
      ]
     },
     "execution_count": 22,
     "metadata": {
      "tags": []
     },
     "output_type": "execute_result"
    }
   ],
   "source": [
    "f_other = f_other - f_categorical\n",
    "f_other"
   ]
  },
  {
   "cell_type": "markdown",
   "metadata": {
    "colab_type": "text",
    "id": "XntfCYua1QIW"
   },
   "source": [
    "Рассмотрим признак `'252'`."
   ]
  },
  {
   "cell_type": "code",
   "execution_count": 23,
   "metadata": {
    "colab": {
     "base_uri": "https://localhost:8080/",
     "height": 181
    },
    "colab_type": "code",
    "id": "7PNbR35y1QIX",
    "outputId": "450b6708-c798-4be4-fd1b-5585b6ed4c60"
   },
   "outputs": [
    {
     "data": {
      "image/png": "[encoded data removed]",
      "text/plain": [
       "<Figure size 936x144 with 1 Axes>"
      ]
     },
     "metadata": {
      "needs_background": "light",
      "tags": []
     },
     "output_type": "display_data"
    }
   ],
   "source": [
    "train_data['252'].value_counts().plot(kind='bar',figsize=(13,2))\n",
    "plt.show()"
   ]
  },
  {
   "cell_type": "markdown",
   "metadata": {
    "colab_type": "text",
    "id": "_ytQ3ZhQ1QIZ"
   },
   "source": [
    "Видно, что признак 252 практически бинарный. Удалим (=nan) все значения, кроме 0 и 1."
   ]
  },
  {
   "cell_type": "code",
   "execution_count": 24,
   "metadata": {
    "colab": {},
    "colab_type": "code",
    "id": "q3SeYRfi1QIZ"
   },
   "outputs": [],
   "source": [
    "X.loc[X['252']>1,:] = X['252'].value_counts().argmax()"
   ]
  },
  {
   "cell_type": "code",
   "execution_count": 25,
   "metadata": {
    "colab": {
     "base_uri": "https://localhost:8080/",
     "height": 34
    },
    "colab_type": "code",
    "id": "RomQ0em-1QIb",
    "outputId": "9ca07f64-6d59-4838-d681-4d487ad36917"
   },
   "outputs": [
    {
     "data": {
      "text/plain": [
       "0"
      ]
     },
     "execution_count": 25,
     "metadata": {
      "tags": []
     },
     "output_type": "execute_result"
    }
   ],
   "source": [
    "f_categorical = f_categorical | {'252'}\n",
    "f_other = f_other - {'252'}\n",
    "len(f_other)"
   ]
  },
  {
   "cell_type": "markdown",
   "metadata": {
    "colab_type": "text",
    "id": "j24VflKz1QIe"
   },
   "source": [
    "Признак time_delta обозначим как весовой тип."
   ]
  },
  {
   "cell_type": "code",
   "execution_count": 26,
   "metadata": {
    "colab": {},
    "colab_type": "code",
    "id": "TcJmAUwu1QIe"
   },
   "outputs": [],
   "source": [
    "f_weight = {'time_delta'}\n",
    "f_numeric = (f_numeric | f_other ) - f_weight"
   ]
  },
  {
   "cell_type": "markdown",
   "metadata": {
    "colab_type": "text",
    "id": "_fwZSNR-1QIg"
   },
   "source": [
    "Проверка: не осталось ли пропущенных стобцов"
   ]
  },
  {
   "cell_type": "code",
   "execution_count": 27,
   "metadata": {
    "colab": {},
    "colab_type": "code",
    "id": "pM1cQA0a1QIh"
   },
   "outputs": [],
   "source": [
    "assert(X_nunique.shape[0] == len(f_const) + len(f_numeric) + len(f_categorical) + len(f_weight))"
   ]
  },
  {
   "cell_type": "markdown",
   "metadata": {
    "colab_type": "text",
    "id": "Y8rlA2zf1QIj"
   },
   "source": [
    "#### Итог"
   ]
  },
  {
   "cell_type": "code",
   "execution_count": 28,
   "metadata": {
    "colab": {
     "base_uri": "https://localhost:8080/",
     "height": 119
    },
    "colab_type": "code",
    "id": "0bFtrNd91QIk",
    "outputId": "cb1fc69c-a71a-468b-bd15-25c2f78a018d",
    "scrolled": false
   },
   "outputs": [
    {
     "name": "stdout",
     "output_type": "stream",
     "text": [
      "f_all: 255\n",
      "\n",
      "f_const: 5\n",
      "f_categorical: 2\n",
      "f_numeric: 247\n",
      "f_weght: 1\n"
     ]
    }
   ],
   "source": [
    "print('f_all:', X.shape[1])\n",
    "print()\n",
    "print('f_const:', len(f_const))\n",
    "print('f_categorical:', len(f_categorical))\n",
    "print('f_numeric:', len(f_numeric))\n",
    "print('f_weght:', len(f_weight))\n",
    "\n",
    "\n",
    "f_ok = list(f_categorical | f_numeric | f_weight)\n",
    "f_categorical, f_numeric, f_weight = list(f_categorical), list(f_numeric), list(f_weight)"
   ]
  },
  {
   "cell_type": "markdown",
   "metadata": {
    "colab_type": "text",
    "id": "_ySSEw4i1QIm"
   },
   "source": [
    "# 3 Логистическая регрессия\n",
    "### 3.1 Пайплайн для предобработки данных\n",
    "Логистическая регрессия требует отмасштабированные числовые признаки и перекодированные в числовые категориальные признаки. "
   ]
  },
  {
   "cell_type": "code",
   "execution_count": 29,
   "metadata": {
    "colab": {},
    "colab_type": "code",
    "id": "wT4fpBeU1QIn"
   },
   "outputs": [],
   "source": [
    "# пайплайн для числовых признаков\n",
    "f_num_pipepline = make_pipeline(\n",
    "    SimpleImputer(strategy=\"mean\"),\n",
    "    StandardScaler()\n",
    ")\n",
    "\n",
    "# пайплайн для категориальных признаков\n",
    "f_cat_pipepline = make_pipeline(\n",
    "    SimpleImputer(strategy=\"most_frequent\"),\n",
    "    OneHotEncoder(handle_unknown='ignore')\n",
    ")\n",
    "\n",
    "# объединяющий пайплайн\n",
    "preproc_pipeline = make_column_transformer(\n",
    "    (f_num_pipepline, f_numeric),\n",
    "    (f_cat_pipepline, f_categorical)\n",
    ")"
   ]
  },
  {
   "cell_type": "markdown",
   "metadata": {
    "colab_type": "text",
    "id": "ULBO09BU1QIo"
   },
   "source": [
    "## 3.2 Поиск и обучение модели с применением пайплайнов\n",
    "\n",
    "Схема пайплайна:\n",
    "\n",
    "__|Предобработка данных| >>> |Селекция признаков| >>> |Модель логистической регрессии|__\n",
    "\n",
    "Селектор признаков - `SelectPercentile()` с установкой `score_func=f_classif`. Данный селектор отбирает задаваемый процент лучших признаков, а оценочная функция `f_classif`предназначена для задач классификации.\n",
    "\n",
    "Модель логистической регрессии с автоматической балансировкой классов `class_weight='balanced'`."
   ]
  },
  {
   "cell_type": "code",
   "execution_count": 30,
   "metadata": {
    "colab": {},
    "colab_type": "code",
    "id": "NMS_B2q61QIp"
   },
   "outputs": [],
   "source": [
    "logreg_pp = Pipeline([\n",
    "    ('prepoc', preproc_pipeline),\n",
    "    ('selector', SelectPercentile()),\n",
    "    ('model', LogisticRegression(n_jobs=-1,\n",
    "                                 random_state=42,\n",
    "                                 class_weight='balanced',\n",
    "                                 max_iter=200))\n",
    "])"
   ]
  },
  {
   "cell_type": "markdown",
   "metadata": {
    "colab_type": "text",
    "id": "eJ23qAvI1QIr"
   },
   "source": [
    "#### Разделение на тренировочную, валидационную выборки и веса"
   ]
  },
  {
   "cell_type": "code",
   "execution_count": 31,
   "metadata": {
    "colab": {},
    "colab_type": "code",
    "id": "itPCI2BK1QIr"
   },
   "outputs": [],
   "source": [
    "X_train, X_valid, y_train, y_valid = train_test_split(X[f_ok], y, test_size=0.33, random_state=42)\n",
    "\n",
    "columns_data = X_train.columns.drop(f_weight)\n",
    "\n",
    "X_train_weight = X_train[f_weight].values.flatten()\n",
    "X_valid_weight = X_valid[f_weight].values.flatten()\n",
    "\n",
    "X_train = X_train.drop(f_weight, axis=1)\n",
    "X_valid = X_valid.drop(f_weight, axis=1)"
   ]
  },
  {
   "cell_type": "markdown",
   "metadata": {
    "colab_type": "text",
    "id": "RLDY28jX1QIt"
   },
   "source": [
    "#### Cетка гиперпараметров"
   ]
  },
  {
   "cell_type": "code",
   "execution_count": 32,
   "metadata": {
    "colab": {},
    "colab_type": "code",
    "id": "28vFB37o1QIt"
   },
   "outputs": [],
   "source": [
    "params = {\n",
    "    'selector__percentile': [10, 30],\n",
    "    'model__C': [0.1, 1, 10, 100]   \n",
    "}"
   ]
  },
  {
   "cell_type": "markdown",
   "metadata": {
    "colab_type": "text",
    "id": "ovmFV-TL1QIv"
   },
   "source": [
    "#### Поиск наилучшей модели по сетке гиперпараметров с использованием кросс-валидации"
   ]
  },
  {
   "cell_type": "code",
   "execution_count": 33,
   "metadata": {
    "colab": {},
    "colab_type": "code",
    "id": "AwIhbblb1QIv"
   },
   "outputs": [],
   "source": [
    "logreg_model = GridSearchCV(estimator=logreg_pp,\n",
    "                            param_grid=params,\n",
    "                            cv=3,\n",
    "                            scoring='roc_auc',\n",
    "                            n_jobs=-1,\n",
    "                            verbose=1,\n",
    "                            refit=True)"
   ]
  },
  {
   "cell_type": "code",
   "execution_count": 34,
   "metadata": {
    "colab": {
     "base_uri": "https://localhost:8080/",
     "height": 102
    },
    "colab_type": "code",
    "id": "2dEzqLmi1QIz",
    "outputId": "37919704-63fe-453d-df52-f9ea4517b175"
   },
   "outputs": [
    {
     "name": "stdout",
     "output_type": "stream",
     "text": [
      "Fitting 3 folds for each of 8 candidates, totalling 24 fits\n"
     ]
    },
    {
     "name": "stderr",
     "output_type": "stream",
     "text": [
      "[Parallel(n_jobs=-1)]: Using backend LokyBackend with 2 concurrent workers.\n",
      "[Parallel(n_jobs=-1)]: Done  24 out of  24 | elapsed:  4.1min finished\n"
     ]
    },
    {
     "name": "stdout",
     "output_type": "stream",
     "text": [
      "CPU times: user 6.79 s, sys: 2.92 s, total: 9.71 s\n",
      "Wall time: 4min 30s\n"
     ]
    }
   ],
   "source": [
    "%%time\n",
    "\n",
    "_ = logreg_model.fit(X_train, y_train, model__sample_weight=X_train_weight)"
   ]
  },
  {
   "cell_type": "markdown",
   "metadata": {
    "colab_type": "text",
    "id": "Lw3647FM1QI1"
   },
   "source": [
    "#### Параметры наилучшей модели"
   ]
  },
  {
   "cell_type": "code",
   "execution_count": 35,
   "metadata": {
    "colab": {
     "base_uri": "https://localhost:8080/",
     "height": 68
    },
    "colab_type": "code",
    "id": "tD6lBiNm1QI2",
    "outputId": "28ba2e06-d3f1-4f71-fc8d-3dcbbcd3a156"
   },
   "outputs": [
    {
     "data": {
      "text/plain": [
       "model__C                100\n",
       "selector__percentile     10\n",
       "dtype: int64"
      ]
     },
     "execution_count": 35,
     "metadata": {
      "tags": []
     },
     "output_type": "execute_result"
    }
   ],
   "source": [
    "pd.Series(logreg_model.best_params_)"
   ]
  },
  {
   "cell_type": "markdown",
   "metadata": {
    "colab_type": "text",
    "id": "pEH_FMOP1QI3"
   },
   "source": [
    "#### Предсказание на валидационной выборке\n",
    "* вероятность класса 1\n",
    "* метки"
   ]
  },
  {
   "cell_type": "code",
   "execution_count": 36,
   "metadata": {
    "colab": {},
    "colab_type": "code",
    "id": "V8W3gr1l1QI4"
   },
   "outputs": [],
   "source": [
    "logreg_proba_1 = logreg_model.predict_proba(X_valid)[:,1]\n",
    "logreg_pred = logreg_model.predict(X_valid)"
   ]
  },
  {
   "cell_type": "markdown",
   "metadata": {
    "colab_type": "text",
    "id": "DsW0lenV1QI6"
   },
   "source": [
    "## 3.3 Анализ результатов предсказания"
   ]
  },
  {
   "cell_type": "markdown",
   "metadata": {
    "colab_type": "text",
    "id": "-j1nqGHf1QI7"
   },
   "source": [
    "### ROC-кривая"
   ]
  },
  {
   "cell_type": "code",
   "execution_count": 37,
   "metadata": {
    "colab": {
     "base_uri": "https://localhost:8080/",
     "height": 475
    },
    "colab_type": "code",
    "id": "cI_lTX3p1QI7",
    "outputId": "49a07b01-cc62-44a5-a2a0-97416a0afd1d",
    "scrolled": false
   },
   "outputs": [
    {
     "name": "stdout",
     "output_type": "stream",
     "text": [
      "LogisticRegression: AUC_ROC = 0.847\n"
     ]
    },
    {
     "data": {
      "image/png": "[encoded data removed]",
      "text/plain": [
       "<Figure size 504x504 with 1 Axes>"
      ]
     },
     "metadata": {
      "needs_background": "light",
      "tags": []
     },
     "output_type": "display_data"
    }
   ],
   "source": [
    "fpr, tpr, _ = roc_curve(y_valid, logreg_proba_1)\n",
    "plt.figure(figsize=(7, 7))\n",
    "plot_roc_curve(fpr, tpr, \"LogisticRegression\", color='r')\n",
    "print(\"LogisticRegression: AUC_ROC = %.3f\" % auc(fpr, tpr))"
   ]
  },
  {
   "cell_type": "markdown",
   "metadata": {
    "colab_type": "text",
    "id": "cwA3DrQs1QI-"
   },
   "source": [
    "Достаточно хороший показатель метркии ROC AUC"
   ]
  },
  {
   "cell_type": "markdown",
   "metadata": {
    "colab_type": "text",
    "id": "JzfSaArD1QI_"
   },
   "source": [
    "### Precision-Recall-кривая"
   ]
  },
  {
   "cell_type": "code",
   "execution_count": 38,
   "metadata": {
    "colab": {
     "base_uri": "https://localhost:8080/",
     "height": 475
    },
    "colab_type": "code",
    "id": "POiAvo3o1QI_",
    "outputId": "334d996b-6887-42f5-dfa6-c271df2cad5e",
    "scrolled": false
   },
   "outputs": [
    {
     "name": "stdout",
     "output_type": "stream",
     "text": [
      "LogisticRegression: AUC_PR = 0.343\n"
     ]
    },
    {
     "data": {
      "image/png": "[encoded data removed]",
      "text/plain": [
       "<Figure size 504x504 with 1 Axes>"
      ]
     },
     "metadata": {
      "needs_background": "light",
      "tags": []
     },
     "output_type": "display_data"
    }
   ],
   "source": [
    "precision, recall, _ = precision_recall_curve(y_valid, logreg_proba_1)\n",
    "\n",
    "plt.figure(figsize=(7, 7))    \n",
    "plot_precision_recall_curve(precision, recall, \"LogisticRegression\", color='r')\n",
    "print(\"LogisticRegression: AUC_PR = %.3f\" % auc(recall, precision))"
   ]
  },
  {
   "cell_type": "markdown",
   "metadata": {
    "colab_type": "text",
    "id": "eIZ5bbzm1QJB"
   },
   "source": [
    "По графику видно, что значения точности выше ~0.4 достигнуть нельзя, но при этом почти не теряя точности можно добиться полноты до 0.8."
   ]
  },
  {
   "cell_type": "markdown",
   "metadata": {
    "colab_type": "text",
    "id": "WpsFAKIl1QJB"
   },
   "source": [
    "### Сonfusion matrix и практиекое применение результата"
   ]
  },
  {
   "cell_type": "code",
   "execution_count": 39,
   "metadata": {
    "colab": {
     "base_uri": "https://localhost:8080/",
     "height": 51
    },
    "colab_type": "code",
    "id": "pon51WAl1QJD",
    "outputId": "279829ad-95e6-423f-bcfa-53e981481a14"
   },
   "outputs": [
    {
     "name": "stdout",
     "output_type": "stream",
     "text": [
      "[[221015  33612]\n",
      " [  4126  15693]]\n"
     ]
    }
   ],
   "source": [
    "print(confusion_matrix(y_valid,logreg_pred))"
   ]
  },
  {
   "cell_type": "markdown",
   "metadata": {
    "colab_type": "text",
    "id": "Y7waTQH81QJF"
   },
   "source": [
    "Матрица смежности показывает \n",
    "* в  левом верхнем углу количество истинных предсказаний класса 0\n",
    "* в правом верхнем углу количество  ложных  предсказаний класса 1 (ошибка второго рода)\n",
    "* в  левом нижнем  углу количество  ложных  предсказаний класса 0 (ошибка первого рода)\n",
    "* в правом нижнем  углу количество истинных  предсказаний класса 1\n",
    "\n",
    "Если принять за нулевую гипотезу - положительный отклик клиента на услугу (класс 1), и осуществлять клиентам рассылку  предложений по подключению услуги согласно предсказаниям модели, то \n",
    "* количество ошибок первого рода характеризует сколько клиентов не получили предложения, хотя потенцаильно они готовы совершить подключение;\n",
    "* количество ошибок второго рода характеризует сколько клиентов получили предложения, хотя они не собираются совершать подключение.\n",
    " \n",
    "При построении стратегии рассылки предложений необходимо учитывать, что \n",
    "\n",
    "Прибыль оператора от положительного отклика клиента на услугу равна разнице между Доходом от клиента и Затратами на рассылку предложения этому клиенту.\n",
    "\n",
    "$$Прибыль = Доход - Затраты$$\n",
    "\n",
    "Таким образом, ошибка первого рода будет отражать какой Доход оператор потерял не отправив предложение. А ошибка второго рода - какие Затраты оператора на рассылку оказались напрасными.\n",
    "\n",
    "Итого реальная прибыль от кампании по рассылке предложений будет определяться формулой:\n",
    "\n",
    "$$REAL = N_+ \\cdot (Доход - Затрата) - N_{e2} \\cdot Затрата$$,\n",
    "\n",
    "а упущенная прибыль\n",
    "\n",
    "$$N_{e1} \\cdot (Доход - Затрата)$$,\n",
    "\n",
    "максимально возможная прибыль определяется формулой:\n",
    "\n",
    "$$MAX = (N_+ + N_{e1}) \\cdot (Доход - Затрата)$$\n",
    "\n",
    "где $N_+$ - количество положительных откликов на отправленное предложение\n",
    "\n",
    "$N_{e1}$ - количество упущенных клиентов, готовых подключить услугу (ош. 1 рода)\n",
    "\n",
    "$N_{e2}$ - количество напрастно отправленных предложений (ош. 2 рода)\n",
    "\n",
    "Для получения максимальной выгоды необходимо минимизировать разницу $MAX - REAL$, то есть упрощая выражение\n",
    "\n",
    "$$\\frac{Доход - Затраты}{Затраты} \\cdot N_{e1} + N_{e2} \\rightarrow min$$\n",
    "\n",
    "Так как Доход от подключения услуги, как правило, на несколько порядков превышает Затрату на рассылку предложения (например, услуга со стоимостью подключения 100 р., затрата на смс-рассылку 10 коп.), то $N_{e1}$ гораздо сильнее влияет, чем $N_{e2}$, на изменение выгоды. Максимально возможная выгода достигается лишь, когда $N_{e1}=N_{e2}=0$, то есть оператор абсолютно безошибочно разослал все предложения. Это практически невозможно и является идеальным случаем.\n",
    "\n",
    "Построим график количества ошибок 1 и 2 рода при разных порогах на предсказаниях нашей модели. Используя последнюю формулу и задавая конкретные значения Дохода `income` от услуги и Затрат `expense` на предложение найдем порог, при котором мы добъемся максимальной выгоды"
   ]
  },
  {
   "cell_type": "code",
   "execution_count": 40,
   "metadata": {
    "colab": {},
    "colab_type": "code",
    "id": "IQWJ-9NQ1QJF"
   },
   "outputs": [],
   "source": [
    "def plot_fp_fn_curve(y_true, y_pred_proba, threshold, income_expense):\n",
    "    \n",
    "    plt.figure(figsize=(10, 5))  \n",
    "    \n",
    "    fp_fn_thr = list()\n",
    "    for thr in threshold:\n",
    "        y_pred = np.ones(y_pred_proba.shape)\n",
    "        y_pred[y_pred_proba<thr] = 0\n",
    "        fp, fn = confusion_matrix(y_true, y_pred).ravel()[1:3]\n",
    "        fp_fn_thr.append([fp, fn, thr])\n",
    "        \n",
    "    vectors = np.array(fp_fn_thr)[:,0:2]\n",
    "    thresholds = np.array(fp_fn_thr)[:,2]\n",
    "    plt.plot(vectors[:,0], vectors[:,1], c='black', label='model FP-FN-curve', alpha=0.5)\n",
    "    \n",
    "    for income, expense in income_expense:\n",
    "        coef = income / expense - 1\n",
    "        ie_vectors = vectors.copy()\n",
    "        ie_vectors[:,1] = ie_vectors[:,1] * coef        \n",
    "        norms = np.linalg.norm(ie_vectors, axis=1)\n",
    "        min_idx = np.where(norms == np.amin(norms))\n",
    "        plt.scatter(vectors[min_idx,0],\n",
    "                    vectors[min_idx,1],                   \n",
    "                    label=f'income:{income}, expense:{expense}, threshold:{thresholds[min_idx][0]:.2f}')\n",
    "    \n",
    "    plt.legend(loc=\"upper right\")\n",
    "    plt.xlabel('False Positive')\n",
    "    plt.ylabel('False Negative')\n",
    "    plt.show()     "
   ]
  },
  {
   "cell_type": "code",
   "execution_count": 41,
   "metadata": {
    "colab": {
     "base_uri": "https://localhost:8080/",
     "height": 334
    },
    "colab_type": "code",
    "id": "miv_4I3Q1QJH",
    "outputId": "c1cad7f7-57a8-4ebb-88e0-04e1507151c0"
   },
   "outputs": [
    {
     "data": {
      "image/png": "[encoded data removed]",
      "text/plain": [
       "<Figure size 720x360 with 1 Axes>"
      ]
     },
     "metadata": {
      "needs_background": "light",
      "tags": []
     },
     "output_type": "display_data"
    }
   ],
   "source": [
    "income_expense = [[100, 0.1],\n",
    "                  [50, 1],\n",
    "                  [5, 1]]\n",
    "\n",
    "plot_fp_fn_curve(y_valid, logreg_proba_1, np.linspace(0.1,0.9,20), income_expense)"
   ]
  },
  {
   "cell_type": "markdown",
   "metadata": {
    "colab_type": "text",
    "id": "JhwaQe5tShuo"
   },
   "source": [
    "* доход 100 р., затраты 10 коп. - наиболее оптимальный порог для предсказаний с максимальной выгодой - 0.14\n",
    "* доход 50 р., затраты 1 руб. - наиболее оптимальный порог для предсказаний с максимальной выгодой - 0.23\n",
    "* доход 5 р., затраты 1 руб. - наиболее оптимальный порог для предсказаний с максимальной выгодой - 0.77"
   ]
  },
  {
   "cell_type": "markdown",
   "metadata": {
    "colab_type": "text",
    "id": "rzair7fk1QJJ"
   },
   "source": [
    "# 4 Библиотека Catboost"
   ]
  },
  {
   "cell_type": "markdown",
   "metadata": {
    "colab_type": "text",
    "id": "k27eT0pX8ho4"
   },
   "source": [
    "### 4.1 Предобработка данных\n",
    "Catboost не требует масштабировать числовые признаки и кодировать категориальные. "
   ]
  },
  {
   "cell_type": "code",
   "execution_count": 42,
   "metadata": {
    "colab": {},
    "colab_type": "code",
    "id": "dcenQ94Y1QJK"
   },
   "outputs": [],
   "source": [
    "selector = SelectPercentile()\n",
    "X_cat = selector.fit_transform(X[f_ok], y)\n",
    "columns = X[f_ok].columns\n",
    "support = selector.get_support()\n",
    "selected_columns = columns[support]\n",
    "\n",
    "for feat in f_categorical+f_weight:\n",
    "    assert feat in selected_columns\n",
    "\n",
    "X_cat = pd.DataFrame(X_cat, columns=selected_columns)\n",
    "\n",
    "X_cat[f_categorical] = X_cat[f_categorical].astype('int').astype('category')"
   ]
  },
  {
   "cell_type": "code",
   "execution_count": 43,
   "metadata": {
    "colab": {},
    "colab_type": "code",
    "id": "_ZWcw2QLIaaA"
   },
   "outputs": [],
   "source": [
    "X_train_cat, X_valid_cat, y_train_cat, y_valid_cat = train_test_split(X_cat, y, test_size=0.33, random_state=42)"
   ]
  },
  {
   "cell_type": "markdown",
   "metadata": {
    "colab_type": "text",
    "id": "WnmsTfMk1QJM"
   },
   "source": [
    "### 4.2 Модель CatBoostClassifier\n",
    "* Функция потерь: Logloss\n",
    "* Автобалансировка классов"
   ]
  },
  {
   "cell_type": "code",
   "execution_count": 44,
   "metadata": {
    "colab": {},
    "colab_type": "code",
    "id": "s4qVS2Ln1QJM"
   },
   "outputs": [],
   "source": [
    "cat_model = CatBoostClassifier(loss_function='Logloss',\n",
    "                               random_seed = 42,\n",
    "                               auto_class_weights='Balanced',\n",
    "                               task_type='GPU',\n",
    "                               logging_level='Verbose',\n",
    "                               cat_features=f_categorical,\n",
    "                               od_type='IncToDec')"
   ]
  },
  {
   "cell_type": "markdown",
   "metadata": {
    "colab_type": "text",
    "id": "6FhtFXCh1QJO"
   },
   "source": [
    "#### Сетка гиперпараметров\n",
    "* количество деревьев\n",
    "* скорость обучения\n",
    "* глубина дерева\n",
    "* регуляризация"
   ]
  },
  {
   "cell_type": "code",
   "execution_count": 45,
   "metadata": {
    "colab": {},
    "colab_type": "code",
    "id": "y550bPfS1QJO"
   },
   "outputs": [],
   "source": [
    "grid = {\n",
    "    'n_estimators' : [100, 200, 500],\n",
    "    'learning_rate': [0.1, 0.5, 1],\n",
    "    'depth': [2, 3, 6, 8],\n",
    "    'l2_leaf_reg': [1, 5, 10, 20]\n",
    "}"
   ]
  },
  {
   "cell_type": "markdown",
   "metadata": {
    "colab_type": "text",
    "id": "4q3w1opP1QJR"
   },
   "source": [
    "#### Рандомизированный поиск по сетке с применением кросс-валидации\n",
    "Случайным образом по сетке параметров выбирается и проверяется 30 наборов гиперпараметров."
   ]
  },
  {
   "cell_type": "code",
   "execution_count": 46,
   "metadata": {
    "colab": {
     "base_uri": "https://localhost:8080/",
     "height": 527
    },
    "colab_type": "code",
    "id": "3fFJ6WsM1QJR",
    "outputId": "e91e560f-f7ac-417e-fabf-e82e5fff3fed"
   },
   "outputs": [
    {
     "name": "stdout",
     "output_type": "stream",
     "text": [
      "0:\tloss: 0.4444949\tbest: 0.4444949 (0)\ttotal: 25.6s\tremaining: 12m 22s\n",
      "1:\tloss: 0.4447084\tbest: 0.4444949 (0)\ttotal: 1m 26s\tremaining: 20m 9s\n",
      "2:\tloss: 0.4443586\tbest: 0.4443586 (2)\ttotal: 2m 27s\tremaining: 22m 9s\n",
      "3:\tloss: 0.4443253\tbest: 0.4443253 (3)\ttotal: 3m 29s\tremaining: 22m 39s\n",
      "4:\tloss: 0.4447055\tbest: 0.4443253 (3)\ttotal: 4m 31s\tremaining: 22m 37s\n",
      "5:\tloss: 0.4447278\tbest: 0.4443253 (3)\ttotal: 4m 46s\tremaining: 19m 4s\n",
      "6:\tloss: 0.4442212\tbest: 0.4442212 (6)\ttotal: 5m\tremaining: 16m 27s\n",
      "7:\tloss: 0.4441364\tbest: 0.4441364 (7)\ttotal: 5m 15s\tremaining: 14m 26s\n",
      "8:\tloss: 0.4440505\tbest: 0.4440505 (8)\ttotal: 5m 43s\tremaining: 13m 20s\n",
      "9:\tloss: 0.4440463\tbest: 0.4440463 (9)\ttotal: 6m 10s\tremaining: 12m 20s\n",
      "10:\tloss: 0.4444223\tbest: 0.4440463 (9)\ttotal: 6m 38s\tremaining: 11m 28s\n",
      "11:\tloss: 0.4440337\tbest: 0.4440337 (11)\ttotal: 7m 6s\tremaining: 10m 39s\n",
      "12:\tloss: 0.4453832\tbest: 0.4440337 (11)\ttotal: 8m 12s\tremaining: 10m 44s\n",
      "13:\tloss: 0.4441007\tbest: 0.4440337 (11)\ttotal: 9m 21s\tremaining: 10m 41s\n",
      "14:\tloss: 0.4451870\tbest: 0.4440337 (11)\ttotal: 10m 27s\tremaining: 10m 27s\n",
      "15:\tloss: 0.4452028\tbest: 0.4440337 (11)\ttotal: 11m 34s\tremaining: 10m 8s\n",
      "16:\tloss: 0.4450547\tbest: 0.4440337 (11)\ttotal: 11m 54s\tremaining: 9m 6s\n",
      "17:\tloss: 0.4444903\tbest: 0.4440337 (11)\ttotal: 12m 15s\tremaining: 8m 10s\n",
      "18:\tloss: 0.4439261\tbest: 0.4439261 (18)\ttotal: 12m 35s\tremaining: 7m 17s\n",
      "19:\tloss: 0.4444911\tbest: 0.4439261 (18)\ttotal: 13m 18s\tremaining: 6m 39s\n",
      "20:\tloss: 0.4452666\tbest: 0.4439261 (18)\ttotal: 14m 1s\tremaining: 6m\n",
      "21:\tloss: 0.4439368\tbest: 0.4439261 (18)\ttotal: 14m 48s\tremaining: 5m 23s\n",
      "22:\tloss: 0.4461902\tbest: 0.4439261 (18)\ttotal: 16m 25s\tremaining: 4m 59s\n",
      "23:\tloss: 0.4439778\tbest: 0.4439261 (18)\ttotal: 16m 58s\tremaining: 4m 14s\n",
      "24:\tloss: 0.4441589\tbest: 0.4439261 (18)\ttotal: 18m 4s\tremaining: 3m 36s\n",
      "25:\tloss: 0.4446040\tbest: 0.4439261 (18)\ttotal: 19m 10s\tremaining: 2m 56s\n",
      "26:\tloss: 0.4439888\tbest: 0.4439261 (18)\ttotal: 20m 18s\tremaining: 2m 15s\n",
      "27:\tloss: 0.4439629\tbest: 0.4439261 (18)\ttotal: 21m 31s\tremaining: 1m 32s\n",
      "28:\tloss: 0.4437130\tbest: 0.4437130 (28)\ttotal: 24m 7s\tremaining: 49.9s\n",
      "29:\tloss: 0.4443864\tbest: 0.4437130 (28)\ttotal: 26m 34s\tremaining: 0us\n"
     ]
    }
   ],
   "source": [
    "search_result = cat_model.randomized_search(grid,\n",
    "                                            X=X_train_cat,\n",
    "                                            y=y_train_cat,\n",
    "                                            cv=3,\n",
    "                                            stratified=True,\n",
    "                                            search_by_train_test_split=False,\n",
    "                                            n_iter=30)"
   ]
  },
  {
   "cell_type": "markdown",
   "metadata": {
    "colab_type": "text",
    "id": "Y8lN_nPM7dOP"
   },
   "source": [
    "#### Параметры наилучшей модели"
   ]
  },
  {
   "cell_type": "code",
   "execution_count": 47,
   "metadata": {
    "colab": {
     "base_uri": "https://localhost:8080/",
     "height": 119
    },
    "colab_type": "code",
    "id": "5QmU3hot1QJU",
    "outputId": "6032be0e-12ec-467b-c182-091c011ab98a"
   },
   "outputs": [
    {
     "name": "stdout",
     "output_type": "stream",
     "text": [
      "Лучшие гиперпараметры:\n"
     ]
    },
    {
     "data": {
      "text/plain": [
       "depth              8.0\n",
       "l2_leaf_reg        5.0\n",
       "iterations       500.0\n",
       "learning_rate      0.1\n",
       "dtype: float64"
      ]
     },
     "execution_count": 47,
     "metadata": {
      "tags": []
     },
     "output_type": "execute_result"
    }
   ],
   "source": [
    "best_cat_params = search_result['params']\n",
    "print(\"Лучшие гиперпараметры:\")\n",
    "pd.Series(best_cat_params)"
   ]
  },
  {
   "cell_type": "markdown",
   "metadata": {
    "colab_type": "text",
    "id": "6oGwVl_l7xqV"
   },
   "source": [
    "#### Предсказание на валидационной выборке\n",
    "* вероятность класса 1\n",
    "* метки"
   ]
  },
  {
   "cell_type": "code",
   "execution_count": 48,
   "metadata": {
    "colab": {},
    "colab_type": "code",
    "id": "ML9ybuu81QJV"
   },
   "outputs": [],
   "source": [
    "cat_proba_1 = cat_model.predict_proba(X_valid_cat)[:,1]\n",
    "cat_pred = cat_model.predict(X_valid_cat)"
   ]
  },
  {
   "cell_type": "markdown",
   "metadata": {
    "colab_type": "text",
    "id": "-B1P2z7S8Uiz"
   },
   "source": [
    "## 4.3 Анализ результатов предсказания"
   ]
  },
  {
   "cell_type": "markdown",
   "metadata": {
    "colab_type": "text",
    "id": "PypAFqMS8Ui0"
   },
   "source": [
    "### ROC-кривая"
   ]
  },
  {
   "cell_type": "code",
   "execution_count": 49,
   "metadata": {
    "colab": {
     "base_uri": "https://localhost:8080/",
     "height": 492
    },
    "colab_type": "code",
    "id": "fsb9bR1f8Ui1",
    "outputId": "198c84e3-9e92-46dc-86e4-a9dba7c1089c",
    "scrolled": false
   },
   "outputs": [
    {
     "name": "stdout",
     "output_type": "stream",
     "text": [
      "CatBoostClassifier: AUC_ROC = 0.866\n",
      "LogisticRegression: AUC_ROC = 0.847\n"
     ]
    },
    {
     "data": {
      "image/png": "[encoded data removed]",
      "text/plain": [
       "<Figure size 504x504 with 1 Axes>"
      ]
     },
     "metadata": {
      "needs_background": "light",
      "tags": []
     },
     "output_type": "display_data"
    }
   ],
   "source": [
    "fpr, tpr, _ = roc_curve(y_valid_cat, cat_proba_1)\n",
    "plt.figure(figsize=(7, 7))\n",
    "plot_roc_curve(fpr, tpr, \"CatBoostClassifier\", color='b')\n",
    "print(\"CatBoostClassifier: AUC_ROC = %.3f\" % auc(fpr, tpr))\n",
    "\n",
    "fpr, tpr, _ = roc_curve(y_valid, logreg_proba_1)\n",
    "plot_roc_curve(fpr, tpr, \"\", color='r')\n",
    "print(\"LogisticRegression: AUC_ROC = %.3f\" % auc(fpr, tpr))"
   ]
  },
  {
   "cell_type": "markdown",
   "metadata": {
    "colab_type": "text",
    "id": "W_TkTHGX8Ui4"
   },
   "source": [
    "Catboost имеет чуть лучший показатель."
   ]
  },
  {
   "cell_type": "markdown",
   "metadata": {
    "colab_type": "text",
    "id": "Z8_0fcm78Ui4"
   },
   "source": [
    "### Precision-Recall-кривая"
   ]
  },
  {
   "cell_type": "code",
   "execution_count": 50,
   "metadata": {
    "colab": {
     "base_uri": "https://localhost:8080/",
     "height": 492
    },
    "colab_type": "code",
    "id": "b-n2-l2f8Ui5",
    "outputId": "b7d83bd0-871d-4a31-9fc7-2f916fef6940",
    "scrolled": false
   },
   "outputs": [
    {
     "name": "stdout",
     "output_type": "stream",
     "text": [
      "CatBoostClassifier: AUC_PR = 0.355\n",
      "LogisticRegression: AUC_PR = 0.343\n"
     ]
    },
    {
     "data": {
      "image/png": "[encoded data removed]",
      "text/plain": [
       "<Figure size 504x504 with 1 Axes>"
      ]
     },
     "metadata": {
      "needs_background": "light",
      "tags": []
     },
     "output_type": "display_data"
    }
   ],
   "source": [
    "precision, recall, _ = precision_recall_curve(y_valid_cat, cat_proba_1)\n",
    "plt.figure(figsize=(7, 7))    \n",
    "plot_precision_recall_curve(precision, recall, \"CatBoostClassifier\", color='b')\n",
    "print(\"CatBoostClassifier: AUC_PR = %.3f\" % auc(recall, precision))\n",
    "\n",
    "precision, recall, _ = precision_recall_curve(y_valid, logreg_proba_1) \n",
    "plot_precision_recall_curve(precision, recall, \"\", color='r')\n",
    "print(\"LogisticRegression: AUC_PR = %.3f\" % auc(recall, precision))"
   ]
  },
  {
   "cell_type": "markdown",
   "metadata": {
    "colab_type": "text",
    "id": "1ezeqqX38Ui7"
   },
   "source": [
    "По графику видно, что значения точности выше ~0.4 достигнуть нельзя, но при этом почти не теряя точности можно добиться полноты до 0.8."
   ]
  },
  {
   "cell_type": "markdown",
   "metadata": {
    "colab_type": "text",
    "id": "wPvOYZv88Ui7"
   },
   "source": [
    "### Сonfusion matrix и практическое применение результата"
   ]
  },
  {
   "cell_type": "code",
   "execution_count": 51,
   "metadata": {
    "colab": {
     "base_uri": "https://localhost:8080/",
     "height": 51
    },
    "colab_type": "code",
    "id": "FHiOHrzN8Ui8",
    "outputId": "de7e8494-4e48-4ef5-fdc1-ce25c56007e8"
   },
   "outputs": [
    {
     "name": "stdout",
     "output_type": "stream",
     "text": [
      "[[221258  33369]\n",
      " [  4138  15681]]\n"
     ]
    }
   ],
   "source": [
    "print(confusion_matrix(y_valid,cat_pred))"
   ]
  },
  {
   "cell_type": "markdown",
   "metadata": {
    "colab_type": "text",
    "id": "vimzXBB08Ui9"
   },
   "source": [
    "Построим график аналогично логистической регрессии"
   ]
  },
  {
   "cell_type": "code",
   "execution_count": 52,
   "metadata": {
    "colab": {
     "base_uri": "https://localhost:8080/",
     "height": 334
    },
    "colab_type": "code",
    "id": "x3hZB3PB8Ui_",
    "outputId": "d723f7c8-e4cb-4e8e-8694-c6669d409646"
   },
   "outputs": [
    {
     "data": {
      "image/png": "[encoded data removed]",
      "text/plain": [
       "<Figure size 720x360 with 1 Axes>"
      ]
     },
     "metadata": {
      "needs_background": "light",
      "tags": []
     },
     "output_type": "display_data"
    }
   ],
   "source": [
    "income_expense = [[100, 0.1],\n",
    "                  [50, 1],\n",
    "                  [5, 1]]\n",
    "\n",
    "plot_fp_fn_curve(y_valid_cat, cat_proba_1, np.linspace(0.1,0.9,20), income_expense)"
   ]
  },
  {
   "cell_type": "markdown",
   "metadata": {
    "colab_type": "text",
    "id": "tFxc47gvRy2f"
   },
   "source": [
    "* доход 100 р., затраты 10 коп. - наиболее оптимальный порог для предсказаний с максимальной выгодой - 0.1\n",
    "* доход 50 р., затраты 1 руб. - наиболее оптимальный порог для предсказаний с максимальной выгодой - 0.23\n",
    "* доход 5 р., затраты 1 руб. - наиболее оптимальный порог для предсказаний с максимальной выгодой - 0.77"
   ]
  },
  {
   "cell_type": "markdown",
   "metadata": {
    "colab_type": "text",
    "id": "VQqhUoMbDBHT"
   },
   "source": [
    "# 5 Финальная модель и предсказание на тестовых данных"
   ]
  },
  {
   "cell_type": "markdown",
   "metadata": {
    "colab_type": "text",
    "id": "0jAAP0XmQTME"
   },
   "source": [
    "### Предобработка и селекция полной тренирововчной выборки"
   ]
  },
  {
   "cell_type": "code",
   "execution_count": 53,
   "metadata": {
    "colab": {},
    "colab_type": "code",
    "id": "_lzI0FnWD9re"
   },
   "outputs": [],
   "source": [
    "selector = SelectPercentile()\n",
    "X_cat_fin = selector.fit_transform(X[f_ok], y)\n",
    "columns = X[f_ok].columns\n",
    "support = selector.get_support()\n",
    "selected_columns = columns[support]\n",
    "\n",
    "for feat in f_categorical+f_weight:\n",
    "    assert feat in selected_columns\n",
    "\n",
    "X_cat_fin = pd.DataFrame(X_cat_fin, columns=selected_columns)\n",
    "\n",
    "X_cat_fin[f_categorical] = X_cat_fin[f_categorical].astype('int').astype('category')"
   ]
  },
  {
   "cell_type": "markdown",
   "metadata": {
    "colab_type": "text",
    "id": "mQb8LE5cQf4b"
   },
   "source": [
    "### Обучение финальной модели Catboost"
   ]
  },
  {
   "cell_type": "code",
   "execution_count": 54,
   "metadata": {
    "colab": {},
    "colab_type": "code",
    "id": "La1hk1oI99nJ"
   },
   "outputs": [],
   "source": [
    "fin_model = CatBoostClassifier(loss_function='Logloss',\n",
    "                               random_seed = 42,\n",
    "                               auto_class_weights='Balanced',\n",
    "                               task_type='GPU',\n",
    "                               logging_level='Silent',\n",
    "                               cat_features=f_categorical,\n",
    "                               od_type='IncToDec',\n",
    "                               **best_cat_params)"
   ]
  },
  {
   "cell_type": "code",
   "execution_count": 55,
   "metadata": {
    "colab": {
     "base_uri": "https://localhost:8080/",
     "height": 34
    },
    "colab_type": "code",
    "id": "N_vgehRvDnYS",
    "outputId": "fde942c7-f76e-48e5-bb10-3b810c63a3c0"
   },
   "outputs": [
    {
     "data": {
      "text/plain": [
       "<catboost.core.CatBoostClassifier at 0x7fbe89d5e390>"
      ]
     },
     "execution_count": 55,
     "metadata": {
      "tags": []
     },
     "output_type": "execute_result"
    }
   ],
   "source": [
    "fin_model.fit(X=X_cat_fin, y=y)"
   ]
  },
  {
   "cell_type": "markdown",
   "metadata": {
    "colab_type": "text",
    "id": "ivFQ0WMlQsYg"
   },
   "source": [
    "### сохранение финальной модели в pickle"
   ]
  },
  {
   "cell_type": "code",
   "execution_count": 56,
   "metadata": {
    "colab": {},
    "colab_type": "code",
    "id": "_193QnLKKzxy"
   },
   "outputs": [],
   "source": [
    "import pickle\n",
    "with open('/content/drive/My Drive/Colab Notebooks/megafon/final/final_model.pkl', 'wb') as file:\n",
    "        pickle.dump(fin_model, file)"
   ]
  },
  {
   "cell_type": "markdown",
   "metadata": {
    "colab_type": "text",
    "id": "yzg7LeuuQrZR"
   },
   "source": [
    "### Загрузка, предобработка и селекция тестовых данных"
   ]
  },
  {
   "cell_type": "code",
   "execution_count": 57,
   "metadata": {
    "colab": {},
    "colab_type": "code",
    "id": "a3C2JB2TLNro"
   },
   "outputs": [],
   "source": [
    "test_data = pd.read_pickle(test_path)"
   ]
  },
  {
   "cell_type": "code",
   "execution_count": 58,
   "metadata": {
    "colab": {},
    "colab_type": "code",
    "id": "9JTXnyPDLf-o"
   },
   "outputs": [],
   "source": [
    "w_sc = StandardScaler().fit_transform(test_data['time_delta'].values.reshape(-1,1))\n",
    "w = 1 / (1 + np.exp(w_sc))\n",
    "\n",
    "assert not np.isnan(w).any()\n",
    "\n",
    "test_data['time_delta'] = w\n",
    "\n",
    "X_test = test_data.drop(['id','buy_time_vas'], axis=1)\n",
    "\n",
    "X_test.loc[X_test['252']>1,:] = X_test['252'].value_counts().argmax()\n",
    "\n",
    "X_cat_test = selector.transform(X_test[f_ok])\n",
    "\n",
    "X_cat_test = pd.DataFrame(X_cat_test, columns=selected_columns)\n",
    "\n",
    "X_cat_test[f_categorical] = X_cat_test[f_categorical].astype('int').astype('category')"
   ]
  },
  {
   "cell_type": "markdown",
   "metadata": {
    "colab_type": "text",
    "id": "-DqWTIxKRIEx"
   },
   "source": [
    "### Предсказание на тестовых данных"
   ]
  },
  {
   "cell_type": "code",
   "execution_count": 59,
   "metadata": {
    "colab": {},
    "colab_type": "code",
    "id": "94rVz_UaNjPO"
   },
   "outputs": [],
   "source": [
    "test_pred_proba = fin_model.predict_proba(X_cat_test)[:,1]"
   ]
  },
  {
   "cell_type": "markdown",
   "metadata": {
    "colab_type": "text",
    "id": "lFDU49nMRIwt"
   },
   "source": [
    "### Формирование отчетного файла с предсказаниями и его сохранение в answers_test.csv"
   ]
  },
  {
   "cell_type": "code",
   "execution_count": 60,
   "metadata": {
    "colab": {},
    "colab_type": "code",
    "id": "_-cZXUoDOA-f"
   },
   "outputs": [],
   "source": [
    "answers_test = test_data[['buy_time_vas', 'id', 'vas_id']].rename({'buy_time_vas': 'buy_time'}).copy()"
   ]
  },
  {
   "cell_type": "code",
   "execution_count": 61,
   "metadata": {
    "colab": {},
    "colab_type": "code",
    "id": "3pyuvPj9OCb_"
   },
   "outputs": [],
   "source": [
    "answers_test['target'] = test_pred_proba"
   ]
  },
  {
   "cell_type": "code",
   "execution_count": 62,
   "metadata": {
    "colab": {
     "base_uri": "https://localhost:8080/",
     "height": 204
    },
    "colab_type": "code",
    "id": "AndcJI1gPOi4",
    "outputId": "46fcd8cd-d94b-4a1d-da2b-666d1da3bda4"
   },
   "outputs": [
    {
     "data": {
      "text/html": [
       "<div>\n",
       "<style scoped>\n",
       "    .dataframe tbody tr th:only-of-type {\n",
       "        vertical-align: middle;\n",
       "    }\n",
       "\n",
       "    .dataframe tbody tr th {\n",
       "        vertical-align: top;\n",
       "    }\n",
       "\n",
       "    .dataframe thead th {\n",
       "        text-align: right;\n",
       "    }\n",
       "</style>\n",
       "<table border=\"1\" class=\"dataframe\">\n",
       "  <thead>\n",
       "    <tr style=\"text-align: right;\">\n",
       "      <th></th>\n",
       "      <th>buy_time_vas</th>\n",
       "      <th>id</th>\n",
       "      <th>vas_id</th>\n",
       "      <th>target</th>\n",
       "    </tr>\n",
       "  </thead>\n",
       "  <tbody>\n",
       "    <tr>\n",
       "      <th>0</th>\n",
       "      <td>1.548018e+09</td>\n",
       "      <td>3130519.0</td>\n",
       "      <td>2.0</td>\n",
       "      <td>0.165960</td>\n",
       "    </tr>\n",
       "    <tr>\n",
       "      <th>1</th>\n",
       "      <td>1.548018e+09</td>\n",
       "      <td>2000860.0</td>\n",
       "      <td>4.0</td>\n",
       "      <td>0.769460</td>\n",
       "    </tr>\n",
       "    <tr>\n",
       "      <th>2</th>\n",
       "      <td>1.546808e+09</td>\n",
       "      <td>1099444.0</td>\n",
       "      <td>2.0</td>\n",
       "      <td>0.274899</td>\n",
       "    </tr>\n",
       "    <tr>\n",
       "      <th>3</th>\n",
       "      <td>1.547413e+09</td>\n",
       "      <td>1343255.0</td>\n",
       "      <td>5.0</td>\n",
       "      <td>0.198435</td>\n",
       "    </tr>\n",
       "    <tr>\n",
       "      <th>4</th>\n",
       "      <td>1.546808e+09</td>\n",
       "      <td>1277040.0</td>\n",
       "      <td>2.0</td>\n",
       "      <td>0.178392</td>\n",
       "    </tr>\n",
       "  </tbody>\n",
       "</table>\n",
       "</div>"
      ],
      "text/plain": [
       "   buy_time_vas         id  vas_id    target\n",
       "0  1.548018e+09  3130519.0     2.0  0.165960\n",
       "1  1.548018e+09  2000860.0     4.0  0.769460\n",
       "2  1.546808e+09  1099444.0     2.0  0.274899\n",
       "3  1.547413e+09  1343255.0     5.0  0.198435\n",
       "4  1.546808e+09  1277040.0     2.0  0.178392"
      ]
     },
     "execution_count": 62,
     "metadata": {
      "tags": []
     },
     "output_type": "execute_result"
    }
   ],
   "source": [
    "answers_test.head()"
   ]
  },
  {
   "cell_type": "code",
   "execution_count": 63,
   "metadata": {
    "colab": {},
    "colab_type": "code",
    "id": "mQyMqJXWPXs0"
   },
   "outputs": [],
   "source": [
    "answers_test.to_csv('/content/drive/My Drive/Colab Notebooks/megafon/final/answers_test.csv')"
   ]
  },
  {
   "cell_type": "code",
   "execution_count": 63,
   "metadata": {
    "colab": {},
    "colab_type": "code",
    "id": "jlvPNNJJPvRN"
   },
   "outputs": [],
   "source": []
  }
 ],
 "metadata": {
  "accelerator": "GPU",
  "colab": {
   "name": "baseline.ipynb",
   "provenance": []
  },
  "kernelspec": {
   "display_name": "Python 3",
   "language": "python",
   "name": "python3"
  },
  "language_info": {
   "codemirror_mode": {
    "name": "ipython",
    "version": 3
   },
   "file_extension": ".py",
   "mimetype": "text/x-python",
   "name": "python",
   "nbconvert_exporter": "python",
   "pygments_lexer": "ipython3",
   "version": "3.7.3"
  }
 },
 "nbformat": 4,
 "nbformat_minor": 1
}
