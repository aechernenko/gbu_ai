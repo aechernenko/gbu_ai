{
 "cells": [
  {
   "cell_type": "code",
   "execution_count": 1,
   "metadata": {
    "colab": {
     "base_uri": "https://localhost:8080/",
     "height": 356
    },
    "colab_type": "code",
    "id": "vYbXC2e10Jtj",
    "outputId": "cad39eb9-c4ee-44d2-bbea-46b92424d459"
   },
   "outputs": [
    {
     "name": "stderr",
     "output_type": "stream",
     "text": [
      "Using TensorFlow backend.\n"
     ]
    },
    {
     "name": "stdout",
     "output_type": "stream",
     "text": [
      "Загрузка данных...\n",
      "Downloading data from https://s3.amazonaws.com/text-datasets/imdb.npz\n",
      "17465344/17464789 [==============================] - 0s 0us/step\n",
      "25000 тренировочные последовательности\n",
      "25000 тестовые последовательности\n",
      "Pad последовательности (примеров в x единицу времени)\n",
      "x_train shape: (25000, 80)\n",
      "x_test shape: (25000, 80)\n",
      "Построение модели...\n",
      "Процесс обучения...\n"
     ]
    },
    {
     "name": "stderr",
     "output_type": "stream",
     "text": [
      "/usr/local/lib/python3.6/dist-packages/tensorflow/python/framework/indexed_slices.py:434: UserWarning: Converting sparse IndexedSlices to a dense Tensor of unknown shape. This may consume a large amount of memory.\n",
      "  \"Converting sparse IndexedSlices to a dense Tensor of unknown shape. \"\n"
     ]
    },
    {
     "name": "stdout",
     "output_type": "stream",
     "text": [
      "Train on 25000 samples, validate on 25000 samples\n",
      "Epoch 1/1\n",
      "25000/25000 [==============================] - 85s 3ms/step - loss: 0.4678 - accuracy: 0.7769 - val_loss: 0.3840 - val_accuracy: 0.8307\n",
      "25000/25000 [==============================] - 7s 265us/step\n",
      "Результат при тестировании: 0.3839548571407795\n",
      "Тестовая точность: 0.8307200074195862\n"
     ]
    }
   ],
   "source": [
    "from __future__ import print_function\n",
    "\n",
    "from keras.preprocessing import sequence\n",
    "from keras.models import Sequential\n",
    "from keras.layers import Dense, Embedding\n",
    "from keras.layers import LSTM\n",
    "from keras.datasets import imdb\n",
    "\n",
    "max_features = 20000\n",
    "\n",
    "# обрезание текстов после данного количества слов (среди top max_features наиболее используемые слова)\n",
    "maxlen = 80\n",
    "\n",
    "print('Загрузка данных...')\n",
    "(x_train, y_train), (x_test, y_test) = imdb.load_data(num_words=max_features)\n",
    "print(len(x_train), 'тренировочные последовательности')\n",
    "print(len(x_test), 'тестовые последовательности')\n",
    "\n",
    "print('Pad последовательности (примеров в x единицу времени)')\n",
    "x_train = sequence.pad_sequences(x_train, maxlen=maxlen)\n",
    "x_test = sequence.pad_sequences(x_test, maxlen=maxlen)\n",
    "print('x_train shape:', x_train.shape)\n",
    "print('x_test shape:', x_test.shape)\n",
    "\n",
    "batch_size=50\n",
    "print('Построение модели...')\n",
    "model = Sequential()\n",
    "model.add(Embedding(max_features, 128))\n",
    "model.add(LSTM(128, dropout=0.2, recurrent_dropout=0.2))\n",
    "model.add(Dense(1, activation='sigmoid'))\n",
    "\n",
    "# стоит попробовать использовать другие оптимайзер и другие конфигурации оптимайзеров \n",
    "model.compile(loss='binary_crossentropy',\n",
    "              optimizer='adam',\n",
    "              metrics=['accuracy'])\n",
    "\n",
    "print('Процесс обучения...')\n",
    "model.fit(x_train, y_train,\n",
    "          batch_size=batch_size,\n",
    "          epochs=1, # увеличьте при необходимости\n",
    "          validation_data=(x_test, y_test))\n",
    "score, acc = model.evaluate(x_test, y_test,\n",
    "                            batch_size=batch_size)\n",
    "print('Результат при тестировании:', score)\n",
    "print('Тестовая точность:', acc)"
   ]
  },
  {
   "cell_type": "code",
   "execution_count": 37,
   "metadata": {
    "colab": {},
    "colab_type": "code",
    "id": "osAOBem2kn0q"
   },
   "outputs": [],
   "source": [
    "def fit_model(optimizer='adam', batch_size=50, epochs=1):\n",
    "    print('Построение модели...')\n",
    "    model = Sequential()\n",
    "    model.add(Embedding(max_features, 128))\n",
    "    model.add(LSTM(128, dropout=0.2, recurrent_dropout=0.2))\n",
    "    model.add(Dense(1, activation='sigmoid'))\n",
    "    \n",
    "    # стоит попробовать использовать другие оптимайзер и другие конфигурации оптимайзеров \n",
    "    model.compile(loss='binary_crossentropy',\n",
    "                  optimizer=optimizer,\n",
    "                  metrics=['accuracy'])\n",
    "    \n",
    "    print('Процесс обучения...')\n",
    "    model.fit(x_train, y_train,\n",
    "              batch_size=batch_size,\n",
    "              epochs=epochs, # увеличьте при необходимости\n",
    "              validation_data=(x_test, y_test))\n",
    "    score, acc = model.evaluate(x_test, y_test,\n",
    "                                batch_size=batch_size)\n",
    "    print('Результат при тестировании:', score)\n",
    "    print('Тестовая точность:', acc)"
   ]
  },
  {
   "cell_type": "code",
   "execution_count": 7,
   "metadata": {
    "colab": {
     "base_uri": "https://localhost:8080/",
     "height": 205
    },
    "colab_type": "code",
    "id": "scxcdGnAlqRq",
    "outputId": "80fc5666-662d-4653-e397-738f2b8f9a18"
   },
   "outputs": [
    {
     "name": "stdout",
     "output_type": "stream",
     "text": [
      "Построение модели...\n",
      "Процесс обучения...\n"
     ]
    },
    {
     "name": "stderr",
     "output_type": "stream",
     "text": [
      "/usr/local/lib/python3.6/dist-packages/tensorflow/python/framework/indexed_slices.py:434: UserWarning: Converting sparse IndexedSlices to a dense Tensor of unknown shape. This may consume a large amount of memory.\n",
      "  \"Converting sparse IndexedSlices to a dense Tensor of unknown shape. \"\n"
     ]
    },
    {
     "name": "stdout",
     "output_type": "stream",
     "text": [
      "Train on 25000 samples, validate on 25000 samples\n",
      "Epoch 1/1\n",
      "25000/25000 [==============================] - 81s 3ms/step - loss: 0.6936 - accuracy: 0.4799 - val_loss: 0.6934 - val_accuracy: 0.4946\n",
      "25000/25000 [==============================] - 6s 257us/step\n",
      "Результат при тестировании: 0.6933960256576538\n",
      "Тестовая точность: 0.4946399927139282\n"
     ]
    }
   ],
   "source": [
    "from  keras.optimizers import SGD\n",
    "\n",
    "sgd_1 = SGD(learning_rate=0.01, nesterov=False)\n",
    "fit_model(optimizer=sgd_1)"
   ]
  },
  {
   "cell_type": "code",
   "execution_count": 8,
   "metadata": {
    "colab": {
     "base_uri": "https://localhost:8080/",
     "height": 205
    },
    "colab_type": "code",
    "id": "rKhXIfvkl_eO",
    "outputId": "8c0e8ca6-ba0e-4b5a-f731-c3ce70d649f9"
   },
   "outputs": [
    {
     "name": "stdout",
     "output_type": "stream",
     "text": [
      "Построение модели...\n",
      "Процесс обучения...\n"
     ]
    },
    {
     "name": "stderr",
     "output_type": "stream",
     "text": [
      "/usr/local/lib/python3.6/dist-packages/tensorflow/python/framework/indexed_slices.py:434: UserWarning: Converting sparse IndexedSlices to a dense Tensor of unknown shape. This may consume a large amount of memory.\n",
      "  \"Converting sparse IndexedSlices to a dense Tensor of unknown shape. \"\n"
     ]
    },
    {
     "name": "stdout",
     "output_type": "stream",
     "text": [
      "Train on 25000 samples, validate on 25000 samples\n",
      "Epoch 1/1\n",
      "25000/25000 [==============================] - 82s 3ms/step - loss: 0.6930 - accuracy: 0.5067 - val_loss: 0.6930 - val_accuracy: 0.5147\n",
      "25000/25000 [==============================] - 6s 257us/step\n",
      "Результат при тестировании: 0.6929507257938385\n",
      "Тестовая точность: 0.514680027961731\n"
     ]
    }
   ],
   "source": [
    "sgd_2 = SGD(learning_rate=0.01, nesterov=True)\n",
    "fit_model(optimizer=sgd_2)"
   ]
  },
  {
   "cell_type": "code",
   "execution_count": 9,
   "metadata": {
    "colab": {
     "base_uri": "https://localhost:8080/",
     "height": 205
    },
    "colab_type": "code",
    "id": "DOTlkuwA27pF",
    "outputId": "06b7533d-fd50-432b-809f-f0e718cb68e2"
   },
   "outputs": [
    {
     "name": "stdout",
     "output_type": "stream",
     "text": [
      "Построение модели...\n",
      "Процесс обучения...\n"
     ]
    },
    {
     "name": "stderr",
     "output_type": "stream",
     "text": [
      "/usr/local/lib/python3.6/dist-packages/tensorflow/python/framework/indexed_slices.py:434: UserWarning: Converting sparse IndexedSlices to a dense Tensor of unknown shape. This may consume a large amount of memory.\n",
      "  \"Converting sparse IndexedSlices to a dense Tensor of unknown shape. \"\n"
     ]
    },
    {
     "name": "stdout",
     "output_type": "stream",
     "text": [
      "Train on 25000 samples, validate on 25000 samples\n",
      "Epoch 1/1\n",
      "25000/25000 [==============================] - 81s 3ms/step - loss: 0.4584 - accuracy: 0.7885 - val_loss: 0.3553 - val_accuracy: 0.8450\n",
      "25000/25000 [==============================] - 6s 253us/step\n",
      "Результат при тестировании: 0.35528417366743087\n",
      "Тестовая точность: 0.8449599742889404\n"
     ]
    }
   ],
   "source": [
    "from  keras.optimizers import RMSprop\n",
    "\n",
    "rmsprop = RMSprop()\n",
    "fit_model(optimizer=rmsprop)"
   ]
  },
  {
   "cell_type": "code",
   "execution_count": 10,
   "metadata": {
    "colab": {
     "base_uri": "https://localhost:8080/",
     "height": 205
    },
    "colab_type": "code",
    "id": "xZawlXFAoM6Q",
    "outputId": "ecc66d13-273b-49f3-b4cf-1ce2fd7a0271"
   },
   "outputs": [
    {
     "name": "stdout",
     "output_type": "stream",
     "text": [
      "Построение модели...\n",
      "Процесс обучения...\n"
     ]
    },
    {
     "name": "stderr",
     "output_type": "stream",
     "text": [
      "/usr/local/lib/python3.6/dist-packages/tensorflow/python/framework/indexed_slices.py:434: UserWarning: Converting sparse IndexedSlices to a dense Tensor of unknown shape. This may consume a large amount of memory.\n",
      "  \"Converting sparse IndexedSlices to a dense Tensor of unknown shape. \"\n"
     ]
    },
    {
     "name": "stdout",
     "output_type": "stream",
     "text": [
      "Train on 25000 samples, validate on 25000 samples\n",
      "Epoch 1/1\n",
      "25000/25000 [==============================] - 82s 3ms/step - loss: 0.5913 - accuracy: 0.6639 - val_loss: 0.4467 - val_accuracy: 0.7924\n",
      "25000/25000 [==============================] - 6s 254us/step\n",
      "Результат при тестировании: 0.44673583525419236\n",
      "Тестовая точность: 0.7924399971961975\n"
     ]
    }
   ],
   "source": [
    "from  keras.optimizers import Adadelta\n",
    "\n",
    "fit_model(optimizer=Adadelta())"
   ]
  },
  {
   "cell_type": "code",
   "execution_count": 11,
   "metadata": {
    "colab": {
     "base_uri": "https://localhost:8080/",
     "height": 205
    },
    "colab_type": "code",
    "id": "egyjt5fooyYo",
    "outputId": "15858297-bc7f-429b-f6c0-5f1ad24807a6"
   },
   "outputs": [
    {
     "name": "stdout",
     "output_type": "stream",
     "text": [
      "Построение модели...\n",
      "Процесс обучения...\n"
     ]
    },
    {
     "name": "stderr",
     "output_type": "stream",
     "text": [
      "/usr/local/lib/python3.6/dist-packages/tensorflow/python/framework/indexed_slices.py:434: UserWarning: Converting sparse IndexedSlices to a dense Tensor of unknown shape. This may consume a large amount of memory.\n",
      "  \"Converting sparse IndexedSlices to a dense Tensor of unknown shape. \"\n"
     ]
    },
    {
     "name": "stdout",
     "output_type": "stream",
     "text": [
      "Train on 25000 samples, validate on 25000 samples\n",
      "Epoch 1/1\n",
      "25000/25000 [==============================] - 85s 3ms/step - loss: 0.4784 - accuracy: 0.7726 - val_loss: 0.4431 - val_accuracy: 0.8132\n",
      "25000/25000 [==============================] - 6s 256us/step\n",
      "Результат при тестировании: 0.44312965565919876\n",
      "Тестовая точность: 0.8132399916648865\n"
     ]
    }
   ],
   "source": [
    "from  keras.optimizers import Nadam\n",
    "\n",
    "fit_model(optimizer=Nadam())"
   ]
  },
  {
   "cell_type": "code",
   "execution_count": 12,
   "metadata": {
    "colab": {
     "base_uri": "https://localhost:8080/",
     "height": 205
    },
    "colab_type": "code",
    "id": "jR86VW_NpuGK",
    "outputId": "c1dc0e68-2e0c-4ed6-d439-c820b71a4191"
   },
   "outputs": [
    {
     "name": "stdout",
     "output_type": "stream",
     "text": [
      "Построение модели...\n",
      "Процесс обучения...\n"
     ]
    },
    {
     "name": "stderr",
     "output_type": "stream",
     "text": [
      "/usr/local/lib/python3.6/dist-packages/tensorflow/python/framework/indexed_slices.py:434: UserWarning: Converting sparse IndexedSlices to a dense Tensor of unknown shape. This may consume a large amount of memory.\n",
      "  \"Converting sparse IndexedSlices to a dense Tensor of unknown shape. \"\n"
     ]
    },
    {
     "name": "stdout",
     "output_type": "stream",
     "text": [
      "Train on 25000 samples, validate on 25000 samples\n",
      "Epoch 1/1\n",
      "25000/25000 [==============================] - 83s 3ms/step - loss: 0.4654 - accuracy: 0.7758 - val_loss: 0.3921 - val_accuracy: 0.8265\n",
      "25000/25000 [==============================] - 7s 261us/step\n",
      "Результат при тестировании: 0.3921000285744667\n",
      "Тестовая точность: 0.8265200257301331\n"
     ]
    }
   ],
   "source": [
    "from  keras.optimizers import Adagrad\n",
    "\n",
    "fit_model(optimizer=Adagrad())"
   ]
  },
  {
   "cell_type": "code",
   "execution_count": 13,
   "metadata": {
    "colab": {
     "base_uri": "https://localhost:8080/",
     "height": 205
    },
    "colab_type": "code",
    "id": "WE6YXBQhqlso",
    "outputId": "8733dfe9-aece-400a-87e9-0c6d140b457b"
   },
   "outputs": [
    {
     "name": "stdout",
     "output_type": "stream",
     "text": [
      "Построение модели...\n",
      "Процесс обучения...\n"
     ]
    },
    {
     "name": "stderr",
     "output_type": "stream",
     "text": [
      "/usr/local/lib/python3.6/dist-packages/tensorflow/python/framework/indexed_slices.py:434: UserWarning: Converting sparse IndexedSlices to a dense Tensor of unknown shape. This may consume a large amount of memory.\n",
      "  \"Converting sparse IndexedSlices to a dense Tensor of unknown shape. \"\n"
     ]
    },
    {
     "name": "stdout",
     "output_type": "stream",
     "text": [
      "Train on 25000 samples, validate on 25000 samples\n",
      "Epoch 1/1\n",
      "25000/25000 [==============================] - 83s 3ms/step - loss: 0.4766 - accuracy: 0.7757 - val_loss: 0.4151 - val_accuracy: 0.8179\n",
      "25000/25000 [==============================] - 6s 251us/step\n",
      "Результат при тестировании: 0.4151014866232872\n",
      "Тестовая точность: 0.8178799748420715\n"
     ]
    }
   ],
   "source": [
    "from  keras.optimizers import Adamax\n",
    "\n",
    "fit_model(optimizer=Adamax())"
   ]
  },
  {
   "cell_type": "markdown",
   "metadata": {
    "colab_type": "text",
    "id": "uEVuSW0lyju_"
   },
   "source": [
    "ТЕСТОВАЯ ТОЧНОСТЬ:\n",
    "Результаты применения разных оптимизаторов:\n",
    "* adam: 0.8307200074195862\n",
    "* SGD(nesterov=False): 0.4946399927139282\n",
    "* SGD(nesterov=True): 0.514680027961731\n",
    "* RMSprop: 0.8449599742889404\n",
    "* Adadelta: 0.7924399971961975\n",
    "* Nadam: 0.8132399916648865\n",
    "* Adagrad: 0.8265200257301331\n",
    "* Adamax: 0.8178799748420715\n",
    "\n",
    "Наилучший результат достигнут при использовании оптимизатора RMSprop.\n"
   ]
  },
  {
   "cell_type": "code",
   "execution_count": 51,
   "metadata": {
    "colab": {
     "base_uri": "https://localhost:8080/",
     "height": 1000
    },
    "colab_type": "code",
    "id": "upDiBHNN8hbi",
    "outputId": "e0011f0d-7ab9-48bc-ecab-f1d9c624289f"
   },
   "outputs": [
    {
     "name": "stdout",
     "output_type": "stream",
     "text": [
      "==================================================\n",
      "Итерация #: 0\n",
      "Epoch 1/1\n",
      "158773/158773 [==============================] - 8s 53us/step - loss: 2.3170\n",
      "Генерация из посева: ge from th\n",
      "ge from the wand the wand the wand the wand the wand the wan==================================================\n",
      "Итерация #: 1\n",
      "Epoch 1/1\n",
      "158773/158773 [==============================] - 8s 51us/step - loss: 1.9122\n",
      "Генерация из посева: ing the ot\n",
      "ing the other the doon the mouse the doon the mouse the doon==================================================\n",
      "Итерация #: 2\n",
      "Epoch 1/1\n",
      "158773/158773 [==============================] - 8s 51us/step - loss: 1.7563\n",
      "Генерация из посева: ayers, and\n",
      "ayers, and the more the more the more the more the more the ==================================================\n",
      "Итерация #: 3\n",
      "Epoch 1/1\n",
      "158773/158773 [==============================] - 8s 50us/step - loss: 1.6548\n",
      "Генерация из посева: oyalties. \n",
      "oyalties. the door the dormouse she said the dormouse she sa==================================================\n",
      "Итерация #: 4\n",
      "Epoch 1/1\n",
      "158773/158773 [==============================] - 8s 49us/step - loss: 1.5789\n",
      "Генерация из посева: , id have \n",
      ", id have the was to the thing the mouse to the was to the t==================================================\n",
      "Итерация #: 5\n",
      "Epoch 1/1\n",
      "158773/158773 [==============================] - 8s 49us/step - loss: 1.5179\n",
      "Генерация из посева: rom states\n",
      "rom states the off course the off course the off course the ==================================================\n",
      "Итерация #: 6\n",
      "Epoch 1/1\n",
      "158773/158773 [==============================] - 8s 52us/step - loss: 1.4675\n",
      "Генерация из посева: ions. seve\n",
      "ions. severel the sat have a little grown of the sat have a ==================================================\n",
      "Итерация #: 7\n",
      "Epoch 1/1\n",
      "158773/158773 [==============================] - 8s 50us/step - loss: 1.4246\n",
      "Генерация из посева: e one shar\n",
      "e one share a little thing the mouse to the sather was a lit==================================================\n",
      "Итерация #: 8\n",
      "Epoch 1/1\n",
      "158773/158773 [==============================] - 8s 50us/step - loss: 1.3888\n",
      "Генерация из посева:  the rest \n",
      " the rest of the thing in the torms of the tor sore with a l==================================================\n",
      "Итерация #: 9\n",
      "Epoch 1/1\n",
      "158773/158773 [==============================] - 8s 49us/step - loss: 1.3565\n",
      "Генерация из посева: hat there \n",
      "hat there was nothing all the thing i said to the thing i sa==================================================\n",
      "Итерация #: 10\n",
      "Epoch 1/1\n",
      "158773/158773 [==============================] - 8s 50us/step - loss: 1.3277\n",
      "Генерация из посева: that was t\n",
      "that was the stor for any of the seamed to her than she had ==================================================\n",
      "Итерация #: 11\n",
      "Epoch 1/1\n",
      "158773/158773 [==============================] - 8s 52us/step - loss: 1.3026\n",
      "Генерация из посева: erg.org), \n",
      "erg.org), and the should be no reading the should be no read==================================================\n",
      "Итерация #: 12\n",
      "Epoch 1/1\n",
      "158773/158773 [==============================] - 8s 51us/step - loss: 1.2800\n",
      "Генерация из посева: em, though\n",
      "em, thought alice, and she was not a little thing it a great==================================================\n",
      "Итерация #: 13\n",
      "Epoch 1/1\n",
      "158773/158773 [==============================] - 8s 52us/step - loss: 1.2586\n",
      "Генерация из посева: aybe, the \n",
      "aybe, the dormouse she went on the work in a long to see i s==================================================\n",
      "Итерация #: 14\n",
      "Epoch 1/1\n",
      "158773/158773 [==============================] - 8s 51us/step - loss: 1.2394\n",
      "Генерация из посева: itted to b\n",
      "itted to be off the rabbit was not go on any of the project ==================================================\n",
      "Итерация #: 15\n",
      "Epoch 1/1\n",
      "158773/158773 [==============================] - 8s 51us/step - loss: 1.2208\n",
      "Генерация из посева: iterary ar\n",
      "iterary archive foundation at the caterpillar cant to go dow==================================================\n",
      "Итерация #: 16\n",
      "Epoch 1/1\n",
      "158773/158773 [==============================] - 8s 49us/step - loss: 1.2044\n",
      "Генерация из посева:  the king.\n",
      " the king. the mock turtle to her executed to herself, and t==================================================\n",
      "Итерация #: 17\n",
      "Epoch 1/1\n",
      "158773/158773 [==============================] - 8s 50us/step - loss: 1.1895\n",
      "Генерация из посева: id nothing\n",
      "id nothing a wind she was so much a dear too sleapty of the ==================================================\n",
      "Итерация #: 18\n",
      "Epoch 1/1\n",
      "158773/158773 [==============================] - 8s 50us/step - loss: 1.1737\n",
      "Генерация из посева: d tried to\n",
      "d tried to her foot and the poor little thing that she was s==================================================\n",
      "Итерация #: 19\n",
      "Epoch 1/1\n",
      "158773/158773 [==============================] - 8s 50us/step - loss: 1.1603\n",
      "Генерация из посева: n most cou\n",
      "n most cours even in a great her finish the dormouse she see==================================================\n",
      "Итерация #: 20\n",
      "Epoch 1/1\n",
      "158773/158773 [==============================] - 8s 50us/step - loss: 1.1473\n",
      "Генерация из посева:  ever was!\n",
      " ever was! i shall have the project gutenberg are the projec==================================================\n",
      "Итерация #: 21\n",
      "Epoch 1/1\n",
      "158773/158773 [==============================] - 8s 50us/step - loss: 1.1354\n",
      "Генерация из посева: and any ad\n",
      "and any advanaly a project gutenberg-tm electronically stame==================================================\n",
      "Итерация #: 22\n",
      "Epoch 1/1\n",
      "158773/158773 [==============================] - 8s 50us/step - loss: 1.1232\n",
      "Генерация из посева: ected to? \n",
      "ected to? said the mock turtle replied to see it was the wor==================================================\n",
      "Итерация #: 23\n",
      "Epoch 1/1\n",
      "158773/158773 [==============================] - 8s 49us/step - loss: 1.1113\n",
      "Генерация из посева: fore the o\n",
      "fore the other side of the lobsters, and the dormouse said t==================================================\n",
      "Итерация #: 24\n",
      "Epoch 1/1\n",
      "158773/158773 [==============================] - 8s 50us/step - loss: 1.1011\n",
      "Генерация из посева: der their \n",
      "der their heads down the queen to see it was to dischanion. \n"
     ]
    }
   ],
   "source": [
    "import numpy as np\n",
    "from keras.layers import Dense, Activation\n",
    "from keras.layers.recurrent import SimpleRNN, LSTM, GRU\n",
    "from keras.models import Sequential\n",
    "\n",
    "\n",
    "# построчное чтение из примера с текстом \n",
    "with open(\"/content/sample_data/alice_in_wonderland.txt\", 'rb') as _in:\n",
    "    lines = []\n",
    "    for line in _in:\n",
    "        line = line.strip().lower().decode(\"ascii\", \"ignore\")\n",
    "        if len(line) == 0:\n",
    "            continue\n",
    "        lines.append(line)\n",
    "text = \" \".join(lines)\n",
    "chars = set([c for c in text])\n",
    "nb_chars = len(chars)\n",
    "\n",
    "\n",
    "# создание индекса символов и reverse mapping чтобы передвигаться между значениями numerical\n",
    "# ID and a specific character. The numerical ID will correspond to a column\n",
    "# ID и определенный символ. Numerical ID будет соответсвовать колонке\n",
    "# число при использовании one-hot кодировки для представление входов символов\n",
    "char2index = {c: i for i, c in enumerate(chars)}\n",
    "index2char = {i: c for i, c in enumerate(chars)}\n",
    "\n",
    "# для удобства выберете фиксированную длину последовательность 10 символов \n",
    "SEQLEN, STEP = 10, 1\n",
    "input_chars, label_chars = [], []\n",
    "\n",
    "# конвертация data в серии разных SEQLEN-length субпоследовательностей\n",
    "for i in range(0, len(text) - SEQLEN, STEP):\n",
    "    input_chars.append(text[i: i + SEQLEN])\n",
    "    label_chars.append(text[i + SEQLEN])\n",
    "\n",
    "\n",
    "# Вычисление one-hot encoding входных последовательностей X и следующего символа (the label) y\n",
    "\n",
    "X = np.zeros((len(input_chars), SEQLEN, nb_chars), dtype=np.bool)\n",
    "y = np.zeros((len(input_chars), nb_chars), dtype=np.bool)\n",
    "for i, input_char in enumerate(input_chars):\n",
    "    for j, ch in enumerate(input_char):\n",
    "        X[i, j, char2index[ch]] = 1\n",
    "    y[i, char2index[label_chars[i]]] = 1\n",
    "\n",
    "\n",
    "# установка ряда метапамертров  для нейронной сети и процесса тренировки\n",
    "BATCH_SIZE, HIDDEN_SIZE = 128, 128\n",
    "NUM_ITERATIONS = 25 # 25 должно быть достаточно\n",
    "NUM_EPOCHS_PER_ITERATION = 1\n",
    "NUM_PREDS_PER_EPOCH = 50\n",
    "\n",
    "\n",
    "# Create a super simple recurrent neural network. There is one recurrent\n",
    "# layer that produces an embedding of size HIDDEN_SIZE from the one-hot\n",
    "# encoded input layer. This is followed by a Dense fully-connected layer\n",
    "# across the set of possible next characters, which is converted to a\n",
    "# probability score via a standard softmax activation with a multi-class\n",
    "# cross-entropy loss function linking the prediction to the one-hot\n",
    "# encoding character label.\n",
    "\n",
    "'''\n",
    "Создание очень простой рекуррентной нейронной сети. В ней будет один реккурентный закодированный входной слой. За ним последует полносвязный слой связанный с набором возможных следующих символов, которые конвертированы в вероятностные результаты через стандартную softmax активацию с multi-class cross-encoding loss функцию ссылающуются на предсказание one-hot encoding лейбл символа\n",
    "'''\n",
    "\n",
    "model = Sequential()\n",
    "model.add(\n",
    "    GRU(  # вы можете изменить эту часть на LSTM или SimpleRNN, чтобы попробовать альтернативы\n",
    "        HIDDEN_SIZE,\n",
    "        return_sequences=False,\n",
    "        input_shape=(SEQLEN, nb_chars),\n",
    "        unroll=True\n",
    "    )\n",
    ")\n",
    "model.add(Dense(nb_chars))\n",
    "model.add(Activation(\"softmax\"))\n",
    "model.compile(loss=\"categorical_crossentropy\", optimizer=\"rmsprop\")\n",
    "\n",
    "\n",
    "# выполнение серий тренировочных и демонстрационных итераций \n",
    "for iteration in range(NUM_ITERATIONS):\n",
    "\n",
    "    # для каждой итерации запуск передачи данных в модель \n",
    "    print(\"=\" * 50)\n",
    "    print(\"Итерация #: %d\" % (iteration))\n",
    "    model.fit(X, y, batch_size=BATCH_SIZE, epochs=NUM_EPOCHS_PER_ITERATION)\n",
    "\n",
    "    # Select a random example input sequence.\n",
    "    test_idx = np.random.randint(len(input_chars))\n",
    "    test_chars = input_chars[test_idx]\n",
    "\n",
    "    # для числа шагов предсказаний использование текущей тренируемой модели \n",
    "    # конструирование one-hot encoding для тестирования input и добавление предсказания.\n",
    "    print(\"Генерация из посева: %s\" % (test_chars))\n",
    "    print(test_chars, end=\"\")\n",
    "    for i in range(NUM_PREDS_PER_EPOCH):\n",
    "\n",
    "        # здесь one-hot encoding.\n",
    "        X_test = np.zeros((1, SEQLEN, nb_chars))\n",
    "        for j, ch in enumerate(test_chars):\n",
    "            X_test[0, j, char2index[ch]] = 1\n",
    "\n",
    "        # осуществление предсказания с помощью текущей модели.\n",
    "        pred = model.predict(X_test, verbose=0)[0]\n",
    "        y_pred = index2char[np.argmax(pred)]\n",
    "\n",
    "        # вывод предсказания добавленного к тестовому примеру \n",
    "        print(y_pred, end=\"\")\n",
    "\n",
    "        # инкрементация тестового примера содержащего предсказание\n",
    "        test_chars = test_chars[1:] + y_pred\n",
    "print()"
   ]
  },
  {
   "cell_type": "markdown",
   "metadata": {
    "colab_type": "text",
    "id": "I2nj1Uw2CXPa"
   },
   "source": [
    "Результат:\n",
    "\n",
    "Генерация из посева: der their \n",
    "\n",
    "der their heads down the queen to see it was to dischanion.  \n",
    "\n",
    "Переводчик: опустив головы, королева увидела, что это был дисханион."
   ]
  },
  {
   "cell_type": "code",
   "execution_count": null,
   "metadata": {
    "colab": {},
    "colab_type": "code",
    "id": "B_0UmkVlCc9F"
   },
   "outputs": [],
   "source": []
  }
 ],
 "metadata": {
  "accelerator": "GPU",
  "colab": {
   "collapsed_sections": [],
   "name": "Untitled0.ipynb",
   "provenance": []
  },
  "kernelspec": {
   "display_name": "Python 3",
   "language": "python",
   "name": "python3"
  },
  "language_info": {
   "codemirror_mode": {
    "name": "ipython",
    "version": 3
   },
   "file_extension": ".py",
   "mimetype": "text/x-python",
   "name": "python",
   "nbconvert_exporter": "python",
   "pygments_lexer": "ipython3",
   "version": "3.8.10"
  }
 },
 "nbformat": 4,
 "nbformat_minor": 1
}
