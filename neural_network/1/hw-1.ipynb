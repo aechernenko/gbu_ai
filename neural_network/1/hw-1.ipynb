{
 "cells": [
  {
   "cell_type": "markdown",
   "metadata": {},
   "source": [
    "# ДОМАШНЕЕ ЗАДАНИЕ - 1\n",
    "\n",
    "## Практическое задание\n",
    "\n",
    "<ol>\n",
    "    <li>Попробуйте видоизменить параметры разобранной на уроке двухслойной нейронной сети таким образом, чтобы улучшить ее точность. Проведите анализ — что приводит к ухудшению точности нейронной сети? Что приводит к увеличению ее точности?</li>\n",
    "</ol>\n",
    "\n",
    "# Введение в искусственные нейронные сети\n",
    "# Урок 1. Основы обучения нейронных сетей"
   ]
  },
  {
   "cell_type": "markdown",
   "metadata": {},
   "source": [
    "## Пример построения  двухслойной нейронной сети на numpy"
   ]
  },
  {
   "cell_type": "code",
   "execution_count": 1,
   "metadata": {},
   "outputs": [],
   "source": [
    "'''\n",
    "Исходный код к уроку 1.\n",
    "Построение двухслойной нейронный сети для классификации цветков ириса\n",
    "'''\n",
    "\n",
    "import numpy as np\n",
    "import pandas as pd\n",
    "import matplotlib.pyplot as plt\n",
    "\n",
    "import warnings\n",
    "warnings.simplefilter(action='ignore')\n",
    "\n",
    "# sklearn здесь только, чтобы разделить выборку на тренировочную и тестовую\n",
    "from sklearn.model_selection import train_test_split\n",
    "\n",
    "\n",
    "### Шаг 1. Определение функций, которые понадобяться для обучения\n",
    "# преобразование массива в бинарный вид результатов\n",
    "def to_one_hot(Y):\n",
    "    n_col = np.amax(Y) + 1\n",
    "    binarized = np.zeros((len(Y), n_col))\n",
    "    for i in range(len(Y)):\n",
    "        binarized[i, Y[i]] = 1.\n",
    "    return binarized\n",
    "\n",
    "# преобразование массива в необходимый вид\n",
    "def from_one_hot(Y):\n",
    "    arr = np.zeros((len(Y), 1))\n",
    "\n",
    "    for i in range(len(Y)):\n",
    "        l = layer2[i]\n",
    "        for j in range(len(l)):\n",
    "            if(l[j] == 1):\n",
    "                arr[i] = j+1\n",
    "    return arr\n",
    "\n",
    "# сигмоида и ее производная\n",
    "def sigmoid(x):\n",
    "    return 1/(1+np.exp(-x))\n",
    "\n",
    "def sigmoid_deriv(x):\n",
    "    return sigmoid(x)*(1 - sigmoid(x))\n",
    "\n",
    "# нормализация массива\n",
    "def normalize(X, axis=-1, order=2):\n",
    "    l2 = np.atleast_1d(np.linalg.norm(X, order, axis))\n",
    "    l2[l2 == 0] = 1\n",
    "    return X / np.expand_dims(l2, axis)\n",
    "\n",
    "\n",
    "### Шаг 2. Подготовка тренировочных данных\n",
    "# получения данных из csv файла. укажите здесь путь к файлу Iris.csv\n",
    "iris_data = pd.read_csv(\"Iris.csv\")\n",
    "\n",
    "\n",
    "# замена текстовых значений на цифровые\n",
    "iris_data['Species'].replace(['Iris-setosa', 'Iris-virginica', 'Iris-versicolor'], [0, 1, 2], inplace=True)\n",
    "\n",
    "# формирование входных данных\n",
    "columns = ['SepalLengthCm', 'SepalWidthCm', 'PetalLengthCm', 'PetalWidthCm']\n",
    "x = pd.DataFrame(iris_data, columns=columns)\n",
    "x = normalize(x.values)\n",
    "\n",
    "# формирование выходных данных(результатов)\n",
    "columns = ['Species']\n",
    "y = pd.DataFrame(iris_data, columns=columns)\n",
    "y = y.values\n",
    "y = y.flatten()\n",
    "y = to_one_hot(y).argmax(axis=1)\n",
    "\n",
    "# Разделение данных на тренировочные и тестовые\n",
    "X_train, X_test, y_train, y_test = train_test_split(x, y, test_size=0.33)"
   ]
  },
  {
   "cell_type": "code",
   "execution_count": 2,
   "metadata": {},
   "outputs": [],
   "source": [
    "from sklearn.base import BaseEstimator\n",
    "\n",
    "class NN(BaseEstimator):\n",
    "    def __init__(self, iters=1, learning_rate=1):\n",
    "        self.iters = iters\n",
    "        self.learning_rate = learning_rate\n",
    "        self.w0 = 2*np.random.random((4, 5))\n",
    "        self.w1 = 2*np.random.random((5, 3))     \n",
    "        \n",
    "\n",
    "    def fit(self, X_train, y_train):\n",
    "        \n",
    "        self.errors = []\n",
    "        y_train = to_one_hot(y_train)\n",
    "        \n",
    "        for i in range(int(self.iters)):\n",
    "        \n",
    "            # прямое распространение(feed forward)\n",
    "            layer0 = X_train\n",
    "            layer1 = sigmoid(np.dot(layer0, self.w0))\n",
    "            layer2 = sigmoid(np.dot(layer1, self.w1))\n",
    "        \n",
    "            # обратное распространение(back propagation) с использованиемd градиентного спуска\n",
    "            layer2_error = y_train - layer2\n",
    "            layer2_delta = layer2_error * sigmoid_deriv(layer2)\n",
    "            \n",
    "            layer1_error = layer2_delta.dot(self.w1.T)\n",
    "            layer1_delta = layer1_error * sigmoid_deriv(layer1)\n",
    "            \n",
    "            self.w1 += layer1.T.dot(layer2_delta) * self.learning_rate\n",
    "            self.w0 += layer0.T.dot(layer1_delta) * self.learning_rate\n",
    "            \n",
    "            error = np.mean(np.abs(layer2_error))\n",
    "            self.errors.append(error)\n",
    "    \n",
    "    \n",
    "    def predict(self, X_test):\n",
    "        layer0 = X_test\n",
    "        layer1 = sigmoid(np.dot(layer0, self.w0))\n",
    "        layer2 = sigmoid(np.dot(layer1, self.w1))\n",
    "        return layer2.argmax(axis=1)\n",
    "    \n",
    "    # score - accuracy\n",
    "    def score(self, x, y):\n",
    "        layer0 = x\n",
    "        layer1 = sigmoid(np.dot(layer0, self.w0))\n",
    "        layer2 = sigmoid(np.dot(layer1, self.w1))\n",
    "        layer2_error = to_one_hot(y) - layer2\n",
    "        error = np.mean(np.abs(layer2_error))\n",
    "        accuracy = (1 - error) * 100\n",
    "        return accuracy"
   ]
  },
  {
   "cell_type": "code",
   "execution_count": 3,
   "metadata": {},
   "outputs": [],
   "source": [
    "from sklearn.model_selection import cross_val_score, ShuffleSplit \n",
    "from sklearn.metrics import confusion_matrix, classification_report"
   ]
  },
  {
   "cell_type": "code",
   "execution_count": 4,
   "metadata": {
    "scrolled": false
   },
   "outputs": [
    {
     "name": "stdout",
     "output_type": "stream",
     "text": [
      "20/20 (100.0%)\r"
     ]
    }
   ],
   "source": [
    "result = []\n",
    "\n",
    "# сетка параметров\n",
    "rate_space = np.logspace(-3, 0, 4)\n",
    "iters_space = np.linspace(1000,10000,5).astype(int)\n",
    "\n",
    "# кросс-валидатор\n",
    "cv = ShuffleSplit(n_splits=5, test_size=0.3, random_state=0)\n",
    "\n",
    "# счетчик для отображения прогресса\n",
    "counter_len = len(rate_space)*len(iters_space)\n",
    "counter = 0\n",
    "\n",
    "\n",
    "for learning_rate in rate_space:\n",
    "    for iters in iters_space:\n",
    "        \n",
    "        # отображение прогесса вычислений\n",
    "        counter += 1\n",
    "        print(f'{counter}/{counter_len} ({counter*100/counter_len:.1f}%)', end='\\r')\n",
    "        \n",
    "        # средний скор на кросс-валидации (score - accuracy)\n",
    "        mean_accuracy = cross_val_score(NN(iters, learning_rate), x, y, cv=cv).mean()\n",
    "        \n",
    "        # накопление резульатов\n",
    "        result.append([learning_rate,iters, mean_accuracy])"
   ]
  },
  {
   "cell_type": "markdown",
   "metadata": {},
   "source": [
    "Лучшие оценки"
   ]
  },
  {
   "cell_type": "code",
   "execution_count": 5,
   "metadata": {},
   "outputs": [
    {
     "data": {
      "text/html": [
       "<div>\n",
       "<style scoped>\n",
       "    .dataframe tbody tr th:only-of-type {\n",
       "        vertical-align: middle;\n",
       "    }\n",
       "\n",
       "    .dataframe tbody tr th {\n",
       "        vertical-align: top;\n",
       "    }\n",
       "\n",
       "    .dataframe thead th {\n",
       "        text-align: right;\n",
       "    }\n",
       "</style>\n",
       "<table border=\"1\" class=\"dataframe\">\n",
       "  <thead>\n",
       "    <tr style=\"text-align: right;\">\n",
       "      <th></th>\n",
       "      <th>learning rate</th>\n",
       "      <th>iters</th>\n",
       "      <th>accuracy</th>\n",
       "    </tr>\n",
       "  </thead>\n",
       "  <tbody>\n",
       "    <tr>\n",
       "      <th>12</th>\n",
       "      <td>0.1</td>\n",
       "      <td>5500</td>\n",
       "      <td>96.808199</td>\n",
       "    </tr>\n",
       "    <tr>\n",
       "      <th>14</th>\n",
       "      <td>0.1</td>\n",
       "      <td>10000</td>\n",
       "      <td>96.730844</td>\n",
       "    </tr>\n",
       "    <tr>\n",
       "      <th>13</th>\n",
       "      <td>0.1</td>\n",
       "      <td>7750</td>\n",
       "      <td>96.715437</td>\n",
       "    </tr>\n",
       "  </tbody>\n",
       "</table>\n",
       "</div>"
      ],
      "text/plain": [
       "    learning rate  iters   accuracy\n",
       "12            0.1   5500  96.808199\n",
       "14            0.1  10000  96.730844\n",
       "13            0.1   7750  96.715437"
      ]
     },
     "execution_count": 5,
     "metadata": {},
     "output_type": "execute_result"
    }
   ],
   "source": [
    "pd.DataFrame(result, columns=['learning rate','iters','accuracy']).sort_values('accuracy',ascending=False).head(3)"
   ]
  },
  {
   "cell_type": "markdown",
   "metadata": {},
   "source": [
    "Обучение на лучших параметрах"
   ]
  },
  {
   "cell_type": "code",
   "execution_count": 9,
   "metadata": {},
   "outputs": [
    {
     "data": {
      "image/png": "[encoded data removed]",
      "text/plain": [
       "<Figure size 432x288 with 1 Axes>"
      ]
     },
     "metadata": {
      "needs_background": "light"
     },
     "output_type": "display_data"
    }
   ],
   "source": [
    "best_clf = NN(iters=5500, learning_rate=0.1)\n",
    "best_clf.fit(X_train, y_train)\n",
    "\n",
    "# Демонстрация ошибки во время обучения\n",
    "plt.plot(best_clf.errors)\n",
    "plt.xlabel('Обучение')\n",
    "plt.ylabel('Ошибка')\n",
    "plt.show() "
   ]
  },
  {
   "cell_type": "markdown",
   "metadata": {},
   "source": [
    "Отчет по классификации"
   ]
  },
  {
   "cell_type": "code",
   "execution_count": 10,
   "metadata": {
    "scrolled": true
   },
   "outputs": [
    {
     "name": "stdout",
     "output_type": "stream",
     "text": [
      "              precision    recall  f1-score   support\n",
      "\n",
      "           0       1.00      1.00      1.00        22\n",
      "           1       0.86      1.00      0.92        12\n",
      "           2       1.00      0.88      0.93        16\n",
      "\n",
      "    accuracy                           0.96        50\n",
      "   macro avg       0.95      0.96      0.95        50\n",
      "weighted avg       0.97      0.96      0.96        50\n",
      "\n"
     ]
    }
   ],
   "source": [
    "y_pred = best_clf.predict(X_test)\n",
    "print(classification_report(y_test,y_pred))"
   ]
  },
  {
   "cell_type": "markdown",
   "metadata": {},
   "source": [
    "Матрица смежности"
   ]
  },
  {
   "cell_type": "code",
   "execution_count": 11,
   "metadata": {},
   "outputs": [
    {
     "name": "stdout",
     "output_type": "stream",
     "text": [
      "[[22  0  0]\n",
      " [ 0 12  0]\n",
      " [ 0  2 14]]\n"
     ]
    }
   ],
   "source": [
    "print(confusion_matrix(y_test,y_pred))"
   ]
  },
  {
   "cell_type": "markdown",
   "metadata": {},
   "source": [
    "C увеличением количества итераций растет точность. Learning_rate - скорость, с которой происходит обучение. То есть, чем меньше learning rate, тем больше итераций нужно затратить, чтоб минимизировать ошибку. Но в то же время, точность, увеличивается. Оптимальное значение learning rate позволяет достичь минимальной ошибки за наименьшее число итераций."
   ]
  },
  {
   "cell_type": "code",
   "execution_count": null,
   "metadata": {},
   "outputs": [],
   "source": []
  }
 ],
 "metadata": {
  "kernelspec": {
   "display_name": "Python 3",
   "language": "python",
   "name": "python3"
  },
  "language_info": {
   "codemirror_mode": {
    "name": "ipython",
    "version": 3
   },
   "file_extension": ".py",
   "mimetype": "text/x-python",
   "name": "python",
   "nbconvert_exporter": "python",
   "pygments_lexer": "ipython3",
   "version": "3.7.3"
  }
 },
 "nbformat": 4,
 "nbformat_minor": 2
}
