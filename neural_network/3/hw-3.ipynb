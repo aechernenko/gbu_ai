{
 "cells": [
  {
   "cell_type": "markdown",
   "metadata": {},
   "source": [
    "# ДЗ № 3\n",
    "# Введение в искусственные нейронные сети\n",
    "# Урок 3. TensorFlow"
   ]
  },
  {
   "cell_type": "code",
   "execution_count": 1,
   "metadata": {},
   "outputs": [],
   "source": [
    "import numpy as np\n",
    "from matplotlib import pyplot as plt\n",
    "\n",
    "from tensorflow.keras.datasets import boston_housing\n",
    "from tensorflow.keras.models import Sequential\n",
    "from tensorflow.keras.layers import Dense\n",
    "\n",
    "from sklearn.preprocessing import MinMaxScaler\n",
    "from sklearn.metrics import r2_score\n"
   ]
  },
  {
   "cell_type": "markdown",
   "metadata": {},
   "source": [
    "### Загрузка датасета"
   ]
  },
  {
   "cell_type": "code",
   "execution_count": 2,
   "metadata": {},
   "outputs": [],
   "source": [
    "(X_train, y_train),(X_test, y_test) = boston_housing.load_data()"
   ]
  },
  {
   "cell_type": "markdown",
   "metadata": {},
   "source": [
    "### Описание датасета\n",
    "\n",
    "The Boston house-price data of Harrison, D. and Rubinfeld, D.L. 'Hedonic\n",
    " prices and the demand for clean air', J. Environ. Economics & Management,\n",
    " vol.5, 81-102, 1978.   Used in Belsley, Kuh & Welsch, 'Regression diagnostics\n",
    " ...', Wiley, 1980.   N.B. Various transformations are used in the table on\n",
    " pages 244-261 of the latter.\n",
    "\n",
    " Variables in order:\n",
    " * CRIM     per capita crime rate by town\n",
    " * ZN       proportion of residential land zoned for lots over 25,000 sq.ft.\n",
    " * INDUS    proportion of non-retail business acres per town\n",
    " * CHAS     Charles River dummy variable (= 1 if tract bounds river; 0 otherwise)\n",
    " * NOX      nitric oxides concentration (parts per 10 million)\n",
    " * RM       average number of rooms per dwelling\n",
    " * AGE      proportion of owner-occupied units built prior to 1940\n",
    " * DIS      weighted distances to five Boston employment centres\n",
    " * RAD      index of accessibility to radial highways\n",
    " * TAX      full-value property-tax rate per $10,000\n",
    " * PTRATIO  pupil-teacher ratio by town\n",
    " * B        1000(Bk - 0.63)^2 where Bk is the proportion of blacks by town\n",
    " * LSTAT    \\% lower status of the population\n",
    " * MEDV     Median value of owner-occupied homes in \\$1000's"
   ]
  },
  {
   "cell_type": "markdown",
   "metadata": {},
   "source": [
    "### Масштабирование признаков\n",
    "Все признаки отмасштабируем в диапазоне значений от -1 до 1"
   ]
  },
  {
   "cell_type": "code",
   "execution_count": 3,
   "metadata": {},
   "outputs": [
    {
     "name": "stdout",
     "output_type": "stream",
     "text": [
      "X_train_scaled.shape (404, 13)\n",
      "X_test_scaled.shape  (102, 13)\n"
     ]
    }
   ],
   "source": [
    "scaler = MinMaxScaler((-1,1))\n",
    "X_train_scaled = scaler.fit_transform(X_train)\n",
    "X_test_scaled = scaler.transform(X_test)\n",
    "print('X_train_scaled.shape', X_train_scaled.shape)\n",
    "print('X_test_scaled.shape ', X_test_scaled.shape)"
   ]
  },
  {
   "cell_type": "markdown",
   "metadata": {},
   "source": [
    "* 404 примера в тренировочной выборке\n",
    "* 102 примера в тестовой выборке\n",
    "* 13 признаков\n",
    "\n",
    "# Модель 1\n",
    "* активации линейные\n",
    "* функция потерь - среднеквадратичная ошибка\n",
    "* метрика - - среднеквадратичная ошибка\n",
    "* 10 эпох по 1 примеру в батче"
   ]
  },
  {
   "cell_type": "code",
   "execution_count": 4,
   "metadata": {
    "scrolled": false
   },
   "outputs": [
    {
     "name": "stdout",
     "output_type": "stream",
     "text": [
      "Model: \"sequential\"\n",
      "_________________________________________________________________\n",
      "Layer (type)                 Output Shape              Param #   \n",
      "=================================================================\n",
      "dense (Dense)                (None, 20)                280       \n",
      "_________________________________________________________________\n",
      "dense_1 (Dense)              (None, 20)                420       \n",
      "_________________________________________________________________\n",
      "dense_2 (Dense)              (None, 1)                 21        \n",
      "=================================================================\n",
      "Total params: 721\n",
      "Trainable params: 721\n",
      "Non-trainable params: 0\n",
      "_________________________________________________________________\n",
      "None\n",
      "Epoch 1/10\n",
      "  1/323 [..............................] - ETA: 0s - loss: 784.8038 - mean_squared_error: 784.8038WARNING:tensorflow:Callbacks method `on_train_batch_begin` is slow compared to the batch time (batch time: 0.0000s vs `on_train_batch_begin` time: 0.0010s). Check your callbacks.\n",
      "WARNING:tensorflow:Callbacks method `on_train_batch_end` is slow compared to the batch time (batch time: 0.0000s vs `on_train_batch_end` time: 0.0010s). Check your callbacks.\n",
      "323/323 [==============================] - 0s 1ms/step - loss: 173.6848 - mean_squared_error: 173.6848 - val_loss: 67.0245 - val_mean_squared_error: 67.0245\n",
      "Epoch 2/10\n",
      "323/323 [==============================] - 0s 1ms/step - loss: 46.6713 - mean_squared_error: 46.6713 - val_loss: 49.7527 - val_mean_squared_error: 49.7527\n",
      "Epoch 3/10\n",
      "323/323 [==============================] - 0s 868us/step - loss: 35.0655 - mean_squared_error: 35.0655 - val_loss: 40.2875 - val_mean_squared_error: 40.2875\n",
      "Epoch 4/10\n",
      "323/323 [==============================] - 0s 716us/step - loss: 29.9025 - mean_squared_error: 29.9025 - val_loss: 31.4833 - val_mean_squared_error: 31.4833\n",
      "Epoch 5/10\n",
      "323/323 [==============================] - 0s 840us/step - loss: 27.5943 - mean_squared_error: 27.5943 - val_loss: 30.4867 - val_mean_squared_error: 30.4867\n",
      "Epoch 6/10\n",
      "323/323 [==============================] - 0s 760us/step - loss: 26.0307 - mean_squared_error: 26.0307 - val_loss: 29.1186 - val_mean_squared_error: 29.1186\n",
      "Epoch 7/10\n",
      "323/323 [==============================] - 0s 889us/step - loss: 25.3953 - mean_squared_error: 25.3953 - val_loss: 25.9567 - val_mean_squared_error: 25.9567\n",
      "Epoch 8/10\n",
      "323/323 [==============================] - 0s 861us/step - loss: 25.1245 - mean_squared_error: 25.1245 - val_loss: 25.3225 - val_mean_squared_error: 25.3225\n",
      "Epoch 9/10\n",
      "323/323 [==============================] - 0s 793us/step - loss: 24.8159 - mean_squared_error: 24.8159 - val_loss: 25.9701 - val_mean_squared_error: 25.9701\n",
      "Epoch 10/10\n",
      "323/323 [==============================] - 0s 726us/step - loss: 25.1973 - mean_squared_error: 25.1973 - val_loss: 25.1215 - val_mean_squared_error: 25.1215\n"
     ]
    }
   ],
   "source": [
    "model = Sequential([\n",
    "    Dense(20, activation='linear', input_shape=(13,)),\n",
    "    Dense(20, activation='linear'),\n",
    "    Dense(1, activation='linear')\n",
    "])\n",
    "\n",
    "model.compile(optimizer='adam',\n",
    "              loss='mean_squared_error',\n",
    "              metrics=['mean_squared_error'])\n",
    "\n",
    "print(model.summary())\n",
    "\n",
    "history = model.fit( X_train_scaled, y_train,\n",
    "  epochs=10,\n",
    "  batch_size=1, validation_split=0.2\n",
    ")"
   ]
  },
  {
   "cell_type": "code",
   "execution_count": 5,
   "metadata": {
    "scrolled": true
   },
   "outputs": [
    {
     "data": {
      "text/plain": [
       "Text(0.5, 1.0, 'History - MSE')"
      ]
     },
     "execution_count": 5,
     "metadata": {},
     "output_type": "execute_result"
    },
    {
     "data": {
      "image/png": "[encoded data removed]",
      "text/plain": [
       "<Figure size 720x720 with 1 Axes>"
      ]
     },
     "metadata": {
      "needs_background": "light"
     },
     "output_type": "display_data"
    }
   ],
   "source": [
    "plt.figure(figsize=(10, 10))\n",
    "\n",
    "plt.subplot(2, 2, 1)\n",
    "plt.plot(history.history['loss'], label='MSE')\n",
    "plt.plot(history.history['val_loss'], label='Validation MSE')\n",
    "plt.legend()\n",
    "plt.title('History - MSE')"
   ]
  },
  {
   "cell_type": "markdown",
   "metadata": {},
   "source": [
    "Среднеквадратическая ошибка на тренировке и валидации очень быстро сходятся.\n",
    "### Коэффициент детерминации на предсказании тестовой выборки"
   ]
  },
  {
   "cell_type": "code",
   "execution_count": 6,
   "metadata": {},
   "outputs": [
    {
     "data": {
      "text/plain": [
       "0.7234360979213637"
      ]
     },
     "execution_count": 6,
     "metadata": {},
     "output_type": "execute_result"
    }
   ],
   "source": [
    "y_test_pred = model.predict(X_test_scaled)\n",
    "r2_score(y_test, y_test_pred)"
   ]
  },
  {
   "cell_type": "markdown",
   "metadata": {},
   "source": [
    "# Модель 2\n",
    "* Изменили активации: swish - комбинирует линейную функцию и нелинейный сигмоид, relu - выдает результат только в положительной области, поэтому используем его в выходном нейроне, так как цена на недвижимость неотрицательна.\n",
    "* Скорректировали количетсво нейронов в слоях\n",
    "* Функция потерь - средняя абсолютная ошибка\n",
    "* метрика - ско \n",
    "* 30 эпох, по 1 примеру в батче"
   ]
  },
  {
   "cell_type": "code",
   "execution_count": 7,
   "metadata": {
    "scrolled": false
   },
   "outputs": [
    {
     "name": "stdout",
     "output_type": "stream",
     "text": [
      "Model: \"sequential_1\"\n",
      "_________________________________________________________________\n",
      "Layer (type)                 Output Shape              Param #   \n",
      "=================================================================\n",
      "dense_3 (Dense)              (None, 20)                280       \n",
      "_________________________________________________________________\n",
      "dense_4 (Dense)              (None, 13)                273       \n",
      "_________________________________________________________________\n",
      "dense_5 (Dense)              (None, 1)                 14        \n",
      "=================================================================\n",
      "Total params: 567\n",
      "Trainable params: 567\n",
      "Non-trainable params: 0\n",
      "_________________________________________________________________\n",
      "None\n",
      "Epoch 1/30\n",
      "294/323 [==========================>...] - ETA: 0s - loss: 14.0795 - mean_squared_error: 317.6596WARNING:tensorflow:Callbacks method `on_test_batch_end` is slow compared to the batch time (batch time: 0.0000s vs `on_test_batch_end` time: 0.0010s). Check your callbacks.\n",
      "323/323 [==============================] - 0s 1ms/step - loss: 13.3795 - mean_squared_error: 296.6262 - val_loss: 6.5015 - val_mean_squared_error: 93.7100\n",
      "Epoch 2/30\n",
      "323/323 [==============================] - 0s 945us/step - loss: 5.4503 - mean_squared_error: 68.0930 - val_loss: 5.4728 - val_mean_squared_error: 66.5927\n",
      "Epoch 3/30\n",
      "323/323 [==============================] - ETA: 0s - loss: 4.5135 - mean_squared_error: 51.109 - 0s 877us/step - loss: 4.5085 - mean_squared_error: 51.0895 - val_loss: 4.8333 - val_mean_squared_error: 57.7866\n",
      "Epoch 4/30\n",
      "323/323 [==============================] - 0s 886us/step - loss: 3.9348 - mean_squared_error: 40.7575 - val_loss: 4.1712 - val_mean_squared_error: 44.5676\n",
      "Epoch 5/30\n",
      "323/323 [==============================] - 0s 806us/step - loss: 3.4361 - mean_squared_error: 32.6442 - val_loss: 3.7973 - val_mean_squared_error: 37.8894\n",
      "Epoch 6/30\n",
      "323/323 [==============================] - 0s 800us/step - loss: 3.2576 - mean_squared_error: 29.6542 - val_loss: 3.7612 - val_mean_squared_error: 35.4242\n",
      "Epoch 7/30\n",
      "323/323 [==============================] - 0s 837us/step - loss: 3.0993 - mean_squared_error: 27.8378 - val_loss: 3.6642 - val_mean_squared_error: 32.5369\n",
      "Epoch 8/30\n",
      "323/323 [==============================] - 0s 837us/step - loss: 3.0374 - mean_squared_error: 26.8234 - val_loss: 3.4844 - val_mean_squared_error: 29.7715\n",
      "Epoch 9/30\n",
      "323/323 [==============================] - 0s 1ms/step - loss: 3.0029 - mean_squared_error: 25.2230 - val_loss: 3.4198 - val_mean_squared_error: 28.6396\n",
      "Epoch 10/30\n",
      "323/323 [==============================] - 0s 1ms/step - loss: 2.9142 - mean_squared_error: 24.9576 - val_loss: 3.3175 - val_mean_squared_error: 27.4134\n",
      "Epoch 11/30\n",
      "323/323 [==============================] - 0s 1ms/step - loss: 2.8760 - mean_squared_error: 24.6306 - val_loss: 3.1509 - val_mean_squared_error: 25.2235\n",
      "Epoch 12/30\n",
      "323/323 [==============================] - 0s 895us/step - loss: 2.8699 - mean_squared_error: 24.3916 - val_loss: 3.2779 - val_mean_squared_error: 25.8219\n",
      "Epoch 13/30\n",
      "323/323 [==============================] - 0s 794us/step - loss: 2.8348 - mean_squared_error: 24.6535 - val_loss: 3.3020 - val_mean_squared_error: 26.3329\n",
      "Epoch 14/30\n",
      "323/323 [==============================] - 0s 787us/step - loss: 2.7947 - mean_squared_error: 23.7641 - val_loss: 3.1357 - val_mean_squared_error: 25.3320\n",
      "Epoch 15/30\n",
      "323/323 [==============================] - 0s 821us/step - loss: 2.7705 - mean_squared_error: 23.7582 - val_loss: 3.3294 - val_mean_squared_error: 25.2538\n",
      "Epoch 16/30\n",
      "323/323 [==============================] - 0s 824us/step - loss: 2.7334 - mean_squared_error: 23.7828 - val_loss: 3.1715 - val_mean_squared_error: 24.7697\n",
      "Epoch 17/30\n",
      "323/323 [==============================] - 0s 991us/step - loss: 2.6930 - mean_squared_error: 23.5004 - val_loss: 3.1664 - val_mean_squared_error: 25.6332\n",
      "Epoch 18/30\n",
      "323/323 [==============================] - 0s 815us/step - loss: 2.6534 - mean_squared_error: 23.5782 - val_loss: 3.0461 - val_mean_squared_error: 23.2053\n",
      "Epoch 19/30\n",
      "323/323 [==============================] - 0s 818us/step - loss: 2.6839 - mean_squared_error: 22.5516 - val_loss: 2.9564 - val_mean_squared_error: 22.8202\n",
      "Epoch 20/30\n",
      "323/323 [==============================] - 0s 877us/step - loss: 2.6683 - mean_squared_error: 22.2030 - val_loss: 3.1064 - val_mean_squared_error: 25.0091\n",
      "Epoch 21/30\n",
      "323/323 [==============================] - 0s 1ms/step - loss: 2.6264 - mean_squared_error: 22.6932 - val_loss: 3.0941 - val_mean_squared_error: 23.2601\n",
      "Epoch 22/30\n",
      "323/323 [==============================] - 0s 1ms/step - loss: 2.5928 - mean_squared_error: 21.8353 - val_loss: 3.0051 - val_mean_squared_error: 23.1175\n",
      "Epoch 23/30\n",
      "323/323 [==============================] - 0s 951us/step - loss: 2.5962 - mean_squared_error: 21.7296 - val_loss: 3.0255 - val_mean_squared_error: 22.5063\n",
      "Epoch 24/30\n",
      "323/323 [==============================] - 0s 902us/step - loss: 2.5358 - mean_squared_error: 20.5848 - val_loss: 3.0100 - val_mean_squared_error: 23.8267\n",
      "Epoch 25/30\n",
      "323/323 [==============================] - 0s 855us/step - loss: 2.5063 - mean_squared_error: 20.9746 - val_loss: 3.0912 - val_mean_squared_error: 23.2823\n",
      "Epoch 26/30\n",
      "323/323 [==============================] - 0s 837us/step - loss: 2.4948 - mean_squared_error: 20.6859 - val_loss: 3.0036 - val_mean_squared_error: 22.8730\n",
      "Epoch 27/30\n",
      "323/323 [==============================] - 0s 914us/step - loss: 2.5129 - mean_squared_error: 20.5118 - val_loss: 3.1874 - val_mean_squared_error: 26.3399\n",
      "Epoch 28/30\n",
      "323/323 [==============================] - 0s 926us/step - loss: 2.4761 - mean_squared_error: 20.6923 - val_loss: 2.8563 - val_mean_squared_error: 22.0032\n",
      "Epoch 29/30\n",
      "323/323 [==============================] - 0s 877us/step - loss: 2.4278 - mean_squared_error: 19.9952 - val_loss: 2.9592 - val_mean_squared_error: 21.5371\n",
      "Epoch 30/30\n",
      "323/323 [==============================] - 0s 914us/step - loss: 2.4271 - mean_squared_error: 19.9230 - val_loss: 2.8978 - val_mean_squared_error: 21.6618\n"
     ]
    }
   ],
   "source": [
    "model_2 = Sequential([\n",
    "    Dense(20, activation='swish', input_shape=(13,)),\n",
    "    Dense(13, activation='swish'),\n",
    "    Dense(1, activation='relu')\n",
    "])\n",
    "\n",
    "model_2.compile(optimizer='adam',\n",
    "              loss='mean_absolute_error',\n",
    "              metrics=['mean_squared_error'])\n",
    "\n",
    "print(model_2.summary())\n",
    "\n",
    "history_2 = model_2.fit( X_train_scaled, y_train,\n",
    "  epochs=30,\n",
    "  batch_size=1, validation_split=0.2\n",
    ")"
   ]
  },
  {
   "cell_type": "code",
   "execution_count": 8,
   "metadata": {},
   "outputs": [
    {
     "data": {
      "text/plain": [
       "Text(0.5, 1.0, 'History - MSE')"
      ]
     },
     "execution_count": 8,
     "metadata": {},
     "output_type": "execute_result"
    },
    {
     "data": {
      "image/png": "[encoded data removed]",
      "text/plain": [
       "<Figure size 720x720 with 2 Axes>"
      ]
     },
     "metadata": {
      "needs_background": "light"
     },
     "output_type": "display_data"
    }
   ],
   "source": [
    "plt.figure(figsize=(10, 10))\n",
    "\n",
    "plt.subplot(2, 2, 1)\n",
    "plt.plot(history_2.history['loss'], label='Loss (MAE)')\n",
    "plt.plot(history_2.history['val_loss'], label='Validation Loss (MAE)')\n",
    "plt.legend()\n",
    "plt.title('History - Loss Function (MAE)')\n",
    "\n",
    "plt.subplot(2, 2, 2)\n",
    "plt.plot(history_2.history['mean_squared_error'], label='MSE')\n",
    "plt.plot(history_2.history['val_mean_squared_error'], label='Validation MSE')\n",
    "plt.legend()\n",
    "plt.title('History - MSE')"
   ]
  },
  {
   "cell_type": "markdown",
   "metadata": {},
   "source": [
    "### Коэф детерминации"
   ]
  },
  {
   "cell_type": "code",
   "execution_count": 9,
   "metadata": {},
   "outputs": [
    {
     "data": {
      "text/plain": [
       "0.8330083443827824"
      ]
     },
     "execution_count": 9,
     "metadata": {},
     "output_type": "execute_result"
    }
   ],
   "source": [
    "y_test_pred_2 = model_2.predict(X_test_scaled)\n",
    "r2_score(y_test, y_test_pred_2)"
   ]
  },
  {
   "cell_type": "markdown",
   "metadata": {},
   "source": [
    "#### R2_SCORE увеличился с 0.72 до 0.83, причем настраеваемых параметров уменшилось с 721 до 567"
   ]
  },
  {
   "cell_type": "markdown",
   "metadata": {},
   "source": [
    "# Задание 2"
   ]
  },
  {
   "cell_type": "markdown",
   "metadata": {},
   "source": [
    "константный тензор 2 на 3"
   ]
  },
  {
   "cell_type": "code",
   "execution_count": 10,
   "metadata": {},
   "outputs": [
    {
     "data": {
      "text/plain": [
       "<tf.Tensor: shape=(2, 3), dtype=int32, numpy=\n",
       "array([[1, 2, 3],\n",
       "       [4, 5, 6]])>"
      ]
     },
     "execution_count": 10,
     "metadata": {},
     "output_type": "execute_result"
    }
   ],
   "source": [
    "import tensorflow as tf\n",
    "a = tf.constant(np.array([[1, 2, 3], [4, 5, 6]]))\n",
    "a"
   ]
  },
  {
   "cell_type": "markdown",
   "metadata": {},
   "source": [
    "транспонирование"
   ]
  },
  {
   "cell_type": "code",
   "execution_count": 11,
   "metadata": {},
   "outputs": [
    {
     "data": {
      "text/plain": [
       "<tf.Tensor: shape=(3, 2), dtype=int32, numpy=\n",
       "array([[1, 4],\n",
       "       [2, 5],\n",
       "       [3, 6]])>"
      ]
     },
     "execution_count": 11,
     "metadata": {},
     "output_type": "execute_result"
    }
   ],
   "source": [
    "aT = tf.linalg.matrix_transpose(a)\n",
    "aT"
   ]
  },
  {
   "cell_type": "markdown",
   "metadata": {},
   "source": [
    "матричное умножение"
   ]
  },
  {
   "cell_type": "code",
   "execution_count": 12,
   "metadata": {},
   "outputs": [
    {
     "data": {
      "text/plain": [
       "<tf.Tensor: shape=(3, 3), dtype=int32, numpy=\n",
       "array([[17, 22, 27],\n",
       "       [22, 29, 36],\n",
       "       [27, 36, 45]])>"
      ]
     },
     "execution_count": 12,
     "metadata": {},
     "output_type": "execute_result"
    }
   ],
   "source": [
    "aaT = tf.matmul(aT, a)\n",
    "aaT"
   ]
  },
  {
   "cell_type": "markdown",
   "metadata": {},
   "source": [
    "среднее по строкам"
   ]
  },
  {
   "cell_type": "code",
   "execution_count": 13,
   "metadata": {},
   "outputs": [
    {
     "data": {
      "text/plain": [
       "<tf.Tensor: shape=(3,), dtype=int32, numpy=array([22, 29, 36])>"
      ]
     },
     "execution_count": 13,
     "metadata": {},
     "output_type": "execute_result"
    }
   ],
   "source": [
    "mean_axis_0 = tf.math.reduce_mean(aaT,0)\n",
    "mean_axis_0"
   ]
  },
  {
   "cell_type": "markdown",
   "metadata": {},
   "source": [
    "генерация тензора с нормально распределнными значениями. 2 матрицы содержащие по 3 квадратных матриц 4 на 4"
   ]
  },
  {
   "cell_type": "code",
   "execution_count": 14,
   "metadata": {
    "scrolled": false
   },
   "outputs": [
    {
     "name": "stdout",
     "output_type": "stream",
     "text": [
      "[[[[-0.09941783 -0.53285414 -0.38473317 -0.38245597]\n",
      "   [-0.15274416 -0.2954573  -0.28799698 -1.610002  ]\n",
      "   [ 0.3101198  -0.4202418   1.1608038   0.5852391 ]\n",
      "   [-0.11921384  1.3762654   0.9833069   0.10879694]]\n",
      "\n",
      "  [[-0.681533    1.8113422   1.4480939  -1.8774385 ]\n",
      "   [ 0.4811193  -0.77832735 -0.9578261  -0.2098246 ]\n",
      "   [ 0.823184    0.07283982  0.6298453   0.08050122]\n",
      "   [-1.8051207   0.89088917  0.10060136  0.5261252 ]]\n",
      "\n",
      "  [[-0.38895515 -0.9934301  -0.42741394 -1.0772336 ]\n",
      "   [ 1.8196852  -0.56058586 -0.08199504  0.07040004]\n",
      "   [-1.9064597   0.73749864 -0.08805317 -0.39283967]\n",
      "   [ 0.07806669  1.754789    1.3315437  -2.0512807 ]]]\n",
      "\n",
      "\n",
      " [[[ 1.8381231  -0.9215058  -1.3514049  -0.11944367]\n",
      "   [-0.4711475   0.0166174  -0.12411705 -0.20238827]\n",
      "   [ 0.53261995 -1.2392235   0.46346775 -0.21477269]\n",
      "   [ 0.29743174 -0.13605078 -0.89404076 -2.1707704 ]]\n",
      "\n",
      "  [[-0.30060208  0.56073135  0.48486376  0.77961284]\n",
      "   [ 1.6708025   0.92893064  1.1421708  -2.369309  ]\n",
      "   [ 0.67631984  0.5561035   1.8577138  -0.06535432]\n",
      "   [-0.29990065 -3.0946715  -0.5633194   0.9350516 ]]\n",
      "\n",
      "  [[-0.0114622   0.60611093 -0.05126482 -0.0150067 ]\n",
      "   [ 0.75022393  0.7613514   0.7163335  -0.29776415]\n",
      "   [-1.2503844   0.26496464 -0.9535998   1.4314734 ]\n",
      "   [-2.342462   -0.59429556 -0.8208429  -1.1600595 ]]]]\n"
     ]
    }
   ],
   "source": [
    "norm = tf.random.normal((2,3,4,4))\n",
    "print(norm.numpy())"
   ]
  },
  {
   "cell_type": "markdown",
   "metadata": {},
   "source": [
    "Определители квадратных матриц (которые 4 на 4)"
   ]
  },
  {
   "cell_type": "code",
   "execution_count": 15,
   "metadata": {},
   "outputs": [
    {
     "data": {
      "text/plain": [
       "<tf.Tensor: shape=(2, 3), dtype=float32, numpy=\n",
       "array([[-0.34093794, -0.6147548 ,  2.36278   ],\n",
       "       [ 2.326182  , -0.5041827 ,  1.019334  ]], dtype=float32)>"
      ]
     },
     "execution_count": 15,
     "metadata": {},
     "output_type": "execute_result"
    }
   ],
   "source": [
    "dets = tf.linalg.det(norm)\n",
    "dets"
   ]
  },
  {
   "cell_type": "code",
   "execution_count": null,
   "metadata": {},
   "outputs": [],
   "source": []
  }
 ],
 "metadata": {
  "kernelspec": {
   "display_name": "Python 3",
   "language": "python",
   "name": "python3"
  },
  "language_info": {
   "codemirror_mode": {
    "name": "ipython",
    "version": 3
   },
   "file_extension": ".py",
   "mimetype": "text/x-python",
   "name": "python",
   "nbconvert_exporter": "python",
   "pygments_lexer": "ipython3",
   "version": "3.7.3"
  }
 },
 "nbformat": 4,
 "nbformat_minor": 4
}
