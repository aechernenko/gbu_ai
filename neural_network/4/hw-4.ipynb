{
 "cells": [
  {
   "cell_type": "code",
   "execution_count": 1,
   "metadata": {
    "colab": {},
    "colab_type": "code",
    "executionInfo": {
     "elapsed": 1835,
     "status": "ok",
     "timestamp": 1594383282170,
     "user": {
      "displayName": "Alexey Chernenko",
      "photoUrl": "",
      "userId": "00203058104948818644"
     },
     "user_tz": -180
    },
    "id": "RaId5rfQpPy3"
   },
   "outputs": [],
   "source": [
    "import matplotlib.pyplot as plt\n",
    "import numpy as np\n",
    "\n",
    "from tensorflow.keras.datasets import fashion_mnist\n",
    "from tensorflow.keras.models import Sequential, Model\n",
    "from tensorflow.keras.layers import Conv2D, Input, Flatten, Dense\n",
    "from tensorflow.keras.losses import categorical_crossentropy\n",
    "from tensorflow.keras.utils import to_categorical\n",
    "from tensorflow.keras.layers import GlobalMaxPooling2D, MaxPooling2D, AveragePooling2D, GlobalAveragePooling2D "
   ]
  },
  {
   "cell_type": "code",
   "execution_count": 2,
   "metadata": {
    "colab": {
     "base_uri": "https://localhost:8080/",
     "height": 185
    },
    "colab_type": "code",
    "executionInfo": {
     "elapsed": 1923,
     "status": "ok",
     "timestamp": 1594383286506,
     "user": {
      "displayName": "Alexey Chernenko",
      "photoUrl": "",
      "userId": "00203058104948818644"
     },
     "user_tz": -180
    },
    "id": "G6UPQOZgpPy7",
    "outputId": "d404cfa7-92bf-4550-f2a8-156bd367085e"
   },
   "outputs": [
    {
     "name": "stdout",
     "output_type": "stream",
     "text": [
      "Downloading data from https://storage.googleapis.com/tensorflow/tf-keras-datasets/train-labels-idx1-ubyte.gz\n",
      "32768/29515 [=================================] - 0s 0us/step\n",
      "Downloading data from https://storage.googleapis.com/tensorflow/tf-keras-datasets/train-images-idx3-ubyte.gz\n",
      "26427392/26421880 [==============================] - 0s 0us/step\n",
      "Downloading data from https://storage.googleapis.com/tensorflow/tf-keras-datasets/t10k-labels-idx1-ubyte.gz\n",
      "8192/5148 [===============================================] - 0s 0us/step\n",
      "Downloading data from https://storage.googleapis.com/tensorflow/tf-keras-datasets/t10k-images-idx3-ubyte.gz\n",
      "4423680/4422102 [==============================] - 0s 0us/step\n",
      "(60000, 28, 28)\n",
      "(10000, 28, 28)\n"
     ]
    }
   ],
   "source": [
    "(train_images,train_labels),(test_images,test_labels)=fashion_mnist.load_data()\n",
    "\n",
    "# Normalize the images.\n",
    "train_images = (train_images / 255)*2-1\n",
    "test_images = (test_images / 255)*2-1\n",
    "\n",
    "# Flatten the images.\n",
    "train_images = train_images#.reshape((-1, 28*28))\n",
    "test_images = test_images#.reshape((-1, 28*28))\n",
    "\n",
    "print(train_images.shape)\n",
    "print(test_images.shape) "
   ]
  },
  {
   "cell_type": "code",
   "execution_count": 3,
   "metadata": {
    "colab": {
     "base_uri": "https://localhost:8080/",
     "height": 101
    },
    "colab_type": "code",
    "executionInfo": {
     "elapsed": 675,
     "status": "ok",
     "timestamp": 1594383291261,
     "user": {
      "displayName": "Alexey Chernenko",
      "photoUrl": "",
      "userId": "00203058104948818644"
     },
     "user_tz": -180
    },
    "id": "I4YOd0cSpPy_",
    "outputId": "6c1fded6-36a2-427b-e97b-eb76984087d5"
   },
   "outputs": [
    {
     "name": "stdout",
     "output_type": "stream",
     "text": [
      "(60000, 28, 28, 1)\n",
      "(10000, 28, 28, 1)\n",
      "\n",
      "(60000, 10)\n",
      "(10000, 10)\n"
     ]
    }
   ],
   "source": [
    "# трансформация лейблов в one-hot encoding\n",
    "train_labels = to_categorical(train_labels, 10) \n",
    "test_labels = to_categorical(test_labels, 10) \n",
    "\n",
    "# изменение размерности массива в 4D массив\n",
    "train_images = train_images.reshape(train_images.shape[0], 28,28,1)\n",
    "test_images = test_images.reshape(test_images.shape[0], 28,28,1)\n",
    "\n",
    "print(train_images.shape) \n",
    "print(test_images.shape)  \n",
    "print()\n",
    "print(train_labels.shape) \n",
    "print(test_labels.shape)  "
   ]
  },
  {
   "cell_type": "markdown",
   "metadata": {
    "colab_type": "text",
    "id": "4hCgB5_q7d73"
   },
   "source": [
    "# Анализ влияния ширины сети\n"
   ]
  },
  {
   "cell_type": "code",
   "execution_count": 52,
   "metadata": {
    "colab": {},
    "colab_type": "code",
    "executionInfo": {
     "elapsed": 690,
     "status": "ok",
     "timestamp": 1594385725839,
     "user": {
      "displayName": "Alexey Chernenko",
      "photoUrl": "",
      "userId": "00203058104948818644"
     },
     "user_tz": -180
    },
    "id": "5DymhvNLrKbp"
   },
   "outputs": [],
   "source": [
    "def models_width(filters_1, filters_2, epochs=5):\n",
    "    model = Sequential()\n",
    "    \n",
    "    # первый сверточный слой\n",
    "    model.add(Conv2D(filters_1, kernel_size=(5, 5), strides=(1, 1), activation='sigmoid', input_shape=(28,28,1), padding=\"same\"))\n",
    "    \n",
    "    # второй пуллинговый слой\n",
    "    model.add(MaxPooling2D(pool_size=(3, 3), strides=(1, 1), padding='valid'))\n",
    "    \n",
    "    # пятый сверточный слой\n",
    "    model.add(Conv2D(filters_2, kernel_size=(5, 5), strides=(1, 1), activation='sigmoid', padding='valid'))\n",
    "    \n",
    "    # сглаживание CNN выхода чтобы можно было его присоединить к полносвязногому слою\n",
    "    model.add(Flatten())\n",
    "    \n",
    "    # шестой полносвязный слой\n",
    "    model.add(Dense(80, activation='sigmoid'))\n",
    "    \n",
    "    # выходной слой с функцией активации softmax\n",
    "    model.add(Dense(10, activation='softmax'))    \n",
    "    \n",
    "    # компилияция модели\n",
    "    model.compile(loss=categorical_crossentropy, optimizer='adam', metrics=[\"accuracy\"])    \n",
    "    \n",
    "    hist = model.fit(x=train_images,\n",
    "                     y=train_labels, \n",
    "                     epochs=epochs, \n",
    "                     batch_size=128, \n",
    "                     validation_data=(test_images, test_labels), \n",
    "                     verbose=1)\n",
    "    \n",
    "    test_score = model.evaluate(test_images, test_labels)\n",
    "    \n",
    "    print(\"Test loss {:.4f}, accuracy {:.2f}%\".format(test_score[0], test_score[1] * 100))"
   ]
  },
  {
   "cell_type": "code",
   "execution_count": 67,
   "metadata": {
    "colab": {
     "base_uri": "https://localhost:8080/",
     "height": 722
    },
    "colab_type": "code",
    "executionInfo": {
     "elapsed": 33872,
     "status": "ok",
     "timestamp": 1594386336942,
     "user": {
      "displayName": "Alexey Chernenko",
      "photoUrl": "",
      "userId": "00203058104948818644"
     },
     "user_tz": -180
    },
    "id": "k5mX5l7Gz50I",
    "outputId": "91070812-5640-4b03-b9d3-de35ccaef293",
    "scrolled": true
   },
   "outputs": [
    {
     "name": "stdout",
     "output_type": "stream",
     "text": [
      "Epoch 1/20\n",
      "469/469 [==============================] - 2s 4ms/step - loss: 1.1169 - accuracy: 0.6085 - val_loss: 0.6752 - val_accuracy: 0.7513\n",
      "Epoch 2/20\n",
      "469/469 [==============================] - 2s 3ms/step - loss: 0.6001 - accuracy: 0.7759 - val_loss: 0.5763 - val_accuracy: 0.7808\n",
      "Epoch 3/20\n",
      "469/469 [==============================] - 2s 3ms/step - loss: 0.5124 - accuracy: 0.8093 - val_loss: 0.5051 - val_accuracy: 0.8118\n",
      "Epoch 4/20\n",
      "469/469 [==============================] - 2s 3ms/step - loss: 0.4532 - accuracy: 0.8341 - val_loss: 0.4622 - val_accuracy: 0.8281\n",
      "Epoch 5/20\n",
      "469/469 [==============================] - 2s 3ms/step - loss: 0.4144 - accuracy: 0.8487 - val_loss: 0.4187 - val_accuracy: 0.8493\n",
      "Epoch 6/20\n",
      "469/469 [==============================] - 2s 3ms/step - loss: 0.3875 - accuracy: 0.8598 - val_loss: 0.4099 - val_accuracy: 0.8531\n",
      "Epoch 7/20\n",
      "469/469 [==============================] - 2s 3ms/step - loss: 0.3693 - accuracy: 0.8653 - val_loss: 0.3837 - val_accuracy: 0.8614\n",
      "Epoch 8/20\n",
      "469/469 [==============================] - 2s 3ms/step - loss: 0.3541 - accuracy: 0.8705 - val_loss: 0.3787 - val_accuracy: 0.8629\n",
      "Epoch 9/20\n",
      "469/469 [==============================] - 2s 3ms/step - loss: 0.3385 - accuracy: 0.8768 - val_loss: 0.3649 - val_accuracy: 0.8664\n",
      "Epoch 10/20\n",
      "469/469 [==============================] - 2s 3ms/step - loss: 0.3263 - accuracy: 0.8797 - val_loss: 0.3475 - val_accuracy: 0.8752\n",
      "Epoch 11/20\n",
      "469/469 [==============================] - 2s 3ms/step - loss: 0.3175 - accuracy: 0.8832 - val_loss: 0.3533 - val_accuracy: 0.8711\n",
      "Epoch 12/20\n",
      "469/469 [==============================] - 2s 3ms/step - loss: 0.3080 - accuracy: 0.8867 - val_loss: 0.3442 - val_accuracy: 0.8753\n",
      "Epoch 13/20\n",
      "469/469 [==============================] - 2s 3ms/step - loss: 0.2989 - accuracy: 0.8901 - val_loss: 0.3294 - val_accuracy: 0.8781\n",
      "Epoch 14/20\n",
      "469/469 [==============================] - 2s 3ms/step - loss: 0.2910 - accuracy: 0.8920 - val_loss: 0.3270 - val_accuracy: 0.8808\n",
      "Epoch 15/20\n",
      "469/469 [==============================] - 2s 3ms/step - loss: 0.2831 - accuracy: 0.8961 - val_loss: 0.3249 - val_accuracy: 0.8793\n",
      "Epoch 16/20\n",
      "469/469 [==============================] - 2s 3ms/step - loss: 0.2764 - accuracy: 0.8986 - val_loss: 0.3224 - val_accuracy: 0.8805\n",
      "Epoch 17/20\n",
      "469/469 [==============================] - 2s 3ms/step - loss: 0.2716 - accuracy: 0.9000 - val_loss: 0.3230 - val_accuracy: 0.8799\n",
      "Epoch 18/20\n",
      "469/469 [==============================] - 2s 3ms/step - loss: 0.2635 - accuracy: 0.9026 - val_loss: 0.3079 - val_accuracy: 0.8865\n",
      "Epoch 19/20\n",
      "469/469 [==============================] - 2s 3ms/step - loss: 0.2568 - accuracy: 0.9048 - val_loss: 0.3047 - val_accuracy: 0.8870\n",
      "Epoch 20/20\n",
      "469/469 [==============================] - 2s 3ms/step - loss: 0.2527 - accuracy: 0.9065 - val_loss: 0.3040 - val_accuracy: 0.8880\n",
      "313/313 [==============================] - 1s 2ms/step - loss: 0.3040 - accuracy: 0.8880\n",
      "Test loss 0.3040, accuracy 88.80%\n"
     ]
    }
   ],
   "source": [
    "models_width(2, 4, epochs=20)"
   ]
  },
  {
   "cell_type": "code",
   "execution_count": 66,
   "metadata": {
    "colab": {
     "base_uri": "https://localhost:8080/",
     "height": 722
    },
    "colab_type": "code",
    "executionInfo": {
     "elapsed": 37495,
     "status": "ok",
     "timestamp": 1594386281492,
     "user": {
      "displayName": "Alexey Chernenko",
      "photoUrl": "",
      "userId": "00203058104948818644"
     },
     "user_tz": -180
    },
    "id": "hF2BOwFzrJWG",
    "outputId": "67b9d585-a995-4d90-ac9b-d712bf61ec4f",
    "scrolled": true
   },
   "outputs": [
    {
     "name": "stdout",
     "output_type": "stream",
     "text": [
      "Epoch 1/20\n",
      "469/469 [==============================] - 2s 4ms/step - loss: 1.0980 - accuracy: 0.6373 - val_loss: 0.6055 - val_accuracy: 0.7782\n",
      "Epoch 2/20\n",
      "469/469 [==============================] - 2s 4ms/step - loss: 0.5112 - accuracy: 0.8164 - val_loss: 0.4813 - val_accuracy: 0.8233\n",
      "Epoch 3/20\n",
      "469/469 [==============================] - 2s 4ms/step - loss: 0.4198 - accuracy: 0.8490 - val_loss: 0.4116 - val_accuracy: 0.8513\n",
      "Epoch 4/20\n",
      "469/469 [==============================] - 2s 4ms/step - loss: 0.3762 - accuracy: 0.8648 - val_loss: 0.3843 - val_accuracy: 0.8591\n",
      "Epoch 5/20\n",
      "469/469 [==============================] - 2s 4ms/step - loss: 0.3486 - accuracy: 0.8738 - val_loss: 0.3630 - val_accuracy: 0.8702\n",
      "Epoch 6/20\n",
      "469/469 [==============================] - 2s 4ms/step - loss: 0.3274 - accuracy: 0.8814 - val_loss: 0.3477 - val_accuracy: 0.8733\n",
      "Epoch 7/20\n",
      "469/469 [==============================] - 2s 4ms/step - loss: 0.3117 - accuracy: 0.8863 - val_loss: 0.3272 - val_accuracy: 0.8803\n",
      "Epoch 8/20\n",
      "469/469 [==============================] - 2s 4ms/step - loss: 0.2962 - accuracy: 0.8921 - val_loss: 0.3251 - val_accuracy: 0.8833\n",
      "Epoch 9/20\n",
      "469/469 [==============================] - 2s 4ms/step - loss: 0.2851 - accuracy: 0.8960 - val_loss: 0.3135 - val_accuracy: 0.8861\n",
      "Epoch 10/20\n",
      "469/469 [==============================] - 2s 4ms/step - loss: 0.2742 - accuracy: 0.9003 - val_loss: 0.2998 - val_accuracy: 0.8903\n",
      "Epoch 11/20\n",
      "469/469 [==============================] - 2s 4ms/step - loss: 0.2610 - accuracy: 0.9045 - val_loss: 0.2924 - val_accuracy: 0.8923\n",
      "Epoch 12/20\n",
      "469/469 [==============================] - 2s 4ms/step - loss: 0.2527 - accuracy: 0.9075 - val_loss: 0.2923 - val_accuracy: 0.8950\n",
      "Epoch 13/20\n",
      "469/469 [==============================] - 2s 4ms/step - loss: 0.2460 - accuracy: 0.9098 - val_loss: 0.2929 - val_accuracy: 0.8929\n",
      "Epoch 14/20\n",
      "469/469 [==============================] - 2s 4ms/step - loss: 0.2370 - accuracy: 0.9132 - val_loss: 0.2851 - val_accuracy: 0.8945\n",
      "Epoch 15/20\n",
      "469/469 [==============================] - 2s 4ms/step - loss: 0.2296 - accuracy: 0.9167 - val_loss: 0.2799 - val_accuracy: 0.8954\n",
      "Epoch 16/20\n",
      "469/469 [==============================] - 2s 4ms/step - loss: 0.2208 - accuracy: 0.9194 - val_loss: 0.2738 - val_accuracy: 0.9006\n",
      "Epoch 17/20\n",
      "469/469 [==============================] - 2s 4ms/step - loss: 0.2139 - accuracy: 0.9210 - val_loss: 0.2713 - val_accuracy: 0.8993\n",
      "Epoch 18/20\n",
      "469/469 [==============================] - 2s 4ms/step - loss: 0.2098 - accuracy: 0.9238 - val_loss: 0.2702 - val_accuracy: 0.9003\n",
      "Epoch 19/20\n",
      "469/469 [==============================] - 2s 4ms/step - loss: 0.2014 - accuracy: 0.9267 - val_loss: 0.2661 - val_accuracy: 0.9032\n",
      "Epoch 20/20\n",
      "469/469 [==============================] - 2s 4ms/step - loss: 0.1954 - accuracy: 0.9288 - val_loss: 0.2655 - val_accuracy: 0.9020\n",
      "313/313 [==============================] - 1s 2ms/step - loss: 0.2655 - accuracy: 0.9020\n",
      "Test loss 0.2655, accuracy 90.20%\n"
     ]
    }
   ],
   "source": [
    "models_width(5, 10, epochs=20)"
   ]
  },
  {
   "cell_type": "code",
   "execution_count": 64,
   "metadata": {
    "colab": {
     "base_uri": "https://localhost:8080/",
     "height": 722
    },
    "colab_type": "code",
    "executionInfo": {
     "elapsed": 41115,
     "status": "ok",
     "timestamp": 1594386163278,
     "user": {
      "displayName": "Alexey Chernenko",
      "photoUrl": "",
      "userId": "00203058104948818644"
     },
     "user_tz": -180
    },
    "id": "LQuuoR4a0MH-",
    "outputId": "366e5bb2-e590-4b13-dbca-57ff746a19d6",
    "scrolled": true
   },
   "outputs": [
    {
     "name": "stdout",
     "output_type": "stream",
     "text": [
      "Epoch 1/20\n",
      "469/469 [==============================] - 2s 5ms/step - loss: 1.2058 - accuracy: 0.6200 - val_loss: 0.6354 - val_accuracy: 0.7824\n",
      "Epoch 2/20\n",
      "469/469 [==============================] - 2s 5ms/step - loss: 0.5198 - accuracy: 0.8188 - val_loss: 0.4816 - val_accuracy: 0.8312\n",
      "Epoch 3/20\n",
      "469/469 [==============================] - 2s 5ms/step - loss: 0.4203 - accuracy: 0.8524 - val_loss: 0.4088 - val_accuracy: 0.8556\n",
      "Epoch 4/20\n",
      "469/469 [==============================] - 2s 4ms/step - loss: 0.3737 - accuracy: 0.8675 - val_loss: 0.3831 - val_accuracy: 0.8605\n",
      "Epoch 5/20\n",
      "469/469 [==============================] - 2s 4ms/step - loss: 0.3444 - accuracy: 0.8767 - val_loss: 0.3582 - val_accuracy: 0.8714\n",
      "Epoch 6/20\n",
      "469/469 [==============================] - 2s 4ms/step - loss: 0.3229 - accuracy: 0.8838 - val_loss: 0.3371 - val_accuracy: 0.8777\n",
      "Epoch 7/20\n",
      "469/469 [==============================] - 2s 4ms/step - loss: 0.3026 - accuracy: 0.8903 - val_loss: 0.3304 - val_accuracy: 0.8799\n",
      "Epoch 8/20\n",
      "469/469 [==============================] - 2s 4ms/step - loss: 0.2866 - accuracy: 0.8958 - val_loss: 0.3160 - val_accuracy: 0.8848\n",
      "Epoch 9/20\n",
      "469/469 [==============================] - 2s 4ms/step - loss: 0.2745 - accuracy: 0.9000 - val_loss: 0.3111 - val_accuracy: 0.8819\n",
      "Epoch 10/20\n",
      "469/469 [==============================] - 2s 4ms/step - loss: 0.2612 - accuracy: 0.9062 - val_loss: 0.2950 - val_accuracy: 0.8904\n",
      "Epoch 11/20\n",
      "469/469 [==============================] - 2s 4ms/step - loss: 0.2497 - accuracy: 0.9097 - val_loss: 0.3000 - val_accuracy: 0.8896\n",
      "Epoch 12/20\n",
      "469/469 [==============================] - 2s 4ms/step - loss: 0.2409 - accuracy: 0.9127 - val_loss: 0.2806 - val_accuracy: 0.8990\n",
      "Epoch 13/20\n",
      "469/469 [==============================] - 2s 4ms/step - loss: 0.2299 - accuracy: 0.9166 - val_loss: 0.2790 - val_accuracy: 0.8994\n",
      "Epoch 14/20\n",
      "469/469 [==============================] - 2s 4ms/step - loss: 0.2215 - accuracy: 0.9191 - val_loss: 0.2796 - val_accuracy: 0.8966\n",
      "Epoch 15/20\n",
      "469/469 [==============================] - 2s 4ms/step - loss: 0.2120 - accuracy: 0.9234 - val_loss: 0.2720 - val_accuracy: 0.9002\n",
      "Epoch 16/20\n",
      "469/469 [==============================] - 2s 4ms/step - loss: 0.2045 - accuracy: 0.9251 - val_loss: 0.2769 - val_accuracy: 0.8996\n",
      "Epoch 17/20\n",
      "469/469 [==============================] - 2s 4ms/step - loss: 0.1961 - accuracy: 0.9291 - val_loss: 0.2690 - val_accuracy: 0.9039\n",
      "Epoch 18/20\n",
      "469/469 [==============================] - 2s 4ms/step - loss: 0.1882 - accuracy: 0.9317 - val_loss: 0.2664 - val_accuracy: 0.9076\n",
      "Epoch 19/20\n",
      "469/469 [==============================] - 2s 4ms/step - loss: 0.1822 - accuracy: 0.9339 - val_loss: 0.2705 - val_accuracy: 0.9036\n",
      "Epoch 20/20\n",
      "469/469 [==============================] - 2s 4ms/step - loss: 0.1758 - accuracy: 0.9376 - val_loss: 0.2645 - val_accuracy: 0.9077\n",
      "313/313 [==============================] - 1s 2ms/step - loss: 0.2645 - accuracy: 0.9077\n",
      "Test loss 0.2645, accuracy 90.77%\n"
     ]
    }
   ],
   "source": [
    "models_width(8, 16, epochs=20)"
   ]
  },
  {
   "cell_type": "code",
   "execution_count": 71,
   "metadata": {
    "colab": {
     "base_uri": "https://localhost:8080/",
     "height": 722
    },
    "colab_type": "code",
    "executionInfo": {
     "elapsed": 42886,
     "status": "ok",
     "timestamp": 1594386667167,
     "user": {
      "displayName": "Alexey Chernenko",
      "photoUrl": "",
      "userId": "00203058104948818644"
     },
     "user_tz": -180
    },
    "id": "PzzaKtQC2KEi",
    "outputId": "0735c0c1-5db0-4176-8391-c2aff400a479",
    "scrolled": true
   },
   "outputs": [
    {
     "name": "stdout",
     "output_type": "stream",
     "text": [
      "Epoch 1/20\n",
      "469/469 [==============================] - 2s 5ms/step - loss: 1.2737 - accuracy: 0.5742 - val_loss: 0.6350 - val_accuracy: 0.7820\n",
      "Epoch 2/20\n",
      "469/469 [==============================] - 2s 4ms/step - loss: 0.5238 - accuracy: 0.8167 - val_loss: 0.4725 - val_accuracy: 0.8357\n",
      "Epoch 3/20\n",
      "469/469 [==============================] - 2s 4ms/step - loss: 0.4215 - accuracy: 0.8518 - val_loss: 0.4110 - val_accuracy: 0.8539\n",
      "Epoch 4/20\n",
      "469/469 [==============================] - 2s 4ms/step - loss: 0.3770 - accuracy: 0.8654 - val_loss: 0.3950 - val_accuracy: 0.8558\n",
      "Epoch 5/20\n",
      "469/469 [==============================] - 2s 4ms/step - loss: 0.3454 - accuracy: 0.8760 - val_loss: 0.3653 - val_accuracy: 0.8698\n",
      "Epoch 6/20\n",
      "469/469 [==============================] - 2s 4ms/step - loss: 0.3208 - accuracy: 0.8842 - val_loss: 0.3473 - val_accuracy: 0.8721\n",
      "Epoch 7/20\n",
      "469/469 [==============================] - 2s 4ms/step - loss: 0.3050 - accuracy: 0.8893 - val_loss: 0.3314 - val_accuracy: 0.8815\n",
      "Epoch 8/20\n",
      "469/469 [==============================] - 2s 4ms/step - loss: 0.2904 - accuracy: 0.8949 - val_loss: 0.3252 - val_accuracy: 0.8821\n",
      "Epoch 9/20\n",
      "469/469 [==============================] - 2s 4ms/step - loss: 0.2773 - accuracy: 0.9001 - val_loss: 0.3172 - val_accuracy: 0.8810\n",
      "Epoch 10/20\n",
      "469/469 [==============================] - 2s 4ms/step - loss: 0.2653 - accuracy: 0.9034 - val_loss: 0.2994 - val_accuracy: 0.8924\n",
      "Epoch 11/20\n",
      "469/469 [==============================] - 2s 4ms/step - loss: 0.2551 - accuracy: 0.9074 - val_loss: 0.2980 - val_accuracy: 0.8914\n",
      "Epoch 12/20\n",
      "469/469 [==============================] - 2s 4ms/step - loss: 0.2445 - accuracy: 0.9114 - val_loss: 0.2883 - val_accuracy: 0.8959\n",
      "Epoch 13/20\n",
      "469/469 [==============================] - 2s 4ms/step - loss: 0.2356 - accuracy: 0.9143 - val_loss: 0.2871 - val_accuracy: 0.8918\n",
      "Epoch 14/20\n",
      "469/469 [==============================] - 2s 4ms/step - loss: 0.2283 - accuracy: 0.9164 - val_loss: 0.2863 - val_accuracy: 0.8966\n",
      "Epoch 15/20\n",
      "469/469 [==============================] - 2s 4ms/step - loss: 0.2219 - accuracy: 0.9184 - val_loss: 0.2840 - val_accuracy: 0.8962\n",
      "Epoch 16/20\n",
      "469/469 [==============================] - 2s 4ms/step - loss: 0.2134 - accuracy: 0.9214 - val_loss: 0.2819 - val_accuracy: 0.8954\n",
      "Epoch 17/20\n",
      "469/469 [==============================] - 2s 4ms/step - loss: 0.2066 - accuracy: 0.9250 - val_loss: 0.2783 - val_accuracy: 0.8970\n",
      "Epoch 18/20\n",
      "469/469 [==============================] - 2s 4ms/step - loss: 0.1977 - accuracy: 0.9284 - val_loss: 0.2751 - val_accuracy: 0.9010\n",
      "Epoch 19/20\n",
      "469/469 [==============================] - 2s 4ms/step - loss: 0.1920 - accuracy: 0.9303 - val_loss: 0.2743 - val_accuracy: 0.9031\n",
      "Epoch 20/20\n",
      "469/469 [==============================] - 2s 4ms/step - loss: 0.1836 - accuracy: 0.9342 - val_loss: 0.2646 - val_accuracy: 0.9053\n",
      "313/313 [==============================] - 1s 2ms/step - loss: 0.2646 - accuracy: 0.9053\n",
      "Test loss 0.2646, accuracy 90.53%\n"
     ]
    }
   ],
   "source": [
    "models_width(10, 20, epochs=20)"
   ]
  },
  {
   "cell_type": "code",
   "execution_count": 68,
   "metadata": {
    "colab": {
     "base_uri": "https://localhost:8080/",
     "height": 722
    },
    "colab_type": "code",
    "executionInfo": {
     "elapsed": 47615,
     "status": "ok",
     "timestamp": 1594386409545,
     "user": {
      "displayName": "Alexey Chernenko",
      "photoUrl": "",
      "userId": "00203058104948818644"
     },
     "user_tz": -180
    },
    "id": "Lw_bn7bZvcqy",
    "outputId": "061692c1-5c21-41ef-a407-82c257a98e15",
    "scrolled": true
   },
   "outputs": [
    {
     "name": "stdout",
     "output_type": "stream",
     "text": [
      "Epoch 1/20\n",
      "469/469 [==============================] - 2s 5ms/step - loss: 2.3359 - accuracy: 0.0990 - val_loss: 2.3058 - val_accuracy: 0.1000\n",
      "Epoch 2/20\n",
      "469/469 [==============================] - 2s 5ms/step - loss: 2.3046 - accuracy: 0.1014 - val_loss: 2.3046 - val_accuracy: 0.1000\n",
      "Epoch 3/20\n",
      "469/469 [==============================] - 2s 5ms/step - loss: 2.3046 - accuracy: 0.0975 - val_loss: 2.3052 - val_accuracy: 0.1000\n",
      "Epoch 4/20\n",
      "469/469 [==============================] - 2s 5ms/step - loss: 2.3048 - accuracy: 0.0984 - val_loss: 2.3045 - val_accuracy: 0.1000\n",
      "Epoch 5/20\n",
      "469/469 [==============================] - 2s 5ms/step - loss: 2.3048 - accuracy: 0.0992 - val_loss: 2.3037 - val_accuracy: 0.1000\n",
      "Epoch 6/20\n",
      "469/469 [==============================] - 2s 5ms/step - loss: 2.3044 - accuracy: 0.0986 - val_loss: 2.3044 - val_accuracy: 0.1000\n",
      "Epoch 7/20\n",
      "469/469 [==============================] - 2s 5ms/step - loss: 2.3044 - accuracy: 0.0996 - val_loss: 2.3050 - val_accuracy: 0.1000\n",
      "Epoch 8/20\n",
      "469/469 [==============================] - 2s 5ms/step - loss: 2.3048 - accuracy: 0.1003 - val_loss: 2.3053 - val_accuracy: 0.1000\n",
      "Epoch 9/20\n",
      "469/469 [==============================] - 2s 5ms/step - loss: 2.3045 - accuracy: 0.0996 - val_loss: 2.3045 - val_accuracy: 0.1000\n",
      "Epoch 10/20\n",
      "469/469 [==============================] - 2s 5ms/step - loss: 2.3048 - accuracy: 0.1010 - val_loss: 2.3036 - val_accuracy: 0.1000\n",
      "Epoch 11/20\n",
      "469/469 [==============================] - 2s 5ms/step - loss: 2.3050 - accuracy: 0.1006 - val_loss: 2.3052 - val_accuracy: 0.1000\n",
      "Epoch 12/20\n",
      "469/469 [==============================] - 2s 5ms/step - loss: 2.3047 - accuracy: 0.0995 - val_loss: 2.3063 - val_accuracy: 0.1000\n",
      "Epoch 13/20\n",
      "469/469 [==============================] - 2s 5ms/step - loss: 2.3044 - accuracy: 0.0997 - val_loss: 2.3078 - val_accuracy: 0.1000\n",
      "Epoch 14/20\n",
      "469/469 [==============================] - 2s 5ms/step - loss: 2.3047 - accuracy: 0.0975 - val_loss: 2.3037 - val_accuracy: 0.1000\n",
      "Epoch 15/20\n",
      "469/469 [==============================] - 2s 5ms/step - loss: 2.3050 - accuracy: 0.0982 - val_loss: 2.3056 - val_accuracy: 0.1000\n",
      "Epoch 16/20\n",
      "469/469 [==============================] - 2s 5ms/step - loss: 2.3047 - accuracy: 0.0986 - val_loss: 2.3050 - val_accuracy: 0.1000\n",
      "Epoch 17/20\n",
      "469/469 [==============================] - 2s 5ms/step - loss: 2.3045 - accuracy: 0.1022 - val_loss: 2.3043 - val_accuracy: 0.1000\n",
      "Epoch 18/20\n",
      "469/469 [==============================] - 2s 5ms/step - loss: 2.3047 - accuracy: 0.1002 - val_loss: 2.3043 - val_accuracy: 0.1000\n",
      "Epoch 19/20\n",
      "469/469 [==============================] - 2s 5ms/step - loss: 2.3046 - accuracy: 0.1021 - val_loss: 2.3073 - val_accuracy: 0.1000\n",
      "Epoch 20/20\n",
      "469/469 [==============================] - 2s 5ms/step - loss: 2.3044 - accuracy: 0.0997 - val_loss: 2.3041 - val_accuracy: 0.1000\n",
      "313/313 [==============================] - 1s 2ms/step - loss: 2.3041 - accuracy: 0.1000\n",
      "Test loss 2.3041, accuracy 10.00%\n"
     ]
    }
   ],
   "source": [
    "models_width(15, 30, epochs=20)"
   ]
  },
  {
   "cell_type": "markdown",
   "metadata": {
    "colab_type": "text",
    "id": "u50CXMoo7mm3"
   },
   "source": [
    "### РЕЗУЛЬТАТЫ:\n",
    "\n",
    "Модель: сверточный слой - пулинг - сверотчный слой - полносвязный - выходной.\n",
    "\n",
    "20 эпох достаточно, чтобы на всех моделях точность на валидации выходила на aсимптоту.\n",
    "\n",
    "Рассматривалось влияние количества ядер на сверточных слоях.\n",
    "\n",
    "* Ядер 2 и 4:   accuracy 88.80%\n",
    "* Ядер 5 и 10:  accuracy 90.20%\n",
    "* Ядер 8 и 16:  accuracy 90.77%\n",
    "\n",
    "* На следующих настройках обучение ссети нестабильно, сеть начала обучаться \n",
    "после нескольких попыток перезапуска:\n",
    "Ядер 10 и 20: accuracy 90.53%\n",
    "\n",
    "* На следующих настройках сеть перестает обучаться:\n",
    "Ядер 15 и 30: accuracy 10.00%\n",
    "\n",
    "### ВЫВОД:\n",
    "увеличение количества ядер может приводить к росту точности, но в какой-то \n",
    "момент начинается нестабильность обучения, увеличивается вероятность того, что сеть не сможет обучиться и в конечном счете совсем перестает обучаться\n",
    "\n",
    "# Анализ глубины сети"
   ]
  },
  {
   "cell_type": "code",
   "execution_count": 77,
   "metadata": {
    "colab": {},
    "colab_type": "code",
    "executionInfo": {
     "elapsed": 891,
     "status": "ok",
     "timestamp": 1594387765640,
     "user": {
      "displayName": "Alexey Chernenko",
      "photoUrl": "",
      "userId": "00203058104948818644"
     },
     "user_tz": -180
    },
    "id": "hVTSdQb63mc7"
   },
   "outputs": [],
   "source": [
    "def model_layers(n):\n",
    "    # инициализация пустой модели\n",
    "    model = Sequential()\n",
    "    \n",
    "    for _ in range(n):\n",
    "        model.add(Conv2D(6, kernel_size=(5, 5), strides=(1, 1), activation='sigmoid', input_shape=(28,28,1), padding=\"same\"))    \n",
    "        model.add(AveragePooling2D(pool_size=(3, 3), strides=(1, 1), padding='valid'))\n",
    "        model.add(Conv2D(6, kernel_size=(5, 5), strides=(1, 1), activation='sigmoid', padding='valid'))\n",
    "    \n",
    "    # сглаживание CNN выхода чтобы можно было его присоединить к полносвязногому слою\n",
    "    model.add(Flatten())    \n",
    "    # шестой полносвязный слой\n",
    "    model.add(Dense(84, activation='sigmoid'))    \n",
    "    # выходной слой с функцией активации softmax\n",
    "    model.add(Dense(10, activation='softmax'))    \n",
    "    # компилияция модели\n",
    "    model.compile(loss=categorical_crossentropy, optimizer='adam', metrics=[\"accuracy\"])      \n",
    "    hist = model.fit(x=train_images,\n",
    "                     y=train_labels, \n",
    "                     epochs=20, \n",
    "                     batch_size=128, \n",
    "                     validation_data=(test_images, test_labels), \n",
    "                     verbose=1)    \n",
    "    test_score = model.evaluate(test_images, test_labels)    \n",
    "    print(\"Test loss {:.4f}, accuracy {:.2f}%\".format(test_score[0], test_score[1] * 100))"
   ]
  },
  {
   "cell_type": "code",
   "execution_count": 78,
   "metadata": {
    "colab": {
     "base_uri": "https://localhost:8080/",
     "height": 722
    },
    "colab_type": "code",
    "executionInfo": {
     "elapsed": 36419,
     "status": "ok",
     "timestamp": 1594387834332,
     "user": {
      "displayName": "Alexey Chernenko",
      "photoUrl": "",
      "userId": "00203058104948818644"
     },
     "user_tz": -180
    },
    "id": "gCc-ulr05DwG",
    "outputId": "cc809c92-7d95-487d-d1db-0b7cf0f2209d",
    "scrolled": true
   },
   "outputs": [
    {
     "name": "stdout",
     "output_type": "stream",
     "text": [
      "Epoch 1/20\n",
      "469/469 [==============================] - 2s 4ms/step - loss: 1.0230 - accuracy: 0.6451 - val_loss: 0.6329 - val_accuracy: 0.7650\n",
      "Epoch 2/20\n",
      "469/469 [==============================] - 2s 4ms/step - loss: 0.5202 - accuracy: 0.8098 - val_loss: 0.5009 - val_accuracy: 0.8219\n",
      "Epoch 3/20\n",
      "469/469 [==============================] - 2s 4ms/step - loss: 0.4337 - accuracy: 0.8447 - val_loss: 0.4312 - val_accuracy: 0.8453\n",
      "Epoch 4/20\n",
      "469/469 [==============================] - 2s 4ms/step - loss: 0.3930 - accuracy: 0.8596 - val_loss: 0.4114 - val_accuracy: 0.8502\n",
      "Epoch 5/20\n",
      "469/469 [==============================] - 2s 4ms/step - loss: 0.3659 - accuracy: 0.8676 - val_loss: 0.3863 - val_accuracy: 0.8615\n",
      "Epoch 6/20\n",
      "469/469 [==============================] - 2s 4ms/step - loss: 0.3457 - accuracy: 0.8752 - val_loss: 0.3751 - val_accuracy: 0.8635\n",
      "Epoch 7/20\n",
      "469/469 [==============================] - 2s 4ms/step - loss: 0.3275 - accuracy: 0.8822 - val_loss: 0.3594 - val_accuracy: 0.8708\n",
      "Epoch 8/20\n",
      "469/469 [==============================] - 2s 4ms/step - loss: 0.3144 - accuracy: 0.8855 - val_loss: 0.3658 - val_accuracy: 0.8675\n",
      "Epoch 9/20\n",
      "469/469 [==============================] - 2s 4ms/step - loss: 0.3022 - accuracy: 0.8900 - val_loss: 0.3427 - val_accuracy: 0.8780\n",
      "Epoch 10/20\n",
      "469/469 [==============================] - 2s 4ms/step - loss: 0.2907 - accuracy: 0.8939 - val_loss: 0.3531 - val_accuracy: 0.8727\n",
      "Epoch 11/20\n",
      "469/469 [==============================] - 2s 4ms/step - loss: 0.2818 - accuracy: 0.8979 - val_loss: 0.3337 - val_accuracy: 0.8805\n",
      "Epoch 12/20\n",
      "469/469 [==============================] - 2s 4ms/step - loss: 0.2703 - accuracy: 0.9017 - val_loss: 0.3306 - val_accuracy: 0.8789\n",
      "Epoch 13/20\n",
      "469/469 [==============================] - 2s 4ms/step - loss: 0.2621 - accuracy: 0.9044 - val_loss: 0.3229 - val_accuracy: 0.8831\n",
      "Epoch 14/20\n",
      "469/469 [==============================] - 2s 4ms/step - loss: 0.2537 - accuracy: 0.9082 - val_loss: 0.3212 - val_accuracy: 0.8864\n",
      "Epoch 15/20\n",
      "469/469 [==============================] - 2s 4ms/step - loss: 0.2447 - accuracy: 0.9108 - val_loss: 0.3175 - val_accuracy: 0.8834\n",
      "Epoch 16/20\n",
      "469/469 [==============================] - 2s 4ms/step - loss: 0.2380 - accuracy: 0.9138 - val_loss: 0.3174 - val_accuracy: 0.8844\n",
      "Epoch 17/20\n",
      "469/469 [==============================] - 2s 4ms/step - loss: 0.2307 - accuracy: 0.9162 - val_loss: 0.3049 - val_accuracy: 0.8913\n",
      "Epoch 18/20\n",
      "469/469 [==============================] - 2s 4ms/step - loss: 0.2241 - accuracy: 0.9174 - val_loss: 0.3124 - val_accuracy: 0.8852\n",
      "Epoch 19/20\n",
      "469/469 [==============================] - 2s 4ms/step - loss: 0.2171 - accuracy: 0.9206 - val_loss: 0.3036 - val_accuracy: 0.8908\n",
      "Epoch 20/20\n",
      "469/469 [==============================] - 2s 4ms/step - loss: 0.2096 - accuracy: 0.9237 - val_loss: 0.3095 - val_accuracy: 0.8903\n",
      "313/313 [==============================] - 1s 2ms/step - loss: 0.3095 - accuracy: 0.8903\n",
      "Test loss 0.3095, accuracy 89.03%\n"
     ]
    }
   ],
   "source": [
    "model_layers(1)"
   ]
  },
  {
   "cell_type": "code",
   "execution_count": 79,
   "metadata": {
    "colab": {
     "base_uri": "https://localhost:8080/",
     "height": 722
    },
    "colab_type": "code",
    "executionInfo": {
     "elapsed": 44999,
     "status": "ok",
     "timestamp": 1594387879333,
     "user": {
      "displayName": "Alexey Chernenko",
      "photoUrl": "",
      "userId": "00203058104948818644"
     },
     "user_tz": -180
    },
    "id": "WVryUJcW5Dbp",
    "outputId": "7b322db8-3793-454c-9fd4-ce4195f4a14d",
    "scrolled": true
   },
   "outputs": [
    {
     "name": "stdout",
     "output_type": "stream",
     "text": [
      "Epoch 1/20\n",
      "469/469 [==============================] - 2s 5ms/step - loss: 1.2204 - accuracy: 0.5622 - val_loss: 0.7425 - val_accuracy: 0.7152\n",
      "Epoch 2/20\n",
      "469/469 [==============================] - 2s 5ms/step - loss: 0.6667 - accuracy: 0.7456 - val_loss: 0.6367 - val_accuracy: 0.7613\n",
      "Epoch 3/20\n",
      "469/469 [==============================] - 2s 5ms/step - loss: 0.5922 - accuracy: 0.7735 - val_loss: 0.5837 - val_accuracy: 0.7781\n",
      "Epoch 4/20\n",
      "469/469 [==============================] - 2s 5ms/step - loss: 0.5486 - accuracy: 0.7934 - val_loss: 0.5554 - val_accuracy: 0.7937\n",
      "Epoch 5/20\n",
      "469/469 [==============================] - 2s 5ms/step - loss: 0.5194 - accuracy: 0.8037 - val_loss: 0.5489 - val_accuracy: 0.7892\n",
      "Epoch 6/20\n",
      "469/469 [==============================] - 2s 5ms/step - loss: 0.4950 - accuracy: 0.8135 - val_loss: 0.5084 - val_accuracy: 0.8050\n",
      "Epoch 7/20\n",
      "469/469 [==============================] - 2s 5ms/step - loss: 0.4730 - accuracy: 0.8227 - val_loss: 0.4946 - val_accuracy: 0.8091\n",
      "Epoch 8/20\n",
      "469/469 [==============================] - 2s 5ms/step - loss: 0.4564 - accuracy: 0.8297 - val_loss: 0.4713 - val_accuracy: 0.8247\n",
      "Epoch 9/20\n",
      "469/469 [==============================] - 2s 5ms/step - loss: 0.4414 - accuracy: 0.8362 - val_loss: 0.4741 - val_accuracy: 0.8209\n",
      "Epoch 10/20\n",
      "469/469 [==============================] - 2s 5ms/step - loss: 0.4261 - accuracy: 0.8421 - val_loss: 0.4528 - val_accuracy: 0.8273\n",
      "Epoch 11/20\n",
      "469/469 [==============================] - 2s 5ms/step - loss: 0.4120 - accuracy: 0.8479 - val_loss: 0.4467 - val_accuracy: 0.8340\n",
      "Epoch 12/20\n",
      "469/469 [==============================] - 2s 5ms/step - loss: 0.4004 - accuracy: 0.8527 - val_loss: 0.4279 - val_accuracy: 0.8445\n",
      "Epoch 13/20\n",
      "469/469 [==============================] - 2s 5ms/step - loss: 0.3926 - accuracy: 0.8554 - val_loss: 0.4277 - val_accuracy: 0.8440\n",
      "Epoch 14/20\n",
      "469/469 [==============================] - 2s 5ms/step - loss: 0.3808 - accuracy: 0.8590 - val_loss: 0.4234 - val_accuracy: 0.8443\n",
      "Epoch 15/20\n",
      "469/469 [==============================] - 2s 5ms/step - loss: 0.3732 - accuracy: 0.8625 - val_loss: 0.4103 - val_accuracy: 0.8492\n",
      "Epoch 16/20\n",
      "469/469 [==============================] - 2s 5ms/step - loss: 0.3629 - accuracy: 0.8650 - val_loss: 0.4107 - val_accuracy: 0.8478\n",
      "Epoch 17/20\n",
      "469/469 [==============================] - 2s 5ms/step - loss: 0.3534 - accuracy: 0.8696 - val_loss: 0.4022 - val_accuracy: 0.8536\n",
      "Epoch 18/20\n",
      "469/469 [==============================] - 2s 5ms/step - loss: 0.3501 - accuracy: 0.8703 - val_loss: 0.4027 - val_accuracy: 0.8528\n",
      "Epoch 19/20\n",
      "469/469 [==============================] - 2s 4ms/step - loss: 0.3405 - accuracy: 0.8734 - val_loss: 0.3955 - val_accuracy: 0.8533\n",
      "Epoch 20/20\n",
      "469/469 [==============================] - 2s 5ms/step - loss: 0.3365 - accuracy: 0.8762 - val_loss: 0.3794 - val_accuracy: 0.8620\n",
      "313/313 [==============================] - 1s 2ms/step - loss: 0.3794 - accuracy: 0.8620\n",
      "Test loss 0.3794, accuracy 86.20%\n"
     ]
    }
   ],
   "source": [
    "model_layers(2)"
   ]
  },
  {
   "cell_type": "code",
   "execution_count": 80,
   "metadata": {
    "colab": {
     "base_uri": "https://localhost:8080/",
     "height": 722
    },
    "colab_type": "code",
    "executionInfo": {
     "elapsed": 51743,
     "status": "ok",
     "timestamp": 1594387931079,
     "user": {
      "displayName": "Alexey Chernenko",
      "photoUrl": "",
      "userId": "00203058104948818644"
     },
     "user_tz": -180
    },
    "id": "ZFHNjK735CqR",
    "outputId": "055775d8-eee2-43a3-f1ef-0e87de22a364",
    "scrolled": true
   },
   "outputs": [
    {
     "name": "stdout",
     "output_type": "stream",
     "text": [
      "Epoch 1/20\n",
      "469/469 [==============================] - 3s 6ms/step - loss: 1.5391 - accuracy: 0.4221 - val_loss: 0.9377 - val_accuracy: 0.6428\n",
      "Epoch 2/20\n",
      "469/469 [==============================] - 2s 5ms/step - loss: 0.8191 - accuracy: 0.6913 - val_loss: 0.7699 - val_accuracy: 0.7133\n",
      "Epoch 3/20\n",
      "469/469 [==============================] - 2s 5ms/step - loss: 0.7103 - accuracy: 0.7292 - val_loss: 0.6976 - val_accuracy: 0.7397\n",
      "Epoch 4/20\n",
      "469/469 [==============================] - 2s 5ms/step - loss: 0.6578 - accuracy: 0.7484 - val_loss: 0.6655 - val_accuracy: 0.7559\n",
      "Epoch 5/20\n",
      "469/469 [==============================] - 2s 5ms/step - loss: 0.6246 - accuracy: 0.7635 - val_loss: 0.6311 - val_accuracy: 0.7658\n",
      "Epoch 6/20\n",
      "469/469 [==============================] - 2s 5ms/step - loss: 0.5950 - accuracy: 0.7763 - val_loss: 0.6164 - val_accuracy: 0.7737\n",
      "Epoch 7/20\n",
      "469/469 [==============================] - 2s 5ms/step - loss: 0.5702 - accuracy: 0.7871 - val_loss: 0.5829 - val_accuracy: 0.7877\n",
      "Epoch 8/20\n",
      "469/469 [==============================] - 2s 5ms/step - loss: 0.5457 - accuracy: 0.7979 - val_loss: 0.5578 - val_accuracy: 0.7951\n",
      "Epoch 9/20\n",
      "469/469 [==============================] - 2s 5ms/step - loss: 0.5269 - accuracy: 0.8051 - val_loss: 0.5343 - val_accuracy: 0.8062\n",
      "Epoch 10/20\n",
      "469/469 [==============================] - 2s 5ms/step - loss: 0.5041 - accuracy: 0.8141 - val_loss: 0.5210 - val_accuracy: 0.8106\n",
      "Epoch 11/20\n",
      "469/469 [==============================] - 2s 5ms/step - loss: 0.4868 - accuracy: 0.8221 - val_loss: 0.5085 - val_accuracy: 0.8117\n",
      "Epoch 12/20\n",
      "469/469 [==============================] - 3s 5ms/step - loss: 0.4745 - accuracy: 0.8263 - val_loss: 0.4966 - val_accuracy: 0.8191\n",
      "Epoch 13/20\n",
      "469/469 [==============================] - 3s 5ms/step - loss: 0.4603 - accuracy: 0.8316 - val_loss: 0.4822 - val_accuracy: 0.8286\n",
      "Epoch 14/20\n",
      "469/469 [==============================] - 2s 5ms/step - loss: 0.4482 - accuracy: 0.8348 - val_loss: 0.5011 - val_accuracy: 0.8200\n",
      "Epoch 15/20\n",
      "469/469 [==============================] - 2s 5ms/step - loss: 0.4387 - accuracy: 0.8394 - val_loss: 0.4644 - val_accuracy: 0.8306\n",
      "Epoch 16/20\n",
      "469/469 [==============================] - 2s 5ms/step - loss: 0.4287 - accuracy: 0.8440 - val_loss: 0.4556 - val_accuracy: 0.8326\n",
      "Epoch 17/20\n",
      "469/469 [==============================] - 2s 5ms/step - loss: 0.4182 - accuracy: 0.8460 - val_loss: 0.4538 - val_accuracy: 0.8348\n",
      "Epoch 18/20\n",
      "469/469 [==============================] - 2s 5ms/step - loss: 0.4108 - accuracy: 0.8503 - val_loss: 0.4362 - val_accuracy: 0.8404\n",
      "Epoch 19/20\n",
      "469/469 [==============================] - 2s 5ms/step - loss: 0.4063 - accuracy: 0.8507 - val_loss: 0.4311 - val_accuracy: 0.8438\n",
      "Epoch 20/20\n",
      "469/469 [==============================] - 2s 5ms/step - loss: 0.3986 - accuracy: 0.8529 - val_loss: 0.4289 - val_accuracy: 0.8424\n",
      "313/313 [==============================] - 1s 2ms/step - loss: 0.4289 - accuracy: 0.8424\n",
      "Test loss 0.4289, accuracy 84.24%\n"
     ]
    }
   ],
   "source": [
    "model_layers(3)"
   ]
  },
  {
   "cell_type": "code",
   "execution_count": 81,
   "metadata": {
    "colab": {
     "base_uri": "https://localhost:8080/",
     "height": 722
    },
    "colab_type": "code",
    "executionInfo": {
     "elapsed": 56278,
     "status": "ok",
     "timestamp": 1594387987359,
     "user": {
      "displayName": "Alexey Chernenko",
      "photoUrl": "",
      "userId": "00203058104948818644"
     },
     "user_tz": -180
    },
    "id": "KuX5VqKF64mV",
    "outputId": "7488ceb0-4b81-4520-b5c4-4a9a9b73053d",
    "scrolled": true
   },
   "outputs": [
    {
     "name": "stdout",
     "output_type": "stream",
     "text": [
      "Epoch 1/20\n",
      "469/469 [==============================] - 3s 6ms/step - loss: 2.2560 - accuracy: 0.1224 - val_loss: 1.6741 - val_accuracy: 0.3359\n",
      "Epoch 2/20\n",
      "469/469 [==============================] - 3s 6ms/step - loss: 1.4370 - accuracy: 0.4134 - val_loss: 1.3463 - val_accuracy: 0.4743\n",
      "Epoch 3/20\n",
      "469/469 [==============================] - 3s 6ms/step - loss: 1.2097 - accuracy: 0.5327 - val_loss: 1.1881 - val_accuracy: 0.5464\n",
      "Epoch 4/20\n",
      "469/469 [==============================] - 3s 6ms/step - loss: 1.1064 - accuracy: 0.5763 - val_loss: 1.0721 - val_accuracy: 0.6016\n",
      "Epoch 5/20\n",
      "469/469 [==============================] - 3s 6ms/step - loss: 1.0022 - accuracy: 0.6234 - val_loss: 0.9821 - val_accuracy: 0.6312\n",
      "Epoch 6/20\n",
      "469/469 [==============================] - 3s 6ms/step - loss: 0.9494 - accuracy: 0.6418 - val_loss: 0.9416 - val_accuracy: 0.6465\n",
      "Epoch 7/20\n",
      "469/469 [==============================] - 3s 6ms/step - loss: 0.9086 - accuracy: 0.6540 - val_loss: 0.9018 - val_accuracy: 0.6569\n",
      "Epoch 8/20\n",
      "469/469 [==============================] - 3s 6ms/step - loss: 0.8612 - accuracy: 0.6678 - val_loss: 0.8506 - val_accuracy: 0.6723\n",
      "Epoch 9/20\n",
      "469/469 [==============================] - 3s 6ms/step - loss: 0.8074 - accuracy: 0.6898 - val_loss: 0.7959 - val_accuracy: 0.6880\n",
      "Epoch 10/20\n",
      "469/469 [==============================] - 3s 6ms/step - loss: 0.7705 - accuracy: 0.7013 - val_loss: 0.7813 - val_accuracy: 0.6984\n",
      "Epoch 11/20\n",
      "469/469 [==============================] - 3s 6ms/step - loss: 0.7417 - accuracy: 0.7124 - val_loss: 0.7504 - val_accuracy: 0.7094\n",
      "Epoch 12/20\n",
      "469/469 [==============================] - 3s 6ms/step - loss: 0.7162 - accuracy: 0.7225 - val_loss: 0.7178 - val_accuracy: 0.7235\n",
      "Epoch 13/20\n",
      "469/469 [==============================] - 3s 6ms/step - loss: 0.6966 - accuracy: 0.7310 - val_loss: 0.7040 - val_accuracy: 0.7281\n",
      "Epoch 14/20\n",
      "469/469 [==============================] - 3s 6ms/step - loss: 0.6801 - accuracy: 0.7389 - val_loss: 0.6850 - val_accuracy: 0.7404\n",
      "Epoch 15/20\n",
      "469/469 [==============================] - 3s 6ms/step - loss: 0.6650 - accuracy: 0.7485 - val_loss: 0.6745 - val_accuracy: 0.7402\n",
      "Epoch 16/20\n",
      "469/469 [==============================] - 3s 6ms/step - loss: 0.6460 - accuracy: 0.7558 - val_loss: 0.6500 - val_accuracy: 0.7476\n",
      "Epoch 17/20\n",
      "469/469 [==============================] - 3s 6ms/step - loss: 0.6362 - accuracy: 0.7611 - val_loss: 0.6452 - val_accuracy: 0.7561\n",
      "Epoch 18/20\n",
      "469/469 [==============================] - 3s 6ms/step - loss: 0.6201 - accuracy: 0.7662 - val_loss: 0.6459 - val_accuracy: 0.7526\n",
      "Epoch 19/20\n",
      "469/469 [==============================] - 3s 6ms/step - loss: 0.6110 - accuracy: 0.7711 - val_loss: 0.6132 - val_accuracy: 0.7672\n",
      "Epoch 20/20\n",
      "469/469 [==============================] - 3s 6ms/step - loss: 0.6009 - accuracy: 0.7750 - val_loss: 0.6201 - val_accuracy: 0.7616\n",
      "313/313 [==============================] - 1s 3ms/step - loss: 0.6201 - accuracy: 0.7616\n",
      "Test loss 0.6201, accuracy 76.16%\n"
     ]
    }
   ],
   "source": [
    "model_layers(4)"
   ]
  },
  {
   "cell_type": "markdown",
   "metadata": {
    "colab_type": "text",
    "id": "lulu2FMq8NsU"
   },
   "source": [
    "### Результаты:\n",
    "\n",
    "Первая модель: сверточный слой - пулинг - сверотчный слой - полносвязный - выходной.\n",
    "\n",
    "Для каждой новой модели добавляются дополнительно по 2 слоя - пулинг и сверточный перед полносвязыным. Все сверотчные и пулинг слои одинаковы по настройкам.\n",
    "\n",
    "* модель 1 (2 сверотчных и 1 пулинг) accuracy 89.03%\n",
    "* модель 2 (3 сверотчных и 2 пулинг) accuracy 86.20%\n",
    "* модель 3 (4 сверотчных и 3 пулинг) accuracy 84.24%\n",
    "* модель 4 (5 сверотчных и 4 пулинг) accuracy 76.16% \n",
    "\n",
    "### Вывод \n",
    "простое добавление идентичных слоев уменьшает точность модели\n",
    "\n",
    "# Общий вывод\n",
    "Для оптимальной модели необоходимо строить архитектуру сети: подбирать оптимальное количство слоев и оптимальное количество ядер в каждом слое"
   ]
  },
  {
   "cell_type": "code",
   "execution_count": null,
   "metadata": {
    "colab": {},
    "colab_type": "code",
    "id": "l-TpzNk0pPzG"
   },
   "outputs": [],
   "source": []
  }
 ],
 "metadata": {
  "accelerator": "GPU",
  "colab": {
   "name": "hw-4.ipynb",
   "provenance": []
  },
  "kernelspec": {
   "display_name": "Python 3",
   "language": "python",
   "name": "python3"
  },
  "language_info": {
   "codemirror_mode": {
    "name": "ipython",
    "version": 3
   },
   "file_extension": ".py",
   "mimetype": "text/x-python",
   "name": "python",
   "nbconvert_exporter": "python",
   "pygments_lexer": "ipython3",
   "version": "3.7.3"
  }
 },
 "nbformat": 4,
 "nbformat_minor": 1
}
