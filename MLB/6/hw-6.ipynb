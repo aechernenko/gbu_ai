{
 "cells": [
  {
   "cell_type": "code",
   "execution_count": 1,
   "metadata": {
    "colab": {},
    "colab_type": "code",
    "id": "9MyE8V2Bt3bX"
   },
   "outputs": [],
   "source": [
    "# Загрузка библиотек\n",
    "\n",
    "import pandas as pd\n",
    "import numpy as np\n",
    "from matplotlib import pyplot as plt"
   ]
  },
  {
   "cell_type": "markdown",
   "metadata": {
    "colab_type": "text",
    "id": "tRBQl0W3zM7C"
   },
   "source": [
    "Датасет: freMPL (French Motor Personal Line datasets)\n",
    "\n",
    "Источник данных: http://cas.uqam.ca/\n",
    "\n",
    "Продукт: КАСКО\n",
    "\n",
    "Набор из 10 датасетов частного французского автостраховщика. Каждый датасет содержит характеристики риска, суммы величин страховых требований и истории страховых исков по около 30 000 страховых полисов за 2004 год."
   ]
  },
  {
   "cell_type": "code",
   "execution_count": 2,
   "metadata": {
    "colab": {},
    "colab_type": "code",
    "id": "Klh7nO6_xeT2"
   },
   "outputs": [],
   "source": [
    "# Загрузка набора данных в pandas DataFrame\n",
    "\n",
    "df = pd.read_csv('freMPL-R.csv', low_memory=False)"
   ]
  },
  {
   "cell_type": "code",
   "execution_count": 3,
   "metadata": {},
   "outputs": [],
   "source": [
    "df['PolicyCount'] = 1\n",
    "df['ClaimCount'] = df['ClaimAmount'] > 0\n",
    "df_group_vc = df[['Exposure', 'PolicyCount','ClaimAmount', 'ClaimCount']].groupby(df['VehMaxSpeed']).sum()\n",
    "df_group_vc = df_group_vc.reset_index()\n",
    "df_group_vc['Freq'] = df_group_vc.ClaimCount / df_group_vc.Exposure\n",
    "df_group_vc['AvgClaim'] = df_group_vc.ClaimAmount / df_group_vc.ClaimCount"
   ]
  },
  {
   "cell_type": "markdown",
   "metadata": {},
   "source": [
    "Сбалансированность выборки"
   ]
  },
  {
   "cell_type": "code",
   "execution_count": 4,
   "metadata": {},
   "outputs": [
    {
     "data": {
      "text/plain": [
       "{'1-130 km/h': 77.0,\n",
       " '130-140 km/h': 256.0,\n",
       " '140-150 km/h': 388.0,\n",
       " '150-160 km/h': 1022.0,\n",
       " '160-170 km/h': 1211.0,\n",
       " '170-180 km/h': 1173.0,\n",
       " '180-190 km/h': 885.0,\n",
       " '190-200 km/h': 776.0,\n",
       " '200-220 km/h': 715.0,\n",
       " '220+ km/h': 505.0}"
      ]
     },
     "execution_count": 4,
     "metadata": {},
     "output_type": "execute_result"
    }
   ],
   "source": [
    "dict(zip(df_group_vc['VehMaxSpeed'], df_group_vc['ClaimCount']))"
   ]
  },
  {
   "cell_type": "markdown",
   "metadata": {},
   "source": [
    "### Зависимость частоты убытков от VehMaxSpeed"
   ]
  },
  {
   "cell_type": "code",
   "execution_count": 5,
   "metadata": {},
   "outputs": [
    {
     "data": {
      "image/png": "[encoded data removed]",
      "text/plain": [
       "<Figure size 1080x504 with 1 Axes>"
      ]
     },
     "metadata": {
      "needs_background": "light"
     },
     "output_type": "display_data"
    }
   ],
   "source": [
    "plt.figure(figsize=(15, 7))\n",
    "plt.bar(df_group_vc['VehMaxSpeed'], df_group_vc['Freq'])\n",
    "plt.show()"
   ]
  },
  {
   "cell_type": "markdown",
   "metadata": {},
   "source": [
    "Наблюдается тренд роста частоты убытков от роста максимальной скорости авто."
   ]
  },
  {
   "cell_type": "markdown",
   "metadata": {},
   "source": [
    "### Зависимость среднего убытка от VehMaxSpeed"
   ]
  },
  {
   "cell_type": "code",
   "execution_count": 6,
   "metadata": {},
   "outputs": [
    {
     "data": {
      "image/png": "[encoded data removed]",
      "text/plain": [
       "<Figure size 1080x504 with 1 Axes>"
      ]
     },
     "metadata": {
      "needs_background": "light"
     },
     "output_type": "display_data"
    }
   ],
   "source": [
    "plt.figure(figsize=(15, 7))\n",
    "plt.bar(df_group_vc['VehMaxSpeed'], df_group_vc['AvgClaim'])\n",
    "plt.show()"
   ]
  },
  {
   "cell_type": "markdown",
   "metadata": {},
   "source": [
    "Выброс в категории 1-130 обусловлен (гипотеза):\n",
    "\n",
    "Мало автомобилей в этой категории, поэтому высокий ущерб даже по отдельным автомобилям быстрее повышает средний ущерб по категории. Под категорию с такой малой максимальной скоростью, возможно, подходят дорогостоящие раритетные автомобили, цена которых очень высока, следовательно, ущерб от повреждения таких автомобилей высокий."
   ]
  },
  {
   "cell_type": "code",
   "execution_count": null,
   "metadata": {},
   "outputs": [],
   "source": []
  }
 ],
 "metadata": {
  "colab": {
   "collapsed_sections": [
    "z8mDm-ivMZ9N",
    "Vgpa6dK_sjd6",
    "YuTtEEaHHgEU",
    "xcFxybBIH5Kg",
    "6QFz5LiqtdBA",
    "YQ_IPAO8tsSB",
    "qfw4RRMOKW6r",
    "buGgxc9vKo34"
   ],
   "name": "GB Lesson 1.ipynb",
   "provenance": [
    {
     "file_id": "13d9xcebvqLR85FO-JpzaJfiOhSNBsxbp",
     "timestamp": 1576499758084
    },
    {
     "file_id": "1eHTSYHEZ3FTf8djCcQtn7ZvSeEOpOOTn",
     "timestamp": 1572871419673
    }
   ]
  },
  "kernelspec": {
   "display_name": "Python 3",
   "language": "python",
   "name": "python3"
  },
  "language_info": {
   "codemirror_mode": {
    "name": "ipython",
    "version": 3
   },
   "file_extension": ".py",
   "mimetype": "text/x-python",
   "name": "python",
   "nbconvert_exporter": "python",
   "pygments_lexer": "ipython3",
   "version": "3.7.3"
  }
 },
 "nbformat": 4,
 "nbformat_minor": 1
}
