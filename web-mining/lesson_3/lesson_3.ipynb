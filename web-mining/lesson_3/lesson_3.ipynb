{
 "cells": [
  {
   "cell_type": "code",
   "execution_count": 1,
   "metadata": {},
   "outputs": [],
   "source": [
    "from pymongo import MongoClient\n",
    "import json\n",
    "from pprint import pprint\n",
    "from hashlib import sha1"
   ]
  },
  {
   "cell_type": "code",
   "execution_count": 2,
   "metadata": {},
   "outputs": [],
   "source": [
    "client = MongoClient('localhost', 27017)\n",
    "db = client['vacs']\n",
    "sj = db.sj\n",
    "hh = db.hh"
   ]
  },
  {
   "cell_type": "markdown",
   "metadata": {},
   "source": [
    "* `get_data` считывает из файла `.json` информацию по вакансиям, \n",
    "* добавляет для каждой вакансии дополнительное значение `_id`, расчитанное как хэш-функция `sha1` от всего набора данных по этой вакансии"
   ]
  },
  {
   "cell_type": "code",
   "execution_count": 3,
   "metadata": {},
   "outputs": [],
   "source": [
    "def get_data(file_name):\n",
    "    with open(file_name, 'r', encoding='utf-8') as file:\n",
    "        data = json.load(file)\n",
    "\n",
    "    for dct in data:\n",
    "        dct['_id'] = sha1(str(dct).encode('utf-8')).hexdigest()\n",
    "\n",
    "    return data"
   ]
  },
  {
   "cell_type": "markdown",
   "metadata": {},
   "source": [
    "`insert_data` добавляет в указанную коллекцию набор данных (документов)"
   ]
  },
  {
   "cell_type": "code",
   "execution_count": 4,
   "metadata": {},
   "outputs": [],
   "source": [
    "def insert_data(collection, data):\n",
    "    collection.insert_many(data)"
   ]
  },
  {
   "cell_type": "markdown",
   "metadata": {},
   "source": [
    "`find_gt` находит в указанной коллекции все вакансии, у которых предлагаемая зарпалата превышает значение `threshold`"
   ]
  },
  {
   "cell_type": "code",
   "execution_count": 5,
   "metadata": {},
   "outputs": [],
   "source": [
    "def find_gt(collection, threshold):\n",
    "    return collection.find({'$or': [\n",
    "        {'min_salary': {'$gt': threshold}},\n",
    "        {'max_salary': {'$gt': threshold}}\n",
    "    ]})"
   ]
  },
  {
   "cell_type": "markdown",
   "metadata": {},
   "source": [
    "`insert_new_data` добавляет в указанную коллекцию из набора данных `new_data` только те вакансии, которых в этой коллекции еще нет.\n",
    "Механизм заключается в том, что для одинаковых вакансий будут расчитаны одинаковые `_id`. Путем проверки на свопадение `_id`  добавляемых данных с существующими исключается дублирование данных."
   ]
  },
  {
   "cell_type": "code",
   "execution_count": 6,
   "metadata": {},
   "outputs": [],
   "source": [
    "def insert_new_data(collection, new_data):\n",
    "    exist_id = [_id['_id'] for _id in list(collection.find({}, {'_id': 1}))[:]]\n",
    "    for dct in new_data:\n",
    "        if dct['_id'] not in exist_id:\n",
    "            collection.insert_one(dct)"
   ]
  },
  {
   "cell_type": "markdown",
   "metadata": {},
   "source": [
    "Очищаем базу данных (для чистоты учебного примера)"
   ]
  },
  {
   "cell_type": "code",
   "execution_count": 7,
   "metadata": {},
   "outputs": [],
   "source": [
    "MongoClient.drop_database(client, db)"
   ]
  },
  {
   "cell_type": "markdown",
   "metadata": {},
   "source": [
    "Получаем данные из файлов `.json`. С каждого из сайтов (superjob и hh) по 15 вакансий."
   ]
  },
  {
   "cell_type": "code",
   "execution_count": 8,
   "metadata": {},
   "outputs": [
    {
     "data": {
      "text/plain": [
       "[{'name': 'Ведущий разработчик Python / Software development / Team lead',\n",
       "  'link': 'https://www.superjob.ru/vakansii/veduschij-razrabotchik-python-33224428.html',\n",
       "  'min_salary': None,\n",
       "  'max_salary': None,\n",
       "  'currency': None,\n",
       "  'source': 'SuperJob.ru',\n",
       "  '_id': '54e37a565ce294f19e5e4e49b14c81edd9ba2cd4'},\n",
       " {'name': 'Программист Python',\n",
       "  'link': 'https://www.superjob.ru/vakansii/programmist-python-32539725.html',\n",
       "  'min_salary': None,\n",
       "  'max_salary': None,\n",
       "  'currency': None,\n",
       "  'source': 'SuperJob.ru',\n",
       "  '_id': '1b255507e9cfcdfea7c7463c504edabc1fb1d478'}]"
      ]
     },
     "execution_count": 8,
     "metadata": {},
     "output_type": "execute_result"
    }
   ],
   "source": [
    "data = {}\n",
    "data['hh'] = get_data('hh_python_count-15.json')\n",
    "data['sj'] = get_data('sj_python_count-15.json')\n",
    "data['sj'][0:2]"
   ]
  },
  {
   "cell_type": "markdown",
   "metadata": {},
   "source": [
    "Вставляем полученные данные в соответствубщие коллекции."
   ]
  },
  {
   "cell_type": "code",
   "execution_count": 9,
   "metadata": {},
   "outputs": [],
   "source": [
    "insert_data(hh, data['hh'])\n",
    "insert_data(sj, data['sj'])"
   ]
  },
  {
   "cell_type": "markdown",
   "metadata": {},
   "source": [
    "Проверим количество документов в каждой из коллекций."
   ]
  },
  {
   "cell_type": "code",
   "execution_count": 10,
   "metadata": {},
   "outputs": [
    {
     "data": {
      "text/plain": [
       "(15, 15)"
      ]
     },
     "execution_count": 10,
     "metadata": {},
     "output_type": "execute_result"
    }
   ],
   "source": [
    "hh.estimated_document_count(), sj.estimated_document_count()"
   ]
  },
  {
   "cell_type": "markdown",
   "metadata": {},
   "source": [
    "Все верно - по 15 вакансий.\n",
    "\n",
    "Найдем вакансии с сайта hh, у которых предалгаемая зарплата больше 150000"
   ]
  },
  {
   "cell_type": "code",
   "execution_count": 11,
   "metadata": {},
   "outputs": [
    {
     "name": "stdout",
     "output_type": "stream",
     "text": [
      "{'_id': 'b58713616f9964c4605c8acac152121c98210e23',\n",
      " 'currency': 'RUR',\n",
      " 'link': 'https://sergievposad.hh.ru/vacancy/35011897?query=python',\n",
      " 'max_salary': None,\n",
      " 'min_salary': 200000.0,\n",
      " 'name': 'Data Scientist',\n",
      " 'source': 'hh.ru'}\n",
      "\n",
      "{'_id': 'bfd336cdcead100daaf1e01c750ad79b6fa3f6a1',\n",
      " 'currency': 'RUR',\n",
      " 'link': 'https://sergievposad.hh.ru/vacancy/34746892?query=python',\n",
      " 'max_salary': None,\n",
      " 'min_salary': 230000.0,\n",
      " 'name': 'Senior Frontend Developer (JavaScript, React)',\n",
      " 'source': 'hh.ru'}\n",
      "\n",
      "{'_id': 'a0513a3add12bb0cdcb5883871fa43deb632cc66',\n",
      " 'currency': 'RUR',\n",
      " 'link': 'https://sergievposad.hh.ru/vacancy/34977652?query=python',\n",
      " 'max_salary': 300000.0,\n",
      " 'min_salary': 130000.0,\n",
      " 'name': 'Python Developer',\n",
      " 'source': 'hh.ru'}\n",
      "\n",
      "{'_id': 'cb60e40597c0bc25e90ca5cc3dfdb16ab326b0b7',\n",
      " 'currency': 'RUR',\n",
      " 'link': 'https://sergievposad.hh.ru/vacancy/34850179?query=python',\n",
      " 'max_salary': 200000.0,\n",
      " 'min_salary': 120000.0,\n",
      " 'name': 'Backend python/Django разработчик',\n",
      " 'source': 'hh.ru'}\n",
      "\n",
      "{'_id': '6dbb8ff12da528aa6669fff57b8efc4a04336002',\n",
      " 'currency': 'RUR',\n",
      " 'link': 'https://sergievposad.hh.ru/vacancy/34933232?query=python',\n",
      " 'max_salary': 200000.0,\n",
      " 'min_salary': 150000.0,\n",
      " 'name': 'Python developer',\n",
      " 'source': 'hh.ru'}\n",
      "\n"
     ]
    }
   ],
   "source": [
    "objs = find_gt(hh, 150000)\n",
    "for obj in objs:\n",
    "    pprint(obj)\n",
    "    print()"
   ]
  },
  {
   "cell_type": "markdown",
   "metadata": {},
   "source": [
    "Найдено 5 вакансий.\n",
    "\n",
    "\n",
    "Найдем вакансии с сайта hh, у которых предалгаемая зарплата больше 80000"
   ]
  },
  {
   "cell_type": "code",
   "execution_count": 12,
   "metadata": {},
   "outputs": [
    {
     "name": "stdout",
     "output_type": "stream",
     "text": [
      "{'_id': 'b7ded45e1a708b24ee8d0c7fda1bd3d5d06fb33d',\n",
      " 'currency': 'RUB',\n",
      " 'link': 'https://www.superjob.ru/vakansii/web-razrabotchik-33214670.html',\n",
      " 'max_salary': 100000.0,\n",
      " 'min_salary': 80000.0,\n",
      " 'name': 'Web-разработчик / Web-программист Yii2/Python/Python '\n",
      "         'Django/Django/Laravel/Vue',\n",
      " 'source': 'SuperJob.ru'}\n",
      "\n",
      "{'_id': 'ee8ec548794265c76400145bede9e0f688c20562',\n",
      " 'currency': 'RUR',\n",
      " 'link': 'https://www.superjob.ru/vakansii/analitik-dannyh-33270372.html',\n",
      " 'max_salary': 150000.0,\n",
      " 'min_salary': None,\n",
      " 'name': 'Аналитик данных (Data analyst)',\n",
      " 'source': 'SuperJob.ru'}\n",
      "\n",
      "{'_id': 'ed0bb316d1ad2f015a7ec9d55866909c83d08e25',\n",
      " 'currency': 'RUR',\n",
      " 'link': 'https://www.superjob.ru/vakansii/sistemnyj-analitik-32663136.html',\n",
      " 'max_salary': None,\n",
      " 'min_salary': 81000.0,\n",
      " 'name': 'Системный аналитик / Ведущий системный администратор',\n",
      " 'source': 'SuperJob.ru'}\n",
      "\n"
     ]
    }
   ],
   "source": [
    "objs = find_gt(sj, 80000)\n",
    "for obj in objs:\n",
    "    pprint(obj)\n",
    "    print()"
   ]
  },
  {
   "cell_type": "markdown",
   "metadata": {},
   "source": [
    "Найдено 3 вакансии.\n",
    "\n",
    "Получим новые данные из фалйов `.json`. Теперь у нас будут наборы по 20 вакансий от каждого сайта, причем новых вакансий в каждом наборе будет всего по 5 штук."
   ]
  },
  {
   "cell_type": "code",
   "execution_count": 13,
   "metadata": {},
   "outputs": [],
   "source": [
    "new_data = {}\n",
    "new_data['hh'] = get_data('hh_python_count-20.json')\n",
    "new_data['sj'] = get_data('sj_python_count-20.json')"
   ]
  },
  {
   "cell_type": "markdown",
   "metadata": {},
   "source": [
    "Используя проверку по `_id`, расчитанному с помощью `sha1`, добавим в наши коллекции только новые вакансии, отсеяв уже имеющиеся"
   ]
  },
  {
   "cell_type": "code",
   "execution_count": 14,
   "metadata": {},
   "outputs": [],
   "source": [
    "insert_new_data(hh, new_data['hh'])\n",
    "insert_new_data(sj, new_data['sj'])"
   ]
  },
  {
   "cell_type": "markdown",
   "metadata": {},
   "source": [
    "Проверим, как изменилось количество документов в коллекциях."
   ]
  },
  {
   "cell_type": "code",
   "execution_count": 15,
   "metadata": {},
   "outputs": [
    {
     "data": {
      "text/plain": [
       "(20, 20)"
      ]
     },
     "execution_count": 15,
     "metadata": {},
     "output_type": "execute_result"
    }
   ],
   "source": [
    "hh.estimated_document_count(), sj.estimated_document_count()"
   ]
  },
  {
   "cell_type": "markdown",
   "metadata": {},
   "source": [
    "Все верно - добавилось по 5 новых вакансий в каждую коллекцию."
   ]
  },
  {
   "cell_type": "code",
   "execution_count": null,
   "metadata": {},
   "outputs": [],
   "source": []
  }
 ],
 "metadata": {
  "kernelspec": {
   "display_name": "Python 3",
   "language": "python",
   "name": "python3"
  },
  "language_info": {
   "codemirror_mode": {
    "name": "ipython",
    "version": 3
   },
   "file_extension": ".py",
   "mimetype": "text/x-python",
   "name": "python",
   "nbconvert_exporter": "python",
   "pygments_lexer": "ipython3",
   "version": "3.7.3"
  }
 },
 "nbformat": 4,
 "nbformat_minor": 4
}
